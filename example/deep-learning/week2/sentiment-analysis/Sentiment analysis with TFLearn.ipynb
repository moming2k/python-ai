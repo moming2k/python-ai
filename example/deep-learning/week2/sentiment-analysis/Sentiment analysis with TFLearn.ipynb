{
 "cells": [
  {
   "cell_type": "markdown",
   "metadata": {},
   "source": [
    "# Sentiment analysis with TFLearn\n",
    "\n",
    "In this notebook, we'll continue Andrew Trask's work by building a network for sentiment analysis on the movie review data. Instead of a network written with Numpy, we'll be using [TFLearn](http://tflearn.org/), a high-level library built on top of TensorFlow. TFLearn makes it simpler to build networks just by defining the layers. It takes care of most of the details for you.\n",
    "\n",
    "We'll start off by importing all the modules we'll need, then load and prepare the data."
   ]
  },
  {
   "cell_type": "code",
   "execution_count": 5,
   "metadata": {
    "collapsed": true
   },
   "outputs": [],
   "source": [
    "import pandas as pd\n",
    "import numpy as np\n",
    "import tensorflow as tf\n",
    "import tflearn\n",
    "from tflearn.data_utils import to_categorical"
   ]
  },
  {
   "cell_type": "markdown",
   "metadata": {},
   "source": [
    "## Preparing the data\n",
    "\n",
    "Following along with Andrew, our goal here is to convert our reviews into word vectors. The word vectors will have elements representing words in the total vocabulary. If the second position represents the word 'the', for each review we'll count up the number of times 'the' appears in the text and set the second position to that count. I'll show you examples as we build the input data from the reviews data. Check out Andrew's notebook and video for more about this."
   ]
  },
  {
   "cell_type": "code",
   "execution_count": 6,
   "metadata": {
    "collapsed": false
   },
   "outputs": [],
   "source": [
    "reviews = pd.read_csv('reviews.txt', header=None)\n",
    "labels = pd.read_csv('labels.txt', header=None)"
   ]
  },
  {
   "cell_type": "markdown",
   "metadata": {},
   "source": [
    "### Counting word frequency\n",
    "\n",
    "To start off we'll need to count how often each word appears in the data. We'll use this count to create a vocabulary we'll use to encode the review data. This resulting count is known as a [bag of words](https://en.wikipedia.org/wiki/Bag-of-words_model). We'll use it to select our vocabulary and build the word vectors. You should have seen how to do this in Andrew's lesson. Try to implement it here using the [Counter class](https://docs.python.org/2/library/collections.html#collections.Counter).\n",
    "\n",
    "> **Exercise:** Create the bag of words from the reviews data and assign it to `total_counts`. The reviews are stores in the `reviews` [Pandas DataFrame](http://pandas.pydata.org/pandas-docs/stable/generated/pandas.DataFrame.html). If you want the reviews as a Numpy array, use `reviews.values`. You can iterate through the rows in the DataFrame with `for idx, row in reviews.iterrows():` ([documentation](http://pandas.pydata.org/pandas-docs/stable/generated/pandas.DataFrame.iterrows.html))."
   ]
  },
  {
   "cell_type": "code",
   "execution_count": 7,
   "metadata": {
    "collapsed": true
   },
   "outputs": [
    {
     "name": "stdout",
     "output_type": "stream",
     "text": [
      "Total words in data set:  74074\n"
     ]
    }
   ],
   "source": [
    "from collections import Counter\n",
    "\n",
    "total_counts = Counter()\n",
    "\n",
    "# idx, row = reviews.iterrows()\n",
    "# print(idx)\n",
    "# print(row)\n",
    "\n",
    "for idx, row in reviews.iterrows():\n",
    "    # print(row[0])\n",
    "    for word in row[0].split(\" \"):\n",
    "        total_counts[word] += 1\n",
    "\n",
    "\n",
    "# total_counts = # bag of words here\n",
    "\n",
    "print(\"Total words in data set: \", len(total_counts))"
   ]
  },
  {
   "cell_type": "markdown",
   "metadata": {},
   "source": [
    "Let's keep the first 10000 most frequent words. As Andrew noted, most of the words in the vocabulary are rarely used so they will have little effect on our predictions. Below, we'll sort `vocab` by the count value and keep the 10000 most frequent words."
   ]
  },
  {
   "cell_type": "code",
   "execution_count": 18,
   "metadata": {
    "collapsed": false
   },
   "outputs": [
    {
     "name": "stdout",
     "output_type": "stream",
     "text": [
      "['', 'the', '.', 'and', 'a', 'of', 'to', 'is', 'br', 'it', 'in', 'i', 'this', 'that', 's', 'was', 'as', 'for', 'with', 'movie', 'but', 'film', 'you', 'on', 't', 'not', 'he', 'are', 'his', 'have', 'be', 'one', 'all', 'at', 'they', 'by', 'an', 'who', 'so', 'from', 'like', 'there', 'her', 'or', 'just', 'about', 'out', 'if', 'has', 'what', 'some', 'good', 'can', 'more', 'she', 'when', 'very', 'up', 'time', 'no']\n10000\n"
     ]
    }
   ],
   "source": [
    "vocab = sorted(total_counts, key=total_counts.get, reverse=True)[:10000]\n",
    "print(vocab[:60])\n",
    "\n",
    "vocab_size = len(vocab)\n",
    "print(vocab_size)"
   ]
  },
  {
   "cell_type": "markdown",
   "metadata": {},
   "source": [
    "What's the last word in our vocabulary? We can use this to judge if 10000 is too few. If the last word is pretty common, we probably need to keep more words."
   ]
  },
  {
   "cell_type": "code",
   "execution_count": 9,
   "metadata": {
    "collapsed": false
   },
   "outputs": [
    {
     "name": "stdout",
     "output_type": "stream",
     "text": [
      "amber :  30\n"
     ]
    }
   ],
   "source": [
    "print(vocab[-1], ': ', total_counts[vocab[-1]])"
   ]
  },
  {
   "cell_type": "markdown",
   "metadata": {},
   "source": [
    "The last word in our vocabulary shows up in 30 reviews out of 25000. I think it's fair to say this is a tiny proportion of reviews. We are probably fine with this number of words.\n",
    "\n",
    "Now for each review in the data, we'll make a word vector. First we need to make a mapping of word to index, pretty easy to do with a dictionary comprehension.\n",
    "\n",
    "> **Exercise:** Create a dictionary called `word2idx` that maps each word in the vocabulary to an index. The first word in `vocab` has index `0`, the second word has index `1`, and so on."
   ]
  },
  {
   "cell_type": "code",
   "execution_count": 20,
   "metadata": {
    "collapsed": false
   },
   "outputs": [
    {
     "name": "stdout",
     "output_type": "stream",
     "text": [
      "10000\n"
     ]
    }
   ],
   "source": [
    "word2idx = {}\n",
    "index = 0\n",
    "\n",
    "for word in vocab:\n",
    "    word2idx[word] = index\n",
    "    index += 1\n",
    "\n",
    "print(len(word2idx))"
   ]
  },
  {
   "cell_type": "markdown",
   "metadata": {},
   "source": [
    "### Text to vector function\n",
    "\n",
    "Now we can write a function that converts a some text to a word vector. The function will take a string of words as input and return a vector with the words counted up. Here's the general algorithm to do this:\n",
    "\n",
    "* Initialize the word vector with [np.zeros](https://docs.scipy.org/doc/numpy/reference/generated/numpy.zeros.html), it should be the length of the vocabulary.\n",
    "* Split the input string of text into a list of words with `.split(' ')`.\n",
    "* For each word in that list, increment the element in the index associated with that word, which you get from `word2idx`.\n",
    "\n",
    "**Note:** Since all words aren't in the `vocab` dictionary, you'll get a key error if you run into one of those words. You can use the `.get` method of the `word2idx` dictionary to specify a default returned value when you make a key error. For example, `word2idx.get(word, None)` returns `None` if `word` doesn't exist in the dictionary."
   ]
  },
  {
   "cell_type": "code",
   "execution_count": 44,
   "metadata": {
    "collapsed": true
   },
   "outputs": [
    {
     "name": "stdout",
     "output_type": "stream",
     "text": [
      "[ 0.  2.  0. ...,  0.  0.  0.]\n10000\n3328\n---\n"
     ]
    },
    {
     "data": {
      "text/plain": [
       "array([ 0.,  1.,  0.,  0.,  2.,  0.,  1.,  1.,  0.,  0.,  0.,  0.,  0.,\n        0.,  0.,  0.,  0.,  2.,  0.,  1.,  0.,  0.,  0.,  0.,  0.,  0.,\n        0.,  0.,  0.,  0.,  0.,  0.,  0.,  0.,  0.,  0.,  0.,  0.,  1.,\n        0.,  0.,  0.,  0.,  0.,  0.,  0.,  0.,  0.,  1.,  0.,  0.,  0.,\n        0.,  0.,  1.,  0.,  0.,  0.,  1.,  1.,  0.,  0.,  0.,  0.,  0.])"
      ]
     },
     "execution_count": 44,
     "metadata": {},
     "output_type": "execute_result"
    }
   ],
   "source": [
    "print(layer_0)\n",
    "\n",
    "print(len(layer_0))\n",
    "\n",
    "print(word2idx[\"tea\"])\n",
    "# print(word2idx[\"The\"])\n",
    "\n",
    "print(\"---\")\n",
    "\n",
    "def text_to_vector(text):\n",
    "    layer_0 = np.zeros((vocab_size))\n",
    "    words = text.split(\" \")\n",
    "    for word in words:\n",
    "        idx = word2idx.get(word, None)\n",
    "        # # print(idx)\n",
    "        if idx is not None:\n",
    "            layer_0[idx] += 1\n",
    "    return layer_0\n",
    "            \n",
    "            \n",
    "text_to_vector('The tea is for a party to celebrate the movie so she has no time for a cake')[:65]"
   ]
  },
  {
   "cell_type": "markdown",
   "metadata": {},
   "source": [
    "If you do this right, the following code should return\n",
    "\n",
    "```\n",
    "text_to_vector('The tea is for a party to celebrate '\n",
    "               'the movie so she has no time for a cake')[:65]\n",
    "                   \n",
    "array([0, 1, 0, 0, 2, 0, 1, 1, 0, 0, 0, 0, 0, 0, 0, 0, 0, 2, 0, 1, 0, 0, 0,\n",
    "       0, 0, 0, 0, 0, 0, 0, 0, 0, 0, 0, 0, 0, 0, 0, 1, 0, 0, 0, 0, 0, 0, 0,\n",
    "       0, 0, 1, 0, 0, 0, 0, 0, 1, 0, 0, 0, 1, 1, 0, 0, 0, 0, 0])\n",
    "```       "
   ]
  },
  {
   "cell_type": "code",
   "execution_count": 45,
   "metadata": {
    "collapsed": false
   },
   "outputs": [
    {
     "data": {
      "text/plain": [
       "array([ 0.,  1.,  0.,  0.,  2.,  0.,  1.,  1.,  0.,  0.,  0.,  0.,  0.,\n        0.,  0.,  0.,  0.,  2.,  0.,  1.,  0.,  0.,  0.,  0.,  0.,  0.,\n        0.,  0.,  0.,  0.,  0.,  0.,  0.,  0.,  0.,  0.,  0.,  0.,  1.,\n        0.,  0.,  0.,  0.,  0.,  0.,  0.,  0.,  0.,  1.,  0.,  0.,  0.,\n        0.,  0.,  1.,  0.,  0.,  0.,  1.,  1.,  0.,  0.,  0.,  0.,  0.])"
      ]
     },
     "execution_count": 45,
     "metadata": {},
     "output_type": "execute_result"
    }
   ],
   "source": [
    "text_to_vector('The tea is for a party to celebrate '\n",
    "               'the movie so she has no time for a cake')[:65]"
   ]
  },
  {
   "cell_type": "markdown",
   "metadata": {},
   "source": [
    "Now, run through our entire review data set and convert each review to a word vector."
   ]
  },
  {
   "cell_type": "code",
   "execution_count": 46,
   "metadata": {
    "collapsed": false
   },
   "outputs": [],
   "source": [
    "word_vectors = np.zeros((len(reviews), len(vocab)), dtype=np.int_)\n",
    "for ii, (_, text) in enumerate(reviews.iterrows()):\n",
    "    word_vectors[ii] = text_to_vector(text[0])"
   ]
  },
  {
   "cell_type": "code",
   "execution_count": 47,
   "metadata": {
    "collapsed": false
   },
   "outputs": [
    {
     "data": {
      "text/plain": [
       "array([[ 18,   9,  27,   1,   4,   4,   6,   4,   0,   2,   2,   5,   0,\n          4,   1,   0,   2,   0,   0,   0,   0,   0,   0],\n       [  5,   4,   8,   1,   7,   3,   1,   2,   0,   4,   0,   0,   0,\n          1,   2,   0,   0,   1,   3,   0,   0,   0,   1],\n       [ 78,  24,  12,   4,  17,   5,  20,   2,   8,   8,   2,   1,   1,\n          2,   8,   0,   5,   5,   4,   0,   2,   1,   4],\n       [167,  53,  23,   0,  22,  23,  13,  14,   8,  10,   8,  12,   9,\n          4,  11,   2,  11,   5,  11,   0,   5,   3,   0],\n       [ 19,  10,  11,   4,   6,   2,   2,   5,   0,   1,   2,   3,   1,\n          0,   0,   0,   3,   1,   0,   1,   0,   0,   0]])"
      ]
     },
     "execution_count": 47,
     "metadata": {},
     "output_type": "execute_result"
    }
   ],
   "source": [
    "# Printing out the first 5 word vectors\n",
    "word_vectors[:5, :23]"
   ]
  },
  {
   "cell_type": "markdown",
   "metadata": {},
   "source": [
    "### Train, Validation, Test sets\n",
    "\n",
    "Now that we have the word_vectors, we're ready to split our data into train, validation, and test sets. Remember that we train on the train data, use the validation data to set the hyperparameters, and at the very end measure the network performance on the test data. Here we're using the function `to_categorical` from TFLearn to reshape the target data so that we'll have two output units and can classify with a softmax activation function. We actually won't be creating the validation set here, TFLearn will do that for us later."
   ]
  },
  {
   "cell_type": "code",
   "execution_count": 49,
   "metadata": {
    "collapsed": false
   },
   "outputs": [
    {
     "name": "stdout",
     "output_type": "stream",
     "text": [
      "25000\n"
     ]
    }
   ],
   "source": [
    "Y = (labels=='positive').astype(np.int_)\n",
    "records = len(labels)\n",
    "\n",
    "print(records)\n",
    "\n",
    "shuffle = np.arange(records)\n",
    "np.random.shuffle(shuffle)\n",
    "test_fraction = 0.9\n",
    "\n",
    "train_split, test_split = shuffle[:int(records*test_fraction)], shuffle[int(records*test_fraction):]\n",
    "trainX, trainY = word_vectors[train_split,:], to_categorical(Y.values[train_split], 2)\n",
    "testX, testY = word_vectors[test_split,:], to_categorical(Y.values[test_split], 2)"
   ]
  },
  {
   "cell_type": "code",
   "execution_count": 51,
   "metadata": {
    "collapsed": false
   },
   "outputs": [
    {
     "data": {
      "text/plain": [
       "22500"
      ]
     },
     "execution_count": 51,
     "metadata": {},
     "output_type": "execute_result"
    }
   ],
   "source": [
    "len(trainY)"
   ]
  },
  {
   "cell_type": "markdown",
   "metadata": {},
   "source": [
    "## Building the network\n",
    "\n",
    "[TFLearn](http://tflearn.org/) lets you build the network by [defining the layers](http://tflearn.org/layers/core/). \n",
    "\n",
    "### Input layer\n",
    "\n",
    "For the input layer, you just need to tell it how many units you have. For example, \n",
    "\n",
    "```\n",
    "net = tflearn.input_data([None, 100])\n",
    "```\n",
    "\n",
    "would create a network with 100 input units. The first element in the list, `None` in this case, sets the batch size. Setting it to `None` here leaves it at the default batch size.\n",
    "\n",
    "The number of inputs to your network needs to match the size of your data. For this example, we're using 10000 element long vectors to encode our input data, so we need 10000 input units.\n",
    "\n",
    "\n",
    "### Adding layers\n",
    "\n",
    "To add new hidden layers, you use \n",
    "\n",
    "```\n",
    "net = tflearn.fully_connected(net, n_units, activation='ReLU')\n",
    "```\n",
    "\n",
    "This adds a fully connected layer where every unit in the previous layer is connected to every unit in this layer. The first argument `net` is the network you created in the `tflearn.input_data` call. It's telling the network to use the output of the previous layer as the input to this layer. You can set the number of units in the layer with `n_hidden`, and set the activation function with the `activation` keyword. You can keep adding layers to your network by repeated calling `net = tflearn.fully_connected(net, n_units)`.\n",
    "\n",
    "### Output layer\n",
    "\n",
    "The last layer you add is used as the output layer. There for, you need to set the number of units to match the target data. In this case we are predicting two classes, positive or negative sentiment. You also need to set the activation function so it's appropriate for your model. Again, we're trying to predict if some input data belongs to one of two classes, so we should use softmax.\n",
    "\n",
    "```\n",
    "net = tflearn.fully_connected(net, 2, activation='softmax')\n",
    "```\n",
    "\n",
    "### Training\n",
    "To set how you train the network, use \n",
    "\n",
    "```\n",
    "net = tflearn.regression(net, optimizer='sgd', learning_rate=0.1, loss='categorical_crossentropy')\n",
    "```\n",
    "\n",
    "Again, this is passing in the network you've been building. The keywords: \n",
    "\n",
    "* `optimizer` sets the training method, here stochastic gradient descent\n",
    "* `learning_rate` is the learning rate\n",
    "* `loss` determines how the network error is calculated. In this example, with the categorical cross-entropy.\n",
    "\n",
    "Finally you put all this together to create the model with `tflearn.DNN(net)`. So it ends up looking something like \n",
    "\n",
    "```\n",
    "net = tflearn.input_data([None, 10])                          # Input\n",
    "net = tflearn.fully_connected(net, 5, activation='ReLU')      # Hidden\n",
    "net = tflearn.fully_connected(net, 2, activation='softmax')   # Output\n",
    "net = tflearn.regression(net, optimizer='sgd', learning_rate=0.1, loss='categorical_crossentropy')\n",
    "model = tflearn.DNN(net)\n",
    "```\n",
    "\n",
    "> **Exercise:** Below in the `build_model()` function, you'll put together the network using TFLearn. You get to choose how many layers to use, how many hidden units, etc."
   ]
  },
  {
   "cell_type": "code",
   "execution_count": 52,
   "metadata": {
    "collapsed": false
   },
   "outputs": [],
   "source": [
    "# Network building\n",
    "n_hidden = 100\n",
    "\n",
    "def build_model():\n",
    "    # This resets all parameters and variables, leave this here\n",
    "    tf.reset_default_graph()\n",
    "\n",
    "    net = tflearn.input_data([None, 10000])\n",
    "    net = tflearn.fully_connected(net, n_hidden, activation='ReLU')\n",
    "    net = tflearn.fully_connected(net, 2, activation='softmax')\n",
    "    net = tflearn.regression(net, optimizer='sgd', learning_rate=0.1, loss='categorical_crossentropy')\n",
    "    #### Your code ####\n",
    "    \n",
    "    model = tflearn.DNN(net)\n",
    "    return model"
   ]
  },
  {
   "cell_type": "markdown",
   "metadata": {},
   "source": [
    "## Intializing the model\n",
    "\n",
    "Next we need to call the `build_model()` function to actually build the model. In my solution I haven't included any arguments to the function, but you can add arguments so you can change parameters in the model if you want.\n",
    "\n",
    "> **Note:** You might get a bunch of warnings here. TFLearn uses a lot of deprecated code in TensorFlow. Hopefully it gets updated to the new TensorFlow version soon."
   ]
  },
  {
   "cell_type": "code",
   "execution_count": 53,
   "metadata": {
    "collapsed": false
   },
   "outputs": [
    {
     "name": "stdout",
     "output_type": "stream",
     "text": [
      "WARNING:tensorflow:From /Users/moming2k/miniconda3/envs/tflearn/lib/python3.5/site-packages/tflearn/summaries.py:46 in get_summary.: scalar_summary (from tensorflow.python.ops.logging_ops) is deprecated and will be removed after 2016-11-30.\nInstructions for updating:\nPlease switch to tf.summary.scalar. Note that tf.summary.scalar uses the node name instead of the tag. This means that TensorFlow will automatically de-duplicate summary names based on the scope they are created in. Also, passing a tensor or list of tags to a scalar summary op is no longer supported.\n"
     ]
    },
    {
     "name": "stdout",
     "output_type": "stream",
     "text": [
      "WARNING:tensorflow:From /Users/moming2k/miniconda3/envs/tflearn/lib/python3.5/site-packages/tflearn/summaries.py:46 in get_summary.: scalar_summary (from tensorflow.python.ops.logging_ops) is deprecated and will be removed after 2016-11-30.\nInstructions for updating:\nPlease switch to tf.summary.scalar. Note that tf.summary.scalar uses the node name instead of the tag. This means that TensorFlow will automatically de-duplicate summary names based on the scope they are created in. Also, passing a tensor or list of tags to a scalar summary op is no longer supported.\n"
     ]
    },
    {
     "name": "stdout",
     "output_type": "stream",
     "text": [
      "WARNING:tensorflow:From /Users/moming2k/miniconda3/envs/tflearn/lib/python3.5/site-packages/tflearn/helpers/trainer.py:766 in create_summaries.: merge_summary (from tensorflow.python.ops.logging_ops) is deprecated and will be removed after 2016-11-30.\nInstructions for updating:\nPlease switch to tf.summary.merge.\n"
     ]
    },
    {
     "name": "stdout",
     "output_type": "stream",
     "text": [
      "WARNING:tensorflow:VARIABLES collection name is deprecated, please use GLOBAL_VARIABLES instead; VARIABLES will be removed after 2017-03-02.\n"
     ]
    },
    {
     "name": "stdout",
     "output_type": "stream",
     "text": [
      "WARNING:tensorflow:From /Users/moming2k/miniconda3/envs/tflearn/lib/python3.5/site-packages/tflearn/helpers/trainer.py:130 in __init__.: initialize_all_variables (from tensorflow.python.ops.variables) is deprecated and will be removed after 2017-03-02.\nInstructions for updating:\nUse `tf.global_variables_initializer` instead.\n"
     ]
    }
   ],
   "source": [
    "model = build_model()"
   ]
  },
  {
   "cell_type": "markdown",
   "metadata": {},
   "source": [
    "## Training the network\n",
    "\n",
    "Now that we've constructed the network, saved as the variable `model`, we can fit it to the data. Here we use the `model.fit` method. You pass in the training features `trainX` and the training targets `trainY`. Below I set `validation_set=0.1` which reserves 10% of the data set as the validation set. You can also set the batch size and number of epochs with the `batch_size` and `n_epoch` keywords, respectively. Below is the code to fit our the network to our word vectors.\n",
    "\n",
    "You can rerun `model.fit` to train the network further if you think you can increase the validation accuracy. Remember, all hyperparameter adjustments must be done using the validation set. **Only use the test set after you're completely done training the network.**"
   ]
  },
  {
   "cell_type": "code",
   "execution_count": 54,
   "metadata": {
    "collapsed": false,
    "scrolled": false
   },
   "outputs": [
    {
     "name": "stdout",
     "output_type": "stream",
     "text": [
      "---------------------------------\nRun id: K2NDYX\nLog directory: /tmp/tflearn_logs/\nWARNING:tensorflow:From /Users/moming2k/miniconda3/envs/tflearn/lib/python3.5/site-packages/tflearn/helpers/trainer.py:210 in fit.: SummaryWriter.__init__ (from tensorflow.python.training.summary_io) is deprecated and will be removed after 2016-11-30.\nInstructions for updating:\nPlease switch to tf.summary.FileWriter. The interface and behavior is the same; this is just a rename.\n"
     ]
    },
    {
     "name": "stdout",
     "output_type": "stream",
     "text": [
      "WARNING:tensorflow:Error encountered when serializing data_augmentation.\nType is unsupported, or the types of the items don't match field type in CollectionDef.\n'NoneType' object has no attribute 'name'\n"
     ]
    },
    {
     "name": "stdout",
     "output_type": "stream",
     "text": [
      "WARNING:tensorflow:Error encountered when serializing summary_tags.\nType is unsupported, or the types of the items don't match field type in CollectionDef.\n'dict' object has no attribute 'name'\n"
     ]
    },
    {
     "name": "stdout",
     "output_type": "stream",
     "text": [
      "WARNING:tensorflow:Error encountered when serializing data_preprocessing.\nType is unsupported, or the types of the items don't match field type in CollectionDef.\n'NoneType' object has no attribute 'name'\n"
     ]
    },
    {
     "name": "stdout",
     "output_type": "stream",
     "text": [
      "WARNING:tensorflow:From /Users/moming2k/miniconda3/envs/tflearn/lib/python3.5/site-packages/tflearn/summaries.py:46 in get_summary.: scalar_summary (from tensorflow.python.ops.logging_ops) is deprecated and will be removed after 2016-11-30.\nInstructions for updating:\nPlease switch to tf.summary.scalar. Note that tf.summary.scalar uses the node name instead of the tag. This means that TensorFlow will automatically de-duplicate summary names based on the scope they are created in. Also, passing a tensor or list of tags to a scalar summary op is no longer supported.\n"
     ]
    },
    {
     "name": "stdout",
     "output_type": "stream",
     "text": [
      "WARNING:tensorflow:From /Users/moming2k/miniconda3/envs/tflearn/lib/python3.5/site-packages/tflearn/helpers/summarizer.py:89 in summarize.: merge_summary (from tensorflow.python.ops.logging_ops) is deprecated and will be removed after 2016-11-30.\nInstructions for updating:\nPlease switch to tf.summary.merge.\n"
     ]
    },
    {
     "name": "stdout",
     "output_type": "stream",
     "text": [
      "WARNING:tensorflow:From /Users/moming2k/miniconda3/envs/tflearn/lib/python3.5/site-packages/tflearn/summaries.py:46 in get_summary.: scalar_summary (from tensorflow.python.ops.logging_ops) is deprecated and will be removed after 2016-11-30.\nInstructions for updating:\nPlease switch to tf.summary.scalar. Note that tf.summary.scalar uses the node name instead of the tag. This means that TensorFlow will automatically de-duplicate summary names based on the scope they are created in. Also, passing a tensor or list of tags to a scalar summary op is no longer supported.\n"
     ]
    },
    {
     "name": "stdout",
     "output_type": "stream",
     "text": [
      "WARNING:tensorflow:From /Users/moming2k/miniconda3/envs/tflearn/lib/python3.5/site-packages/tflearn/helpers/summarizer.py:89 in summarize.: merge_summary (from tensorflow.python.ops.logging_ops) is deprecated and will be removed after 2016-11-30.\nInstructions for updating:\nPlease switch to tf.summary.merge.\n"
     ]
    },
    {
     "name": "stdout",
     "output_type": "stream",
     "text": [
      "WARNING:tensorflow:From /Users/moming2k/miniconda3/envs/tflearn/lib/python3.5/site-packages/tflearn/summaries.py:46 in get_summary.: scalar_summary (from tensorflow.python.ops.logging_ops) is deprecated and will be removed after 2016-11-30.\nInstructions for updating:\nPlease switch to tf.summary.scalar. Note that tf.summary.scalar uses the node name instead of the tag. This means that TensorFlow will automatically de-duplicate summary names based on the scope they are created in. Also, passing a tensor or list of tags to a scalar summary op is no longer supported."
     ]
    },
    {
     "name": "stdout",
     "output_type": "stream",
     "text": [
      "\n"
     ]
    },
    {
     "name": "stdout",
     "output_type": "stream",
     "text": [
      "WARNING:tensorflow:From /Users/moming2k/miniconda3/envs/tflearn/lib/python3.5/site-packages/tflearn/helpers/summarizer.py:89 in summarize.: merge_summary (from tensorflow.python.ops.logging_ops) is deprecated and will be removed after 2016-11-30.\nInstructions for updating:\nPlease switch to tf.summary.merge.\n"
     ]
    },
    {
     "name": "stdout",
     "output_type": "stream",
     "text": [
      "WARNING:tensorflow:From /Users/moming2k/miniconda3/envs/tflearn/lib/python3.5/site-packages/tflearn/summaries.py:46 in get_summary.: scalar_summary (from tensorflow.python.ops.logging_ops) is deprecated and will be removed after 2016-11-30.\nInstructions for updating:\nPlease switch to tf.summary.scalar. Note that tf.summary.scalar uses the node name instead of the tag. This means that TensorFlow will automatically de-duplicate summary names based on the scope they are created in. Also, passing a tensor or list of tags to a scalar summary op is no longer supported.\n"
     ]
    },
    {
     "name": "stdout",
     "output_type": "stream",
     "text": [
      "WARNING:tensorflow:From /Users/moming2k/miniconda3/envs/tflearn/lib/python3.5/site-packages/tflearn/helpers/summarizer.py:89 in summarize.: merge_summary (from tensorflow.python.ops.logging_ops) is deprecated and will be removed after 2016-11-30.\nInstructions for updating:\nPlease switch to tf.summary.merge."
     ]
    },
    {
     "name": "stdout",
     "output_type": "stream",
     "text": [
      "\n"
     ]
    },
    {
     "name": "stdout",
     "output_type": "stream",
     "text": [
      "---------------------------------\nTraining samples: 20250\nValidation samples: 2250\n--\n"
     ]
    },
    {
     "name": "stdout",
     "output_type": "stream",
     "text": [
      "Training Step: 1 \n\u001b[2K\r| SGD | epoch: 000 | loss: 0.00000 - acc: 0.0000 -- iter: 00128/20250\n"
     ]
    },
    {
     "name": "stdout",
     "output_type": "stream",
     "text": [
      "Training Step: 2  | total loss: \u001b[1m\u001b[32m0.65997\u001b[0m\u001b[0m\n\u001b[2K\r| SGD | epoch: 000 | loss: 0.65997 - acc: 0.4119 -- iter: 00256/20250\n"
     ]
    },
    {
     "name": "stdout",
     "output_type": "stream",
     "text": [
      "Training Step: 3  | total loss: \u001b[1m\u001b[32m1.13099\u001b[0m\u001b[0m\n\u001b[2K\r| SGD | epoch: 000 | loss: 1.13099 - acc: 0.4283 -- iter: 00384/20250\n"
     ]
    },
    {
     "name": "stdout",
     "output_type": "stream",
     "text": [
      "Training Step: 4  | total loss: \u001b[1m\u001b[32m0.80464\u001b[0m\u001b[0m\n\u001b[2K\r| SGD | epoch: 000 | loss: 0.80464 - acc: 0.4598 -- iter: 00512/20250\n"
     ]
    },
    {
     "name": "stdout",
     "output_type": "stream",
     "text": [
      "Training Step: 5  | total loss: \u001b[1m\u001b[32m0.73162\u001b[0m\u001b[0m\n\u001b[2K\r| SGD | epoch: 000 | loss: 0.73162 - acc: 0.4233 -- iter: 00640/20250\n"
     ]
    },
    {
     "name": "stdout",
     "output_type": "stream",
     "text": [
      "Training Step: 6  | total loss: \u001b[1m\u001b[32m0.70669\u001b[0m\u001b[0m\n\u001b[2K\r| SGD | epoch: 000 | loss: 0.70669 - acc: 0.4782 -- iter: 00768/20250\n"
     ]
    },
    {
     "name": "stdout",
     "output_type": "stream",
     "text": [
      "Training Step: 7  | total loss: \u001b[1m\u001b[32m0.69892\u001b[0m\u001b[0m\n\u001b[2K\r| SGD | epoch: 000 | loss: 0.69892 - acc: 0.4682 -- iter: 00896/20250\n"
     ]
    },
    {
     "name": "stdout",
     "output_type": "stream",
     "text": [
      "Training Step: 8  | total loss: \u001b[1m\u001b[32m0.69487\u001b[0m\u001b[0m\n\u001b[2K\r| SGD | epoch: 000 | loss: 0.69487 - acc: 0.5480 -- iter: 01024/20250\n"
     ]
    },
    {
     "name": "stdout",
     "output_type": "stream",
     "text": [
      "Training Step: 9  | total loss: \u001b[1m\u001b[32m0.69422\u001b[0m\u001b[0m\n\u001b[2K\r| SGD | epoch: 000 | loss: 0.69422 - acc: 0.5228 -- iter: 01152/20250\n"
     ]
    },
    {
     "name": "stdout",
     "output_type": "stream",
     "text": [
      "Training Step: 10  | total loss: \u001b[1m\u001b[32m0.69168\u001b[0m\u001b[0m\n\u001b[2K\r| SGD | epoch: 000 | loss: 0.69168 - acc: 0.5546 -- iter: 01280/20250\n"
     ]
    },
    {
     "name": "stdout",
     "output_type": "stream",
     "text": [
      "Training Step: 11  | total loss: \u001b[1m\u001b[32m0.68938\u001b[0m\u001b[0m\n\u001b[2K\r| SGD | epoch: 000 | loss: 0.68938 - acc: 0.5660 -- iter: 01408/20250\n"
     ]
    },
    {
     "name": "stdout",
     "output_type": "stream",
     "text": [
      "Training Step: 12  | total loss: \u001b[1m\u001b[32m0.69788\u001b[0m\u001b[0m\n\u001b[2K\r| SGD | epoch: 000 | loss: 0.69788 - acc: 0.5329 -- iter: 01536/20250\n"
     ]
    },
    {
     "name": "stdout",
     "output_type": "stream",
     "text": [
      "Training Step: 13  | total loss: \u001b[1m\u001b[32m0.69430\u001b[0m\u001b[0m\n\u001b[2K\r| SGD | epoch: 000 | loss: 0.69430 - acc: 0.5457 -- iter: 01664/20250\n"
     ]
    },
    {
     "name": "stdout",
     "output_type": "stream",
     "text": [
      "Training Step: 14  | total loss: \u001b[1m\u001b[32m0.69290\u001b[0m\u001b[0m\n\u001b[2K\r| SGD | epoch: 000 | loss: 0.69290 - acc: 0.5271 -- iter: 01792/20250\n"
     ]
    },
    {
     "name": "stdout",
     "output_type": "stream",
     "text": [
      "Training Step: 15  | total loss: \u001b[1m\u001b[32m0.69184\u001b[0m\u001b[0m\n\u001b[2K\r| SGD | epoch: 000 | loss: 0.69184 - acc: 0.5380 -- iter: 01920/20250\n"
     ]
    },
    {
     "name": "stdout",
     "output_type": "stream",
     "text": [
      "Training Step: 16  | total loss: \u001b[1m\u001b[32m0.68982\u001b[0m\u001b[0m\n\u001b[2K\r| SGD | epoch: 000 | loss: 0.68982 - acc: 0.5356 -- iter: 02048/20250\n"
     ]
    },
    {
     "name": "stdout",
     "output_type": "stream",
     "text": [
      "Training Step: 17  | total loss: \u001b[1m\u001b[32m0.69345\u001b[0m\u001b[0m\n\u001b[2K\r| SGD | epoch: 000 | loss: 0.69345 - acc: 0.5229 -- iter: 02176/20250\n"
     ]
    },
    {
     "name": "stdout",
     "output_type": "stream",
     "text": [
      "Training Step: 18  | total loss: \u001b[1m\u001b[32m0.69231\u001b[0m\u001b[0m\n\u001b[2K\r| SGD | epoch: 000 | loss: 0.69231 - acc: 0.5610 -- iter: 02304/20250\n"
     ]
    },
    {
     "name": "stdout",
     "output_type": "stream",
     "text": [
      "Training Step: 19  | total loss: \u001b[1m\u001b[32m0.69149\u001b[0m\u001b[0m\n\u001b[2K\r| SGD | epoch: 000 | loss: 0.69149 - acc: 0.5616 -- iter: 02432/20250\n"
     ]
    },
    {
     "name": "stdout",
     "output_type": "stream",
     "text": [
      "Training Step: 20  | total loss: \u001b[1m\u001b[32m0.69195\u001b[0m\u001b[0m\n\u001b[2K\r| SGD | epoch: 000 | loss: 0.69195 - acc: 0.5444 -- iter: 02560/20250\n"
     ]
    },
    {
     "name": "stdout",
     "output_type": "stream",
     "text": [
      "Training Step: 21  | total loss: \u001b[1m\u001b[32m0.69024\u001b[0m\u001b[0m\n\u001b[2K\r| SGD | epoch: 000 | loss: 0.69024 - acc: 0.5549 -- iter: 02688/20250\n"
     ]
    },
    {
     "name": "stdout",
     "output_type": "stream",
     "text": [
      "Training Step: 22  | total loss: \u001b[1m\u001b[32m0.68974\u001b[0m\u001b[0m\n\u001b[2K\r| SGD | epoch: 000 | loss: 0.68974 - acc: 0.5526 -- iter: 02816/20250\n"
     ]
    },
    {
     "name": "stdout",
     "output_type": "stream",
     "text": [
      "Training Step: 23  | total loss: \u001b[1m\u001b[32m0.69068\u001b[0m\u001b[0m\n\u001b[2K\r| SGD | epoch: 000 | loss: 0.69068 - acc: 0.5510 -- iter: 02944/20250\n"
     ]
    },
    {
     "name": "stdout",
     "output_type": "stream",
     "text": [
      "Training Step: 24  | total loss: \u001b[1m\u001b[32m0.68899\u001b[0m\u001b[0m\n\u001b[2K\r| SGD | epoch: 000 | loss: 0.68899 - acc: 0.5433 -- iter: 03072/20250\n"
     ]
    },
    {
     "name": "stdout",
     "output_type": "stream",
     "text": [
      "Training Step: 25  | total loss: \u001b[1m\u001b[32m0.68934\u001b[0m\u001b[0m\n\u001b[2K\r| SGD | epoch: 000 | loss: 0.68934 - acc: 0.5443 -- iter: 03200/20250\n"
     ]
    },
    {
     "name": "stdout",
     "output_type": "stream",
     "text": [
      "Training Step: 26  | total loss: \u001b[1m\u001b[32m0.69669\u001b[0m\u001b[0m\n\u001b[2K\r| SGD | epoch: 000 | loss: 0.69669 - acc: 0.5161 -- iter: 03328/20250\n"
     ]
    },
    {
     "name": "stdout",
     "output_type": "stream",
     "text": [
      "Training Step: 27  | total loss: \u001b[1m\u001b[32m0.69390\u001b[0m\u001b[0m\n\u001b[2K\r| SGD | epoch: 000 | loss: 0.69390 - acc: 0.5240 -- iter: 03456/20250\n"
     ]
    },
    {
     "name": "stdout",
     "output_type": "stream",
     "text": [
      "Training Step: 28  | total loss: \u001b[1m\u001b[32m0.69105\u001b[0m\u001b[0m\n\u001b[2K\r| SGD | epoch: 000 | loss: 0.69105 - acc: 0.5356 -- iter: 03584/20250\n"
     ]
    },
    {
     "name": "stdout",
     "output_type": "stream",
     "text": [
      "Training Step: 29  | total loss: \u001b[1m\u001b[32m0.68985\u001b[0m\u001b[0m\n\u001b[2K\r| SGD | epoch: 000 | loss: 0.68985 - acc: 0.5308 -- iter: 03712/20250\n"
     ]
    },
    {
     "name": "stdout",
     "output_type": "stream",
     "text": [
      "Training Step: 30  | total loss: \u001b[1m\u001b[32m0.68939\u001b[0m\u001b[0m\n\u001b[2K\r| SGD | epoch: 000 | loss: 0.68939 - acc: 0.5383 -- iter: 03840/20250\n"
     ]
    },
    {
     "name": "stdout",
     "output_type": "stream",
     "text": [
      "Training Step: 31  | total loss: \u001b[1m\u001b[32m0.68791\u001b[0m\u001b[0m\n\u001b[2K\r| SGD | epoch: 000 | loss: 0.68791 - acc: 0.5530 -- iter: 03968/20250\n"
     ]
    },
    {
     "name": "stdout",
     "output_type": "stream",
     "text": [
      "Training Step: 32  | total loss: \u001b[1m\u001b[32m0.68880\u001b[0m\u001b[0m\n\u001b[2K\r| SGD | epoch: 000 | loss: 0.68880 - acc: 0.5393 -- iter: 04096/20250\n"
     ]
    },
    {
     "name": "stdout",
     "output_type": "stream",
     "text": [
      "Training Step: 33  | total loss: \u001b[1m\u001b[32m0.68699\u001b[0m\u001b[0m\n\u001b[2K\r| SGD | epoch: 000 | loss: 0.68699 - acc: 0.5650 -- iter: 04224/20250\n"
     ]
    },
    {
     "name": "stdout",
     "output_type": "stream",
     "text": [
      "Training Step: 34  | total loss: \u001b[1m\u001b[32m0.69964\u001b[0m\u001b[0m\n\u001b[2K\r| SGD | epoch: 000 | loss: 0.69964 - acc: 0.5427 -- iter: 04352/20250\n"
     ]
    },
    {
     "name": "stdout",
     "output_type": "stream",
     "text": [
      "Training Step: 35  | total loss: \u001b[1m\u001b[32m0.69816\u001b[0m\u001b[0m\n\u001b[2K\r| SGD | epoch: 000 | loss: 0.69816 - acc: 0.5535 -- iter: 04480/20250\n"
     ]
    },
    {
     "name": "stdout",
     "output_type": "stream",
     "text": [
      "Training Step: 36  | total loss: \u001b[1m\u001b[32m0.69685\u001b[0m\u001b[0m\n\u001b[2K\r| SGD | epoch: 000 | loss: 0.69685 - acc: 0.5457 -- iter: 04608/20250\n"
     ]
    },
    {
     "name": "stdout",
     "output_type": "stream",
     "text": [
      "Training Step: 37  | total loss: \u001b[1m\u001b[32m0.69364\u001b[0m\u001b[0m\n\u001b[2K\r| SGD | epoch: 000 | loss: 0.69364 - acc: 0.5538 -- iter: 04736/20250\n"
     ]
    },
    {
     "name": "stdout",
     "output_type": "stream",
     "text": [
      "Training Step: 38  | total loss: \u001b[1m\u001b[32m0.69112\u001b[0m\u001b[0m\n\u001b[2K\r| SGD | epoch: 000 | loss: 0.69112 - acc: 0.5601 -- iter: 04864/20250\n"
     ]
    },
    {
     "name": "stdout",
     "output_type": "stream",
     "text": [
      "Training Step: 39  | total loss: \u001b[1m\u001b[32m0.68924\u001b[0m\u001b[0m\n\u001b[2K\r| SGD | epoch: 000 | loss: 0.68924 - acc: 0.5636 -- iter: 04992/20250\n"
     ]
    },
    {
     "name": "stdout",
     "output_type": "stream",
     "text": [
      "Training Step: 40  | total loss: \u001b[1m\u001b[32m0.69256\u001b[0m\u001b[0m\n\u001b[2K\r| SGD | epoch: 000 | loss: 0.69256 - acc: 0.5502 -- iter: 05120/20250\n"
     ]
    },
    {
     "name": "stdout",
     "output_type": "stream",
     "text": [
      "Training Step: 41  | total loss: \u001b[1m\u001b[32m0.69235\u001b[0m\u001b[0m\n\u001b[2K\r| SGD | epoch: 000 | loss: 0.69235 - acc: 0.5439 -- iter: 05248/20250\n"
     ]
    },
    {
     "name": "stdout",
     "output_type": "stream",
     "text": [
      "Training Step: 42  | total loss: \u001b[1m\u001b[32m0.69085\u001b[0m\u001b[0m\n\u001b[2K\r| SGD | epoch: 000 | loss: 0.69085 - acc: 0.5501 -- iter: 05376/20250\n"
     ]
    },
    {
     "name": "stdout",
     "output_type": "stream",
     "text": [
      "Training Step: 43  | total loss: \u001b[1m\u001b[32m0.68866\u001b[0m\u001b[0m\n\u001b[2K\r| SGD | epoch: 000 | loss: 0.68866 - acc: 0.5647 -- iter: 05504/20250\n"
     ]
    },
    {
     "name": "stdout",
     "output_type": "stream",
     "text": [
      "Training Step: 44  | total loss: \u001b[1m\u001b[32m0.68787\u001b[0m\u001b[0m\n\u001b[2K\r| SGD | epoch: 000 | loss: 0.68787 - acc: 0.5643 -- iter: 05632/20250\n"
     ]
    },
    {
     "name": "stdout",
     "output_type": "stream",
     "text": [
      "Training Step: 45  | total loss: \u001b[1m\u001b[32m0.68857\u001b[0m\u001b[0m\n\u001b[2K\r| SGD | epoch: 000 | loss: 0.68857 - acc: 0.5548 -- iter: 05760/20250\n"
     ]
    },
    {
     "name": "stdout",
     "output_type": "stream",
     "text": [
      "Training Step: 46  | total loss: \u001b[1m\u001b[32m0.69911\u001b[0m\u001b[0m\n\u001b[2K\r| SGD | epoch: 000 | loss: 0.69911 - acc: 0.5430 -- iter: 05888/20250\n"
     ]
    },
    {
     "name": "stdout",
     "output_type": "stream",
     "text": [
      "Training Step: 47  | total loss: \u001b[1m\u001b[32m0.69894\u001b[0m\u001b[0m\n\u001b[2K\r| SGD | epoch: 000 | loss: 0.69894 - acc: 0.5220 -- iter: 06016/20250\n"
     ]
    },
    {
     "name": "stdout",
     "output_type": "stream",
     "text": [
      "Training Step: 48  | total loss: \u001b[1m\u001b[32m0.69782\u001b[0m\u001b[0m\n\u001b[2K\r| SGD | epoch: 000 | loss: 0.69782 - acc: 0.5222 -- iter: 06144/20250\n"
     ]
    },
    {
     "name": "stdout",
     "output_type": "stream",
     "text": [
      "Training Step: 49  | total loss: \u001b[1m\u001b[32m0.69644\u001b[0m\u001b[0m\n\u001b[2K\r| SGD | epoch: 000 | loss: 0.69644 - acc: 0.5274 -- iter: 06272/20250\n"
     ]
    },
    {
     "name": "stdout",
     "output_type": "stream",
     "text": [
      "Training Step: 50  | total loss: \u001b[1m\u001b[32m0.69485\u001b[0m\u001b[0m\n\u001b[2K\r| SGD | epoch: 000 | loss: 0.69485 - acc: 0.5207 -- iter: 06400/20250\n"
     ]
    },
    {
     "name": "stdout",
     "output_type": "stream",
     "text": [
      "Training Step: 51  | total loss: \u001b[1m\u001b[32m0.69668\u001b[0m\u001b[0m\n\u001b[2K\r| SGD | epoch: 000 | loss: 0.69668 - acc: 0.5033 -- iter: 06528/20250\n"
     ]
    },
    {
     "name": "stdout",
     "output_type": "stream",
     "text": [
      "Training Step: 52  | total loss: \u001b[1m\u001b[32m0.69564\u001b[0m\u001b[0m\n\u001b[2K\r| SGD | epoch: 000 | loss: 0.69564 - acc: 0.5098 -- iter: 06656/20250\n"
     ]
    },
    {
     "name": "stdout",
     "output_type": "stream",
     "text": [
      "Training Step: 53  | total loss: \u001b[1m\u001b[32m0.69535\u001b[0m\u001b[0m\n\u001b[2K\r| SGD | epoch: 000 | loss: 0.69535 - acc: 0.5038 -- iter: 06784/20250\n"
     ]
    },
    {
     "name": "stdout",
     "output_type": "stream",
     "text": [
      "Training Step: 54  | total loss: \u001b[1m\u001b[32m0.69468\u001b[0m\u001b[0m\n\u001b[2K\r| SGD | epoch: 000 | loss: 0.69468 - acc: 0.5214 -- iter: 06912/20250\n"
     ]
    },
    {
     "name": "stdout",
     "output_type": "stream",
     "text": [
      "Training Step: 55  | total loss: \u001b[1m\u001b[32m0.69381\u001b[0m\u001b[0m\n\u001b[2K\r| SGD | epoch: 000 | loss: 0.69381 - acc: 0.5317 -- iter: 07040/20250\n"
     ]
    },
    {
     "name": "stdout",
     "output_type": "stream",
     "text": [
      "Training Step: 56  | total loss: \u001b[1m\u001b[32m0.69313\u001b[0m\u001b[0m\n\u001b[2K\r| SGD | epoch: 000 | loss: 0.69313 - acc: 0.5262 -- iter: 07168/20250\n"
     ]
    },
    {
     "name": "stdout",
     "output_type": "stream",
     "text": [
      "Training Step: 57  | total loss: \u001b[1m\u001b[32m0.69269\u001b[0m\u001b[0m\n\u001b[2K\r| SGD | epoch: 000 | loss: 0.69269 - acc: 0.5291 -- iter: 07296/20250\n"
     ]
    },
    {
     "name": "stdout",
     "output_type": "stream",
     "text": [
      "Training Step: 58  | total loss: \u001b[1m\u001b[32m0.69186\u001b[0m\u001b[0m\n\u001b[2K\r| SGD | epoch: 000 | loss: 0.69186 - acc: 0.5347 -- iter: 07424/20250\n"
     ]
    },
    {
     "name": "stdout",
     "output_type": "stream",
     "text": [
      "Training Step: 59  | total loss: \u001b[1m\u001b[32m0.69109\u001b[0m\u001b[0m\n\u001b[2K\r| SGD | epoch: 000 | loss: 0.69109 - acc: 0.5353 -- iter: 07552/20250\n"
     ]
    },
    {
     "name": "stdout",
     "output_type": "stream",
     "text": [
      "Training Step: 60  | total loss: \u001b[1m\u001b[32m0.69204\u001b[0m\u001b[0m\n\u001b[2K\r| SGD | epoch: 000 | loss: 0.69204 - acc: 0.5265 -- iter: 07680/20250\n"
     ]
    },
    {
     "name": "stdout",
     "output_type": "stream",
     "text": [
      "Training Step: 61  | total loss: \u001b[1m\u001b[32m0.69165\u001b[0m\u001b[0m\n\u001b[2K\r| SGD | epoch: 000 | loss: 0.69165 - acc: 0.5231 -- iter: 07808/20250\n"
     ]
    },
    {
     "name": "stdout",
     "output_type": "stream",
     "text": [
      "Training Step: 62  | total loss: \u001b[1m\u001b[32m0.69106\u001b[0m\u001b[0m\n\u001b[2K\r| SGD | epoch: 000 | loss: 0.69106 - acc: 0.5261 -- iter: 07936/20250\n"
     ]
    },
    {
     "name": "stdout",
     "output_type": "stream",
     "text": [
      "Training Step: 63  | total loss: \u001b[1m\u001b[32m0.69035\u001b[0m\u001b[0m\n\u001b[2K\r| SGD | epoch: 000 | loss: 0.69035 - acc: 0.5308 -- iter: 08064/20250\n"
     ]
    },
    {
     "name": "stdout",
     "output_type": "stream",
     "text": [
      "Training Step: 64  | total loss: \u001b[1m\u001b[32m0.69616\u001b[0m\u001b[0m\n\u001b[2K\r| SGD | epoch: 000 | loss: 0.69616 - acc: 0.5211 -- iter: 08192/20250\n"
     ]
    },
    {
     "name": "stdout",
     "output_type": "stream",
     "text": [
      "Training Step: 65  | total loss: \u001b[1m\u001b[32m0.69454\u001b[0m\u001b[0m\n\u001b[2K\r| SGD | epoch: 000 | loss: 0.69454 - acc: 0.5272 -- iter: 08320/20250\n"
     ]
    },
    {
     "name": "stdout",
     "output_type": "stream",
     "text": [
      "Training Step: 66  | total loss: \u001b[1m\u001b[32m0.69372\u001b[0m\u001b[0m\n\u001b[2K\r| SGD | epoch: 000 | loss: 0.69372 - acc: 0.5239 -- iter: 08448/20250\n"
     ]
    },
    {
     "name": "stdout",
     "output_type": "stream",
     "text": [
      "Training Step: 67  | total loss: \u001b[1m\u001b[32m0.69454\u001b[0m\u001b[0m\n\u001b[2K\r| SGD | epoch: 000 | loss: 0.69454 - acc: 0.5154 -- iter: 08576/20250\n"
     ]
    },
    {
     "name": "stdout",
     "output_type": "stream",
     "text": [
      "Training Step: 68  | total loss: \u001b[1m\u001b[32m0.69431\u001b[0m\u001b[0m\n\u001b[2K\r| SGD | epoch: 000 | loss: 0.69431 - acc: 0.5126 -- iter: 08704/20250\n"
     ]
    },
    {
     "name": "stdout",
     "output_type": "stream",
     "text": [
      "Training Step: 69  | total loss: \u001b[1m\u001b[32m0.69389\u001b[0m\u001b[0m\n\u001b[2K\r| SGD | epoch: 000 | loss: 0.69389 - acc: 0.5157 -- iter: 08832/20250\n"
     ]
    },
    {
     "name": "stdout",
     "output_type": "stream",
     "text": [
      "Training Step: 70  | total loss: \u001b[1m\u001b[32m0.69298\u001b[0m\u001b[0m\n\u001b[2K\r| SGD | epoch: 000 | loss: 0.69298 - acc: 0.5184 -- iter: 08960/20250\n"
     ]
    },
    {
     "name": "stdout",
     "output_type": "stream",
     "text": [
      "Training Step: 71  | total loss: \u001b[1m\u001b[32m0.69419\u001b[0m\u001b[0m\n\u001b[2K\r| SGD | epoch: 000 | loss: 0.69419 - acc: 0.5039 -- iter: 09088/20250\n"
     ]
    },
    {
     "name": "stdout",
     "output_type": "stream",
     "text": [
      "Training Step: 72  | total loss: \u001b[1m\u001b[32m0.69399\u001b[0m\u001b[0m\n\u001b[2K\r| SGD | epoch: 000 | loss: 0.69399 - acc: 0.5061 -- iter: 09216/20250\n"
     ]
    },
    {
     "name": "stdout",
     "output_type": "stream",
     "text": [
      "Training Step: 73  | total loss: \u001b[1m\u001b[32m0.69398\u001b[0m\u001b[0m\n\u001b[2K\r| SGD | epoch: 000 | loss: 0.69398 - acc: 0.5011 -- iter: 09344/20250\n"
     ]
    },
    {
     "name": "stdout",
     "output_type": "stream",
     "text": [
      "Training Step: 74  | total loss: \u001b[1m\u001b[32m0.69386\u001b[0m\u001b[0m\n\u001b[2K\r| SGD | epoch: 000 | loss: 0.69386 - acc: 0.5044 -- iter: 09472/20250\n"
     ]
    },
    {
     "name": "stdout",
     "output_type": "stream",
     "text": [
      "Training Step: 75  | total loss: \u001b[1m\u001b[32m0.69346\u001b[0m\u001b[0m\n\u001b[2K\r| SGD | epoch: 000 | loss: 0.69346 - acc: 0.5141 -- iter: 09600/20250\n"
     ]
    },
    {
     "name": "stdout",
     "output_type": "stream",
     "text": [
      "Training Step: 76  | total loss: \u001b[1m\u001b[32m0.69296\u001b[0m\u001b[0m\n\u001b[2K\r| SGD | epoch: 000 | loss: 0.69296 - acc: 0.5252 -- iter: 09728/20250\n"
     ]
    },
    {
     "name": "stdout",
     "output_type": "stream",
     "text": [
      "Training Step: 77  | total loss: \u001b[1m\u001b[32m0.69251\u001b[0m\u001b[0m\n\u001b[2K\r| SGD | epoch: 000 | loss: 0.69251 - acc: 0.5250 -- iter: 09856/20250\n"
     ]
    },
    {
     "name": "stdout",
     "output_type": "stream",
     "text": [
      "Training Step: 78  | total loss: \u001b[1m\u001b[32m0.69166\u001b[0m\u001b[0m\n\u001b[2K\r| SGD | epoch: 000 | loss: 0.69166 - acc: 0.5322 -- iter: 09984/20250\n"
     ]
    },
    {
     "name": "stdout",
     "output_type": "stream",
     "text": [
      "Training Step: 79  | total loss: \u001b[1m\u001b[32m0.69216\u001b[0m\u001b[0m\n\u001b[2K\r| SGD | epoch: 000 | loss: 0.69216 - acc: 0.5265 -- iter: 10112/20250\n"
     ]
    },
    {
     "name": "stdout",
     "output_type": "stream",
     "text": [
      "Training Step: 80  | total loss: \u001b[1m\u001b[32m0.69161\u001b[0m\u001b[0m\n\u001b[2K\r| SGD | epoch: 000 | loss: 0.69161 - acc: 0.5262 -- iter: 10240/20250\n"
     ]
    },
    {
     "name": "stdout",
     "output_type": "stream",
     "text": [
      "Training Step: 81  | total loss: \u001b[1m\u001b[32m0.69133\u001b[0m\u001b[0m\n\u001b[2K\r| SGD | epoch: 000 | loss: 0.69133 - acc: 0.5251 -- iter: 10368/20250\n"
     ]
    },
    {
     "name": "stdout",
     "output_type": "stream",
     "text": [
      "Training Step: 82  | total loss: \u001b[1m\u001b[32m0.69150\u001b[0m\u001b[0m\n\u001b[2K\r| SGD | epoch: 000 | loss: 0.69150 - acc: 0.5218 -- iter: 10496/20250\n"
     ]
    },
    {
     "name": "stdout",
     "output_type": "stream",
     "text": [
      "Training Step: 83  | total loss: \u001b[1m\u001b[32m0.69417\u001b[0m\u001b[0m\n\u001b[2K\r| SGD | epoch: 000 | loss: 0.69417 - acc: 0.5134 -- iter: 10624/20250\n"
     ]
    },
    {
     "name": "stdout",
     "output_type": "stream",
     "text": [
      "Training Step: 84  | total loss: \u001b[1m\u001b[32m0.69272\u001b[0m\u001b[0m\n\u001b[2K\r| SGD | epoch: 000 | loss: 0.69272 - acc: 0.5238 -- iter: 10752/20250\n"
     ]
    },
    {
     "name": "stdout",
     "output_type": "stream",
     "text": [
      "Training Step: 85  | total loss: \u001b[1m\u001b[32m0.69364\u001b[0m\u001b[0m\n\u001b[2K\r| SGD | epoch: 000 | loss: 0.69364 - acc: 0.5183 -- iter: 10880/20250\n"
     ]
    },
    {
     "name": "stdout",
     "output_type": "stream",
     "text": [
      "Training Step: 86  | total loss: \u001b[1m\u001b[32m0.69328\u001b[0m\u001b[0m\n\u001b[2K\r| SGD | epoch: 000 | loss: 0.69328 - acc: 0.5180 -- iter: 11008/20250\n"
     ]
    },
    {
     "name": "stdout",
     "output_type": "stream",
     "text": [
      "Training Step: 87  | total loss: \u001b[1m\u001b[32m0.69289\u001b[0m\u001b[0m\n\u001b[2K\r| SGD | epoch: 000 | loss: 0.69289 - acc: 0.5115 -- iter: 11136/20250\n"
     ]
    },
    {
     "name": "stdout",
     "output_type": "stream",
     "text": [
      "Training Step: 88  | total loss: \u001b[1m\u001b[32m0.69276\u001b[0m\u001b[0m\n\u001b[2K\r| SGD | epoch: 000 | loss: 0.69276 - acc: 0.5143 -- iter: 11264/20250\n"
     ]
    },
    {
     "name": "stdout",
     "output_type": "stream",
     "text": [
      "Training Step: 89  | total loss: \u001b[1m\u001b[32m0.69238\u001b[0m\u001b[0m\n\u001b[2K\r| SGD | epoch: 000 | loss: 0.69238 - acc: 0.5222 -- iter: 11392/20250\n"
     ]
    },
    {
     "name": "stdout",
     "output_type": "stream",
     "text": [
      "Training Step: 90  | total loss: \u001b[1m\u001b[32m0.69357\u001b[0m\u001b[0m\n\u001b[2K\r| SGD | epoch: 000 | loss: 0.69357 - acc: 0.5098 -- iter: 11520/20250\n"
     ]
    },
    {
     "name": "stdout",
     "output_type": "stream",
     "text": [
      "Training Step: 91  | total loss: \u001b[1m\u001b[32m0.69335\u001b[0m\u001b[0m\n\u001b[2K\r| SGD | epoch: 000 | loss: 0.69335 - acc: 0.5151 -- iter: 11648/20250\n"
     ]
    },
    {
     "name": "stdout",
     "output_type": "stream",
     "text": [
      "Training Step: 92  | total loss: \u001b[1m\u001b[32m0.69284\u001b[0m\u001b[0m\n\u001b[2K\r| SGD | epoch: 000 | loss: 0.69284 - acc: 0.5128 -- iter: 11776/20250\n"
     ]
    },
    {
     "name": "stdout",
     "output_type": "stream",
     "text": [
      "Training Step: 93  | total loss: \u001b[1m\u001b[32m0.69330\u001b[0m\u001b[0m\n\u001b[2K\r| SGD | epoch: 000 | loss: 0.69330 - acc: 0.5100 -- iter: 11904/20250\n"
     ]
    },
    {
     "name": "stdout",
     "output_type": "stream",
     "text": [
      "Training Step: 94  | total loss: \u001b[1m\u001b[32m0.69328\u001b[0m\u001b[0m\n\u001b[2K\r| SGD | epoch: 000 | loss: 0.69328 - acc: 0.5027 -- iter: 12032/20250\n"
     ]
    },
    {
     "name": "stdout",
     "output_type": "stream",
     "text": [
      "Training Step: 95  | total loss: \u001b[1m\u001b[32m0.69314\u001b[0m\u001b[0m\n\u001b[2K\r| SGD | epoch: 000 | loss: 0.69314 - acc: 0.5071 -- iter: 12160/20250\n"
     ]
    },
    {
     "name": "stdout",
     "output_type": "stream",
     "text": [
      "Training Step: 96  | total loss: \u001b[1m\u001b[32m0.69270\u001b[0m\u001b[0m\n\u001b[2K\r| SGD | epoch: 000 | loss: 0.69270 - acc: 0.5150 -- iter: 12288/20250\n"
     ]
    },
    {
     "name": "stdout",
     "output_type": "stream",
     "text": [
      "Training Step: 97  | total loss: \u001b[1m\u001b[32m0.69217\u001b[0m\u001b[0m\n\u001b[2K\r| SGD | epoch: 000 | loss: 0.69217 - acc: 0.5205 -- iter: 12416/20250\n"
     ]
    },
    {
     "name": "stdout",
     "output_type": "stream",
     "text": [
      "Training Step: 98  | total loss: \u001b[1m\u001b[32m0.69174\u001b[0m\u001b[0m\n\u001b[2K\r| SGD | epoch: 000 | loss: 0.69174 - acc: 0.5247 -- iter: 12544/20250\n"
     ]
    },
    {
     "name": "stdout",
     "output_type": "stream",
     "text": [
      "Training Step: 99  | total loss: \u001b[1m\u001b[32m0.69069\u001b[0m\u001b[0m\n\u001b[2K\r| SGD | epoch: 000 | loss: 0.69069 - acc: 0.5418 -- iter: 12672/20250\n"
     ]
    },
    {
     "name": "stdout",
     "output_type": "stream",
     "text": [
      "Training Step: 100  | total loss: \u001b[1m\u001b[32m0.69019\u001b[0m\u001b[0m\n\u001b[2K\r| SGD | epoch: 000 | loss: 0.69019 - acc: 0.5431 -- iter: 12800/20250\n"
     ]
    },
    {
     "name": "stdout",
     "output_type": "stream",
     "text": [
      "Training Step: 101  | total loss: \u001b[1m\u001b[32m0.68884\u001b[0m\u001b[0m\n\u001b[2K\r| SGD | epoch: 000 | loss: 0.68884 - acc: 0.5482 -- iter: 12928/20250\n"
     ]
    },
    {
     "name": "stdout",
     "output_type": "stream",
     "text": [
      "Training Step: 102  | total loss: \u001b[1m\u001b[32m0.68968\u001b[0m\u001b[0m\n\u001b[2K\r| SGD | epoch: 000 | loss: 0.68968 - acc: 0.5449 -- iter: 13056/20250\n"
     ]
    },
    {
     "name": "stdout",
     "output_type": "stream",
     "text": [
      "Training Step: 103  | total loss: \u001b[1m\u001b[32m0.69159\u001b[0m\u001b[0m\n\u001b[2K\r| SGD | epoch: 000 | loss: 0.69159 - acc: 0.5381 -- iter: 13184/20250\n"
     ]
    },
    {
     "name": "stdout",
     "output_type": "stream",
     "text": [
      "Training Step: 104  | total loss: \u001b[1m\u001b[32m0.69043\u001b[0m\u001b[0m\n\u001b[2K\r| SGD | epoch: 000 | loss: 0.69043 - acc: 0.5460 -- iter: 13312/20250\n"
     ]
    },
    {
     "name": "stdout",
     "output_type": "stream",
     "text": [
      "Training Step: 105  | total loss: \u001b[1m\u001b[32m0.69458\u001b[0m\u001b[0m\n\u001b[2K\r| SGD | epoch: 000 | loss: 0.69458 - acc: 0.5351 -- iter: 13440/20250\n"
     ]
    },
    {
     "name": "stdout",
     "output_type": "stream",
     "text": [
      "Training Step: 106  | total loss: \u001b[1m\u001b[32m0.69430\u001b[0m\u001b[0m\n\u001b[2K\r| SGD | epoch: 000 | loss: 0.69430 - acc: 0.5308 -- iter: 13568/20250\n"
     ]
    },
    {
     "name": "stdout",
     "output_type": "stream",
     "text": [
      "Training Step: 107  | total loss: \u001b[1m\u001b[32m0.69349\u001b[0m\u001b[0m\n\u001b[2K\r| SGD | epoch: 000 | loss: 0.69349 - acc: 0.5340 -- iter: 13696/20250\n"
     ]
    },
    {
     "name": "stdout",
     "output_type": "stream",
     "text": [
      "Training Step: 108  | total loss: \u001b[1m\u001b[32m0.69102\u001b[0m\u001b[0m\n\u001b[2K\r| SGD | epoch: 000 | loss: 0.69102 - acc: 0.5431 -- iter: 13824/20250\n"
     ]
    },
    {
     "name": "stdout",
     "output_type": "stream",
     "text": [
      "Training Step: 109  | total loss: \u001b[1m\u001b[32m0.69264\u001b[0m\u001b[0m\n\u001b[2K\r| SGD | epoch: 000 | loss: 0.69264 - acc: 0.5380 -- iter: 13952/20250\n"
     ]
    },
    {
     "name": "stdout",
     "output_type": "stream",
     "text": [
      "Training Step: 110  | total loss: \u001b[1m\u001b[32m0.69269\u001b[0m\u001b[0m\n\u001b[2K\r| SGD | epoch: 000 | loss: 0.69269 - acc: 0.5397 -- iter: 14080/20250\n"
     ]
    },
    {
     "name": "stdout",
     "output_type": "stream",
     "text": [
      "Training Step: 111  | total loss: \u001b[1m\u001b[32m0.69222\u001b[0m\u001b[0m\n\u001b[2K\r| SGD | epoch: 000 | loss: 0.69222 - acc: 0.5396 -- iter: 14208/20250\n"
     ]
    },
    {
     "name": "stdout",
     "output_type": "stream",
     "text": [
      "Training Step: 112  | total loss: \u001b[1m\u001b[32m0.69106\u001b[0m\u001b[0m\n\u001b[2K\r| SGD | epoch: 000 | loss: 0.69106 - acc: 0.5489 -- iter: 14336/20250\n"
     ]
    },
    {
     "name": "stdout",
     "output_type": "stream",
     "text": [
      "Training Step: 113  | total loss: \u001b[1m\u001b[32m0.69161\u001b[0m\u001b[0m\n\u001b[2K\r| SGD | epoch: 000 | loss: 0.69161 - acc: 0.5472 -- iter: 14464/20250\n"
     ]
    },
    {
     "name": "stdout",
     "output_type": "stream",
     "text": [
      "Training Step: 114  | total loss: \u001b[1m\u001b[32m0.68994\u001b[0m\u001b[0m\n\u001b[2K\r| SGD | epoch: 000 | loss: 0.68994 - acc: 0.5479 -- iter: 14592/20250\n"
     ]
    },
    {
     "name": "stdout",
     "output_type": "stream",
     "text": [
      "Training Step: 115  | total loss: \u001b[1m\u001b[32m0.69389\u001b[0m\u001b[0m\n\u001b[2K\r| SGD | epoch: 000 | loss: 0.69389 - acc: 0.5353 -- iter: 14720/20250\n"
     ]
    },
    {
     "name": "stdout",
     "output_type": "stream",
     "text": [
      "Training Step: 116  | total loss: \u001b[1m\u001b[32m0.69463\u001b[0m\u001b[0m\n\u001b[2K\r| SGD | epoch: 000 | loss: 0.69463 - acc: 0.5279 -- iter: 14848/20250\n"
     ]
    },
    {
     "name": "stdout",
     "output_type": "stream",
     "text": [
      "Training Step: 117  | total loss: \u001b[1m\u001b[32m0.69430\u001b[0m\u001b[0m\n\u001b[2K\r| SGD | epoch: 000 | loss: 0.69430 - acc: 0.5345 -- iter: 14976/20250\n"
     ]
    },
    {
     "name": "stdout",
     "output_type": "stream",
     "text": [
      "Training Step: 118  | total loss: \u001b[1m\u001b[32m0.69385\u001b[0m\u001b[0m\n\u001b[2K\r| SGD | epoch: 000 | loss: 0.69385 - acc: 0.5326 -- iter: 15104/20250\n"
     ]
    },
    {
     "name": "stdout",
     "output_type": "stream",
     "text": [
      "Training Step: 119  | total loss: \u001b[1m\u001b[32m0.69313\u001b[0m\u001b[0m\n\u001b[2K\r| SGD | epoch: 000 | loss: 0.69313 - acc: 0.5356 -- iter: 15232/20250\n"
     ]
    },
    {
     "name": "stdout",
     "output_type": "stream",
     "text": [
      "Training Step: 120  | total loss: \u001b[1m\u001b[32m0.69235\u001b[0m\u001b[0m\n\u001b[2K\r| SGD | epoch: 000 | loss: 0.69235 - acc: 0.5453 -- iter: 15360/20250\n"
     ]
    },
    {
     "name": "stdout",
     "output_type": "stream",
     "text": [
      "Training Step: 121  | total loss: \u001b[1m\u001b[32m0.69293\u001b[0m\u001b[0m\n\u001b[2K\r| SGD | epoch: 000 | loss: 0.69293 - acc: 0.5439 -- iter: 15488/20250\n"
     ]
    },
    {
     "name": "stdout",
     "output_type": "stream",
     "text": [
      "Training Step: 122  | total loss: \u001b[1m\u001b[32m0.69224\u001b[0m\u001b[0m\n\u001b[2K\r| SGD | epoch: 000 | loss: 0.69224 - acc: 0.5450 -- iter: 15616/20250\n"
     ]
    },
    {
     "name": "stdout",
     "output_type": "stream",
     "text": [
      "Training Step: 123  | total loss: \u001b[1m\u001b[32m0.69135\u001b[0m\u001b[0m\n\u001b[2K\r| SGD | epoch: 000 | loss: 0.69135 - acc: 0.5389 -- iter: 15744/20250\n"
     ]
    },
    {
     "name": "stdout",
     "output_type": "stream",
     "text": [
      "Training Step: 124  | total loss: \u001b[1m\u001b[32m0.68960\u001b[0m\u001b[0m\n\u001b[2K\r| SGD | epoch: 000 | loss: 0.68960 - acc: 0.5491 -- iter: 15872/20250\n"
     ]
    },
    {
     "name": "stdout",
     "output_type": "stream",
     "text": [
      "Training Step: 125  | total loss: \u001b[1m\u001b[32m0.68788\u001b[0m\u001b[0m\n\u001b[2K\r| SGD | epoch: 000 | loss: 0.68788 - acc: 0.5536 -- iter: 16000/20250\n"
     ]
    },
    {
     "name": "stdout",
     "output_type": "stream",
     "text": [
      "Training Step: 126  | total loss: \u001b[1m\u001b[32m0.68709\u001b[0m\u001b[0m\n\u001b[2K\r| SGD | epoch: 000 | loss: 0.68709 - acc: 0.5466 -- iter: 16128/20250\n"
     ]
    },
    {
     "name": "stdout",
     "output_type": "stream",
     "text": [
      "Training Step: 127  | total loss: \u001b[1m\u001b[32m0.68876\u001b[0m\u001b[0m\n\u001b[2K\r| SGD | epoch: 000 | loss: 0.68876 - acc: 0.5404 -- iter: 16256/20250\n"
     ]
    },
    {
     "name": "stdout",
     "output_type": "stream",
     "text": [
      "Training Step: 128  | total loss: \u001b[1m\u001b[32m0.68949\u001b[0m\u001b[0m\n\u001b[2K\r| SGD | epoch: 000 | loss: 0.68949 - acc: 0.5387 -- iter: 16384/20250\n"
     ]
    },
    {
     "name": "stdout",
     "output_type": "stream",
     "text": [
      "Training Step: 129  | total loss: \u001b[1m\u001b[32m0.68965\u001b[0m\u001b[0m\n\u001b[2K\r| SGD | epoch: 000 | loss: 0.68965 - acc: 0.5427 -- iter: 16512/20250\n"
     ]
    },
    {
     "name": "stdout",
     "output_type": "stream",
     "text": [
      "Training Step: 130  | total loss: \u001b[1m\u001b[32m0.68962\u001b[0m\u001b[0m\n\u001b[2K\r| SGD | epoch: 000 | loss: 0.68962 - acc: 0.5439 -- iter: 16640/20250\n"
     ]
    },
    {
     "name": "stdout",
     "output_type": "stream",
     "text": [
      "Training Step: 131  | total loss: \u001b[1m\u001b[32m0.68962\u001b[0m\u001b[0m\n\u001b[2K\r| SGD | epoch: 000 | loss: 0.68962 - acc: 0.5363 -- iter: 16768/20250\n"
     ]
    },
    {
     "name": "stdout",
     "output_type": "stream",
     "text": [
      "Training Step: 132  | total loss: \u001b[1m\u001b[32m0.68957\u001b[0m\u001b[0m\n\u001b[2K\r| SGD | epoch: 000 | loss: 0.68957 - acc: 0.5343 -- iter: 16896/20250\n"
     ]
    },
    {
     "name": "stdout",
     "output_type": "stream",
     "text": [
      "Training Step: 133  | total loss: \u001b[1m\u001b[32m0.68886\u001b[0m\u001b[0m\n\u001b[2K\r| SGD | epoch: 000 | loss: 0.68886 - acc: 0.5418 -- iter: 17024/20250\n"
     ]
    },
    {
     "name": "stdout",
     "output_type": "stream",
     "text": [
      "Training Step: 134  | total loss: \u001b[1m\u001b[32m0.68690\u001b[0m\u001b[0m\n\u001b[2K\r| SGD | epoch: 000 | loss: 0.68690 - acc: 0.5462 -- iter: 17152/20250\n"
     ]
    },
    {
     "name": "stdout",
     "output_type": "stream",
     "text": [
      "Training Step: 135  | total loss: \u001b[1m\u001b[32m0.68610\u001b[0m\u001b[0m\n\u001b[2K\r| SGD | epoch: 000 | loss: 0.68610 - acc: 0.5494 -- iter: 17280/20250\n"
     ]
    },
    {
     "name": "stdout",
     "output_type": "stream",
     "text": [
      "Training Step: 136  | total loss: \u001b[1m\u001b[32m0.68224\u001b[0m\u001b[0m\n\u001b[2K\r| SGD | epoch: 000 | loss: 0.68224 - acc: 0.5609 -- iter: 17408/20250\n"
     ]
    },
    {
     "name": "stdout",
     "output_type": "stream",
     "text": [
      "Training Step: 137  | total loss: \u001b[1m\u001b[32m0.67923\u001b[0m\u001b[0m\n\u001b[2K\r| SGD | epoch: 000 | loss: 0.67923 - acc: 0.5634 -- iter: 17536/20250\n"
     ]
    },
    {
     "name": "stdout",
     "output_type": "stream",
     "text": [
      "Training Step: 138  | total loss: \u001b[1m\u001b[32m0.68102\u001b[0m\u001b[0m\n\u001b[2K\r| SGD | epoch: 000 | loss: 0.68102 - acc: 0.5578 -- iter: 17664/20250\n"
     ]
    },
    {
     "name": "stdout",
     "output_type": "stream",
     "text": [
      "Training Step: 139  | total loss: \u001b[1m\u001b[32m0.67848\u001b[0m\u001b[0m\n\u001b[2K\r| SGD | epoch: 000 | loss: 0.67848 - acc: 0.5583 -- iter: 17792/20250\n"
     ]
    },
    {
     "name": "stdout",
     "output_type": "stream",
     "text": [
      "Training Step: 140  | total loss: \u001b[1m\u001b[32m0.68379\u001b[0m\u001b[0m\n\u001b[2K\r| SGD | epoch: 000 | loss: 0.68379 - acc: 0.5485 -- iter: 17920/20250\n"
     ]
    },
    {
     "name": "stdout",
     "output_type": "stream",
     "text": [
      "Training Step: 141  | total loss: \u001b[1m\u001b[32m0.68294\u001b[0m\u001b[0m\n\u001b[2K\r| SGD | epoch: 000 | loss: 0.68294 - acc: 0.5476 -- iter: 18048/20250\n"
     ]
    },
    {
     "name": "stdout",
     "output_type": "stream",
     "text": [
      "Training Step: 142  | total loss: \u001b[1m\u001b[32m0.68247\u001b[0m\u001b[0m\n\u001b[2K\r| SGD | epoch: 000 | loss: 0.68247 - acc: 0.5460 -- iter: 18176/20250\n"
     ]
    },
    {
     "name": "stdout",
     "output_type": "stream",
     "text": [
      "Training Step: 143  | total loss: \u001b[1m\u001b[32m0.68199\u001b[0m\u001b[0m\n\u001b[2K\r| SGD | epoch: 000 | loss: 0.68199 - acc: 0.5437 -- iter: 18304/20250\n"
     ]
    },
    {
     "name": "stdout",
     "output_type": "stream",
     "text": [
      "Training Step: 144  | total loss: \u001b[1m\u001b[32m0.68240\u001b[0m\u001b[0m\n\u001b[2K\r| SGD | epoch: 000 | loss: 0.68240 - acc: 0.5432 -- iter: 18432/20250\n"
     ]
    },
    {
     "name": "stdout",
     "output_type": "stream",
     "text": [
      "Training Step: 145  | total loss: \u001b[1m\u001b[32m0.68325\u001b[0m\u001b[0m\n\u001b[2K\r| SGD | epoch: 000 | loss: 0.68325 - acc: 0.5381 -- iter: 18560/20250\n"
     ]
    },
    {
     "name": "stdout",
     "output_type": "stream",
     "text": [
      "Training Step: 146  | total loss: \u001b[1m\u001b[32m0.68406\u001b[0m\u001b[0m\n\u001b[2K\r| SGD | epoch: 000 | loss: 0.68406 - acc: 0.5343 -- iter: 18688/20250\n"
     ]
    },
    {
     "name": "stdout",
     "output_type": "stream",
     "text": [
      "Training Step: 147  | total loss: \u001b[1m\u001b[32m0.68454\u001b[0m\u001b[0m\n\u001b[2K\r| SGD | epoch: 000 | loss: 0.68454 - acc: 0.5395 -- iter: 18816/20250\n"
     ]
    },
    {
     "name": "stdout",
     "output_type": "stream",
     "text": [
      "Training Step: 148  | total loss: \u001b[1m\u001b[32m0.68519\u001b[0m\u001b[0m\n\u001b[2K\r| SGD | epoch: 000 | loss: 0.68519 - acc: 0.5434 -- iter: 18944/20250\n"
     ]
    },
    {
     "name": "stdout",
     "output_type": "stream",
     "text": [
      "Training Step: 149  | total loss: \u001b[1m\u001b[32m0.68546\u001b[0m\u001b[0m\n\u001b[2K\r| SGD | epoch: 000 | loss: 0.68546 - acc: 0.5507 -- iter: 19072/20250\n"
     ]
    },
    {
     "name": "stdout",
     "output_type": "stream",
     "text": [
      "Training Step: 150  | total loss: \u001b[1m\u001b[32m0.68568\u001b[0m\u001b[0m\n\u001b[2K\r| SGD | epoch: 000 | loss: 0.68568 - acc: 0.5605 -- iter: 19200/20250\n"
     ]
    },
    {
     "name": "stdout",
     "output_type": "stream",
     "text": [
      "Training Step: 151  | total loss: \u001b[1m\u001b[32m0.68492\u001b[0m\u001b[0m\n\u001b[2K\r| SGD | epoch: 000 | loss: 0.68492 - acc: 0.5662 -- iter: 19328/20250\n"
     ]
    },
    {
     "name": "stdout",
     "output_type": "stream",
     "text": [
      "Training Step: 152  | total loss: \u001b[1m\u001b[32m0.68448\u001b[0m\u001b[0m\n\u001b[2K\r| SGD | epoch: 000 | loss: 0.68448 - acc: 0.5674 -- iter: 19456/20250\n"
     ]
    },
    {
     "name": "stdout",
     "output_type": "stream",
     "text": [
      "Training Step: 153  | total loss: \u001b[1m\u001b[32m0.68500\u001b[0m\u001b[0m\n\u001b[2K\r| SGD | epoch: 000 | loss: 0.68500 - acc: 0.5630 -- iter: 19584/20250\n"
     ]
    },
    {
     "name": "stdout",
     "output_type": "stream",
     "text": [
      "Training Step: 154  | total loss: \u001b[1m\u001b[32m0.68430\u001b[0m\u001b[0m\n\u001b[2K\r| SGD | epoch: 000 | loss: 0.68430 - acc: 0.5621 -- iter: 19712/20250\n"
     ]
    },
    {
     "name": "stdout",
     "output_type": "stream",
     "text": [
      "Training Step: 155  | total loss: \u001b[1m\u001b[32m0.68443\u001b[0m\u001b[0m\n\u001b[2K\r| SGD | epoch: 000 | loss: 0.68443 - acc: 0.5567 -- iter: 19840/20250\n"
     ]
    },
    {
     "name": "stdout",
     "output_type": "stream",
     "text": [
      "Training Step: 156  | total loss: \u001b[1m\u001b[32m0.68479\u001b[0m\u001b[0m\n\u001b[2K\r| SGD | epoch: 000 | loss: 0.68479 - acc: 0.5604 -- iter: 19968/20250\n"
     ]
    },
    {
     "name": "stdout",
     "output_type": "stream",
     "text": [
      "Training Step: 157  | total loss: \u001b[1m\u001b[32m0.68248\u001b[0m\u001b[0m\n\u001b[2K\r| SGD | epoch: 000 | loss: 0.68248 - acc: 0.5692 -- iter: 20096/20250\n"
     ]
    },
    {
     "name": "stdout",
     "output_type": "stream",
     "text": [
      "Training Step: 158  | total loss: \u001b[1m\u001b[32m0.68080\u001b[0m\u001b[0m\n\u001b[2K\r| SGD | epoch: 000 | loss: 0.68080 - acc: 0.5795 -- iter: 20224/20250\n"
     ]
    },
    {
     "name": "stdout",
     "output_type": "stream",
     "text": [
      "Training Step: 159  | total loss: \u001b[1m\u001b[32m0.68006\u001b[0m\u001b[0m\n\u001b[2K\r| SGD | epoch: 001 | loss: 0.68006 - acc: 0.5809 | val_loss: 0.68785 - val_acc: 0.4853 -- iter: 20250/20250\n"
     ]
    },
    {
     "name": "stdout",
     "output_type": "stream",
     "text": [
      "Training Step: 159  | total loss: \u001b[1m\u001b[32m0.68006\u001b[0m\u001b[0m\n\u001b[2K\r| SGD | epoch: 001 | loss: 0.68006 - acc: 0.5809 | val_loss: 0.68785 - val_acc: 0.4853 -- iter: 20250/20250\n--\n"
     ]
    },
    {
     "name": "stdout",
     "output_type": "stream",
     "text": [
      "Training Step: 160  | total loss: \u001b[1m\u001b[32m0.68428\u001b[0m\u001b[0m\n\u001b[2K\r| SGD | epoch: 001 | loss: 0.68428 - acc: 0.5613 -- iter: 00128/20250\n"
     ]
    },
    {
     "name": "stdout",
     "output_type": "stream",
     "text": [
      "Training Step: 161  | total loss: \u001b[1m\u001b[32m0.68300\u001b[0m\u001b[0m\n\u001b[2K\r| SGD | epoch: 001 | loss: 0.68300 - acc: 0.5705 -- iter: 00256/20250\n"
     ]
    },
    {
     "name": "stdout",
     "output_type": "stream",
     "text": [
      "Training Step: 162  | total loss: \u001b[1m\u001b[32m0.68264\u001b[0m\u001b[0m\n\u001b[2K\r| SGD | epoch: 001 | loss: 0.68264 - acc: 0.5643 -- iter: 00384/20250\n"
     ]
    },
    {
     "name": "stdout",
     "output_type": "stream",
     "text": [
      "Training Step: 163  | total loss: \u001b[1m\u001b[32m0.68449\u001b[0m\u001b[0m\n\u001b[2K\r| SGD | epoch: 001 | loss: 0.68449 - acc: 0.5469 -- iter: 00512/20250\n"
     ]
    },
    {
     "name": "stdout",
     "output_type": "stream",
     "text": [
      "Training Step: 164  | total loss: \u001b[1m\u001b[32m0.68416\u001b[0m\u001b[0m\n\u001b[2K\r| SGD | epoch: 001 | loss: 0.68416 - acc: 0.5516 -- iter: 00640/20250\n"
     ]
    },
    {
     "name": "stdout",
     "output_type": "stream",
     "text": [
      "Training Step: 165  | total loss: \u001b[1m\u001b[32m0.68540\u001b[0m\u001b[0m\n\u001b[2K\r| SGD | epoch: 001 | loss: 0.68540 - acc: 0.5433 -- iter: 00768/20250\n"
     ]
    },
    {
     "name": "stdout",
     "output_type": "stream",
     "text": [
      "Training Step: 166  | total loss: \u001b[1m\u001b[32m0.68587\u001b[0m\u001b[0m\n\u001b[2K\r| SGD | epoch: 001 | loss: 0.68587 - acc: 0.5421 -- iter: 00896/20250\n"
     ]
    },
    {
     "name": "stdout",
     "output_type": "stream",
     "text": [
      "Training Step: 167  | total loss: \u001b[1m\u001b[32m0.68598\u001b[0m\u001b[0m\n\u001b[2K\r| SGD | epoch: 001 | loss: 0.68598 - acc: 0.5410 -- iter: 01024/20250\n"
     ]
    },
    {
     "name": "stdout",
     "output_type": "stream",
     "text": [
      "Training Step: 168  | total loss: \u001b[1m\u001b[32m0.68438\u001b[0m\u001b[0m\n\u001b[2K\r| SGD | epoch: 001 | loss: 0.68438 - acc: 0.5447 -- iter: 01152/20250\n"
     ]
    },
    {
     "name": "stdout",
     "output_type": "stream",
     "text": [
      "Training Step: 169  | total loss: \u001b[1m\u001b[32m0.68143\u001b[0m\u001b[0m\n\u001b[2K\r| SGD | epoch: 001 | loss: 0.68143 - acc: 0.5449 -- iter: 01280/20250\n"
     ]
    },
    {
     "name": "stdout",
     "output_type": "stream",
     "text": [
      "Training Step: 170  | total loss: \u001b[1m\u001b[32m0.67851\u001b[0m\u001b[0m\n\u001b[2K\r| SGD | epoch: 001 | loss: 0.67851 - acc: 0.5498 -- iter: 01408/20250\n"
     ]
    },
    {
     "name": "stdout",
     "output_type": "stream",
     "text": [
      "Training Step: 171  | total loss: \u001b[1m\u001b[32m0.67846\u001b[0m\u001b[0m\n\u001b[2K\r| SGD | epoch: 001 | loss: 0.67846 - acc: 0.5472 -- iter: 01536/20250\n"
     ]
    },
    {
     "name": "stdout",
     "output_type": "stream",
     "text": [
      "Training Step: 172  | total loss: \u001b[1m\u001b[32m0.67877\u001b[0m\u001b[0m\n\u001b[2K\r| SGD | epoch: 001 | loss: 0.67877 - acc: 0.5581 -- iter: 01664/20250\n"
     ]
    },
    {
     "name": "stdout",
     "output_type": "stream",
     "text": [
      "Training Step: 173  | total loss: \u001b[1m\u001b[32m0.67829\u001b[0m\u001b[0m\n\u001b[2K\r| SGD | epoch: 001 | loss: 0.67829 - acc: 0.5593 -- iter: 01792/20250\n"
     ]
    },
    {
     "name": "stdout",
     "output_type": "stream",
     "text": [
      "Training Step: 174  | total loss: \u001b[1m\u001b[32m0.67965\u001b[0m\u001b[0m\n\u001b[2K\r| SGD | epoch: 001 | loss: 0.67965 - acc: 0.5534 -- iter: 01920/20250\n"
     ]
    },
    {
     "name": "stdout",
     "output_type": "stream",
     "text": [
      "Training Step: 175  | total loss: \u001b[1m\u001b[32m0.68056\u001b[0m\u001b[0m\n\u001b[2K\r| SGD | epoch: 001 | loss: 0.68056 - acc: 0.5527 -- iter: 02048/20250\n"
     ]
    },
    {
     "name": "stdout",
     "output_type": "stream",
     "text": [
      "Training Step: 176  | total loss: \u001b[1m\u001b[32m0.68080\u001b[0m\u001b[0m\n\u001b[2K\r| SGD | epoch: 001 | loss: 0.68080 - acc: 0.5553 -- iter: 02176/20250\n"
     ]
    },
    {
     "name": "stdout",
     "output_type": "stream",
     "text": [
      "Training Step: 177  | total loss: \u001b[1m\u001b[32m0.67899\u001b[0m\u001b[0m\n\u001b[2K\r| SGD | epoch: 001 | loss: 0.67899 - acc: 0.5576 -- iter: 02304/20250\n"
     ]
    },
    {
     "name": "stdout",
     "output_type": "stream",
     "text": [
      "Training Step: 178  | total loss: \u001b[1m\u001b[32m0.68069\u001b[0m\u001b[0m\n\u001b[2K\r| SGD | epoch: 001 | loss: 0.68069 - acc: 0.5502 -- iter: 02432/20250\n"
     ]
    },
    {
     "name": "stdout",
     "output_type": "stream",
     "text": [
      "Training Step: 179  | total loss: \u001b[1m\u001b[32m0.68282\u001b[0m\u001b[0m\n\u001b[2K\r| SGD | epoch: 001 | loss: 0.68282 - acc: 0.5468 -- iter: 02560/20250\n"
     ]
    },
    {
     "name": "stdout",
     "output_type": "stream",
     "text": [
      "Training Step: 180  | total loss: \u001b[1m\u001b[32m0.68301\u001b[0m\u001b[0m\n\u001b[2K\r| SGD | epoch: 001 | loss: 0.68301 - acc: 0.5546 -- iter: 02688/20250\n"
     ]
    },
    {
     "name": "stdout",
     "output_type": "stream",
     "text": [
      "Training Step: 181  | total loss: \u001b[1m\u001b[32m0.68053\u001b[0m\u001b[0m\n\u001b[2K\r| SGD | epoch: 001 | loss: 0.68053 - acc: 0.5663 -- iter: 02816/20250\n"
     ]
    },
    {
     "name": "stdout",
     "output_type": "stream",
     "text": [
      "Training Step: 182  | total loss: \u001b[1m\u001b[32m0.67924\u001b[0m\u001b[0m\n\u001b[2K\r| SGD | epoch: 001 | loss: 0.67924 - acc: 0.5675 -- iter: 02944/20250\n"
     ]
    },
    {
     "name": "stdout",
     "output_type": "stream",
     "text": [
      "Training Step: 183  | total loss: \u001b[1m\u001b[32m0.67897\u001b[0m\u001b[0m\n\u001b[2K\r| SGD | epoch: 001 | loss: 0.67897 - acc: 0.5678 -- iter: 03072/20250\n"
     ]
    },
    {
     "name": "stdout",
     "output_type": "stream",
     "text": [
      "Training Step: 184  | total loss: \u001b[1m\u001b[32m0.67630\u001b[0m\u001b[0m\n\u001b[2K\r| SGD | epoch: 001 | loss: 0.67630 - acc: 0.5696 -- iter: 03200/20250\n"
     ]
    },
    {
     "name": "stdout",
     "output_type": "stream",
     "text": [
      "Training Step: 185  | total loss: \u001b[1m\u001b[32m0.67556\u001b[0m\u001b[0m\n\u001b[2K\r| SGD | epoch: 001 | loss: 0.67556 - acc: 0.5712 -- iter: 03328/20250\n"
     ]
    },
    {
     "name": "stdout",
     "output_type": "stream",
     "text": [
      "Training Step: 186  | total loss: \u001b[1m\u001b[32m0.69703\u001b[0m\u001b[0m\n\u001b[2K\r| SGD | epoch: 001 | loss: 0.69703 - acc: 0.5586 -- iter: 03456/20250\n"
     ]
    },
    {
     "name": "stdout",
     "output_type": "stream",
     "text": [
      "Training Step: 187  | total loss: \u001b[1m\u001b[32m0.69739\u001b[0m\u001b[0m\n\u001b[2K\r| SGD | epoch: 001 | loss: 0.69739 - acc: 0.5504 -- iter: 03584/20250\n"
     ]
    },
    {
     "name": "stdout",
     "output_type": "stream",
     "text": [
      "Training Step: 188  | total loss: \u001b[1m\u001b[32m0.69635\u001b[0m\u001b[0m\n\u001b[2K\r| SGD | epoch: 001 | loss: 0.69635 - acc: 0.5470 -- iter: 03712/20250\n"
     ]
    },
    {
     "name": "stdout",
     "output_type": "stream",
     "text": [
      "Training Step: 189  | total loss: \u001b[1m\u001b[32m0.69482\u001b[0m\u001b[0m\n\u001b[2K\r| SGD | epoch: 001 | loss: 0.69482 - acc: 0.5493 -- iter: 03840/20250\n"
     ]
    },
    {
     "name": "stdout",
     "output_type": "stream",
     "text": [
      "Training Step: 190  | total loss: \u001b[1m\u001b[32m0.69367\u001b[0m\u001b[0m\n\u001b[2K\r| SGD | epoch: 001 | loss: 0.69367 - acc: 0.5459 -- iter: 03968/20250\n"
     ]
    },
    {
     "name": "stdout",
     "output_type": "stream",
     "text": [
      "Training Step: 191  | total loss: \u001b[1m\u001b[32m0.69489\u001b[0m\u001b[0m\n\u001b[2K\r| SGD | epoch: 001 | loss: 0.69489 - acc: 0.5343 -- iter: 04096/20250\n"
     ]
    },
    {
     "name": "stdout",
     "output_type": "stream",
     "text": [
      "Training Step: 192  | total loss: \u001b[1m\u001b[32m0.69453\u001b[0m\u001b[0m\n\u001b[2K\r| SGD | epoch: 001 | loss: 0.69453 - acc: 0.5332 -- iter: 04224/20250\n"
     ]
    },
    {
     "name": "stdout",
     "output_type": "stream",
     "text": [
      "Training Step: 193  | total loss: \u001b[1m\u001b[32m0.69449\u001b[0m\u001b[0m\n\u001b[2K\r| SGD | epoch: 001 | loss: 0.69449 - acc: 0.5252 -- iter: 04352/20250\n"
     ]
    },
    {
     "name": "stdout",
     "output_type": "stream",
     "text": [
      "Training Step: 194  | total loss: \u001b[1m\u001b[32m0.69438\u001b[0m\u001b[0m\n\u001b[2K\r| SGD | epoch: 001 | loss: 0.69438 - acc: 0.5157 -- iter: 04480/20250\n"
     ]
    },
    {
     "name": "stdout",
     "output_type": "stream",
     "text": [
      "Training Step: 195  | total loss: \u001b[1m\u001b[32m0.69394\u001b[0m\u001b[0m\n\u001b[2K\r| SGD | epoch: 001 | loss: 0.69394 - acc: 0.5242 -- iter: 04608/20250\n"
     ]
    },
    {
     "name": "stdout",
     "output_type": "stream",
     "text": [
      "Training Step: 196  | total loss: \u001b[1m\u001b[32m0.69320\u001b[0m\u001b[0m\n\u001b[2K\r| SGD | epoch: 001 | loss: 0.69320 - acc: 0.5320 -- iter: 04736/20250\n"
     ]
    },
    {
     "name": "stdout",
     "output_type": "stream",
     "text": [
      "Training Step: 197  | total loss: \u001b[1m\u001b[32m0.69200\u001b[0m\u001b[0m\n\u001b[2K\r| SGD | epoch: 001 | loss: 0.69200 - acc: 0.5421 -- iter: 04864/20250\n"
     ]
    },
    {
     "name": "stdout",
     "output_type": "stream",
     "text": [
      "Training Step: 198  | total loss: \u001b[1m\u001b[32m0.69017\u001b[0m\u001b[0m\n\u001b[2K\r| SGD | epoch: 001 | loss: 0.69017 - acc: 0.5504 -- iter: 04992/20250\n"
     ]
    },
    {
     "name": "stdout",
     "output_type": "stream",
     "text": [
      "Training Step: 199  | total loss: \u001b[1m\u001b[32m0.68904\u001b[0m\u001b[0m\n\u001b[2K\r| SGD | epoch: 001 | loss: 0.68904 - acc: 0.5484 -- iter: 05120/20250\n"
     ]
    },
    {
     "name": "stdout",
     "output_type": "stream",
     "text": [
      "Training Step: 200  | total loss: \u001b[1m\u001b[32m0.68827\u001b[0m\u001b[0m\n\u001b[2K\r| SGD | epoch: 001 | loss: 0.68827 - acc: 0.5545 -- iter: 05248/20250\n"
     ]
    },
    {
     "name": "stdout",
     "output_type": "stream",
     "text": [
      "Training Step: 201  | total loss: \u001b[1m\u001b[32m0.69348\u001b[0m\u001b[0m\n\u001b[2K\r| SGD | epoch: 001 | loss: 0.69348 - acc: 0.5506 -- iter: 05376/20250\n"
     ]
    },
    {
     "name": "stdout",
     "output_type": "stream",
     "text": [
      "Training Step: 202  | total loss: \u001b[1m\u001b[32m0.70348\u001b[0m\u001b[0m\n\u001b[2K\r| SGD | epoch: 001 | loss: 0.70348 - acc: 0.5432 -- iter: 05504/20250\n"
     ]
    },
    {
     "name": "stdout",
     "output_type": "stream",
     "text": [
      "Training Step: 203  | total loss: \u001b[1m\u001b[32m0.70232\u001b[0m\u001b[0m\n\u001b[2K\r| SGD | epoch: 001 | loss: 0.70232 - acc: 0.5436 -- iter: 05632/20250\n"
     ]
    },
    {
     "name": "stdout",
     "output_type": "stream",
     "text": [
      "Training Step: 204  | total loss: \u001b[1m\u001b[32m0.70121\u001b[0m\u001b[0m\n\u001b[2K\r| SGD | epoch: 001 | loss: 0.70121 - acc: 0.5447 -- iter: 05760/20250\n"
     ]
    },
    {
     "name": "stdout",
     "output_type": "stream",
     "text": [
      "Training Step: 205  | total loss: \u001b[1m\u001b[32m0.69958\u001b[0m\u001b[0m\n\u001b[2K\r| SGD | epoch: 001 | loss: 0.69958 - acc: 0.5426 -- iter: 05888/20250\n"
     ]
    },
    {
     "name": "stdout",
     "output_type": "stream",
     "text": [
      "Training Step: 206  | total loss: \u001b[1m\u001b[32m0.69793\u001b[0m\u001b[0m\n\u001b[2K\r| SGD | epoch: 001 | loss: 0.69793 - acc: 0.5477 -- iter: 06016/20250\n"
     ]
    },
    {
     "name": "stdout",
     "output_type": "stream",
     "text": [
      "Training Step: 207  | total loss: \u001b[1m\u001b[32m0.69772\u001b[0m\u001b[0m\n\u001b[2K\r| SGD | epoch: 001 | loss: 0.69772 - acc: 0.5359 -- iter: 06144/20250\n"
     ]
    },
    {
     "name": "stdout",
     "output_type": "stream",
     "text": [
      "Training Step: 208  | total loss: \u001b[1m\u001b[32m0.69663\u001b[0m\u001b[0m\n\u001b[2K\r| SGD | epoch: 001 | loss: 0.69663 - acc: 0.5378 -- iter: 06272/20250\n"
     ]
    },
    {
     "name": "stdout",
     "output_type": "stream",
     "text": [
      "Training Step: 209  | total loss: \u001b[1m\u001b[32m0.69615\u001b[0m\u001b[0m\n\u001b[2K\r| SGD | epoch: 001 | loss: 0.69615 - acc: 0.5340 -- iter: 06400/20250\n"
     ]
    },
    {
     "name": "stdout",
     "output_type": "stream",
     "text": [
      "Training Step: 210  | total loss: \u001b[1m\u001b[32m0.69517\u001b[0m\u001b[0m\n\u001b[2K\r| SGD | epoch: 001 | loss: 0.69517 - acc: 0.5392 -- iter: 06528/20250\n"
     ]
    },
    {
     "name": "stdout",
     "output_type": "stream",
     "text": [
      "Training Step: 211  | total loss: \u001b[1m\u001b[32m0.69389\u001b[0m\u001b[0m\n\u001b[2K\r| SGD | epoch: 001 | loss: 0.69389 - acc: 0.5361 -- iter: 06656/20250\n"
     ]
    },
    {
     "name": "stdout",
     "output_type": "stream",
     "text": [
      "Training Step: 212  | total loss: \u001b[1m\u001b[32m0.69286\u001b[0m\u001b[0m\n\u001b[2K\r| SGD | epoch: 001 | loss: 0.69286 - acc: 0.5324 -- iter: 06784/20250\n"
     ]
    },
    {
     "name": "stdout",
     "output_type": "stream",
     "text": [
      "Training Step: 213  | total loss: \u001b[1m\u001b[32m0.69281\u001b[0m\u001b[0m\n\u001b[2K\r| SGD | epoch: 001 | loss: 0.69281 - acc: 0.5331 -- iter: 06912/20250\n"
     ]
    },
    {
     "name": "stdout",
     "output_type": "stream",
     "text": [
      "Training Step: 214  | total loss: \u001b[1m\u001b[32m0.69258\u001b[0m\u001b[0m\n\u001b[2K\r| SGD | epoch: 001 | loss: 0.69258 - acc: 0.5306 -- iter: 07040/20250\n"
     ]
    },
    {
     "name": "stdout",
     "output_type": "stream",
     "text": [
      "Training Step: 215  | total loss: \u001b[1m\u001b[32m0.69214\u001b[0m\u001b[0m\n\u001b[2K\r| SGD | epoch: 001 | loss: 0.69214 - acc: 0.5361 -- iter: 07168/20250\n"
     ]
    },
    {
     "name": "stdout",
     "output_type": "stream",
     "text": [
      "Training Step: 216  | total loss: \u001b[1m\u001b[32m0.69125\u001b[0m\u001b[0m\n\u001b[2K\r| SGD | epoch: 001 | loss: 0.69125 - acc: 0.5473 -- iter: 07296/20250\n"
     ]
    },
    {
     "name": "stdout",
     "output_type": "stream",
     "text": [
      "Training Step: 217  | total loss: \u001b[1m\u001b[32m0.69028\u001b[0m\u001b[0m\n\u001b[2K\r| SGD | epoch: 001 | loss: 0.69028 - acc: 0.5457 -- iter: 07424/20250\n"
     ]
    },
    {
     "name": "stdout",
     "output_type": "stream",
     "text": [
      "Training Step: 218  | total loss: \u001b[1m\u001b[32m0.69110\u001b[0m\u001b[0m\n\u001b[2K\r| SGD | epoch: 001 | loss: 0.69110 - acc: 0.5412 -- iter: 07552/20250\n"
     ]
    },
    {
     "name": "stdout",
     "output_type": "stream",
     "text": [
      "Training Step: 219  | total loss: \u001b[1m\u001b[32m0.69233\u001b[0m\u001b[0m\n\u001b[2K\r| SGD | epoch: 001 | loss: 0.69233 - acc: 0.5339 -- iter: 07680/20250\n"
     ]
    },
    {
     "name": "stdout",
     "output_type": "stream",
     "text": [
      "Training Step: 220  | total loss: \u001b[1m\u001b[32m0.69183\u001b[0m\u001b[0m\n\u001b[2K\r| SGD | epoch: 001 | loss: 0.69183 - acc: 0.5337 -- iter: 07808/20250\n"
     ]
    },
    {
     "name": "stdout",
     "output_type": "stream",
     "text": [
      "Training Step: 221  | total loss: \u001b[1m\u001b[32m0.69062\u001b[0m\u001b[0m\n\u001b[2K\r| SGD | epoch: 001 | loss: 0.69062 - acc: 0.5436 -- iter: 07936/20250\n"
     ]
    },
    {
     "name": "stdout",
     "output_type": "stream",
     "text": [
      "Training Step: 222  | total loss: \u001b[1m\u001b[32m0.68859\u001b[0m\u001b[0m\n\u001b[2K\r| SGD | epoch: 001 | loss: 0.68859 - acc: 0.5525 -- iter: 08064/20250\n"
     ]
    },
    {
     "name": "stdout",
     "output_type": "stream",
     "text": [
      "Training Step: 223  | total loss: \u001b[1m\u001b[32m0.68883\u001b[0m\u001b[0m\n\u001b[2K\r| SGD | epoch: 001 | loss: 0.68883 - acc: 0.5504 -- iter: 08192/20250\n"
     ]
    },
    {
     "name": "stdout",
     "output_type": "stream",
     "text": [
      "Training Step: 224  | total loss: \u001b[1m\u001b[32m0.69309\u001b[0m\u001b[0m\n\u001b[2K\r| SGD | epoch: 001 | loss: 0.69309 - acc: 0.5453 -- iter: 08320/20250\n"
     ]
    },
    {
     "name": "stdout",
     "output_type": "stream",
     "text": [
      "Training Step: 225  | total loss: \u001b[1m\u001b[32m0.69285\u001b[0m\u001b[0m\n\u001b[2K\r| SGD | epoch: 001 | loss: 0.69285 - acc: 0.5447 -- iter: 08448/20250\n"
     ]
    },
    {
     "name": "stdout",
     "output_type": "stream",
     "text": [
      "Training Step: 226  | total loss: \u001b[1m\u001b[32m0.69260\u001b[0m\u001b[0m\n\u001b[2K\r| SGD | epoch: 001 | loss: 0.69260 - acc: 0.5465 -- iter: 08576/20250\n"
     ]
    },
    {
     "name": "stdout",
     "output_type": "stream",
     "text": [
      "Training Step: 227  | total loss: \u001b[1m\u001b[32m0.69190\u001b[0m\u001b[0m\n\u001b[2K\r| SGD | epoch: 001 | loss: 0.69190 - acc: 0.5559 -- iter: 08704/20250\n"
     ]
    },
    {
     "name": "stdout",
     "output_type": "stream",
     "text": [
      "Training Step: 228  | total loss: \u001b[1m\u001b[32m0.69074\u001b[0m\u001b[0m\n\u001b[2K\r| SGD | epoch: 001 | loss: 0.69074 - acc: 0.5698 -- iter: 08832/20250\n"
     ]
    },
    {
     "name": "stdout",
     "output_type": "stream",
     "text": [
      "Training Step: 229  | total loss: \u001b[1m\u001b[32m0.68938\u001b[0m\u001b[0m\n\u001b[2K\r| SGD | epoch: 001 | loss: 0.68938 - acc: 0.5691 -- iter: 08960/20250\n"
     ]
    },
    {
     "name": "stdout",
     "output_type": "stream",
     "text": [
      "Training Step: 230  | total loss: \u001b[1m\u001b[32m0.68713\u001b[0m\u001b[0m\n\u001b[2K\r| SGD | epoch: 001 | loss: 0.68713 - acc: 0.5747 -- iter: 09088/20250\n"
     ]
    },
    {
     "name": "stdout",
     "output_type": "stream",
     "text": [
      "Training Step: 231  | total loss: \u001b[1m\u001b[32m0.68439\u001b[0m\u001b[0m\n\u001b[2K\r| SGD | epoch: 001 | loss: 0.68439 - acc: 0.5805 -- iter: 09216/20250\n"
     ]
    },
    {
     "name": "stdout",
     "output_type": "stream",
     "text": [
      "Training Step: 232  | total loss: \u001b[1m\u001b[32m0.68174\u001b[0m\u001b[0m\n\u001b[2K\r| SGD | epoch: 001 | loss: 0.68174 - acc: 0.5865 -- iter: 09344/20250\n"
     ]
    },
    {
     "name": "stdout",
     "output_type": "stream",
     "text": [
      "Training Step: 233  | total loss: \u001b[1m\u001b[32m0.68404\u001b[0m\u001b[0m\n\u001b[2K\r| SGD | epoch: 001 | loss: 0.68404 - acc: 0.5802 -- iter: 09472/20250\n"
     ]
    },
    {
     "name": "stdout",
     "output_type": "stream",
     "text": [
      "Training Step: 234  | total loss: \u001b[1m\u001b[32m0.74892\u001b[0m\u001b[0m\n\u001b[2K\r| SGD | epoch: 001 | loss: 0.74892 - acc: 0.5753 -- iter: 09600/20250\n"
     ]
    },
    {
     "name": "stdout",
     "output_type": "stream",
     "text": [
      "Training Step: 235  | total loss: \u001b[1m\u001b[32m0.74336\u001b[0m\u001b[0m\n\u001b[2K\r| SGD | epoch: 001 | loss: 0.74336 - acc: 0.5733 -- iter: 09728/20250\n"
     ]
    },
    {
     "name": "stdout",
     "output_type": "stream",
     "text": [
      "Training Step: 236  | total loss: \u001b[1m\u001b[32m0.73836\u001b[0m\u001b[0m\n\u001b[2K\r| SGD | epoch: 001 | loss: 0.73836 - acc: 0.5628 -- iter: 09856/20250\n"
     ]
    },
    {
     "name": "stdout",
     "output_type": "stream",
     "text": [
      "Training Step: 237  | total loss: \u001b[1m\u001b[32m0.73355\u001b[0m\u001b[0m\n\u001b[2K\r| SGD | epoch: 001 | loss: 0.73355 - acc: 0.5581 -- iter: 09984/20250\n"
     ]
    },
    {
     "name": "stdout",
     "output_type": "stream",
     "text": [
      "Training Step: 238  | total loss: \u001b[1m\u001b[32m0.72911\u001b[0m\u001b[0m\n\u001b[2K\r| SGD | epoch: 001 | loss: 0.72911 - acc: 0.5577 -- iter: 10112/20250\n"
     ]
    },
    {
     "name": "stdout",
     "output_type": "stream",
     "text": [
      "Training Step: 239  | total loss: \u001b[1m\u001b[32m0.72514\u001b[0m\u001b[0m\n\u001b[2K\r| SGD | epoch: 001 | loss: 0.72514 - acc: 0.5551 -- iter: 10240/20250\n"
     ]
    },
    {
     "name": "stdout",
     "output_type": "stream",
     "text": [
      "Training Step: 240  | total loss: \u001b[1m\u001b[32m0.72203\u001b[0m\u001b[0m\n\u001b[2K\r| SGD | epoch: 001 | loss: 0.72203 - acc: 0.5457 -- iter: 10368/20250\n"
     ]
    },
    {
     "name": "stdout",
     "output_type": "stream",
     "text": [
      "Training Step: 241  | total loss: \u001b[1m\u001b[32m0.71897\u001b[0m\u001b[0m\n\u001b[2K\r| SGD | epoch: 001 | loss: 0.71897 - acc: 0.5403 -- iter: 10496/20250\n"
     ]
    },
    {
     "name": "stdout",
     "output_type": "stream",
     "text": [
      "Training Step: 242  | total loss: \u001b[1m\u001b[32m0.71737\u001b[0m\u001b[0m\n\u001b[2K\r| SGD | epoch: 001 | loss: 0.71737 - acc: 0.5207 -- iter: 10624/20250\n"
     ]
    },
    {
     "name": "stdout",
     "output_type": "stream",
     "text": [
      "Training Step: 243  | total loss: \u001b[1m\u001b[32m0.71471\u001b[0m\u001b[0m\n\u001b[2K\r| SGD | epoch: 001 | loss: 0.71471 - acc: 0.5249 -- iter: 10752/20250\n"
     ]
    },
    {
     "name": "stdout",
     "output_type": "stream",
     "text": [
      "Training Step: 244  | total loss: \u001b[1m\u001b[32m0.71225\u001b[0m\u001b[0m\n\u001b[2K\r| SGD | epoch: 001 | loss: 0.71225 - acc: 0.5317 -- iter: 10880/20250\n"
     ]
    },
    {
     "name": "stdout",
     "output_type": "stream",
     "text": [
      "Training Step: 245  | total loss: \u001b[1m\u001b[32m0.71014\u001b[0m\u001b[0m\n\u001b[2K\r| SGD | epoch: 001 | loss: 0.71014 - acc: 0.5309 -- iter: 11008/20250\n"
     ]
    },
    {
     "name": "stdout",
     "output_type": "stream",
     "text": [
      "Training Step: 246  | total loss: \u001b[1m\u001b[32m0.70842\u001b[0m\u001b[0m\n\u001b[2K\r| SGD | epoch: 001 | loss: 0.70842 - acc: 0.5286 -- iter: 11136/20250\n"
     ]
    },
    {
     "name": "stdout",
     "output_type": "stream",
     "text": [
      "Training Step: 247  | total loss: \u001b[1m\u001b[32m0.70667\u001b[0m\u001b[0m\n\u001b[2K\r| SGD | epoch: 001 | loss: 0.70667 - acc: 0.5289 -- iter: 11264/20250\n"
     ]
    },
    {
     "name": "stdout",
     "output_type": "stream",
     "text": [
      "Training Step: 248  | total loss: \u001b[1m\u001b[32m0.70530\u001b[0m\u001b[0m\n\u001b[2K\r| SGD | epoch: 001 | loss: 0.70530 - acc: 0.5268 -- iter: 11392/20250\n"
     ]
    },
    {
     "name": "stdout",
     "output_type": "stream",
     "text": [
      "Training Step: 249  | total loss: \u001b[1m\u001b[32m0.70410\u001b[0m\u001b[0m\n\u001b[2K\r| SGD | epoch: 001 | loss: 0.70410 - acc: 0.5217 -- iter: 11520/20250\n"
     ]
    },
    {
     "name": "stdout",
     "output_type": "stream",
     "text": [
      "Training Step: 250  | total loss: \u001b[1m\u001b[32m0.70282\u001b[0m\u001b[0m\n\u001b[2K\r| SGD | epoch: 001 | loss: 0.70282 - acc: 0.5297 -- iter: 11648/20250\n"
     ]
    },
    {
     "name": "stdout",
     "output_type": "stream",
     "text": [
      "Training Step: 251  | total loss: \u001b[1m\u001b[32m0.70162\u001b[0m\u001b[0m\n\u001b[2K\r| SGD | epoch: 001 | loss: 0.70162 - acc: 0.5314 -- iter: 11776/20250\n"
     ]
    },
    {
     "name": "stdout",
     "output_type": "stream",
     "text": [
      "Training Step: 252  | total loss: \u001b[1m\u001b[32m0.70016\u001b[0m\u001b[0m\n\u001b[2K\r| SGD | epoch: 001 | loss: 0.70016 - acc: 0.5377 -- iter: 11904/20250\n"
     ]
    },
    {
     "name": "stdout",
     "output_type": "stream",
     "text": [
      "Training Step: 253  | total loss: \u001b[1m\u001b[32m0.69996\u001b[0m\u001b[0m\n\u001b[2K\r| SGD | epoch: 001 | loss: 0.69996 - acc: 0.5284 -- iter: 12032/20250\n"
     ]
    },
    {
     "name": "stdout",
     "output_type": "stream",
     "text": [
      "Training Step: 254  | total loss: \u001b[1m\u001b[32m0.69901\u001b[0m\u001b[0m\n\u001b[2K\r| SGD | epoch: 001 | loss: 0.69901 - acc: 0.5295 -- iter: 12160/20250\n"
     ]
    },
    {
     "name": "stdout",
     "output_type": "stream",
     "text": [
      "Training Step: 255  | total loss: \u001b[1m\u001b[32m0.69829\u001b[0m\u001b[0m\n\u001b[2K\r| SGD | epoch: 001 | loss: 0.69829 - acc: 0.5289 -- iter: 12288/20250\n"
     ]
    },
    {
     "name": "stdout",
     "output_type": "stream",
     "text": [
      "Training Step: 256  | total loss: \u001b[1m\u001b[32m0.69806\u001b[0m\u001b[0m\n\u001b[2K\r| SGD | epoch: 001 | loss: 0.69806 - acc: 0.5213 -- iter: 12416/20250\n"
     ]
    },
    {
     "name": "stdout",
     "output_type": "stream",
     "text": [
      "Training Step: 257  | total loss: \u001b[1m\u001b[32m0.69751\u001b[0m\u001b[0m\n\u001b[2K\r| SGD | epoch: 001 | loss: 0.69751 - acc: 0.5207 -- iter: 12544/20250\n"
     ]
    },
    {
     "name": "stdout",
     "output_type": "stream",
     "text": [
      "Training Step: 258  | total loss: \u001b[1m\u001b[32m0.69669\u001b[0m\u001b[0m\n\u001b[2K\r| SGD | epoch: 001 | loss: 0.69669 - acc: 0.5288 -- iter: 12672/20250\n"
     ]
    },
    {
     "name": "stdout",
     "output_type": "stream",
     "text": [
      "Training Step: 259  | total loss: \u001b[1m\u001b[32m0.69560\u001b[0m\u001b[0m\n\u001b[2K\r| SGD | epoch: 001 | loss: 0.69560 - acc: 0.5353 -- iter: 12800/20250\n"
     ]
    },
    {
     "name": "stdout",
     "output_type": "stream",
     "text": [
      "Training Step: 260  | total loss: \u001b[1m\u001b[32m0.69466\u001b[0m\u001b[0m\n\u001b[2K\r| SGD | epoch: 001 | loss: 0.69466 - acc: 0.5404 -- iter: 12928/20250\n"
     ]
    },
    {
     "name": "stdout",
     "output_type": "stream",
     "text": [
      "Training Step: 261  | total loss: \u001b[1m\u001b[32m0.69483\u001b[0m\u001b[0m\n\u001b[2K\r| SGD | epoch: 001 | loss: 0.69483 - acc: 0.5395 -- iter: 13056/20250\n"
     ]
    },
    {
     "name": "stdout",
     "output_type": "stream",
     "text": [
      "Training Step: 262  | total loss: \u001b[1m\u001b[32m0.69437\u001b[0m\u001b[0m\n\u001b[2K\r| SGD | epoch: 001 | loss: 0.69437 - acc: 0.5402 -- iter: 13184/20250\n"
     ]
    },
    {
     "name": "stdout",
     "output_type": "stream",
     "text": [
      "Training Step: 263  | total loss: \u001b[1m\u001b[32m0.69379\u001b[0m\u001b[0m\n\u001b[2K\r| SGD | epoch: 001 | loss: 0.69379 - acc: 0.5417 -- iter: 13312/20250\n"
     ]
    },
    {
     "name": "stdout",
     "output_type": "stream",
     "text": [
      "Training Step: 264  | total loss: \u001b[1m\u001b[32m0.69351\u001b[0m\u001b[0m\n\u001b[2K\r| SGD | epoch: 001 | loss: 0.69351 - acc: 0.5375 -- iter: 13440/20250\n"
     ]
    },
    {
     "name": "stdout",
     "output_type": "stream",
     "text": [
      "Training Step: 265  | total loss: \u001b[1m\u001b[32m0.69301\u001b[0m\u001b[0m\n\u001b[2K\r| SGD | epoch: 001 | loss: 0.69301 - acc: 0.5400 -- iter: 13568/20250\n"
     ]
    },
    {
     "name": "stdout",
     "output_type": "stream",
     "text": [
      "Training Step: 266  | total loss: \u001b[1m\u001b[32m0.69231\u001b[0m\u001b[0m\n\u001b[2K\r| SGD | epoch: 001 | loss: 0.69231 - acc: 0.5461 -- iter: 13696/20250\n"
     ]
    },
    {
     "name": "stdout",
     "output_type": "stream",
     "text": [
      "Training Step: 267  | total loss: \u001b[1m\u001b[32m0.69124\u001b[0m\u001b[0m\n\u001b[2K\r| SGD | epoch: 001 | loss: 0.69124 - acc: 0.5509 -- iter: 13824/20250\n"
     ]
    },
    {
     "name": "stdout",
     "output_type": "stream",
     "text": [
      "Training Step: 268  | total loss: \u001b[1m\u001b[32m0.69409\u001b[0m\u001b[0m\n\u001b[2K\r| SGD | epoch: 001 | loss: 0.69409 - acc: 0.5403 -- iter: 13952/20250\n"
     ]
    },
    {
     "name": "stdout",
     "output_type": "stream",
     "text": [
      "Training Step: 269  | total loss: \u001b[1m\u001b[32m0.69383\u001b[0m\u001b[0m\n\u001b[2K\r| SGD | epoch: 001 | loss: 0.69383 - acc: 0.5387 -- iter: 14080/20250\n"
     ]
    },
    {
     "name": "stdout",
     "output_type": "stream",
     "text": [
      "Training Step: 270  | total loss: \u001b[1m\u001b[32m0.69391\u001b[0m\u001b[0m\n\u001b[2K\r| SGD | epoch: 001 | loss: 0.69391 - acc: 0.5317 -- iter: 14208/20250\n"
     ]
    },
    {
     "name": "stdout",
     "output_type": "stream",
     "text": [
      "Training Step: 271  | total loss: \u001b[1m\u001b[32m0.69413\u001b[0m\u001b[0m\n\u001b[2K\r| SGD | epoch: 001 | loss: 0.69413 - acc: 0.5223 -- iter: 14336/20250\n"
     ]
    },
    {
     "name": "stdout",
     "output_type": "stream",
     "text": [
      "Training Step: 272  | total loss: \u001b[1m\u001b[32m0.69389\u001b[0m\u001b[0m\n\u001b[2K\r| SGD | epoch: 001 | loss: 0.69389 - acc: 0.5216 -- iter: 14464/20250\n"
     ]
    },
    {
     "name": "stdout",
     "output_type": "stream",
     "text": [
      "Training Step: 273  | total loss: \u001b[1m\u001b[32m0.69309\u001b[0m\u001b[0m\n\u001b[2K\r| SGD | epoch: 001 | loss: 0.69309 - acc: 0.5241 -- iter: 14592/20250\n"
     ]
    },
    {
     "name": "stdout",
     "output_type": "stream",
     "text": [
      "Training Step: 274  | total loss: \u001b[1m\u001b[32m0.69258\u001b[0m\u001b[0m\n\u001b[2K\r| SGD | epoch: 001 | loss: 0.69258 - acc: 0.5217 -- iter: 14720/20250\n"
     ]
    },
    {
     "name": "stdout",
     "output_type": "stream",
     "text": [
      "Training Step: 275  | total loss: \u001b[1m\u001b[32m0.69211\u001b[0m\u001b[0m\n\u001b[2K\r| SGD | epoch: 001 | loss: 0.69211 - acc: 0.5219 -- iter: 14848/20250\n"
     ]
    },
    {
     "name": "stdout",
     "output_type": "stream",
     "text": [
      "Training Step: 276  | total loss: \u001b[1m\u001b[32m0.69214\u001b[0m\u001b[0m\n\u001b[2K\r| SGD | epoch: 001 | loss: 0.69214 - acc: 0.5166 -- iter: 14976/20250\n"
     ]
    },
    {
     "name": "stdout",
     "output_type": "stream",
     "text": [
      "Training Step: 277  | total loss: \u001b[1m\u001b[32m0.69177\u001b[0m\u001b[0m\n\u001b[2K\r| SGD | epoch: 001 | loss: 0.69177 - acc: 0.5141 -- iter: 15104/20250\n"
     ]
    },
    {
     "name": "stdout",
     "output_type": "stream",
     "text": [
      "Training Step: 278  | total loss: \u001b[1m\u001b[32m0.69168\u001b[0m\u001b[0m\n\u001b[2K\r| SGD | epoch: 001 | loss: 0.69168 - acc: 0.5112 -- iter: 15232/20250\n"
     ]
    },
    {
     "name": "stdout",
     "output_type": "stream",
     "text": [
      "Training Step: 279  | total loss: \u001b[1m\u001b[32m0.69125\u001b[0m\u001b[0m\n\u001b[2K\r| SGD | epoch: 001 | loss: 0.69125 - acc: 0.5155 -- iter: 15360/20250\n"
     ]
    },
    {
     "name": "stdout",
     "output_type": "stream",
     "text": [
      "Training Step: 280  | total loss: \u001b[1m\u001b[32m0.68967\u001b[0m\u001b[0m\n\u001b[2K\r| SGD | epoch: 001 | loss: 0.68967 - acc: 0.5155 -- iter: 15488/20250\n"
     ]
    },
    {
     "name": "stdout",
     "output_type": "stream",
     "text": [
      "Training Step: 281  | total loss: \u001b[1m\u001b[32m0.68944\u001b[0m\u001b[0m\n\u001b[2K\r| SGD | epoch: 001 | loss: 0.68944 - acc: 0.5155 -- iter: 15616/20250\n"
     ]
    },
    {
     "name": "stdout",
     "output_type": "stream",
     "text": [
      "Training Step: 282  | total loss: \u001b[1m\u001b[32m0.68937\u001b[0m\u001b[0m\n\u001b[2K\r| SGD | epoch: 001 | loss: 0.68937 - acc: 0.5171 -- iter: 15744/20250\n"
     ]
    },
    {
     "name": "stdout",
     "output_type": "stream",
     "text": [
      "Training Step: 283  | total loss: \u001b[1m\u001b[32m0.68939\u001b[0m\u001b[0m\n\u001b[2K\r| SGD | epoch: 001 | loss: 0.68939 - acc: 0.5162 -- iter: 15872/20250\n"
     ]
    },
    {
     "name": "stdout",
     "output_type": "stream",
     "text": [
      "Training Step: 284  | total loss: \u001b[1m\u001b[32m0.68862\u001b[0m\u001b[0m\n\u001b[2K\r| SGD | epoch: 001 | loss: 0.68862 - acc: 0.5231 -- iter: 16000/20250\n"
     ]
    },
    {
     "name": "stdout",
     "output_type": "stream",
     "text": [
      "Training Step: 285  | total loss: \u001b[1m\u001b[32m0.68870\u001b[0m\u001b[0m\n\u001b[2K\r| SGD | epoch: 001 | loss: 0.68870 - acc: 0.5247 -- iter: 16128/20250\n"
     ]
    },
    {
     "name": "stdout",
     "output_type": "stream",
     "text": [
      "Training Step: 286  | total loss: \u001b[1m\u001b[32m0.68818\u001b[0m\u001b[0m\n\u001b[2K\r| SGD | epoch: 001 | loss: 0.68818 - acc: 0.5301 -- iter: 16256/20250\n"
     ]
    },
    {
     "name": "stdout",
     "output_type": "stream",
     "text": [
      "Training Step: 287  | total loss: \u001b[1m\u001b[32m0.68459\u001b[0m\u001b[0m\n\u001b[2K\r| SGD | epoch: 001 | loss: 0.68459 - acc: 0.5435 -- iter: 16384/20250\n"
     ]
    },
    {
     "name": "stdout",
     "output_type": "stream",
     "text": [
      "Training Step: 288  | total loss: \u001b[1m\u001b[32m0.69733\u001b[0m\u001b[0m\n\u001b[2K\r| SGD | epoch: 001 | loss: 0.69733 - acc: 0.5391 -- iter: 16512/20250\n"
     ]
    },
    {
     "name": "stdout",
     "output_type": "stream",
     "text": [
      "Training Step: 289  | total loss: \u001b[1m\u001b[32m0.69593\u001b[0m\u001b[0m\n\u001b[2K\r| SGD | epoch: 001 | loss: 0.69593 - acc: 0.5376 -- iter: 16640/20250\n"
     ]
    },
    {
     "name": "stdout",
     "output_type": "stream",
     "text": [
      "Training Step: 290  | total loss: \u001b[1m\u001b[32m0.69515\u001b[0m\u001b[0m\n\u001b[2K\r| SGD | epoch: 001 | loss: 0.69515 - acc: 0.5322 -- iter: 16768/20250\n"
     ]
    },
    {
     "name": "stdout",
     "output_type": "stream",
     "text": [
      "Training Step: 291  | total loss: \u001b[1m\u001b[32m0.69350\u001b[0m\u001b[0m\n\u001b[2K\r| SGD | epoch: 001 | loss: 0.69350 - acc: 0.5384 -- iter: 16896/20250\n"
     ]
    },
    {
     "name": "stdout",
     "output_type": "stream",
     "text": [
      "Training Step: 292  | total loss: \u001b[1m\u001b[32m0.69307\u001b[0m\u001b[0m\n\u001b[2K\r| SGD | epoch: 001 | loss: 0.69307 - acc: 0.5361 -- iter: 17024/20250\n"
     ]
    },
    {
     "name": "stdout",
     "output_type": "stream",
     "text": [
      "Training Step: 293  | total loss: \u001b[1m\u001b[32m0.69213\u001b[0m\u001b[0m\n\u001b[2K\r| SGD | epoch: 001 | loss: 0.69213 - acc: 0.5403 -- iter: 17152/20250\n"
     ]
    },
    {
     "name": "stdout",
     "output_type": "stream",
     "text": [
      "Training Step: 294  | total loss: \u001b[1m\u001b[32m0.69043\u001b[0m\u001b[0m\n\u001b[2K\r| SGD | epoch: 001 | loss: 0.69043 - acc: 0.5472 -- iter: 17280/20250\n"
     ]
    },
    {
     "name": "stdout",
     "output_type": "stream",
     "text": [
      "Training Step: 295  | total loss: \u001b[1m\u001b[32m0.68817\u001b[0m\u001b[0m\n\u001b[2K\r| SGD | epoch: 001 | loss: 0.68817 - acc: 0.5495 -- iter: 17408/20250\n"
     ]
    },
    {
     "name": "stdout",
     "output_type": "stream",
     "text": [
      "Training Step: 296  | total loss: \u001b[1m\u001b[32m0.68557\u001b[0m\u001b[0m\n\u001b[2K\r| SGD | epoch: 001 | loss: 0.68557 - acc: 0.5594 -- iter: 17536/20250\n"
     ]
    },
    {
     "name": "stdout",
     "output_type": "stream",
     "text": [
      "Training Step: 297  | total loss: \u001b[1m\u001b[32m0.68420\u001b[0m\u001b[0m\n\u001b[2K\r| SGD | epoch: 001 | loss: 0.68420 - acc: 0.5660 -- iter: 17664/20250\n"
     ]
    },
    {
     "name": "stdout",
     "output_type": "stream",
     "text": [
      "Training Step: 298  | total loss: \u001b[1m\u001b[32m0.69026\u001b[0m\u001b[0m\n\u001b[2K\r| SGD | epoch: 001 | loss: 0.69026 - acc: 0.5656 -- iter: 17792/20250\n"
     ]
    },
    {
     "name": "stdout",
     "output_type": "stream",
     "text": [
      "Training Step: 299  | total loss: \u001b[1m\u001b[32m0.69022\u001b[0m\u001b[0m\n\u001b[2K\r| SGD | epoch: 001 | loss: 0.69022 - acc: 0.5591 -- iter: 17920/20250\n"
     ]
    },
    {
     "name": "stdout",
     "output_type": "stream",
     "text": [
      "Training Step: 300  | total loss: \u001b[1m\u001b[32m0.68994\u001b[0m\u001b[0m\n\u001b[2K\r| SGD | epoch: 001 | loss: 0.68994 - acc: 0.5672 -- iter: 18048/20250\n"
     ]
    },
    {
     "name": "stdout",
     "output_type": "stream",
     "text": [
      "Training Step: 301  | total loss: \u001b[1m\u001b[32m0.68819\u001b[0m\u001b[0m\n\u001b[2K\r| SGD | epoch: 001 | loss: 0.68819 - acc: 0.5714 -- iter: 18176/20250\n"
     ]
    },
    {
     "name": "stdout",
     "output_type": "stream",
     "text": [
      "Training Step: 302  | total loss: \u001b[1m\u001b[32m0.68955\u001b[0m\u001b[0m\n\u001b[2K\r| SGD | epoch: 001 | loss: 0.68955 - acc: 0.5635 -- iter: 18304/20250\n"
     ]
    },
    {
     "name": "stdout",
     "output_type": "stream",
     "text": [
      "Training Step: 303  | total loss: \u001b[1m\u001b[32m0.68981\u001b[0m\u001b[0m\n\u001b[2K\r| SGD | epoch: 001 | loss: 0.68981 - acc: 0.5556 -- iter: 18432/20250\n"
     ]
    },
    {
     "name": "stdout",
     "output_type": "stream",
     "text": [
      "Training Step: 304  | total loss: \u001b[1m\u001b[32m0.68988\u001b[0m\u001b[0m\n\u001b[2K\r| SGD | epoch: 001 | loss: 0.68988 - acc: 0.5579 -- iter: 18560/20250\n"
     ]
    },
    {
     "name": "stdout",
     "output_type": "stream",
     "text": [
      "Training Step: 305  | total loss: \u001b[1m\u001b[32m0.68931\u001b[0m\u001b[0m\n\u001b[2K\r| SGD | epoch: 001 | loss: 0.68931 - acc: 0.5575 -- iter: 18688/20250\n"
     ]
    },
    {
     "name": "stdout",
     "output_type": "stream",
     "text": [
      "Training Step: 306  | total loss: \u001b[1m\u001b[32m0.68894\u001b[0m\u001b[0m\n\u001b[2K\r| SGD | epoch: 001 | loss: 0.68894 - acc: 0.5573 -- iter: 18816/20250\n"
     ]
    },
    {
     "name": "stdout",
     "output_type": "stream",
     "text": [
      "Training Step: 307  | total loss: \u001b[1m\u001b[32m0.69054\u001b[0m\u001b[0m\n\u001b[2K\r| SGD | epoch: 001 | loss: 0.69054 - acc: 0.5554 -- iter: 18944/20250\n"
     ]
    },
    {
     "name": "stdout",
     "output_type": "stream",
     "text": [
      "Training Step: 308  | total loss: \u001b[1m\u001b[32m0.69031\u001b[0m\u001b[0m\n\u001b[2K\r| SGD | epoch: 001 | loss: 0.69031 - acc: 0.5522 -- iter: 19072/20250\n"
     ]
    },
    {
     "name": "stdout",
     "output_type": "stream",
     "text": [
      "Training Step: 309  | total loss: \u001b[1m\u001b[32m0.68939\u001b[0m\u001b[0m\n\u001b[2K\r| SGD | epoch: 001 | loss: 0.68939 - acc: 0.5501 -- iter: 19200/20250\n"
     ]
    },
    {
     "name": "stdout",
     "output_type": "stream",
     "text": [
      "Training Step: 310  | total loss: \u001b[1m\u001b[32m0.69053\u001b[0m\u001b[0m\n\u001b[2K\r| SGD | epoch: 001 | loss: 0.69053 - acc: 0.5443 -- iter: 19328/20250\n"
     ]
    },
    {
     "name": "stdout",
     "output_type": "stream",
     "text": [
      "Training Step: 311  | total loss: \u001b[1m\u001b[32m0.69038\u001b[0m\u001b[0m\n\u001b[2K\r| SGD | epoch: 001 | loss: 0.69038 - acc: 0.5501 -- iter: 19456/20250\n"
     ]
    },
    {
     "name": "stdout",
     "output_type": "stream",
     "text": [
      "Training Step: 312  | total loss: \u001b[1m\u001b[32m0.68974\u001b[0m\u001b[0m\n\u001b[2K\r| SGD | epoch: 001 | loss: 0.68974 - acc: 0.5568 -- iter: 19584/20250\n"
     ]
    },
    {
     "name": "stdout",
     "output_type": "stream",
     "text": [
      "Training Step: 313  | total loss: \u001b[1m\u001b[32m0.68942\u001b[0m\u001b[0m\n\u001b[2K\r| SGD | epoch: 001 | loss: 0.68942 - acc: 0.5605 -- iter: 19712/20250\n"
     ]
    },
    {
     "name": "stdout",
     "output_type": "stream",
     "text": [
      "Training Step: 314  | total loss: \u001b[1m\u001b[32m0.68921\u001b[0m\u001b[0m\n\u001b[2K\r| SGD | epoch: 001 | loss: 0.68921 - acc: 0.5576 -- iter: 19840/20250\n"
     ]
    },
    {
     "name": "stdout",
     "output_type": "stream",
     "text": [
      "Training Step: 315  | total loss: \u001b[1m\u001b[32m0.68844\u001b[0m\u001b[0m\n\u001b[2K\r| SGD | epoch: 001 | loss: 0.68844 - acc: 0.5580 -- iter: 19968/20250\n"
     ]
    },
    {
     "name": "stdout",
     "output_type": "stream",
     "text": [
      "Training Step: 316  | total loss: \u001b[1m\u001b[32m0.68754\u001b[0m\u001b[0m\n\u001b[2K\r| SGD | epoch: 001 | loss: 0.68754 - acc: 0.5593 -- iter: 20096/20250\n"
     ]
    },
    {
     "name": "stdout",
     "output_type": "stream",
     "text": [
      "Training Step: 317  | total loss: \u001b[1m\u001b[32m0.68787\u001b[0m\u001b[0m\n\u001b[2K\r| SGD | epoch: 001 | loss: 0.68787 - acc: 0.5549 -- iter: 20224/20250\n"
     ]
    },
    {
     "name": "stdout",
     "output_type": "stream",
     "text": [
      "Training Step: 318  | total loss: \u001b[1m\u001b[32m0.68809\u001b[0m\u001b[0m\n\u001b[2K\r| SGD | epoch: 002 | loss: 0.68809 - acc: 0.5533 | val_loss: 0.68661 - val_acc: 0.5044 -- iter: 20250/20250\n"
     ]
    },
    {
     "name": "stdout",
     "output_type": "stream",
     "text": [
      "Training Step: 318  | total loss: \u001b[1m\u001b[32m0.68809\u001b[0m\u001b[0m\n\u001b[2K\r| SGD | epoch: 002 | loss: 0.68809 - acc: 0.5533 | val_loss: 0.68661 - val_acc: 0.5044 -- iter: 20250/20250\n--\n"
     ]
    },
    {
     "name": "stdout",
     "output_type": "stream",
     "text": [
      "Training Step: 319  | total loss: \u001b[1m\u001b[32m0.68776\u001b[0m\u001b[0m\n\u001b[2K\r| SGD | epoch: 002 | loss: 0.68776 - acc: 0.5589 -- iter: 00128/20250\n"
     ]
    },
    {
     "name": "stdout",
     "output_type": "stream",
     "text": [
      "Training Step: 320  | total loss: \u001b[1m\u001b[32m0.68485\u001b[0m\u001b[0m\n\u001b[2K\r| SGD | epoch: 002 | loss: 0.68485 - acc: 0.5684 -- iter: 00256/20250\n"
     ]
    },
    {
     "name": "stdout",
     "output_type": "stream",
     "text": [
      "Training Step: 321  | total loss: \u001b[1m\u001b[32m0.68102\u001b[0m\u001b[0m\n\u001b[2K\r| SGD | epoch: 002 | loss: 0.68102 - acc: 0.5693 -- iter: 00384/20250\n"
     ]
    },
    {
     "name": "stdout",
     "output_type": "stream",
     "text": [
      "Training Step: 322  | total loss: \u001b[1m\u001b[32m0.68768\u001b[0m\u001b[0m\n\u001b[2K\r| SGD | epoch: 002 | loss: 0.68768 - acc: 0.5577 -- iter: 00512/20250\n"
     ]
    },
    {
     "name": "stdout",
     "output_type": "stream",
     "text": [
      "Training Step: 323  | total loss: \u001b[1m\u001b[32m0.68749\u001b[0m\u001b[0m\n\u001b[2K\r| SGD | epoch: 002 | loss: 0.68749 - acc: 0.5566 -- iter: 00640/20250\n"
     ]
    },
    {
     "name": "stdout",
     "output_type": "stream",
     "text": [
      "Training Step: 324  | total loss: \u001b[1m\u001b[32m0.68730\u001b[0m\u001b[0m\n\u001b[2K\r| SGD | epoch: 002 | loss: 0.68730 - acc: 0.5587 -- iter: 00768/20250\n"
     ]
    },
    {
     "name": "stdout",
     "output_type": "stream",
     "text": [
      "Training Step: 325  | total loss: \u001b[1m\u001b[32m0.68632\u001b[0m\u001b[0m\n\u001b[2K\r| SGD | epoch: 002 | loss: 0.68632 - acc: 0.5575 -- iter: 00896/20250\n"
     ]
    },
    {
     "name": "stdout",
     "output_type": "stream",
     "text": [
      "Training Step: 326  | total loss: \u001b[1m\u001b[32m0.68422\u001b[0m\u001b[0m\n\u001b[2K\r| SGD | epoch: 002 | loss: 0.68422 - acc: 0.5627 -- iter: 01024/20250\n"
     ]
    },
    {
     "name": "stdout",
     "output_type": "stream",
     "text": [
      "Training Step: 327  | total loss: \u001b[1m\u001b[32m0.68645\u001b[0m\u001b[0m\n\u001b[2K\r| SGD | epoch: 002 | loss: 0.68645 - acc: 0.5572 -- iter: 01152/20250\n"
     ]
    },
    {
     "name": "stdout",
     "output_type": "stream",
     "text": [
      "Training Step: 328  | total loss: \u001b[1m\u001b[32m0.68938\u001b[0m\u001b[0m\n\u001b[2K\r| SGD | epoch: 002 | loss: 0.68938 - acc: 0.5507 -- iter: 01280/20250\n"
     ]
    },
    {
     "name": "stdout",
     "output_type": "stream",
     "text": [
      "Training Step: 329  | total loss: \u001b[1m\u001b[32m0.68944\u001b[0m\u001b[0m\n\u001b[2K\r| SGD | epoch: 002 | loss: 0.68944 - acc: 0.5511 -- iter: 01408/20250\n"
     ]
    },
    {
     "name": "stdout",
     "output_type": "stream",
     "text": [
      "Training Step: 330  | total loss: \u001b[1m\u001b[32m0.68925\u001b[0m\u001b[0m\n\u001b[2K\r| SGD | epoch: 002 | loss: 0.68925 - acc: 0.5546 -- iter: 01536/20250\n"
     ]
    },
    {
     "name": "stdout",
     "output_type": "stream",
     "text": [
      "Training Step: 331  | total loss: \u001b[1m\u001b[32m0.69013\u001b[0m\u001b[0m\n\u001b[2K\r| SGD | epoch: 002 | loss: 0.69013 - acc: 0.5437 -- iter: 01664/20250\n"
     ]
    },
    {
     "name": "stdout",
     "output_type": "stream",
     "text": [
      "Training Step: 332  | total loss: \u001b[1m\u001b[32m0.68984\u001b[0m\u001b[0m\n\u001b[2K\r| SGD | epoch: 002 | loss: 0.68984 - acc: 0.5479 -- iter: 01792/20250\n"
     ]
    },
    {
     "name": "stdout",
     "output_type": "stream",
     "text": [
      "Training Step: 333  | total loss: \u001b[1m\u001b[32m0.68980\u001b[0m\u001b[0m\n\u001b[2K\r| SGD | epoch: 002 | loss: 0.68980 - acc: 0.5486 -- iter: 01920/20250\n"
     ]
    },
    {
     "name": "stdout",
     "output_type": "stream",
     "text": [
      "Training Step: 334  | total loss: \u001b[1m\u001b[32m0.69003\u001b[0m\u001b[0m\n\u001b[2K\r| SGD | epoch: 002 | loss: 0.69003 - acc: 0.5476 -- iter: 02048/20250\n"
     ]
    },
    {
     "name": "stdout",
     "output_type": "stream",
     "text": [
      "Training Step: 335  | total loss: \u001b[1m\u001b[32m0.69077\u001b[0m\u001b[0m\n\u001b[2K\r| SGD | epoch: 002 | loss: 0.69077 - acc: 0.5374 -- iter: 02176/20250\n"
     ]
    },
    {
     "name": "stdout",
     "output_type": "stream",
     "text": [
      "Training Step: 336  | total loss: \u001b[1m\u001b[32m0.69110\u001b[0m\u001b[0m\n\u001b[2K\r| SGD | epoch: 002 | loss: 0.69110 - acc: 0.5321 -- iter: 02304/20250\n"
     ]
    },
    {
     "name": "stdout",
     "output_type": "stream",
     "text": [
      "Training Step: 337  | total loss: \u001b[1m\u001b[32m0.69047\u001b[0m\u001b[0m\n\u001b[2K\r| SGD | epoch: 002 | loss: 0.69047 - acc: 0.5398 -- iter: 02432/20250\n"
     ]
    },
    {
     "name": "stdout",
     "output_type": "stream",
     "text": [
      "Training Step: 338  | total loss: \u001b[1m\u001b[32m0.69036\u001b[0m\u001b[0m\n\u001b[2K\r| SGD | epoch: 002 | loss: 0.69036 - acc: 0.5405 -- iter: 02560/20250\n"
     ]
    },
    {
     "name": "stdout",
     "output_type": "stream",
     "text": [
      "Training Step: 339  | total loss: \u001b[1m\u001b[32m0.69033\u001b[0m\u001b[0m\n\u001b[2K\r| SGD | epoch: 002 | loss: 0.69033 - acc: 0.5396 -- iter: 02688/20250\n"
     ]
    },
    {
     "name": "stdout",
     "output_type": "stream",
     "text": [
      "Training Step: 340  | total loss: \u001b[1m\u001b[32m0.69076\u001b[0m\u001b[0m\n\u001b[2K\r| SGD | epoch: 002 | loss: 0.69076 - acc: 0.5302 -- iter: 02816/20250\n"
     ]
    },
    {
     "name": "stdout",
     "output_type": "stream",
     "text": [
      "Training Step: 341  | total loss: \u001b[1m\u001b[32m0.68987\u001b[0m\u001b[0m\n\u001b[2K\r| SGD | epoch: 002 | loss: 0.68987 - acc: 0.5365 -- iter: 02944/20250\n"
     ]
    },
    {
     "name": "stdout",
     "output_type": "stream",
     "text": [
      "Training Step: 342  | total loss: \u001b[1m\u001b[32m0.69268\u001b[0m\u001b[0m\n\u001b[2K\r| SGD | epoch: 002 | loss: 0.69268 - acc: 0.5251 -- iter: 03072/20250\n"
     ]
    },
    {
     "name": "stdout",
     "output_type": "stream",
     "text": [
      "Training Step: 343  | total loss: \u001b[1m\u001b[32m0.69327\u001b[0m\u001b[0m\n\u001b[2K\r| SGD | epoch: 002 | loss: 0.69327 - acc: 0.5140 -- iter: 03200/20250\n"
     ]
    },
    {
     "name": "stdout",
     "output_type": "stream",
     "text": [
      "Training Step: 344  | total loss: \u001b[1m\u001b[32m0.69328\u001b[0m\u001b[0m\n\u001b[2K\r| SGD | epoch: 002 | loss: 0.69328 - acc: 0.5102 -- iter: 03328/20250\n"
     ]
    },
    {
     "name": "stdout",
     "output_type": "stream",
     "text": [
      "Training Step: 345  | total loss: \u001b[1m\u001b[32m0.69333\u001b[0m\u001b[0m\n\u001b[2K\r| SGD | epoch: 002 | loss: 0.69333 - acc: 0.5053 -- iter: 03456/20250\n"
     ]
    },
    {
     "name": "stdout",
     "output_type": "stream",
     "text": [
      "Training Step: 346  | total loss: \u001b[1m\u001b[32m0.69295\u001b[0m\u001b[0m\n\u001b[2K\r| SGD | epoch: 002 | loss: 0.69295 - acc: 0.5118 -- iter: 03584/20250\n"
     ]
    },
    {
     "name": "stdout",
     "output_type": "stream",
     "text": [
      "Training Step: 347  | total loss: \u001b[1m\u001b[32m0.69310\u001b[0m\u001b[0m\n\u001b[2K\r| SGD | epoch: 002 | loss: 0.69310 - acc: 0.5059 -- iter: 03712/20250\n"
     ]
    },
    {
     "name": "stdout",
     "output_type": "stream",
     "text": [
      "Training Step: 348  | total loss: \u001b[1m\u001b[32m0.69271\u001b[0m\u001b[0m\n\u001b[2K\r| SGD | epoch: 002 | loss: 0.69271 - acc: 0.5116 -- iter: 03840/20250\n"
     ]
    },
    {
     "name": "stdout",
     "output_type": "stream",
     "text": [
      "Training Step: 349  | total loss: \u001b[1m\u001b[32m0.69221\u001b[0m\u001b[0m\n\u001b[2K\r| SGD | epoch: 002 | loss: 0.69221 - acc: 0.5120 -- iter: 03968/20250\n"
     ]
    },
    {
     "name": "stdout",
     "output_type": "stream",
     "text": [
      "Training Step: 350  | total loss: \u001b[1m\u001b[32m0.69162\u001b[0m\u001b[0m\n\u001b[2K\r| SGD | epoch: 002 | loss: 0.69162 - acc: 0.5163 -- iter: 04096/20250\n"
     ]
    },
    {
     "name": "stdout",
     "output_type": "stream",
     "text": [
      "Training Step: 351  | total loss: \u001b[1m\u001b[32m0.69123\u001b[0m\u001b[0m\n\u001b[2K\r| SGD | epoch: 002 | loss: 0.69123 - acc: 0.5178 -- iter: 04224/20250\n"
     ]
    },
    {
     "name": "stdout",
     "output_type": "stream",
     "text": [
      "Training Step: 352  | total loss: \u001b[1m\u001b[32m0.69028\u001b[0m\u001b[0m\n\u001b[2K\r| SGD | epoch: 002 | loss: 0.69028 - acc: 0.5238 -- iter: 04352/20250\n"
     ]
    },
    {
     "name": "stdout",
     "output_type": "stream",
     "text": [
      "Training Step: 353  | total loss: \u001b[1m\u001b[32m0.68942\u001b[0m\u001b[0m\n\u001b[2K\r| SGD | epoch: 002 | loss: 0.68942 - acc: 0.5300 -- iter: 04480/20250\n"
     ]
    },
    {
     "name": "stdout",
     "output_type": "stream",
     "text": [
      "Training Step: 354  | total loss: \u001b[1m\u001b[32m0.69254\u001b[0m\u001b[0m\n\u001b[2K\r| SGD | epoch: 002 | loss: 0.69254 - acc: 0.5239 -- iter: 04608/20250\n"
     ]
    },
    {
     "name": "stdout",
     "output_type": "stream",
     "text": [
      "Training Step: 355  | total loss: \u001b[1m\u001b[32m0.69212\u001b[0m\u001b[0m\n\u001b[2K\r| SGD | epoch: 002 | loss: 0.69212 - acc: 0.5246 -- iter: 04736/20250\n"
     ]
    },
    {
     "name": "stdout",
     "output_type": "stream",
     "text": [
      "Training Step: 356  | total loss: \u001b[1m\u001b[32m0.69196\u001b[0m\u001b[0m\n\u001b[2K\r| SGD | epoch: 002 | loss: 0.69196 - acc: 0.5237 -- iter: 04864/20250\n"
     ]
    },
    {
     "name": "stdout",
     "output_type": "stream",
     "text": [
      "Training Step: 357  | total loss: \u001b[1m\u001b[32m0.69147\u001b[0m\u001b[0m\n\u001b[2K\r| SGD | epoch: 002 | loss: 0.69147 - acc: 0.5299 -- iter: 04992/20250\n"
     ]
    },
    {
     "name": "stdout",
     "output_type": "stream",
     "text": [
      "Training Step: 358  | total loss: \u001b[1m\u001b[32m0.69120\u001b[0m\u001b[0m\n\u001b[2K\r| SGD | epoch: 002 | loss: 0.69120 - acc: 0.5363 -- iter: 05120/20250\n"
     ]
    },
    {
     "name": "stdout",
     "output_type": "stream",
     "text": [
      "Training Step: 359  | total loss: \u001b[1m\u001b[32m0.69071\u001b[0m\u001b[0m\n\u001b[2K\r| SGD | epoch: 002 | loss: 0.69071 - acc: 0.5405 -- iter: 05248/20250\n"
     ]
    },
    {
     "name": "stdout",
     "output_type": "stream",
     "text": [
      "Training Step: 360  | total loss: \u001b[1m\u001b[32m0.69042\u001b[0m\u001b[0m\n\u001b[2K\r| SGD | epoch: 002 | loss: 0.69042 - acc: 0.5411 -- iter: 05376/20250\n"
     ]
    },
    {
     "name": "stdout",
     "output_type": "stream",
     "text": [
      "Training Step: 361  | total loss: \u001b[1m\u001b[32m0.68897\u001b[0m\u001b[0m\n\u001b[2K\r| SGD | epoch: 002 | loss: 0.68897 - acc: 0.5441 -- iter: 05504/20250\n"
     ]
    },
    {
     "name": "stdout",
     "output_type": "stream",
     "text": [
      "Training Step: 362  | total loss: \u001b[1m\u001b[32m0.68615\u001b[0m\u001b[0m\n\u001b[2K\r| SGD | epoch: 002 | loss: 0.68615 - acc: 0.5576 -- iter: 05632/20250\n"
     ]
    },
    {
     "name": "stdout",
     "output_type": "stream",
     "text": [
      "Training Step: 363  | total loss: \u001b[1m\u001b[32m0.68786\u001b[0m\u001b[0m\n\u001b[2K\r| SGD | epoch: 002 | loss: 0.68786 - acc: 0.5534 -- iter: 05760/20250\n"
     ]
    },
    {
     "name": "stdout",
     "output_type": "stream",
     "text": [
      "Training Step: 364  | total loss: \u001b[1m\u001b[32m0.69910\u001b[0m\u001b[0m\n\u001b[2K\r| SGD | epoch: 002 | loss: 0.69910 - acc: 0.5504 -- iter: 05888/20250\n"
     ]
    },
    {
     "name": "stdout",
     "output_type": "stream",
     "text": [
      "Training Step: 365  | total loss: \u001b[1m\u001b[32m0.69851\u001b[0m\u001b[0m\n\u001b[2K\r| SGD | epoch: 002 | loss: 0.69851 - acc: 0.5423 -- iter: 06016/20250\n"
     ]
    },
    {
     "name": "stdout",
     "output_type": "stream",
     "text": [
      "Training Step: 366  | total loss: \u001b[1m\u001b[32m0.69786\u001b[0m\u001b[0m\n\u001b[2K\r| SGD | epoch: 002 | loss: 0.69786 - acc: 0.5435 -- iter: 06144/20250\n"
     ]
    },
    {
     "name": "stdout",
     "output_type": "stream",
     "text": [
      "Training Step: 367  | total loss: \u001b[1m\u001b[32m0.69685\u001b[0m\u001b[0m\n\u001b[2K\r| SGD | epoch: 002 | loss: 0.69685 - acc: 0.5454 -- iter: 06272/20250\n"
     ]
    },
    {
     "name": "stdout",
     "output_type": "stream",
     "text": [
      "Training Step: 368  | total loss: \u001b[1m\u001b[32m0.69662\u001b[0m\u001b[0m\n\u001b[2K\r| SGD | epoch: 002 | loss: 0.69662 - acc: 0.5455 -- iter: 06400/20250\n"
     ]
    },
    {
     "name": "stdout",
     "output_type": "stream",
     "text": [
      "Training Step: 369  | total loss: \u001b[1m\u001b[32m0.69533\u001b[0m\u001b[0m\n\u001b[2K\r| SGD | epoch: 002 | loss: 0.69533 - acc: 0.5472 -- iter: 06528/20250\n"
     ]
    },
    {
     "name": "stdout",
     "output_type": "stream",
     "text": [
      "Training Step: 370  | total loss: \u001b[1m\u001b[32m0.69559\u001b[0m\u001b[0m\n\u001b[2K\r| SGD | epoch: 002 | loss: 0.69559 - acc: 0.5410 -- iter: 06656/20250\n"
     ]
    },
    {
     "name": "stdout",
     "output_type": "stream",
     "text": [
      "Training Step: 371  | total loss: \u001b[1m\u001b[32m0.69442\u001b[0m\u001b[0m\n\u001b[2K\r| SGD | epoch: 002 | loss: 0.69442 - acc: 0.5462 -- iter: 06784/20250\n"
     ]
    },
    {
     "name": "stdout",
     "output_type": "stream",
     "text": [
      "Training Step: 372  | total loss: \u001b[1m\u001b[32m0.69367\u001b[0m\u001b[0m\n\u001b[2K\r| SGD | epoch: 002 | loss: 0.69367 - acc: 0.5486 -- iter: 06912/20250\n"
     ]
    },
    {
     "name": "stdout",
     "output_type": "stream",
     "text": [
      "Training Step: 373  | total loss: \u001b[1m\u001b[32m0.69177\u001b[0m\u001b[0m\n\u001b[2K\r| SGD | epoch: 002 | loss: 0.69177 - acc: 0.5508 -- iter: 07040/20250\n"
     ]
    },
    {
     "name": "stdout",
     "output_type": "stream",
     "text": [
      "Training Step: 374  | total loss: \u001b[1m\u001b[32m0.69003\u001b[0m\u001b[0m\n\u001b[2K\r| SGD | epoch: 002 | loss: 0.69003 - acc: 0.5504 -- iter: 07168/20250\n"
     ]
    },
    {
     "name": "stdout",
     "output_type": "stream",
     "text": [
      "Training Step: 375  | total loss: \u001b[1m\u001b[32m0.68906\u001b[0m\u001b[0m\n\u001b[2K\r| SGD | epoch: 002 | loss: 0.68906 - acc: 0.5516 -- iter: 07296/20250\n"
     ]
    },
    {
     "name": "stdout",
     "output_type": "stream",
     "text": [
      "Training Step: 376  | total loss: \u001b[1m\u001b[32m0.68957\u001b[0m\u001b[0m\n\u001b[2K\r| SGD | epoch: 002 | loss: 0.68957 - acc: 0.5488 -- iter: 07424/20250\n"
     ]
    },
    {
     "name": "stdout",
     "output_type": "stream",
     "text": [
      "Training Step: 377  | total loss: \u001b[1m\u001b[32m0.69008\u001b[0m\u001b[0m\n\u001b[2K\r| SGD | epoch: 002 | loss: 0.69008 - acc: 0.5447 -- iter: 07552/20250\n"
     ]
    },
    {
     "name": "stdout",
     "output_type": "stream",
     "text": [
      "Training Step: 378  | total loss: \u001b[1m\u001b[32m0.68958\u001b[0m\u001b[0m\n\u001b[2K\r| SGD | epoch: 002 | loss: 0.68958 - acc: 0.5418 -- iter: 07680/20250\n"
     ]
    },
    {
     "name": "stdout",
     "output_type": "stream",
     "text": [
      "Training Step: 379  | total loss: \u001b[1m\u001b[32m0.68897\u001b[0m\u001b[0m\n\u001b[2K\r| SGD | epoch: 002 | loss: 0.68897 - acc: 0.5423 -- iter: 07808/20250\n"
     ]
    },
    {
     "name": "stdout",
     "output_type": "stream",
     "text": [
      "Training Step: 380  | total loss: \u001b[1m\u001b[32m0.68773\u001b[0m\u001b[0m\n\u001b[2K\r| SGD | epoch: 002 | loss: 0.68773 - acc: 0.5506 -- iter: 07936/20250\n"
     ]
    },
    {
     "name": "stdout",
     "output_type": "stream",
     "text": [
      "Training Step: 381  | total loss: \u001b[1m\u001b[32m0.68702\u001b[0m\u001b[0m\n\u001b[2K\r| SGD | epoch: 002 | loss: 0.68702 - acc: 0.5533 -- iter: 08064/20250\n"
     ]
    },
    {
     "name": "stdout",
     "output_type": "stream",
     "text": [
      "Training Step: 382  | total loss: \u001b[1m\u001b[32m0.68656\u001b[0m\u001b[0m\n\u001b[2K\r| SGD | epoch: 002 | loss: 0.68656 - acc: 0.5535 -- iter: 08192/20250\n"
     ]
    },
    {
     "name": "stdout",
     "output_type": "stream",
     "text": [
      "Training Step: 383  | total loss: \u001b[1m\u001b[32m0.68605\u001b[0m\u001b[0m\n\u001b[2K\r| SGD | epoch: 002 | loss: 0.68605 - acc: 0.5505 -- iter: 08320/20250\n"
     ]
    },
    {
     "name": "stdout",
     "output_type": "stream",
     "text": [
      "Training Step: 384  | total loss: \u001b[1m\u001b[32m0.68951\u001b[0m\u001b[0m\n\u001b[2K\r| SGD | epoch: 002 | loss: 0.68951 - acc: 0.5446 -- iter: 08448/20250\n"
     ]
    },
    {
     "name": "stdout",
     "output_type": "stream",
     "text": [
      "Training Step: 385  | total loss: \u001b[1m\u001b[32m0.68892\u001b[0m\u001b[0m\n\u001b[2K\r| SGD | epoch: 002 | loss: 0.68892 - acc: 0.5456 -- iter: 08576/20250\n"
     ]
    },
    {
     "name": "stdout",
     "output_type": "stream",
     "text": [
      "Training Step: 386  | total loss: \u001b[1m\u001b[32m0.68911\u001b[0m\u001b[0m\n\u001b[2K\r| SGD | epoch: 002 | loss: 0.68911 - acc: 0.5411 -- iter: 08704/20250\n"
     ]
    },
    {
     "name": "stdout",
     "output_type": "stream",
     "text": [
      "Training Step: 387  | total loss: \u001b[1m\u001b[32m0.68947\u001b[0m\u001b[0m\n\u001b[2K\r| SGD | epoch: 002 | loss: 0.68947 - acc: 0.5346 -- iter: 08832/20250\n"
     ]
    },
    {
     "name": "stdout",
     "output_type": "stream",
     "text": [
      "Training Step: 388  | total loss: \u001b[1m\u001b[32m0.68931\u001b[0m\u001b[0m\n\u001b[2K\r| SGD | epoch: 002 | loss: 0.68931 - acc: 0.5343 -- iter: 08960/20250\n"
     ]
    },
    {
     "name": "stdout",
     "output_type": "stream",
     "text": [
      "Training Step: 389  | total loss: \u001b[1m\u001b[32m0.68916\u001b[0m\u001b[0m\n\u001b[2K\r| SGD | epoch: 002 | loss: 0.68916 - acc: 0.5332 -- iter: 09088/20250\n"
     ]
    },
    {
     "name": "stdout",
     "output_type": "stream",
     "text": [
      "Training Step: 390  | total loss: \u001b[1m\u001b[32m0.68846\u001b[0m\u001b[0m\n\u001b[2K\r| SGD | epoch: 002 | loss: 0.68846 - acc: 0.5354 -- iter: 09216/20250\n"
     ]
    },
    {
     "name": "stdout",
     "output_type": "stream",
     "text": [
      "Training Step: 391  | total loss: \u001b[1m\u001b[32m0.68697\u001b[0m\u001b[0m\n\u001b[2K\r| SGD | epoch: 002 | loss: 0.68697 - acc: 0.5396 -- iter: 09344/20250\n"
     ]
    },
    {
     "name": "stdout",
     "output_type": "stream",
     "text": [
      "Training Step: 392  | total loss: \u001b[1m\u001b[32m0.68740\u001b[0m\u001b[0m\n\u001b[2K\r| SGD | epoch: 002 | loss: 0.68740 - acc: 0.5443 -- iter: 09472/20250\n"
     ]
    },
    {
     "name": "stdout",
     "output_type": "stream",
     "text": [
      "Training Step: 393  | total loss: \u001b[1m\u001b[32m0.68703\u001b[0m\u001b[0m\n\u001b[2K\r| SGD | epoch: 002 | loss: 0.68703 - acc: 0.5484 -- iter: 09600/20250\n"
     ]
    },
    {
     "name": "stdout",
     "output_type": "stream",
     "text": [
      "Training Step: 394  | total loss: \u001b[1m\u001b[32m0.68694\u001b[0m\u001b[0m\n\u001b[2K\r| SGD | epoch: 002 | loss: 0.68694 - acc: 0.5514 -- iter: 09728/20250\n"
     ]
    },
    {
     "name": "stdout",
     "output_type": "stream",
     "text": [
      "Training Step: 395  | total loss: \u001b[1m\u001b[32m0.68758\u001b[0m\u001b[0m\n\u001b[2K\r| SGD | epoch: 002 | loss: 0.68758 - acc: 0.5517 -- iter: 09856/20250\n"
     ]
    },
    {
     "name": "stdout",
     "output_type": "stream",
     "text": [
      "Training Step: 396  | total loss: \u001b[1m\u001b[32m0.68790\u001b[0m\u001b[0m\n\u001b[2K\r| SGD | epoch: 002 | loss: 0.68790 - acc: 0.5489 -- iter: 09984/20250\n"
     ]
    },
    {
     "name": "stdout",
     "output_type": "stream",
     "text": [
      "Training Step: 397  | total loss: \u001b[1m\u001b[32m0.68770\u001b[0m\u001b[0m\n\u001b[2K\r| SGD | epoch: 002 | loss: 0.68770 - acc: 0.5471 -- iter: 10112/20250\n"
     ]
    },
    {
     "name": "stdout",
     "output_type": "stream",
     "text": [
      "Training Step: 398  | total loss: \u001b[1m\u001b[32m0.68736\u001b[0m\u001b[0m\n\u001b[2K\r| SGD | epoch: 002 | loss: 0.68736 - acc: 0.5448 -- iter: 10240/20250\n"
     ]
    },
    {
     "name": "stdout",
     "output_type": "stream",
     "text": [
      "Training Step: 399  | total loss: \u001b[1m\u001b[32m0.68524\u001b[0m\u001b[0m\n\u001b[2K\r| SGD | epoch: 002 | loss: 0.68524 - acc: 0.5465 -- iter: 10368/20250\n"
     ]
    },
    {
     "name": "stdout",
     "output_type": "stream",
     "text": [
      "Training Step: 400  | total loss: \u001b[1m\u001b[32m0.68359\u001b[0m\u001b[0m\n\u001b[2K\r| SGD | epoch: 002 | loss: 0.68359 - acc: 0.5481 -- iter: 10496/20250\n"
     ]
    },
    {
     "name": "stdout",
     "output_type": "stream",
     "text": [
      "Training Step: 401  | total loss: \u001b[1m\u001b[32m0.69507\u001b[0m\u001b[0m\n\u001b[2K\r| SGD | epoch: 002 | loss: 0.69507 - acc: 0.5418 -- iter: 10624/20250\n"
     ]
    },
    {
     "name": "stdout",
     "output_type": "stream",
     "text": [
      "Training Step: 402  | total loss: \u001b[1m\u001b[32m0.69491\u001b[0m\u001b[0m\n\u001b[2K\r| SGD | epoch: 002 | loss: 0.69491 - acc: 0.5368 -- iter: 10752/20250\n"
     ]
    },
    {
     "name": "stdout",
     "output_type": "stream",
     "text": [
      "Training Step: 403  | total loss: \u001b[1m\u001b[32m0.69328\u001b[0m\u001b[0m\n\u001b[2K\r| SGD | epoch: 002 | loss: 0.69328 - acc: 0.5370 -- iter: 10880/20250\n"
     ]
    },
    {
     "name": "stdout",
     "output_type": "stream",
     "text": [
      "Training Step: 404  | total loss: \u001b[1m\u001b[32m0.69279\u001b[0m\u001b[0m\n\u001b[2K\r| SGD | epoch: 002 | loss: 0.69279 - acc: 0.5333 -- iter: 11008/20250\n"
     ]
    },
    {
     "name": "stdout",
     "output_type": "stream",
     "text": [
      "Training Step: 405  | total loss: \u001b[1m\u001b[32m0.69077\u001b[0m\u001b[0m\n\u001b[2K\r| SGD | epoch: 002 | loss: 0.69077 - acc: 0.5378 -- iter: 11136/20250\n"
     ]
    },
    {
     "name": "stdout",
     "output_type": "stream",
     "text": [
      "Training Step: 406  | total loss: \u001b[1m\u001b[32m0.68929\u001b[0m\u001b[0m\n\u001b[2K\r| SGD | epoch: 002 | loss: 0.68929 - acc: 0.5387 -- iter: 11264/20250\n"
     ]
    },
    {
     "name": "stdout",
     "output_type": "stream",
     "text": [
      "Training Step: 407  | total loss: \u001b[1m\u001b[32m0.68897\u001b[0m\u001b[0m\n\u001b[2K\r| SGD | epoch: 002 | loss: 0.68897 - acc: 0.5372 -- iter: 11392/20250\n"
     ]
    },
    {
     "name": "stdout",
     "output_type": "stream",
     "text": [
      "Training Step: 408  | total loss: \u001b[1m\u001b[32m0.68731\u001b[0m\u001b[0m\n\u001b[2K\r| SGD | epoch: 002 | loss: 0.68731 - acc: 0.5413 -- iter: 11520/20250\n"
     ]
    },
    {
     "name": "stdout",
     "output_type": "stream",
     "text": [
      "Training Step: 409  | total loss: \u001b[1m\u001b[32m0.68683\u001b[0m\u001b[0m\n\u001b[2K\r| SGD | epoch: 002 | loss: 0.68683 - acc: 0.5426 -- iter: 11648/20250\n"
     ]
    },
    {
     "name": "stdout",
     "output_type": "stream",
     "text": [
      "Training Step: 410  | total loss: \u001b[1m\u001b[32m0.68537\u001b[0m\u001b[0m\n\u001b[2K\r| SGD | epoch: 002 | loss: 0.68537 - acc: 0.5477 -- iter: 11776/20250\n"
     ]
    },
    {
     "name": "stdout",
     "output_type": "stream",
     "text": [
      "Training Step: 411  | total loss: \u001b[1m\u001b[32m0.68409\u001b[0m\u001b[0m\n\u001b[2K\r| SGD | epoch: 002 | loss: 0.68409 - acc: 0.5531 -- iter: 11904/20250\n"
     ]
    },
    {
     "name": "stdout",
     "output_type": "stream",
     "text": [
      "Training Step: 412  | total loss: \u001b[1m\u001b[32m0.68333\u001b[0m\u001b[0m\n\u001b[2K\r| SGD | epoch: 002 | loss: 0.68333 - acc: 0.5509 -- iter: 12032/20250\n"
     ]
    },
    {
     "name": "stdout",
     "output_type": "stream",
     "text": [
      "Training Step: 413  | total loss: \u001b[1m\u001b[32m0.68488\u001b[0m\u001b[0m\n\u001b[2K\r| SGD | epoch: 002 | loss: 0.68488 - acc: 0.5560 -- iter: 12160/20250\n"
     ]
    },
    {
     "name": "stdout",
     "output_type": "stream",
     "text": [
      "Training Step: 414  | total loss: \u001b[1m\u001b[32m0.68769\u001b[0m\u001b[0m\n\u001b[2K\r| SGD | epoch: 002 | loss: 0.68769 - acc: 0.5449 -- iter: 12288/20250\n"
     ]
    },
    {
     "name": "stdout",
     "output_type": "stream",
     "text": [
      "Training Step: 415  | total loss: \u001b[1m\u001b[32m0.68782\u001b[0m\u001b[0m\n\u001b[2K\r| SGD | epoch: 002 | loss: 0.68782 - acc: 0.5467 -- iter: 12416/20250\n"
     ]
    },
    {
     "name": "stdout",
     "output_type": "stream",
     "text": [
      "Training Step: 416  | total loss: \u001b[1m\u001b[32m0.68819\u001b[0m\u001b[0m\n\u001b[2K\r| SGD | epoch: 002 | loss: 0.68819 - acc: 0.5428 -- iter: 12544/20250\n"
     ]
    },
    {
     "name": "stdout",
     "output_type": "stream",
     "text": [
      "Training Step: 417  | total loss: \u001b[1m\u001b[32m0.68879\u001b[0m\u001b[0m\n\u001b[2K\r| SGD | epoch: 002 | loss: 0.68879 - acc: 0.5346 -- iter: 12672/20250\n"
     ]
    },
    {
     "name": "stdout",
     "output_type": "stream",
     "text": [
      "Training Step: 418  | total loss: \u001b[1m\u001b[32m0.68858\u001b[0m\u001b[0m\n\u001b[2K\r| SGD | epoch: 002 | loss: 0.68858 - acc: 0.5374 -- iter: 12800/20250\n"
     ]
    },
    {
     "name": "stdout",
     "output_type": "stream",
     "text": [
      "Training Step: 419  | total loss: \u001b[1m\u001b[32m0.68858\u001b[0m\u001b[0m\n\u001b[2K\r| SGD | epoch: 002 | loss: 0.68858 - acc: 0.5399 -- iter: 12928/20250\n"
     ]
    },
    {
     "name": "stdout",
     "output_type": "stream",
     "text": [
      "Training Step: 420  | total loss: \u001b[1m\u001b[32m0.68829\u001b[0m\u001b[0m\n\u001b[2K\r| SGD | epoch: 002 | loss: 0.68829 - acc: 0.5414 -- iter: 13056/20250\n"
     ]
    },
    {
     "name": "stdout",
     "output_type": "stream",
     "text": [
      "Training Step: 421  | total loss: \u001b[1m\u001b[32m0.68849\u001b[0m\u001b[0m\n\u001b[2K\r| SGD | epoch: 002 | loss: 0.68849 - acc: 0.5412 -- iter: 13184/20250\n"
     ]
    },
    {
     "name": "stdout",
     "output_type": "stream",
     "text": [
      "Training Step: 422  | total loss: \u001b[1m\u001b[32m0.69015\u001b[0m\u001b[0m\n\u001b[2K\r| SGD | epoch: 002 | loss: 0.69015 - acc: 0.5394 -- iter: 13312/20250\n"
     ]
    },
    {
     "name": "stdout",
     "output_type": "stream",
     "text": [
      "Training Step: 423  | total loss: \u001b[1m\u001b[32m0.69137\u001b[0m\u001b[0m\n\u001b[2K\r| SGD | epoch: 002 | loss: 0.69137 - acc: 0.5253 -- iter: 13440/20250\n"
     ]
    },
    {
     "name": "stdout",
     "output_type": "stream",
     "text": [
      "Training Step: 424  | total loss: \u001b[1m\u001b[32m0.69140\u001b[0m\u001b[0m\n\u001b[2K\r| SGD | epoch: 002 | loss: 0.69140 - acc: 0.5274 -- iter: 13568/20250\n"
     ]
    },
    {
     "name": "stdout",
     "output_type": "stream",
     "text": [
      "Training Step: 425  | total loss: \u001b[1m\u001b[32m0.69130\u001b[0m\u001b[0m\n\u001b[2K\r| SGD | epoch: 002 | loss: 0.69130 - acc: 0.5317 -- iter: 13696/20250\n"
     ]
    },
    {
     "name": "stdout",
     "output_type": "stream",
     "text": [
      "Training Step: 426  | total loss: \u001b[1m\u001b[32m0.69108\u001b[0m\u001b[0m\n\u001b[2K\r| SGD | epoch: 002 | loss: 0.69108 - acc: 0.5340 -- iter: 13824/20250\n"
     ]
    },
    {
     "name": "stdout",
     "output_type": "stream",
     "text": [
      "Training Step: 427  | total loss: \u001b[1m\u001b[32m0.68942\u001b[0m\u001b[0m\n\u001b[2K\r| SGD | epoch: 002 | loss: 0.68942 - acc: 0.5494 -- iter: 13952/20250\n"
     ]
    },
    {
     "name": "stdout",
     "output_type": "stream",
     "text": [
      "Training Step: 428  | total loss: \u001b[1m\u001b[32m0.68687\u001b[0m\u001b[0m\n\u001b[2K\r| SGD | epoch: 002 | loss: 0.68687 - acc: 0.5616 -- iter: 14080/20250\n"
     ]
    },
    {
     "name": "stdout",
     "output_type": "stream",
     "text": [
      "Training Step: 429  | total loss: \u001b[1m\u001b[32m0.69093\u001b[0m\u001b[0m\n\u001b[2K\r| SGD | epoch: 002 | loss: 0.69093 - acc: 0.5609 -- iter: 14208/20250\n"
     ]
    },
    {
     "name": "stdout",
     "output_type": "stream",
     "text": [
      "Training Step: 430  | total loss: \u001b[1m\u001b[32m0.69127\u001b[0m\u001b[0m\n\u001b[2K\r| SGD | epoch: 002 | loss: 0.69127 - acc: 0.5533 -- iter: 14336/20250\n"
     ]
    },
    {
     "name": "stdout",
     "output_type": "stream",
     "text": [
      "Training Step: 431  | total loss: \u001b[1m\u001b[32m0.69062\u001b[0m\u001b[0m\n\u001b[2K\r| SGD | epoch: 002 | loss: 0.69062 - acc: 0.5526 -- iter: 14464/20250\n"
     ]
    },
    {
     "name": "stdout",
     "output_type": "stream",
     "text": [
      "Training Step: 432  | total loss: \u001b[1m\u001b[32m0.69017\u001b[0m\u001b[0m\n\u001b[2K\r| SGD | epoch: 002 | loss: 0.69017 - acc: 0.5544 -- iter: 14592/20250\n"
     ]
    },
    {
     "name": "stdout",
     "output_type": "stream",
     "text": [
      "Training Step: 433  | total loss: \u001b[1m\u001b[32m0.68830\u001b[0m\u001b[0m\n\u001b[2K\r| SGD | epoch: 002 | loss: 0.68830 - acc: 0.5622 -- iter: 14720/20250\n"
     ]
    },
    {
     "name": "stdout",
     "output_type": "stream",
     "text": [
      "Training Step: 434  | total loss: \u001b[1m\u001b[32m0.68661\u001b[0m\u001b[0m\n\u001b[2K\r| SGD | epoch: 002 | loss: 0.68661 - acc: 0.5560 -- iter: 14848/20250\n"
     ]
    },
    {
     "name": "stdout",
     "output_type": "stream",
     "text": [
      "Training Step: 435  | total loss: \u001b[1m\u001b[32m0.68337\u001b[0m\u001b[0m\n\u001b[2K\r| SGD | epoch: 002 | loss: 0.68337 - acc: 0.5676 -- iter: 14976/20250\n"
     ]
    },
    {
     "name": "stdout",
     "output_type": "stream",
     "text": [
      "Training Step: 436  | total loss: \u001b[1m\u001b[32m0.68247\u001b[0m\u001b[0m\n\u001b[2K\r| SGD | epoch: 002 | loss: 0.68247 - acc: 0.5679 -- iter: 15104/20250\n"
     ]
    },
    {
     "name": "stdout",
     "output_type": "stream",
     "text": [
      "Training Step: 437  | total loss: \u001b[1m\u001b[32m0.73931\u001b[0m\u001b[0m\n\u001b[2K\r| SGD | epoch: 002 | loss: 0.73931 - acc: 0.5603 -- iter: 15232/20250\n"
     ]
    },
    {
     "name": "stdout",
     "output_type": "stream",
     "text": [
      "Training Step: 438  | total loss: \u001b[1m\u001b[32m0.73416\u001b[0m\u001b[0m\n\u001b[2K\r| SGD | epoch: 002 | loss: 0.73416 - acc: 0.5535 -- iter: 15360/20250\n"
     ]
    },
    {
     "name": "stdout",
     "output_type": "stream",
     "text": [
      "Training Step: 439  | total loss: \u001b[1m\u001b[32m0.72969\u001b[0m\u001b[0m\n\u001b[2K\r| SGD | epoch: 002 | loss: 0.72969 - acc: 0.5474 -- iter: 15488/20250\n"
     ]
    },
    {
     "name": "stdout",
     "output_type": "stream",
     "text": [
      "Training Step: 440  | total loss: \u001b[1m\u001b[32m0.72573\u001b[0m\u001b[0m\n\u001b[2K\r| SGD | epoch: 002 | loss: 0.72573 - acc: 0.5403 -- iter: 15616/20250\n"
     ]
    },
    {
     "name": "stdout",
     "output_type": "stream",
     "text": [
      "Training Step: 441  | total loss: \u001b[1m\u001b[32m0.72176\u001b[0m\u001b[0m\n\u001b[2K\r| SGD | epoch: 002 | loss: 0.72176 - acc: 0.5417 -- iter: 15744/20250\n"
     ]
    },
    {
     "name": "stdout",
     "output_type": "stream",
     "text": [
      "Training Step: 442  | total loss: \u001b[1m\u001b[32m0.71836\u001b[0m\u001b[0m\n\u001b[2K\r| SGD | epoch: 002 | loss: 0.71836 - acc: 0.5454 -- iter: 15872/20250\n"
     ]
    },
    {
     "name": "stdout",
     "output_type": "stream",
     "text": [
      "Training Step: 443  | total loss: \u001b[1m\u001b[32m0.71520\u001b[0m\u001b[0m\n\u001b[2K\r| SGD | epoch: 002 | loss: 0.71520 - acc: 0.5494 -- iter: 16000/20250\n"
     ]
    },
    {
     "name": "stdout",
     "output_type": "stream",
     "text": [
      "Training Step: 444  | total loss: \u001b[1m\u001b[32m0.71090\u001b[0m\u001b[0m\n\u001b[2K\r| SGD | epoch: 002 | loss: 0.71090 - acc: 0.5578 -- iter: 16128/20250\n"
     ]
    },
    {
     "name": "stdout",
     "output_type": "stream",
     "text": [
      "Training Step: 445  | total loss: \u001b[1m\u001b[32m0.71007\u001b[0m\u001b[0m\n\u001b[2K\r| SGD | epoch: 002 | loss: 0.71007 - acc: 0.5559 -- iter: 16256/20250\n"
     ]
    },
    {
     "name": "stdout",
     "output_type": "stream",
     "text": [
      "Training Step: 446  | total loss: \u001b[1m\u001b[32m0.70794\u001b[0m\u001b[0m\n\u001b[2K\r| SGD | epoch: 002 | loss: 0.70794 - acc: 0.5589 -- iter: 16384/20250\n"
     ]
    },
    {
     "name": "stdout",
     "output_type": "stream",
     "text": [
      "Training Step: 447  | total loss: \u001b[1m\u001b[32m0.70604\u001b[0m\u001b[0m\n\u001b[2K\r| SGD | epoch: 002 | loss: 0.70604 - acc: 0.5585 -- iter: 16512/20250\n"
     ]
    },
    {
     "name": "stdout",
     "output_type": "stream",
     "text": [
      "Training Step: 448  | total loss: \u001b[1m\u001b[32m0.70414\u001b[0m\u001b[0m\n\u001b[2K\r| SGD | epoch: 002 | loss: 0.70414 - acc: 0.5542 -- iter: 16640/20250\n"
     ]
    },
    {
     "name": "stdout",
     "output_type": "stream",
     "text": [
      "Training Step: 449  | total loss: \u001b[1m\u001b[32m0.70224\u001b[0m\u001b[0m\n\u001b[2K\r| SGD | epoch: 002 | loss: 0.70224 - acc: 0.5574 -- iter: 16768/20250\n"
     ]
    },
    {
     "name": "stdout",
     "output_type": "stream",
     "text": [
      "Training Step: 450  | total loss: \u001b[1m\u001b[32m0.70116\u001b[0m\u001b[0m\n\u001b[2K\r| SGD | epoch: 002 | loss: 0.70116 - acc: 0.5548 -- iter: 16896/20250\n"
     ]
    },
    {
     "name": "stdout",
     "output_type": "stream",
     "text": [
      "Training Step: 451  | total loss: \u001b[1m\u001b[32m0.69894\u001b[0m\u001b[0m\n\u001b[2K\r| SGD | epoch: 002 | loss: 0.69894 - acc: 0.5547 -- iter: 17024/20250\n"
     ]
    },
    {
     "name": "stdout",
     "output_type": "stream",
     "text": [
      "Training Step: 452  | total loss: \u001b[1m\u001b[32m0.70005\u001b[0m\u001b[0m\n\u001b[2K\r| SGD | epoch: 002 | loss: 0.70005 - acc: 0.5485 -- iter: 17152/20250\n"
     ]
    },
    {
     "name": "stdout",
     "output_type": "stream",
     "text": [
      "Training Step: 453  | total loss: \u001b[1m\u001b[32m0.69841\u001b[0m\u001b[0m\n\u001b[2K\r| SGD | epoch: 002 | loss: 0.69841 - acc: 0.5530 -- iter: 17280/20250\n"
     ]
    },
    {
     "name": "stdout",
     "output_type": "stream",
     "text": [
      "Training Step: 454  | total loss: \u001b[1m\u001b[32m0.69713\u001b[0m\u001b[0m\n\u001b[2K\r| SGD | epoch: 002 | loss: 0.69713 - acc: 0.5532 -- iter: 17408/20250\n"
     ]
    },
    {
     "name": "stdout",
     "output_type": "stream",
     "text": [
      "Training Step: 455  | total loss: \u001b[1m\u001b[32m0.69614\u001b[0m\u001b[0m\n\u001b[2K\r| SGD | epoch: 002 | loss: 0.69614 - acc: 0.5502 -- iter: 17536/20250\n"
     ]
    },
    {
     "name": "stdout",
     "output_type": "stream",
     "text": [
      "Training Step: 456  | total loss: \u001b[1m\u001b[32m0.69412\u001b[0m\u001b[0m\n\u001b[2K\r| SGD | epoch: 002 | loss: 0.69412 - acc: 0.5530 -- iter: 17664/20250\n"
     ]
    },
    {
     "name": "stdout",
     "output_type": "stream",
     "text": [
      "Training Step: 457  | total loss: \u001b[1m\u001b[32m0.69759\u001b[0m\u001b[0m\n\u001b[2K\r| SGD | epoch: 002 | loss: 0.69759 - acc: 0.5477 -- iter: 17792/20250\n"
     ]
    },
    {
     "name": "stdout",
     "output_type": "stream",
     "text": [
      "Training Step: 458  | total loss: \u001b[1m\u001b[32m0.70901\u001b[0m\u001b[0m\n\u001b[2K\r| SGD | epoch: 002 | loss: 0.70901 - acc: 0.5421 -- iter: 17920/20250\n"
     ]
    },
    {
     "name": "stdout",
     "output_type": "stream",
     "text": [
      "Training Step: 459  | total loss: \u001b[1m\u001b[32m0.70808\u001b[0m\u001b[0m\n\u001b[2K\r| SGD | epoch: 002 | loss: 0.70808 - acc: 0.5348 -- iter: 18048/20250\n"
     ]
    },
    {
     "name": "stdout",
     "output_type": "stream",
     "text": [
      "Training Step: 460  | total loss: \u001b[1m\u001b[32m0.70645\u001b[0m\u001b[0m\n\u001b[2K\r| SGD | epoch: 002 | loss: 0.70645 - acc: 0.5329 -- iter: 18176/20250\n"
     ]
    },
    {
     "name": "stdout",
     "output_type": "stream",
     "text": [
      "Training Step: 461  | total loss: \u001b[1m\u001b[32m0.70520\u001b[0m\u001b[0m\n\u001b[2K\r| SGD | epoch: 002 | loss: 0.70520 - acc: 0.5241 -- iter: 18304/20250\n"
     ]
    },
    {
     "name": "stdout",
     "output_type": "stream",
     "text": [
      "Training Step: 462  | total loss: \u001b[1m\u001b[32m0.70396\u001b[0m\u001b[0m\n\u001b[2K\r| SGD | epoch: 002 | loss: 0.70396 - acc: 0.5241 -- iter: 18432/20250\n"
     ]
    },
    {
     "name": "stdout",
     "output_type": "stream",
     "text": [
      "Training Step: 463  | total loss: \u001b[1m\u001b[32m0.70317\u001b[0m\u001b[0m\n\u001b[2K\r| SGD | epoch: 002 | loss: 0.70317 - acc: 0.5263 -- iter: 18560/20250\n"
     ]
    },
    {
     "name": "stdout",
     "output_type": "stream",
     "text": [
      "Training Step: 464  | total loss: \u001b[1m\u001b[32m0.70159\u001b[0m\u001b[0m\n\u001b[2K\r| SGD | epoch: 002 | loss: 0.70159 - acc: 0.5307 -- iter: 18688/20250\n"
     ]
    },
    {
     "name": "stdout",
     "output_type": "stream",
     "text": [
      "Training Step: 465  | total loss: \u001b[1m\u001b[32m0.69996\u001b[0m\u001b[0m\n\u001b[2K\r| SGD | epoch: 002 | loss: 0.69996 - acc: 0.5409 -- iter: 18816/20250\n"
     ]
    },
    {
     "name": "stdout",
     "output_type": "stream",
     "text": [
      "Training Step: 466  | total loss: \u001b[1m\u001b[32m0.69826\u001b[0m\u001b[0m\n\u001b[2K\r| SGD | epoch: 002 | loss: 0.69826 - acc: 0.5478 -- iter: 18944/20250\n"
     ]
    },
    {
     "name": "stdout",
     "output_type": "stream",
     "text": [
      "Training Step: 467  | total loss: \u001b[1m\u001b[32m0.69697\u001b[0m\u001b[0m\n\u001b[2K\r| SGD | epoch: 002 | loss: 0.69697 - acc: 0.5477 -- iter: 19072/20250\n"
     ]
    },
    {
     "name": "stdout",
     "output_type": "stream",
     "text": [
      "Training Step: 468  | total loss: \u001b[1m\u001b[32m0.69568\u001b[0m\u001b[0m\n\u001b[2K\r| SGD | epoch: 002 | loss: 0.69568 - acc: 0.5562 -- iter: 19200/20250\n"
     ]
    },
    {
     "name": "stdout",
     "output_type": "stream",
     "text": [
      "Training Step: 469  | total loss: \u001b[1m\u001b[32m0.69443\u001b[0m\u001b[0m\n\u001b[2K\r| SGD | epoch: 002 | loss: 0.69443 - acc: 0.5592 -- iter: 19328/20250\n"
     ]
    },
    {
     "name": "stdout",
     "output_type": "stream",
     "text": [
      "Training Step: 470  | total loss: \u001b[1m\u001b[32m0.69307\u001b[0m\u001b[0m\n\u001b[2K\r| SGD | epoch: 002 | loss: 0.69307 - acc: 0.5595 -- iter: 19456/20250\n"
     ]
    },
    {
     "name": "stdout",
     "output_type": "stream",
     "text": [
      "Training Step: 471  | total loss: \u001b[1m\u001b[32m0.69099\u001b[0m\u001b[0m\n\u001b[2K\r| SGD | epoch: 002 | loss: 0.69099 - acc: 0.5629 -- iter: 19584/20250\n"
     ]
    },
    {
     "name": "stdout",
     "output_type": "stream",
     "text": [
      "Training Step: 472  | total loss: \u001b[1m\u001b[32m0.69381\u001b[0m\u001b[0m\n\u001b[2K\r| SGD | epoch: 002 | loss: 0.69381 - acc: 0.5543 -- iter: 19712/20250\n"
     ]
    },
    {
     "name": "stdout",
     "output_type": "stream",
     "text": [
      "Training Step: 473  | total loss: \u001b[1m\u001b[32m0.69366\u001b[0m\u001b[0m\n\u001b[2K\r| SGD | epoch: 002 | loss: 0.69366 - acc: 0.5489 -- iter: 19840/20250\n"
     ]
    },
    {
     "name": "stdout",
     "output_type": "stream",
     "text": [
      "Training Step: 474  | total loss: \u001b[1m\u001b[32m0.69428\u001b[0m\u001b[0m\n\u001b[2K\r| SGD | epoch: 002 | loss: 0.69428 - acc: 0.5377 -- iter: 19968/20250\n"
     ]
    },
    {
     "name": "stdout",
     "output_type": "stream",
     "text": [
      "Training Step: 475  | total loss: \u001b[1m\u001b[32m0.69348\u001b[0m\u001b[0m\n\u001b[2K\r| SGD | epoch: 002 | loss: 0.69348 - acc: 0.5394 -- iter: 20096/20250\n"
     ]
    },
    {
     "name": "stdout",
     "output_type": "stream",
     "text": [
      "Training Step: 476  | total loss: \u001b[1m\u001b[32m0.69347\u001b[0m\u001b[0m\n\u001b[2K\r| SGD | epoch: 002 | loss: 0.69347 - acc: 0.5370 -- iter: 20224/20250\n"
     ]
    },
    {
     "name": "stdout",
     "output_type": "stream",
     "text": [
      "Training Step: 477  | total loss: \u001b[1m\u001b[32m0.69239\u001b[0m\u001b[0m\n\u001b[2K\r| SGD | epoch: 003 | loss: 0.69239 - acc: 0.5396 | val_loss: 0.68397 - val_acc: 0.5724 -- iter: 20250/20250\n"
     ]
    },
    {
     "name": "stdout",
     "output_type": "stream",
     "text": [
      "Training Step: 477  | total loss: \u001b[1m\u001b[32m0.69239\u001b[0m\u001b[0m\n\u001b[2K\r| SGD | epoch: 003 | loss: 0.69239 - acc: 0.5396 | val_loss: 0.68397 - val_acc: 0.5724 -- iter: 20250/20250\n--\n"
     ]
    },
    {
     "name": "stdout",
     "output_type": "stream",
     "text": [
      "Training Step: 478  | total loss: \u001b[1m\u001b[32m0.69137\u001b[0m\u001b[0m\n\u001b[2K\r| SGD | epoch: 003 | loss: 0.69137 - acc: 0.5466 -- iter: 00128/20250\n"
     ]
    },
    {
     "name": "stdout",
     "output_type": "stream",
     "text": [
      "Training Step: 479  | total loss: \u001b[1m\u001b[32m0.69108\u001b[0m\u001b[0m\n\u001b[2K\r| SGD | epoch: 003 | loss: 0.69108 - acc: 0.5427 -- iter: 00256/20250\n"
     ]
    },
    {
     "name": "stdout",
     "output_type": "stream",
     "text": [
      "Training Step: 480  | total loss: \u001b[1m\u001b[32m0.68992\u001b[0m\u001b[0m\n\u001b[2K\r| SGD | epoch: 003 | loss: 0.68992 - acc: 0.5423 -- iter: 00384/20250\n"
     ]
    },
    {
     "name": "stdout",
     "output_type": "stream",
     "text": [
      "Training Step: 481  | total loss: \u001b[1m\u001b[32m0.69079\u001b[0m\u001b[0m\n\u001b[2K\r| SGD | epoch: 003 | loss: 0.69079 - acc: 0.5457 -- iter: 00512/20250\n"
     ]
    },
    {
     "name": "stdout",
     "output_type": "stream",
     "text": [
      "Training Step: 482  | total loss: \u001b[1m\u001b[32m0.69133\u001b[0m\u001b[0m\n\u001b[2K\r| SGD | epoch: 003 | loss: 0.69133 - acc: 0.5373 -- iter: 00640/20250\n"
     ]
    },
    {
     "name": "stdout",
     "output_type": "stream",
     "text": [
      "Training Step: 483  | total loss: \u001b[1m\u001b[32m0.69153\u001b[0m\u001b[0m\n\u001b[2K\r| SGD | epoch: 003 | loss: 0.69153 - acc: 0.5359 -- iter: 00768/20250\n"
     ]
    },
    {
     "name": "stdout",
     "output_type": "stream",
     "text": [
      "Training Step: 484  | total loss: \u001b[1m\u001b[32m0.69119\u001b[0m\u001b[0m\n\u001b[2K\r| SGD | epoch: 003 | loss: 0.69119 - acc: 0.5409 -- iter: 00896/20250\n"
     ]
    },
    {
     "name": "stdout",
     "output_type": "stream",
     "text": [
      "Training Step: 485  | total loss: \u001b[1m\u001b[32m0.69132\u001b[0m\u001b[0m\n\u001b[2K\r| SGD | epoch: 003 | loss: 0.69132 - acc: 0.5376 -- iter: 01024/20250\n"
     ]
    },
    {
     "name": "stdout",
     "output_type": "stream",
     "text": [
      "Training Step: 486  | total loss: \u001b[1m\u001b[32m0.69146\u001b[0m\u001b[0m\n\u001b[2K\r| SGD | epoch: 003 | loss: 0.69146 - acc: 0.5291 -- iter: 01152/20250\n"
     ]
    },
    {
     "name": "stdout",
     "output_type": "stream",
     "text": [
      "Training Step: 487  | total loss: \u001b[1m\u001b[32m0.69143\u001b[0m\u001b[0m\n\u001b[2K\r| SGD | epoch: 003 | loss: 0.69143 - acc: 0.5301 -- iter: 01280/20250\n"
     ]
    },
    {
     "name": "stdout",
     "output_type": "stream",
     "text": [
      "Training Step: 488  | total loss: \u001b[1m\u001b[32m0.69067\u001b[0m\u001b[0m\n\u001b[2K\r| SGD | epoch: 003 | loss: 0.69067 - acc: 0.5380 -- iter: 01408/20250\n"
     ]
    },
    {
     "name": "stdout",
     "output_type": "stream",
     "text": [
      "Training Step: 489  | total loss: \u001b[1m\u001b[32m0.69102\u001b[0m\u001b[0m\n\u001b[2K\r| SGD | epoch: 003 | loss: 0.69102 - acc: 0.5319 -- iter: 01536/20250\n"
     ]
    },
    {
     "name": "stdout",
     "output_type": "stream",
     "text": [
      "Training Step: 490  | total loss: \u001b[1m\u001b[32m0.69094\u001b[0m\u001b[0m\n\u001b[2K\r| SGD | epoch: 003 | loss: 0.69094 - acc: 0.5303 -- iter: 01664/20250\n"
     ]
    },
    {
     "name": "stdout",
     "output_type": "stream",
     "text": [
      "Training Step: 491  | total loss: \u001b[1m\u001b[32m0.69037\u001b[0m\u001b[0m\n\u001b[2K\r| SGD | epoch: 003 | loss: 0.69037 - acc: 0.5366 -- iter: 01792/20250\n"
     ]
    },
    {
     "name": "stdout",
     "output_type": "stream",
     "text": [
      "Training Step: 492  | total loss: \u001b[1m\u001b[32m0.68991\u001b[0m\u001b[0m\n\u001b[2K\r| SGD | epoch: 003 | loss: 0.68991 - acc: 0.5400 -- iter: 01920/20250\n"
     ]
    },
    {
     "name": "stdout",
     "output_type": "stream",
     "text": [
      "Training Step: 493  | total loss: \u001b[1m\u001b[32m0.69159\u001b[0m\u001b[0m\n\u001b[2K\r| SGD | epoch: 003 | loss: 0.69159 - acc: 0.5282 -- iter: 02048/20250\n"
     ]
    },
    {
     "name": "stdout",
     "output_type": "stream",
     "text": [
      "Training Step: 494  | total loss: \u001b[1m\u001b[32m0.69156\u001b[0m\u001b[0m\n\u001b[2K\r| SGD | epoch: 003 | loss: 0.69156 - acc: 0.5277 -- iter: 02176/20250\n"
     ]
    },
    {
     "name": "stdout",
     "output_type": "stream",
     "text": [
      "Training Step: 495  | total loss: \u001b[1m\u001b[32m0.69186\u001b[0m\u001b[0m\n\u001b[2K\r| SGD | epoch: 003 | loss: 0.69186 - acc: 0.5226 -- iter: 02304/20250\n"
     ]
    },
    {
     "name": "stdout",
     "output_type": "stream",
     "text": [
      "Training Step: 496  | total loss: \u001b[1m\u001b[32m0.69185\u001b[0m\u001b[0m\n\u001b[2K\r| SGD | epoch: 003 | loss: 0.69185 - acc: 0.5211 -- iter: 02432/20250\n"
     ]
    },
    {
     "name": "stdout",
     "output_type": "stream",
     "text": [
      "Training Step: 497  | total loss: \u001b[1m\u001b[32m0.69198\u001b[0m\u001b[0m\n\u001b[2K\r| SGD | epoch: 003 | loss: 0.69198 - acc: 0.5174 -- iter: 02560/20250\n"
     ]
    },
    {
     "name": "stdout",
     "output_type": "stream",
     "text": [
      "Training Step: 498  | total loss: \u001b[1m\u001b[32m0.69283\u001b[0m\u001b[0m\n\u001b[2K\r| SGD | epoch: 003 | loss: 0.69283 - acc: 0.5134 -- iter: 02688/20250\n"
     ]
    },
    {
     "name": "stdout",
     "output_type": "stream",
     "text": [
      "Training Step: 499  | total loss: \u001b[1m\u001b[32m0.69318\u001b[0m\u001b[0m\n\u001b[2K\r| SGD | epoch: 003 | loss: 0.69318 - acc: 0.5081 -- iter: 02816/20250\n"
     ]
    },
    {
     "name": "stdout",
     "output_type": "stream",
     "text": [
      "Training Step: 500  | total loss: \u001b[1m\u001b[32m0.69287\u001b[0m\u001b[0m\n\u001b[2K\r| SGD | epoch: 003 | loss: 0.69287 - acc: 0.5128 -- iter: 02944/20250\n"
     ]
    },
    {
     "name": "stdout",
     "output_type": "stream",
     "text": [
      "Training Step: 501  | total loss: \u001b[1m\u001b[32m0.69246\u001b[0m\u001b[0m\n\u001b[2K\r| SGD | epoch: 003 | loss: 0.69246 - acc: 0.5131 -- iter: 03072/20250\n"
     ]
    },
    {
     "name": "stdout",
     "output_type": "stream",
     "text": [
      "Training Step: 502  | total loss: \u001b[1m\u001b[32m0.69237\u001b[0m\u001b[0m\n\u001b[2K\r| SGD | epoch: 003 | loss: 0.69237 - acc: 0.5086 -- iter: 03200/20250\n"
     ]
    },
    {
     "name": "stdout",
     "output_type": "stream",
     "text": [
      "Training Step: 503  | total loss: \u001b[1m\u001b[32m0.69198\u001b[0m\u001b[0m\n\u001b[2K\r| SGD | epoch: 003 | loss: 0.69198 - acc: 0.5093 -- iter: 03328/20250\n"
     ]
    },
    {
     "name": "stdout",
     "output_type": "stream",
     "text": [
      "Training Step: 504  | total loss: \u001b[1m\u001b[32m0.69192\u001b[0m\u001b[0m\n\u001b[2K\r| SGD | epoch: 003 | loss: 0.69192 - acc: 0.5115 -- iter: 03456/20250\n"
     ]
    },
    {
     "name": "stdout",
     "output_type": "stream",
     "text": [
      "Training Step: 505  | total loss: \u001b[1m\u001b[32m0.69077\u001b[0m\u001b[0m\n\u001b[2K\r| SGD | epoch: 003 | loss: 0.69077 - acc: 0.5182 -- iter: 03584/20250\n"
     ]
    },
    {
     "name": "stdout",
     "output_type": "stream",
     "text": [
      "Training Step: 506  | total loss: \u001b[1m\u001b[32m0.69215\u001b[0m\u001b[0m\n\u001b[2K\r| SGD | epoch: 003 | loss: 0.69215 - acc: 0.5101 -- iter: 03712/20250\n"
     ]
    },
    {
     "name": "stdout",
     "output_type": "stream",
     "text": [
      "Training Step: 507  | total loss: \u001b[1m\u001b[32m0.69077\u001b[0m\u001b[0m\n\u001b[2K\r| SGD | epoch: 003 | loss: 0.69077 - acc: 0.5169 -- iter: 03840/20250\n"
     ]
    },
    {
     "name": "stdout",
     "output_type": "stream",
     "text": [
      "Training Step: 508  | total loss: \u001b[1m\u001b[32m0.69024\u001b[0m\u001b[0m\n\u001b[2K\r| SGD | epoch: 003 | loss: 0.69024 - acc: 0.5269 -- iter: 03968/20250\n"
     ]
    },
    {
     "name": "stdout",
     "output_type": "stream",
     "text": [
      "Training Step: 509  | total loss: \u001b[1m\u001b[32m0.68956\u001b[0m\u001b[0m\n\u001b[2K\r| SGD | epoch: 003 | loss: 0.68956 - acc: 0.5313 -- iter: 04096/20250\n"
     ]
    },
    {
     "name": "stdout",
     "output_type": "stream",
     "text": [
      "Training Step: 510  | total loss: \u001b[1m\u001b[32m0.69094\u001b[0m\u001b[0m\n\u001b[2K\r| SGD | epoch: 003 | loss: 0.69094 - acc: 0.5313 -- iter: 04224/20250\n"
     ]
    },
    {
     "name": "stdout",
     "output_type": "stream",
     "text": [
      "Training Step: 511  | total loss: \u001b[1m\u001b[32m0.68993\u001b[0m\u001b[0m\n\u001b[2K\r| SGD | epoch: 003 | loss: 0.68993 - acc: 0.5383 -- iter: 04352/20250\n"
     ]
    },
    {
     "name": "stdout",
     "output_type": "stream",
     "text": [
      "Training Step: 512  | total loss: \u001b[1m\u001b[32m0.68893\u001b[0m\u001b[0m\n\u001b[2K\r| SGD | epoch: 003 | loss: 0.68893 - acc: 0.5438 -- iter: 04480/20250\n"
     ]
    },
    {
     "name": "stdout",
     "output_type": "stream",
     "text": [
      "Training Step: 513  | total loss: \u001b[1m\u001b[32m0.68841\u001b[0m\u001b[0m\n\u001b[2K\r| SGD | epoch: 003 | loss: 0.68841 - acc: 0.5504 -- iter: 04608/20250\n"
     ]
    },
    {
     "name": "stdout",
     "output_type": "stream",
     "text": [
      "Training Step: 514  | total loss: \u001b[1m\u001b[32m0.68656\u001b[0m\u001b[0m\n\u001b[2K\r| SGD | epoch: 003 | loss: 0.68656 - acc: 0.5555 -- iter: 04736/20250\n"
     ]
    },
    {
     "name": "stdout",
     "output_type": "stream",
     "text": [
      "Training Step: 515  | total loss: \u001b[1m\u001b[32m0.68951\u001b[0m\u001b[0m\n\u001b[2K\r| SGD | epoch: 003 | loss: 0.68951 - acc: 0.5492 -- iter: 04864/20250\n"
     ]
    },
    {
     "name": "stdout",
     "output_type": "stream",
     "text": [
      "Training Step: 516  | total loss: \u001b[1m\u001b[32m0.68889\u001b[0m\u001b[0m\n\u001b[2K\r| SGD | epoch: 003 | loss: 0.68889 - acc: 0.5505 -- iter: 04992/20250\n"
     ]
    },
    {
     "name": "stdout",
     "output_type": "stream",
     "text": [
      "Training Step: 517  | total loss: \u001b[1m\u001b[32m0.68863\u001b[0m\u001b[0m\n\u001b[2K\r| SGD | epoch: 003 | loss: 0.68863 - acc: 0.5494 -- iter: 05120/20250\n"
     ]
    },
    {
     "name": "stdout",
     "output_type": "stream",
     "text": [
      "Training Step: 518  | total loss: \u001b[1m\u001b[32m0.68767\u001b[0m\u001b[0m\n\u001b[2K\r| SGD | epoch: 003 | loss: 0.68767 - acc: 0.5546 -- iter: 05248/20250\n"
     ]
    },
    {
     "name": "stdout",
     "output_type": "stream",
     "text": [
      "Training Step: 519  | total loss: \u001b[1m\u001b[32m0.68676\u001b[0m\u001b[0m\n\u001b[2K\r| SGD | epoch: 003 | loss: 0.68676 - acc: 0.5569 -- iter: 05376/20250\n"
     ]
    },
    {
     "name": "stdout",
     "output_type": "stream",
     "text": [
      "Training Step: 520  | total loss: \u001b[1m\u001b[32m0.68674\u001b[0m\u001b[0m\n\u001b[2K\r| SGD | epoch: 003 | loss: 0.68674 - acc: 0.5583 -- iter: 05504/20250\n"
     ]
    },
    {
     "name": "stdout",
     "output_type": "stream",
     "text": [
      "Training Step: 521  | total loss: \u001b[1m\u001b[32m0.68688\u001b[0m\u001b[0m\n\u001b[2K\r| SGD | epoch: 003 | loss: 0.68688 - acc: 0.5548 -- iter: 05632/20250\n"
     ]
    },
    {
     "name": "stdout",
     "output_type": "stream",
     "text": [
      "Training Step: 522  | total loss: \u001b[1m\u001b[32m0.68541\u001b[0m\u001b[0m\n\u001b[2K\r| SGD | epoch: 003 | loss: 0.68541 - acc: 0.5603 -- iter: 05760/20250\n"
     ]
    },
    {
     "name": "stdout",
     "output_type": "stream",
     "text": [
      "Training Step: 523  | total loss: \u001b[1m\u001b[32m0.68414\u001b[0m\u001b[0m\n\u001b[2K\r| SGD | epoch: 003 | loss: 0.68414 - acc: 0.5644 -- iter: 05888/20250\n"
     ]
    },
    {
     "name": "stdout",
     "output_type": "stream",
     "text": [
      "Training Step: 524  | total loss: \u001b[1m\u001b[32m0.68582\u001b[0m\u001b[0m\n\u001b[2K\r| SGD | epoch: 003 | loss: 0.68582 - acc: 0.5603 -- iter: 06016/20250\n"
     ]
    },
    {
     "name": "stdout",
     "output_type": "stream",
     "text": [
      "Training Step: 525  | total loss: \u001b[1m\u001b[32m0.68591\u001b[0m\u001b[0m\n\u001b[2K\r| SGD | epoch: 003 | loss: 0.68591 - acc: 0.5668 -- iter: 06144/20250\n"
     ]
    },
    {
     "name": "stdout",
     "output_type": "stream",
     "text": [
      "Training Step: 526  | total loss: \u001b[1m\u001b[32m0.68555\u001b[0m\u001b[0m\n\u001b[2K\r| SGD | epoch: 003 | loss: 0.68555 - acc: 0.5710 -- iter: 06272/20250\n"
     ]
    },
    {
     "name": "stdout",
     "output_type": "stream",
     "text": [
      "Training Step: 527  | total loss: \u001b[1m\u001b[32m0.68618\u001b[0m\u001b[0m\n\u001b[2K\r| SGD | epoch: 003 | loss: 0.68618 - acc: 0.5694 -- iter: 06400/20250\n"
     ]
    },
    {
     "name": "stdout",
     "output_type": "stream",
     "text": [
      "Training Step: 528  | total loss: \u001b[1m\u001b[32m0.68403\u001b[0m\u001b[0m\n\u001b[2K\r| SGD | epoch: 003 | loss: 0.68403 - acc: 0.5781 -- iter: 06528/20250\n"
     ]
    },
    {
     "name": "stdout",
     "output_type": "stream",
     "text": [
      "Training Step: 529  | total loss: \u001b[1m\u001b[32m0.68525\u001b[0m\u001b[0m\n\u001b[2K\r| SGD | epoch: 003 | loss: 0.68525 - acc: 0.5710 -- iter: 06656/20250\n"
     ]
    },
    {
     "name": "stdout",
     "output_type": "stream",
     "text": [
      "Training Step: 530  | total loss: \u001b[1m\u001b[32m0.68577\u001b[0m\u001b[0m\n\u001b[2K\r| SGD | epoch: 003 | loss: 0.68577 - acc: 0.5671 -- iter: 06784/20250\n"
     ]
    },
    {
     "name": "stdout",
     "output_type": "stream",
     "text": [
      "Training Step: 531  | total loss: \u001b[1m\u001b[32m0.68498\u001b[0m\u001b[0m\n\u001b[2K\r| SGD | epoch: 003 | loss: 0.68498 - acc: 0.5690 -- iter: 06912/20250\n"
     ]
    },
    {
     "name": "stdout",
     "output_type": "stream",
     "text": [
      "Training Step: 532  | total loss: \u001b[1m\u001b[32m0.68535\u001b[0m\u001b[0m\n\u001b[2K\r| SGD | epoch: 003 | loss: 0.68535 - acc: 0.5667 -- iter: 07040/20250\n"
     ]
    },
    {
     "name": "stdout",
     "output_type": "stream",
     "text": [
      "Training Step: 533  | total loss: \u001b[1m\u001b[32m0.68426\u001b[0m\u001b[0m\n\u001b[2K\r| SGD | epoch: 003 | loss: 0.68426 - acc: 0.5726 -- iter: 07168/20250\n"
     ]
    },
    {
     "name": "stdout",
     "output_type": "stream",
     "text": [
      "Training Step: 534  | total loss: \u001b[1m\u001b[32m0.68398\u001b[0m\u001b[0m\n\u001b[2K\r| SGD | epoch: 003 | loss: 0.68398 - acc: 0.5778 -- iter: 07296/20250\n"
     ]
    },
    {
     "name": "stdout",
     "output_type": "stream",
     "text": [
      "Training Step: 535  | total loss: \u001b[1m\u001b[32m0.68274\u001b[0m\u001b[0m\n\u001b[2K\r| SGD | epoch: 003 | loss: 0.68274 - acc: 0.5763 -- iter: 07424/20250\n"
     ]
    },
    {
     "name": "stdout",
     "output_type": "stream",
     "text": [
      "Training Step: 536  | total loss: \u001b[1m\u001b[32m0.68041\u001b[0m\u001b[0m\n\u001b[2K\r| SGD | epoch: 003 | loss: 0.68041 - acc: 0.5897 -- iter: 07552/20250\n"
     ]
    },
    {
     "name": "stdout",
     "output_type": "stream",
     "text": [
      "Training Step: 537  | total loss: \u001b[1m\u001b[32m0.68300\u001b[0m\u001b[0m\n\u001b[2K\r| SGD | epoch: 003 | loss: 0.68300 - acc: 0.5901 -- iter: 07680/20250\n"
     ]
    },
    {
     "name": "stdout",
     "output_type": "stream",
     "text": [
      "Training Step: 538  | total loss: \u001b[1m\u001b[32m0.68315\u001b[0m\u001b[0m\n\u001b[2K\r| SGD | epoch: 003 | loss: 0.68315 - acc: 0.5866 -- iter: 07808/20250\n"
     ]
    },
    {
     "name": "stdout",
     "output_type": "stream",
     "text": [
      "Training Step: 539  | total loss: \u001b[1m\u001b[32m0.68389\u001b[0m\u001b[0m\n\u001b[2K\r| SGD | epoch: 003 | loss: 0.68389 - acc: 0.5811 -- iter: 07936/20250\n"
     ]
    },
    {
     "name": "stdout",
     "output_type": "stream",
     "text": [
      "Training Step: 540  | total loss: \u001b[1m\u001b[32m0.68470\u001b[0m\u001b[0m\n\u001b[2K\r| SGD | epoch: 003 | loss: 0.68470 - acc: 0.5722 -- iter: 08064/20250\n"
     ]
    },
    {
     "name": "stdout",
     "output_type": "stream",
     "text": [
      "Training Step: 541  | total loss: \u001b[1m\u001b[32m0.68437\u001b[0m\u001b[0m\n\u001b[2K\r| SGD | epoch: 003 | loss: 0.68437 - acc: 0.5712 -- iter: 08192/20250\n"
     ]
    },
    {
     "name": "stdout",
     "output_type": "stream",
     "text": [
      "Training Step: 542  | total loss: \u001b[1m\u001b[32m0.68252\u001b[0m\u001b[0m\n\u001b[2K\r| SGD | epoch: 003 | loss: 0.68252 - acc: 0.5742 -- iter: 08320/20250\n"
     ]
    },
    {
     "name": "stdout",
     "output_type": "stream",
     "text": [
      "Training Step: 543  | total loss: \u001b[1m\u001b[32m0.68276\u001b[0m\u001b[0m\n\u001b[2K\r| SGD | epoch: 003 | loss: 0.68276 - acc: 0.5739 -- iter: 08448/20250\n"
     ]
    },
    {
     "name": "stdout",
     "output_type": "stream",
     "text": [
      "Training Step: 544  | total loss: \u001b[1m\u001b[32m0.68194\u001b[0m\u001b[0m\n\u001b[2K\r| SGD | epoch: 003 | loss: 0.68194 - acc: 0.5719 -- iter: 08576/20250\n"
     ]
    },
    {
     "name": "stdout",
     "output_type": "stream",
     "text": [
      "Training Step: 545  | total loss: \u001b[1m\u001b[32m0.68046\u001b[0m\u001b[0m\n\u001b[2K\r| SGD | epoch: 003 | loss: 0.68046 - acc: 0.5827 -- iter: 08704/20250\n"
     ]
    },
    {
     "name": "stdout",
     "output_type": "stream",
     "text": [
      "Training Step: 546  | total loss: \u001b[1m\u001b[32m0.68124\u001b[0m\u001b[0m\n\u001b[2K\r| SGD | epoch: 003 | loss: 0.68124 - acc: 0.5846 -- iter: 08832/20250\n"
     ]
    },
    {
     "name": "stdout",
     "output_type": "stream",
     "text": [
      "Training Step: 547  | total loss: \u001b[1m\u001b[32m0.67733\u001b[0m\u001b[0m\n\u001b[2K\r| SGD | epoch: 003 | loss: 0.67733 - acc: 0.5871 -- iter: 08960/20250\n"
     ]
    },
    {
     "name": "stdout",
     "output_type": "stream",
     "text": [
      "Training Step: 548  | total loss: \u001b[1m\u001b[32m0.67974\u001b[0m\u001b[0m\n\u001b[2K\r| SGD | epoch: 003 | loss: 0.67974 - acc: 0.5791 -- iter: 09088/20250\n"
     ]
    },
    {
     "name": "stdout",
     "output_type": "stream",
     "text": [
      "Training Step: 549  | total loss: \u001b[1m\u001b[32m0.68142\u001b[0m\u001b[0m\n\u001b[2K\r| SGD | epoch: 003 | loss: 0.68142 - acc: 0.5712 -- iter: 09216/20250\n"
     ]
    },
    {
     "name": "stdout",
     "output_type": "stream",
     "text": [
      "Training Step: 550  | total loss: \u001b[1m\u001b[32m0.68309\u001b[0m\u001b[0m\n\u001b[2K\r| SGD | epoch: 003 | loss: 0.68309 - acc: 0.5633 -- iter: 09344/20250\n"
     ]
    },
    {
     "name": "stdout",
     "output_type": "stream",
     "text": [
      "Training Step: 551  | total loss: \u001b[1m\u001b[32m0.68193\u001b[0m\u001b[0m\n\u001b[2K\r| SGD | epoch: 003 | loss: 0.68193 - acc: 0.5648 -- iter: 09472/20250\n"
     ]
    },
    {
     "name": "stdout",
     "output_type": "stream",
     "text": [
      "Training Step: 552  | total loss: \u001b[1m\u001b[32m0.68335\u001b[0m\u001b[0m\n\u001b[2K\r| SGD | epoch: 003 | loss: 0.68335 - acc: 0.5568 -- iter: 09600/20250\n"
     ]
    },
    {
     "name": "stdout",
     "output_type": "stream",
     "text": [
      "Training Step: 553  | total loss: \u001b[1m\u001b[32m0.68311\u001b[0m\u001b[0m\n\u001b[2K\r| SGD | epoch: 003 | loss: 0.68311 - acc: 0.5589 -- iter: 09728/20250\n"
     ]
    },
    {
     "name": "stdout",
     "output_type": "stream",
     "text": [
      "Training Step: 554  | total loss: \u001b[1m\u001b[32m0.68215\u001b[0m\u001b[0m\n\u001b[2K\r| SGD | epoch: 003 | loss: 0.68215 - acc: 0.5600 -- iter: 09856/20250\n"
     ]
    },
    {
     "name": "stdout",
     "output_type": "stream",
     "text": [
      "Training Step: 555  | total loss: \u001b[1m\u001b[32m0.68113\u001b[0m\u001b[0m\n\u001b[2K\r| SGD | epoch: 003 | loss: 0.68113 - acc: 0.5704 -- iter: 09984/20250\n"
     ]
    },
    {
     "name": "stdout",
     "output_type": "stream",
     "text": [
      "Training Step: 556  | total loss: \u001b[1m\u001b[32m0.67760\u001b[0m\u001b[0m\n\u001b[2K\r| SGD | epoch: 003 | loss: 0.67760 - acc: 0.5736 -- iter: 10112/20250\n"
     ]
    },
    {
     "name": "stdout",
     "output_type": "stream",
     "text": [
      "Training Step: 557  | total loss: \u001b[1m\u001b[32m0.67581\u001b[0m\u001b[0m\n\u001b[2K\r| SGD | epoch: 003 | loss: 0.67581 - acc: 0.5779 -- iter: 10240/20250\n"
     ]
    },
    {
     "name": "stdout",
     "output_type": "stream",
     "text": [
      "Training Step: 558  | total loss: \u001b[1m\u001b[32m0.67778\u001b[0m\u001b[0m\n\u001b[2K\r| SGD | epoch: 003 | loss: 0.67778 - acc: 0.5725 -- iter: 10368/20250\n"
     ]
    },
    {
     "name": "stdout",
     "output_type": "stream",
     "text": [
      "Training Step: 559  | total loss: \u001b[1m\u001b[32m0.67855\u001b[0m\u001b[0m\n\u001b[2K\r| SGD | epoch: 003 | loss: 0.67855 - acc: 0.5723 -- iter: 10496/20250\n"
     ]
    },
    {
     "name": "stdout",
     "output_type": "stream",
     "text": [
      "Training Step: 560  | total loss: \u001b[1m\u001b[32m0.67933\u001b[0m\u001b[0m\n\u001b[2K\r| SGD | epoch: 003 | loss: 0.67933 - acc: 0.5713 -- iter: 10624/20250\n"
     ]
    },
    {
     "name": "stdout",
     "output_type": "stream",
     "text": [
      "Training Step: 561  | total loss: \u001b[1m\u001b[32m0.67938\u001b[0m\u001b[0m\n\u001b[2K\r| SGD | epoch: 003 | loss: 0.67938 - acc: 0.5720 -- iter: 10752/20250\n"
     ]
    },
    {
     "name": "stdout",
     "output_type": "stream",
     "text": [
      "Training Step: 562  | total loss: \u001b[1m\u001b[32m0.67796\u001b[0m\u001b[0m\n\u001b[2K\r| SGD | epoch: 003 | loss: 0.67796 - acc: 0.5765 -- iter: 10880/20250\n"
     ]
    },
    {
     "name": "stdout",
     "output_type": "stream",
     "text": [
      "Training Step: 563  | total loss: \u001b[1m\u001b[32m0.67699\u001b[0m\u001b[0m\n\u001b[2K\r| SGD | epoch: 003 | loss: 0.67699 - acc: 0.5845 -- iter: 11008/20250\n"
     ]
    },
    {
     "name": "stdout",
     "output_type": "stream",
     "text": [
      "Training Step: 564  | total loss: \u001b[1m\u001b[32m0.67708\u001b[0m\u001b[0m\n\u001b[2K\r| SGD | epoch: 003 | loss: 0.67708 - acc: 0.5854 -- iter: 11136/20250\n"
     ]
    },
    {
     "name": "stdout",
     "output_type": "stream",
     "text": [
      "Training Step: 565  | total loss: \u001b[1m\u001b[32m0.67581\u001b[0m\u001b[0m\n\u001b[2K\r| SGD | epoch: 003 | loss: 0.67581 - acc: 0.5925 -- iter: 11264/20250\n"
     ]
    },
    {
     "name": "stdout",
     "output_type": "stream",
     "text": [
      "Training Step: 566  | total loss: \u001b[1m\u001b[32m0.67393\u001b[0m\u001b[0m\n\u001b[2K\r| SGD | epoch: 003 | loss: 0.67393 - acc: 0.5949 -- iter: 11392/20250\n"
     ]
    },
    {
     "name": "stdout",
     "output_type": "stream",
     "text": [
      "Training Step: 567  | total loss: \u001b[1m\u001b[32m0.67366\u001b[0m\u001b[0m\n\u001b[2K\r| SGD | epoch: 003 | loss: 0.67366 - acc: 0.6003 -- iter: 11520/20250\n"
     ]
    },
    {
     "name": "stdout",
     "output_type": "stream",
     "text": [
      "Training Step: 568  | total loss: \u001b[1m\u001b[32m0.67304\u001b[0m\u001b[0m\n\u001b[2K\r| SGD | epoch: 003 | loss: 0.67304 - acc: 0.5981 -- iter: 11648/20250\n"
     ]
    },
    {
     "name": "stdout",
     "output_type": "stream",
     "text": [
      "Training Step: 569  | total loss: \u001b[1m\u001b[32m0.67335\u001b[0m\u001b[0m\n\u001b[2K\r| SGD | epoch: 003 | loss: 0.67335 - acc: 0.5930 -- iter: 11776/20250\n"
     ]
    },
    {
     "name": "stdout",
     "output_type": "stream",
     "text": [
      "Training Step: 570  | total loss: \u001b[1m\u001b[32m0.67867\u001b[0m\u001b[0m\n\u001b[2K\r| SGD | epoch: 003 | loss: 0.67867 - acc: 0.5891 -- iter: 11904/20250\n"
     ]
    },
    {
     "name": "stdout",
     "output_type": "stream",
     "text": [
      "Training Step: 571  | total loss: \u001b[1m\u001b[32m0.68076\u001b[0m\u001b[0m\n\u001b[2K\r| SGD | epoch: 003 | loss: 0.68076 - acc: 0.5802 -- iter: 12032/20250\n"
     ]
    },
    {
     "name": "stdout",
     "output_type": "stream",
     "text": [
      "Training Step: 572  | total loss: \u001b[1m\u001b[32m0.68052\u001b[0m\u001b[0m\n\u001b[2K\r| SGD | epoch: 003 | loss: 0.68052 - acc: 0.5808 -- iter: 12160/20250\n"
     ]
    },
    {
     "name": "stdout",
     "output_type": "stream",
     "text": [
      "Training Step: 573  | total loss: \u001b[1m\u001b[32m0.68121\u001b[0m\u001b[0m\n\u001b[2K\r| SGD | epoch: 003 | loss: 0.68121 - acc: 0.5743 -- iter: 12288/20250\n"
     ]
    },
    {
     "name": "stdout",
     "output_type": "stream",
     "text": [
      "Training Step: 574  | total loss: \u001b[1m\u001b[32m0.67892\u001b[0m\u001b[0m\n\u001b[2K\r| SGD | epoch: 003 | loss: 0.67892 - acc: 0.5840 -- iter: 12416/20250\n"
     ]
    },
    {
     "name": "stdout",
     "output_type": "stream",
     "text": [
      "Training Step: 575  | total loss: \u001b[1m\u001b[32m0.68338\u001b[0m\u001b[0m\n\u001b[2K\r| SGD | epoch: 003 | loss: 0.68338 - acc: 0.5795 -- iter: 12544/20250\n"
     ]
    },
    {
     "name": "stdout",
     "output_type": "stream",
     "text": [
      "Training Step: 576  | total loss: \u001b[1m\u001b[32m0.68485\u001b[0m\u001b[0m\n\u001b[2K\r| SGD | epoch: 003 | loss: 0.68485 - acc: 0.5708 -- iter: 12672/20250\n"
     ]
    },
    {
     "name": "stdout",
     "output_type": "stream",
     "text": [
      "Training Step: 577  | total loss: \u001b[1m\u001b[32m0.68492\u001b[0m\u001b[0m\n\u001b[2K\r| SGD | epoch: 003 | loss: 0.68492 - acc: 0.5676 -- iter: 12800/20250\n"
     ]
    },
    {
     "name": "stdout",
     "output_type": "stream",
     "text": [
      "Training Step: 578  | total loss: \u001b[1m\u001b[32m0.68781\u001b[0m\u001b[0m\n\u001b[2K\r| SGD | epoch: 003 | loss: 0.68781 - acc: 0.5648 -- iter: 12928/20250\n"
     ]
    },
    {
     "name": "stdout",
     "output_type": "stream",
     "text": [
      "Training Step: 579  | total loss: \u001b[1m\u001b[32m0.68671\u001b[0m\u001b[0m\n\u001b[2K\r| SGD | epoch: 003 | loss: 0.68671 - acc: 0.5685 -- iter: 13056/20250\n"
     ]
    },
    {
     "name": "stdout",
     "output_type": "stream",
     "text": [
      "Training Step: 580  | total loss: \u001b[1m\u001b[32m0.68700\u001b[0m\u001b[0m\n\u001b[2K\r| SGD | epoch: 003 | loss: 0.68700 - acc: 0.5639 -- iter: 13184/20250\n"
     ]
    },
    {
     "name": "stdout",
     "output_type": "stream",
     "text": [
      "Training Step: 581  | total loss: \u001b[1m\u001b[32m0.68711\u001b[0m\u001b[0m\n\u001b[2K\r| SGD | epoch: 003 | loss: 0.68711 - acc: 0.5607 -- iter: 13312/20250\n"
     ]
    },
    {
     "name": "stdout",
     "output_type": "stream",
     "text": [
      "Training Step: 582  | total loss: \u001b[1m\u001b[32m0.68493\u001b[0m\u001b[0m\n\u001b[2K\r| SGD | epoch: 003 | loss: 0.68493 - acc: 0.5687 -- iter: 13440/20250\n"
     ]
    },
    {
     "name": "stdout",
     "output_type": "stream",
     "text": [
      "Training Step: 583  | total loss: \u001b[1m\u001b[32m0.68225\u001b[0m\u001b[0m\n\u001b[2K\r| SGD | epoch: 003 | loss: 0.68225 - acc: 0.5743 -- iter: 13568/20250\n"
     ]
    },
    {
     "name": "stdout",
     "output_type": "stream",
     "text": [
      "Training Step: 584  | total loss: \u001b[1m\u001b[32m0.68297\u001b[0m\u001b[0m\n\u001b[2K\r| SGD | epoch: 003 | loss: 0.68297 - acc: 0.5708 -- iter: 13696/20250\n"
     ]
    },
    {
     "name": "stdout",
     "output_type": "stream",
     "text": [
      "Training Step: 585  | total loss: \u001b[1m\u001b[32m0.68185\u001b[0m\u001b[0m\n\u001b[2K\r| SGD | epoch: 003 | loss: 0.68185 - acc: 0.5746 -- iter: 13824/20250\n"
     ]
    },
    {
     "name": "stdout",
     "output_type": "stream",
     "text": [
      "Training Step: 586  | total loss: \u001b[1m\u001b[32m0.68170\u001b[0m\u001b[0m\n\u001b[2K\r| SGD | epoch: 003 | loss: 0.68170 - acc: 0.5766 -- iter: 13952/20250\n"
     ]
    },
    {
     "name": "stdout",
     "output_type": "stream",
     "text": [
      "Training Step: 587  | total loss: \u001b[1m\u001b[32m0.68143\u001b[0m\u001b[0m\n\u001b[2K\r| SGD | epoch: 003 | loss: 0.68143 - acc: 0.5728 -- iter: 14080/20250\n"
     ]
    },
    {
     "name": "stdout",
     "output_type": "stream",
     "text": [
      "Training Step: 588  | total loss: \u001b[1m\u001b[32m0.68219\u001b[0m\u001b[0m\n\u001b[2K\r| SGD | epoch: 003 | loss: 0.68219 - acc: 0.5686 -- iter: 14208/20250\n"
     ]
    },
    {
     "name": "stdout",
     "output_type": "stream",
     "text": [
      "Training Step: 589  | total loss: \u001b[1m\u001b[32m0.68330\u001b[0m\u001b[0m\n\u001b[2K\r| SGD | epoch: 003 | loss: 0.68330 - acc: 0.5626 -- iter: 14336/20250\n"
     ]
    },
    {
     "name": "stdout",
     "output_type": "stream",
     "text": [
      "Training Step: 590  | total loss: \u001b[1m\u001b[32m0.68147\u001b[0m\u001b[0m\n\u001b[2K\r| SGD | epoch: 003 | loss: 0.68147 - acc: 0.5680 -- iter: 14464/20250\n"
     ]
    },
    {
     "name": "stdout",
     "output_type": "stream",
     "text": [
      "Training Step: 591  | total loss: \u001b[1m\u001b[32m0.68437\u001b[0m\u001b[0m\n\u001b[2K\r| SGD | epoch: 003 | loss: 0.68437 - acc: 0.5659 -- iter: 14592/20250\n"
     ]
    },
    {
     "name": "stdout",
     "output_type": "stream",
     "text": [
      "Training Step: 592  | total loss: \u001b[1m\u001b[32m0.68618\u001b[0m\u001b[0m\n\u001b[2K\r| SGD | epoch: 003 | loss: 0.68618 - acc: 0.5562 -- iter: 14720/20250\n"
     ]
    },
    {
     "name": "stdout",
     "output_type": "stream",
     "text": [
      "Training Step: 593  | total loss: \u001b[1m\u001b[32m0.68716\u001b[0m\u001b[0m\n\u001b[2K\r| SGD | epoch: 003 | loss: 0.68716 - acc: 0.5521 -- iter: 14848/20250\n"
     ]
    },
    {
     "name": "stdout",
     "output_type": "stream",
     "text": [
      "Training Step: 594  | total loss: \u001b[1m\u001b[32m0.68728\u001b[0m\u001b[0m\n\u001b[2K\r| SGD | epoch: 003 | loss: 0.68728 - acc: 0.5524 -- iter: 14976/20250\n"
     ]
    },
    {
     "name": "stdout",
     "output_type": "stream",
     "text": [
      "Training Step: 595  | total loss: \u001b[1m\u001b[32m0.68720\u001b[0m\u001b[0m\n\u001b[2K\r| SGD | epoch: 003 | loss: 0.68720 - acc: 0.5518 -- iter: 15104/20250\n"
     ]
    },
    {
     "name": "stdout",
     "output_type": "stream",
     "text": [
      "Training Step: 596  | total loss: \u001b[1m\u001b[32m0.68690\u001b[0m\u001b[0m\n\u001b[2K\r| SGD | epoch: 003 | loss: 0.68690 - acc: 0.5553 -- iter: 15232/20250\n"
     ]
    },
    {
     "name": "stdout",
     "output_type": "stream",
     "text": [
      "Training Step: 597  | total loss: \u001b[1m\u001b[32m0.68668\u001b[0m\u001b[0m\n\u001b[2K\r| SGD | epoch: 003 | loss: 0.68668 - acc: 0.5544 -- iter: 15360/20250\n"
     ]
    },
    {
     "name": "stdout",
     "output_type": "stream",
     "text": [
      "Training Step: 598  | total loss: \u001b[1m\u001b[32m0.68660\u001b[0m\u001b[0m\n\u001b[2K\r| SGD | epoch: 003 | loss: 0.68660 - acc: 0.5537 -- iter: 15488/20250\n"
     ]
    },
    {
     "name": "stdout",
     "output_type": "stream",
     "text": [
      "Training Step: 599  | total loss: \u001b[1m\u001b[32m0.68568\u001b[0m\u001b[0m\n\u001b[2K\r| SGD | epoch: 003 | loss: 0.68568 - acc: 0.5600 -- iter: 15616/20250\n"
     ]
    },
    {
     "name": "stdout",
     "output_type": "stream",
     "text": [
      "Training Step: 600  | total loss: \u001b[1m\u001b[32m0.68479\u001b[0m\u001b[0m\n\u001b[2K\r| SGD | epoch: 003 | loss: 0.68479 - acc: 0.5579 -- iter: 15744/20250\n"
     ]
    },
    {
     "name": "stdout",
     "output_type": "stream",
     "text": [
      "Training Step: 601  | total loss: \u001b[1m\u001b[32m0.68492\u001b[0m\u001b[0m\n\u001b[2K\r| SGD | epoch: 003 | loss: 0.68492 - acc: 0.5560 -- iter: 15872/20250\n"
     ]
    },
    {
     "name": "stdout",
     "output_type": "stream",
     "text": [
      "Training Step: 602  | total loss: \u001b[1m\u001b[32m0.68426\u001b[0m\u001b[0m\n\u001b[2K\r| SGD | epoch: 003 | loss: 0.68426 - acc: 0.5575 -- iter: 16000/20250\n"
     ]
    },
    {
     "name": "stdout",
     "output_type": "stream",
     "text": [
      "Training Step: 603  | total loss: \u001b[1m\u001b[32m0.68284\u001b[0m\u001b[0m\n\u001b[2K\r| SGD | epoch: 003 | loss: 0.68284 - acc: 0.5634 -- iter: 16128/20250\n"
     ]
    },
    {
     "name": "stdout",
     "output_type": "stream",
     "text": [
      "Training Step: 604  | total loss: \u001b[1m\u001b[32m0.68400\u001b[0m\u001b[0m\n\u001b[2K\r| SGD | epoch: 003 | loss: 0.68400 - acc: 0.5571 -- iter: 16256/20250\n"
     ]
    },
    {
     "name": "stdout",
     "output_type": "stream",
     "text": [
      "Training Step: 605  | total loss: \u001b[1m\u001b[32m0.68457\u001b[0m\u001b[0m\n\u001b[2K\r| SGD | epoch: 003 | loss: 0.68457 - acc: 0.5553 -- iter: 16384/20250\n"
     ]
    },
    {
     "name": "stdout",
     "output_type": "stream",
     "text": [
      "Training Step: 606  | total loss: \u001b[1m\u001b[32m0.68432\u001b[0m\u001b[0m\n\u001b[2K\r| SGD | epoch: 003 | loss: 0.68432 - acc: 0.5544 -- iter: 16512/20250\n"
     ]
    },
    {
     "name": "stdout",
     "output_type": "stream",
     "text": [
      "Training Step: 607  | total loss: \u001b[1m\u001b[32m0.68411\u001b[0m\u001b[0m\n\u001b[2K\r| SGD | epoch: 003 | loss: 0.68411 - acc: 0.5584 -- iter: 16640/20250\n"
     ]
    },
    {
     "name": "stdout",
     "output_type": "stream",
     "text": [
      "Training Step: 608  | total loss: \u001b[1m\u001b[32m0.68409\u001b[0m\u001b[0m\n\u001b[2K\r| SGD | epoch: 003 | loss: 0.68409 - acc: 0.5596 -- iter: 16768/20250\n"
     ]
    },
    {
     "name": "stdout",
     "output_type": "stream",
     "text": [
      "Training Step: 609  | total loss: \u001b[1m\u001b[32m0.68296\u001b[0m\u001b[0m\n\u001b[2K\r| SGD | epoch: 003 | loss: 0.68296 - acc: 0.5630 -- iter: 16896/20250\n"
     ]
    },
    {
     "name": "stdout",
     "output_type": "stream",
     "text": [
      "Training Step: 610  | total loss: \u001b[1m\u001b[32m0.68410\u001b[0m\u001b[0m\n\u001b[2K\r| SGD | epoch: 003 | loss: 0.68410 - acc: 0.5543 -- iter: 17024/20250\n"
     ]
    },
    {
     "name": "stdout",
     "output_type": "stream",
     "text": [
      "Training Step: 611  | total loss: \u001b[1m\u001b[32m0.68040\u001b[0m\u001b[0m\n\u001b[2K\r| SGD | epoch: 003 | loss: 0.68040 - acc: 0.5677 -- iter: 17152/20250\n"
     ]
    },
    {
     "name": "stdout",
     "output_type": "stream",
     "text": [
      "Training Step: 612  | total loss: \u001b[1m\u001b[32m0.68879\u001b[0m\u001b[0m\n\u001b[2K\r| SGD | epoch: 003 | loss: 0.68879 - acc: 0.5625 -- iter: 17280/20250\n"
     ]
    },
    {
     "name": "stdout",
     "output_type": "stream",
     "text": [
      "Training Step: 613  | total loss: \u001b[1m\u001b[32m0.68977\u001b[0m\u001b[0m\n\u001b[2K\r| SGD | epoch: 003 | loss: 0.68977 - acc: 0.5546 -- iter: 17408/20250\n"
     ]
    },
    {
     "name": "stdout",
     "output_type": "stream",
     "text": [
      "Training Step: 614  | total loss: \u001b[1m\u001b[32m0.68962\u001b[0m\u001b[0m\n\u001b[2K\r| SGD | epoch: 003 | loss: 0.68962 - acc: 0.5523 -- iter: 17536/20250\n"
     ]
    },
    {
     "name": "stdout",
     "output_type": "stream",
     "text": [
      "Training Step: 615  | total loss: \u001b[1m\u001b[32m0.68856\u001b[0m\u001b[0m\n\u001b[2K\r| SGD | epoch: 003 | loss: 0.68856 - acc: 0.5533 -- iter: 17664/20250\n"
     ]
    },
    {
     "name": "stdout",
     "output_type": "stream",
     "text": [
      "Training Step: 616  | total loss: \u001b[1m\u001b[32m0.68713\u001b[0m\u001b[0m\n\u001b[2K\r| SGD | epoch: 003 | loss: 0.68713 - acc: 0.5597 -- iter: 17792/20250\n"
     ]
    },
    {
     "name": "stdout",
     "output_type": "stream",
     "text": [
      "Training Step: 617  | total loss: \u001b[1m\u001b[32m0.68356\u001b[0m\u001b[0m\n\u001b[2K\r| SGD | epoch: 003 | loss: 0.68356 - acc: 0.5694 -- iter: 17920/20250\n"
     ]
    },
    {
     "name": "stdout",
     "output_type": "stream",
     "text": [
      "Training Step: 618  | total loss: \u001b[1m\u001b[32m0.68360\u001b[0m\u001b[0m\n\u001b[2K\r| SGD | epoch: 003 | loss: 0.68360 - acc: 0.5656 -- iter: 18048/20250\n"
     ]
    },
    {
     "name": "stdout",
     "output_type": "stream",
     "text": [
      "Training Step: 619  | total loss: \u001b[1m\u001b[32m0.68405\u001b[0m\u001b[0m\n\u001b[2K\r| SGD | epoch: 003 | loss: 0.68405 - acc: 0.5629 -- iter: 18176/20250\n"
     ]
    },
    {
     "name": "stdout",
     "output_type": "stream",
     "text": [
      "Training Step: 620  | total loss: \u001b[1m\u001b[32m0.68354\u001b[0m\u001b[0m\n\u001b[2K\r| SGD | epoch: 003 | loss: 0.68354 - acc: 0.5629 -- iter: 18304/20250\n"
     ]
    },
    {
     "name": "stdout",
     "output_type": "stream",
     "text": [
      "Training Step: 621  | total loss: \u001b[1m\u001b[32m0.68245\u001b[0m\u001b[0m\n\u001b[2K\r| SGD | epoch: 003 | loss: 0.68245 - acc: 0.5652 -- iter: 18432/20250\n"
     ]
    },
    {
     "name": "stdout",
     "output_type": "stream",
     "text": [
      "Training Step: 622  | total loss: \u001b[1m\u001b[32m0.68169\u001b[0m\u001b[0m\n\u001b[2K\r| SGD | epoch: 003 | loss: 0.68169 - acc: 0.5727 -- iter: 18560/20250\n"
     ]
    },
    {
     "name": "stdout",
     "output_type": "stream",
     "text": [
      "Training Step: 623  | total loss: \u001b[1m\u001b[32m0.68292\u001b[0m\u001b[0m\n\u001b[2K\r| SGD | epoch: 003 | loss: 0.68292 - acc: 0.5740 -- iter: 18688/20250\n"
     ]
    },
    {
     "name": "stdout",
     "output_type": "stream",
     "text": [
      "Training Step: 624  | total loss: \u001b[1m\u001b[32m0.68281\u001b[0m\u001b[0m\n\u001b[2K\r| SGD | epoch: 003 | loss: 0.68281 - acc: 0.5768 -- iter: 18816/20250\n"
     ]
    },
    {
     "name": "stdout",
     "output_type": "stream",
     "text": [
      "Training Step: 625  | total loss: \u001b[1m\u001b[32m0.67982\u001b[0m\u001b[0m\n\u001b[2K\r| SGD | epoch: 003 | loss: 0.67982 - acc: 0.5816 -- iter: 18944/20250\n"
     ]
    },
    {
     "name": "stdout",
     "output_type": "stream",
     "text": [
      "Training Step: 626  | total loss: \u001b[1m\u001b[32m0.68251\u001b[0m\u001b[0m\n\u001b[2K\r| SGD | epoch: 003 | loss: 0.68251 - acc: 0.5789 -- iter: 19072/20250\n"
     ]
    },
    {
     "name": "stdout",
     "output_type": "stream",
     "text": [
      "Training Step: 627  | total loss: \u001b[1m\u001b[32m0.68273\u001b[0m\u001b[0m\n\u001b[2K\r| SGD | epoch: 003 | loss: 0.68273 - acc: 0.5765 -- iter: 19200/20250\n"
     ]
    },
    {
     "name": "stdout",
     "output_type": "stream",
     "text": [
      "Training Step: 628  | total loss: \u001b[1m\u001b[32m0.68177\u001b[0m\u001b[0m\n\u001b[2K\r| SGD | epoch: 003 | loss: 0.68177 - acc: 0.5751 -- iter: 19328/20250\n"
     ]
    },
    {
     "name": "stdout",
     "output_type": "stream",
     "text": [
      "Training Step: 629  | total loss: \u001b[1m\u001b[32m0.68105\u001b[0m\u001b[0m\n\u001b[2K\r| SGD | epoch: 003 | loss: 0.68105 - acc: 0.5777 -- iter: 19456/20250\n"
     ]
    },
    {
     "name": "stdout",
     "output_type": "stream",
     "text": [
      "Training Step: 630  | total loss: \u001b[1m\u001b[32m0.68015\u001b[0m\u001b[0m\n\u001b[2K\r| SGD | epoch: 003 | loss: 0.68015 - acc: 0.5856 -- iter: 19584/20250\n"
     ]
    },
    {
     "name": "stdout",
     "output_type": "stream",
     "text": [
      "Training Step: 631  | total loss: \u001b[1m\u001b[32m0.68092\u001b[0m\u001b[0m\n\u001b[2K\r| SGD | epoch: 003 | loss: 0.68092 - acc: 0.5809 -- iter: 19712/20250\n"
     ]
    },
    {
     "name": "stdout",
     "output_type": "stream",
     "text": [
      "Training Step: 632  | total loss: \u001b[1m\u001b[32m0.68080\u001b[0m\u001b[0m\n\u001b[2K\r| SGD | epoch: 003 | loss: 0.68080 - acc: 0.5775 -- iter: 19840/20250\n"
     ]
    },
    {
     "name": "stdout",
     "output_type": "stream",
     "text": [
      "Training Step: 633  | total loss: \u001b[1m\u001b[32m0.67722\u001b[0m\u001b[0m\n\u001b[2K\r| SGD | epoch: 003 | loss: 0.67722 - acc: 0.5878 -- iter: 19968/20250\n"
     ]
    },
    {
     "name": "stdout",
     "output_type": "stream",
     "text": [
      "Training Step: 634  | total loss: \u001b[1m\u001b[32m0.67805\u001b[0m\u001b[0m\n\u001b[2K\r| SGD | epoch: 003 | loss: 0.67805 - acc: 0.5782 -- iter: 20096/20250\n"
     ]
    },
    {
     "name": "stdout",
     "output_type": "stream",
     "text": [
      "Training Step: 635  | total loss: \u001b[1m\u001b[32m0.67829\u001b[0m\u001b[0m\n\u001b[2K\r| SGD | epoch: 003 | loss: 0.67829 - acc: 0.5735 -- iter: 20224/20250\n"
     ]
    },
    {
     "name": "stdout",
     "output_type": "stream",
     "text": [
      "Training Step: 636  | total loss: \u001b[1m\u001b[32m0.67700\u001b[0m\u001b[0m\n\u001b[2K\r| SGD | epoch: 004 | loss: 0.67700 - acc: 0.5716 | val_loss: 0.64840 - val_acc: 0.6080 -- iter: 20250/20250\n"
     ]
    },
    {
     "name": "stdout",
     "output_type": "stream",
     "text": [
      "Training Step: 636  | total loss: \u001b[1m\u001b[32m0.67700\u001b[0m\u001b[0m\n\u001b[2K\r| SGD | epoch: 004 | loss: 0.67700 - acc: 0.5716 | val_loss: 0.64840 - val_acc: 0.6080 -- iter: 20250/20250\n--\n"
     ]
    },
    {
     "name": "stdout",
     "output_type": "stream",
     "text": [
      "Training Step: 637  | total loss: \u001b[1m\u001b[32m0.67401\u001b[0m\u001b[0m\n\u001b[2K\r| SGD | epoch: 004 | loss: 0.67401 - acc: 0.5723 -- iter: 00128/20250\n"
     ]
    },
    {
     "name": "stdout",
     "output_type": "stream",
     "text": [
      "Training Step: 638  | total loss: \u001b[1m\u001b[32m0.66762\u001b[0m\u001b[0m\n\u001b[2K\r| SGD | epoch: 004 | loss: 0.66762 - acc: 0.5807 -- iter: 00256/20250\n"
     ]
    },
    {
     "name": "stdout",
     "output_type": "stream",
     "text": [
      "Training Step: 639  | total loss: \u001b[1m\u001b[32m0.67945\u001b[0m\u001b[0m\n\u001b[2K\r| SGD | epoch: 004 | loss: 0.67945 - acc: 0.5781 -- iter: 00384/20250\n"
     ]
    },
    {
     "name": "stdout",
     "output_type": "stream",
     "text": [
      "Training Step: 640  | total loss: \u001b[1m\u001b[32m0.70522\u001b[0m\u001b[0m\n\u001b[2K\r| SGD | epoch: 004 | loss: 0.70522 - acc: 0.5741 -- iter: 00512/20250\n"
     ]
    },
    {
     "name": "stdout",
     "output_type": "stream",
     "text": [
      "Training Step: 641  | total loss: \u001b[1m\u001b[32m0.70080\u001b[0m\u001b[0m\n\u001b[2K\r| SGD | epoch: 004 | loss: 0.70080 - acc: 0.5782 -- iter: 00640/20250\n"
     ]
    },
    {
     "name": "stdout",
     "output_type": "stream",
     "text": [
      "Training Step: 642  | total loss: \u001b[1m\u001b[32m0.69781\u001b[0m\u001b[0m\n\u001b[2K\r| SGD | epoch: 004 | loss: 0.69781 - acc: 0.5837 -- iter: 00768/20250\n"
     ]
    },
    {
     "name": "stdout",
     "output_type": "stream",
     "text": [
      "Training Step: 643  | total loss: \u001b[1m\u001b[32m0.69250\u001b[0m\u001b[0m\n\u001b[2K\r| SGD | epoch: 004 | loss: 0.69250 - acc: 0.5886 -- iter: 00896/20250\n"
     ]
    },
    {
     "name": "stdout",
     "output_type": "stream",
     "text": [
      "Training Step: 644  | total loss: \u001b[1m\u001b[32m0.69577\u001b[0m\u001b[0m\n\u001b[2K\r| SGD | epoch: 004 | loss: 0.69577 - acc: 0.5829 -- iter: 01024/20250\n"
     ]
    },
    {
     "name": "stdout",
     "output_type": "stream",
     "text": [
      "Training Step: 645  | total loss: \u001b[1m\u001b[32m0.69616\u001b[0m\u001b[0m\n\u001b[2K\r| SGD | epoch: 004 | loss: 0.69616 - acc: 0.5722 -- iter: 01152/20250\n"
     ]
    },
    {
     "name": "stdout",
     "output_type": "stream",
     "text": [
      "Training Step: 646  | total loss: \u001b[1m\u001b[32m0.69700\u001b[0m\u001b[0m\n\u001b[2K\r| SGD | epoch: 004 | loss: 0.69700 - acc: 0.5588 -- iter: 01280/20250\n"
     ]
    },
    {
     "name": "stdout",
     "output_type": "stream",
     "text": [
      "Training Step: 647  | total loss: \u001b[1m\u001b[32m0.69656\u001b[0m\u001b[0m\n\u001b[2K\r| SGD | epoch: 004 | loss: 0.69656 - acc: 0.5537 -- iter: 01408/20250\n"
     ]
    },
    {
     "name": "stdout",
     "output_type": "stream",
     "text": [
      "Training Step: 648  | total loss: \u001b[1m\u001b[32m0.69563\u001b[0m\u001b[0m\n\u001b[2K\r| SGD | epoch: 004 | loss: 0.69563 - acc: 0.5499 -- iter: 01536/20250\n"
     ]
    },
    {
     "name": "stdout",
     "output_type": "stream",
     "text": [
      "Training Step: 649  | total loss: \u001b[1m\u001b[32m0.69380\u001b[0m\u001b[0m\n\u001b[2K\r| SGD | epoch: 004 | loss: 0.69380 - acc: 0.5613 -- iter: 01664/20250\n"
     ]
    },
    {
     "name": "stdout",
     "output_type": "stream",
     "text": [
      "Training Step: 650  | total loss: \u001b[1m\u001b[32m0.69197\u001b[0m\u001b[0m\n\u001b[2K\r| SGD | epoch: 004 | loss: 0.69197 - acc: 0.5645 -- iter: 01792/20250\n"
     ]
    },
    {
     "name": "stdout",
     "output_type": "stream",
     "text": [
      "Training Step: 651  | total loss: \u001b[1m\u001b[32m0.69088\u001b[0m\u001b[0m\n\u001b[2K\r| SGD | epoch: 004 | loss: 0.69088 - acc: 0.5651 -- iter: 01920/20250\n"
     ]
    },
    {
     "name": "stdout",
     "output_type": "stream",
     "text": [
      "Training Step: 652  | total loss: \u001b[1m\u001b[32m0.68999\u001b[0m\u001b[0m\n\u001b[2K\r| SGD | epoch: 004 | loss: 0.68999 - acc: 0.5656 -- iter: 02048/20250\n"
     ]
    },
    {
     "name": "stdout",
     "output_type": "stream",
     "text": [
      "Training Step: 653  | total loss: \u001b[1m\u001b[32m0.68980\u001b[0m\u001b[0m\n\u001b[2K\r| SGD | epoch: 004 | loss: 0.68980 - acc: 0.5630 -- iter: 02176/20250\n"
     ]
    },
    {
     "name": "stdout",
     "output_type": "stream",
     "text": [
      "Training Step: 654  | total loss: \u001b[1m\u001b[32m0.68866\u001b[0m\u001b[0m\n\u001b[2K\r| SGD | epoch: 004 | loss: 0.68866 - acc: 0.5676 -- iter: 02304/20250\n"
     ]
    },
    {
     "name": "stdout",
     "output_type": "stream",
     "text": [
      "Training Step: 655  | total loss: \u001b[1m\u001b[32m0.68766\u001b[0m\u001b[0m\n\u001b[2K\r| SGD | epoch: 004 | loss: 0.68766 - acc: 0.5640 -- iter: 02432/20250\n"
     ]
    },
    {
     "name": "stdout",
     "output_type": "stream",
     "text": [
      "Training Step: 656  | total loss: \u001b[1m\u001b[32m0.68828\u001b[0m\u001b[0m\n\u001b[2K\r| SGD | epoch: 004 | loss: 0.68828 - acc: 0.5654 -- iter: 02560/20250\n"
     ]
    },
    {
     "name": "stdout",
     "output_type": "stream",
     "text": [
      "Training Step: 657  | total loss: \u001b[1m\u001b[32m0.68765\u001b[0m\u001b[0m\n\u001b[2K\r| SGD | epoch: 004 | loss: 0.68765 - acc: 0.5682 -- iter: 02688/20250\n"
     ]
    },
    {
     "name": "stdout",
     "output_type": "stream",
     "text": [
      "Training Step: 658  | total loss: \u001b[1m\u001b[32m0.68749\u001b[0m\u001b[0m\n\u001b[2K\r| SGD | epoch: 004 | loss: 0.68749 - acc: 0.5645 -- iter: 02816/20250\n"
     ]
    },
    {
     "name": "stdout",
     "output_type": "stream",
     "text": [
      "Training Step: 659  | total loss: \u001b[1m\u001b[32m0.68607\u001b[0m\u001b[0m\n\u001b[2K\r| SGD | epoch: 004 | loss: 0.68607 - acc: 0.5651 -- iter: 02944/20250\n"
     ]
    },
    {
     "name": "stdout",
     "output_type": "stream",
     "text": [
      "Training Step: 660  | total loss: \u001b[1m\u001b[32m0.68510\u001b[0m\u001b[0m\n\u001b[2K\r| SGD | epoch: 004 | loss: 0.68510 - acc: 0.5688 -- iter: 03072/20250\n"
     ]
    },
    {
     "name": "stdout",
     "output_type": "stream",
     "text": [
      "Training Step: 661  | total loss: \u001b[1m\u001b[32m0.68360\u001b[0m\u001b[0m\n\u001b[2K\r| SGD | epoch: 004 | loss: 0.68360 - acc: 0.5720 -- iter: 03200/20250\n"
     ]
    },
    {
     "name": "stdout",
     "output_type": "stream",
     "text": [
      "Training Step: 662  | total loss: \u001b[1m\u001b[32m0.68170\u001b[0m\u001b[0m\n\u001b[2K\r| SGD | epoch: 004 | loss: 0.68170 - acc: 0.5711 -- iter: 03328/20250\n"
     ]
    },
    {
     "name": "stdout",
     "output_type": "stream",
     "text": [
      "Training Step: 663  | total loss: \u001b[1m\u001b[32m0.69487\u001b[0m\u001b[0m\n\u001b[2K\r| SGD | epoch: 004 | loss: 0.69487 - acc: 0.5640 -- iter: 03456/20250\n"
     ]
    },
    {
     "name": "stdout",
     "output_type": "stream",
     "text": [
      "Training Step: 664  | total loss: \u001b[1m\u001b[32m0.69531\u001b[0m\u001b[0m\n\u001b[2K\r| SGD | epoch: 004 | loss: 0.69531 - acc: 0.5560 -- iter: 03584/20250\n"
     ]
    },
    {
     "name": "stdout",
     "output_type": "stream",
     "text": [
      "Training Step: 665  | total loss: \u001b[1m\u001b[32m0.69513\u001b[0m\u001b[0m\n\u001b[2K\r| SGD | epoch: 004 | loss: 0.69513 - acc: 0.5520 -- iter: 03712/20250\n"
     ]
    },
    {
     "name": "stdout",
     "output_type": "stream",
     "text": [
      "Training Step: 666  | total loss: \u001b[1m\u001b[32m0.69415\u001b[0m\u001b[0m\n\u001b[2K\r| SGD | epoch: 004 | loss: 0.69415 - acc: 0.5522 -- iter: 03840/20250\n"
     ]
    },
    {
     "name": "stdout",
     "output_type": "stream",
     "text": [
      "Training Step: 667  | total loss: \u001b[1m\u001b[32m0.69520\u001b[0m\u001b[0m\n\u001b[2K\r| SGD | epoch: 004 | loss: 0.69520 - acc: 0.5416 -- iter: 03968/20250\n"
     ]
    },
    {
     "name": "stdout",
     "output_type": "stream",
     "text": [
      "Training Step: 668  | total loss: \u001b[1m\u001b[32m0.69493\u001b[0m\u001b[0m\n\u001b[2K\r| SGD | epoch: 004 | loss: 0.69493 - acc: 0.5405 -- iter: 04096/20250\n"
     ]
    },
    {
     "name": "stdout",
     "output_type": "stream",
     "text": [
      "Training Step: 669  | total loss: \u001b[1m\u001b[32m0.69361\u001b[0m\u001b[0m\n\u001b[2K\r| SGD | epoch: 004 | loss: 0.69361 - acc: 0.5396 -- iter: 04224/20250\n"
     ]
    },
    {
     "name": "stdout",
     "output_type": "stream",
     "text": [
      "Training Step: 670  | total loss: \u001b[1m\u001b[32m0.69086\u001b[0m\u001b[0m\n\u001b[2K\r| SGD | epoch: 004 | loss: 0.69086 - acc: 0.5528 -- iter: 04352/20250\n"
     ]
    },
    {
     "name": "stdout",
     "output_type": "stream",
     "text": [
      "Training Step: 671  | total loss: \u001b[1m\u001b[32m0.68981\u001b[0m\u001b[0m\n\u001b[2K\r| SGD | epoch: 004 | loss: 0.68981 - acc: 0.5577 -- iter: 04480/20250\n"
     ]
    },
    {
     "name": "stdout",
     "output_type": "stream",
     "text": [
      "Training Step: 672  | total loss: \u001b[1m\u001b[32m0.68855\u001b[0m\u001b[0m\n\u001b[2K\r| SGD | epoch: 004 | loss: 0.68855 - acc: 0.5590 -- iter: 04608/20250\n"
     ]
    },
    {
     "name": "stdout",
     "output_type": "stream",
     "text": [
      "Training Step: 673  | total loss: \u001b[1m\u001b[32m0.68752\u001b[0m\u001b[0m\n\u001b[2K\r| SGD | epoch: 004 | loss: 0.68752 - acc: 0.5640 -- iter: 04736/20250\n"
     ]
    },
    {
     "name": "stdout",
     "output_type": "stream",
     "text": [
      "Training Step: 674  | total loss: \u001b[1m\u001b[32m0.69072\u001b[0m\u001b[0m\n\u001b[2K\r| SGD | epoch: 004 | loss: 0.69072 - acc: 0.5576 -- iter: 04864/20250\n"
     ]
    },
    {
     "name": "stdout",
     "output_type": "stream",
     "text": [
      "Training Step: 675  | total loss: \u001b[1m\u001b[32m0.69127\u001b[0m\u001b[0m\n\u001b[2K\r| SGD | epoch: 004 | loss: 0.69127 - acc: 0.5503 -- iter: 04992/20250\n"
     ]
    },
    {
     "name": "stdout",
     "output_type": "stream",
     "text": [
      "Training Step: 676  | total loss: \u001b[1m\u001b[32m0.69009\u001b[0m\u001b[0m\n\u001b[2K\r| SGD | epoch: 004 | loss: 0.69009 - acc: 0.5546 -- iter: 05120/20250\n"
     ]
    },
    {
     "name": "stdout",
     "output_type": "stream",
     "text": [
      "Training Step: 677  | total loss: \u001b[1m\u001b[32m0.69065\u001b[0m\u001b[0m\n\u001b[2K\r| SGD | epoch: 004 | loss: 0.69065 - acc: 0.5476 -- iter: 05248/20250\n"
     ]
    },
    {
     "name": "stdout",
     "output_type": "stream",
     "text": [
      "Training Step: 678  | total loss: \u001b[1m\u001b[32m0.69005\u001b[0m\u001b[0m\n\u001b[2K\r| SGD | epoch: 004 | loss: 0.69005 - acc: 0.5507 -- iter: 05376/20250\n"
     ]
    },
    {
     "name": "stdout",
     "output_type": "stream",
     "text": [
      "Training Step: 679  | total loss: \u001b[1m\u001b[32m0.68862\u001b[0m\u001b[0m\n\u001b[2K\r| SGD | epoch: 004 | loss: 0.68862 - acc: 0.5589 -- iter: 05504/20250\n"
     ]
    },
    {
     "name": "stdout",
     "output_type": "stream",
     "text": [
      "Training Step: 680  | total loss: \u001b[1m\u001b[32m0.68809\u001b[0m\u001b[0m\n\u001b[2K\r| SGD | epoch: 004 | loss: 0.68809 - acc: 0.5585 -- iter: 05632/20250\n"
     ]
    },
    {
     "name": "stdout",
     "output_type": "stream",
     "text": [
      "Training Step: 681  | total loss: \u001b[1m\u001b[32m0.68716\u001b[0m\u001b[0m\n\u001b[2K\r| SGD | epoch: 004 | loss: 0.68716 - acc: 0.5596 -- iter: 05760/20250\n"
     ]
    },
    {
     "name": "stdout",
     "output_type": "stream",
     "text": [
      "Training Step: 682  | total loss: \u001b[1m\u001b[32m0.68501\u001b[0m\u001b[0m\n\u001b[2K\r| SGD | epoch: 004 | loss: 0.68501 - acc: 0.5591 -- iter: 05888/20250\n"
     ]
    },
    {
     "name": "stdout",
     "output_type": "stream",
     "text": [
      "Training Step: 683  | total loss: \u001b[1m\u001b[32m0.68456\u001b[0m\u001b[0m\n\u001b[2K\r| SGD | epoch: 004 | loss: 0.68456 - acc: 0.5634 -- iter: 06016/20250\n"
     ]
    },
    {
     "name": "stdout",
     "output_type": "stream",
     "text": [
      "Training Step: 684  | total loss: \u001b[1m\u001b[32m0.68089\u001b[0m\u001b[0m\n\u001b[2K\r| SGD | epoch: 004 | loss: 0.68089 - acc: 0.5735 -- iter: 06144/20250\n"
     ]
    },
    {
     "name": "stdout",
     "output_type": "stream",
     "text": [
      "Training Step: 685  | total loss: \u001b[1m\u001b[32m0.68034\u001b[0m\u001b[0m\n\u001b[2K\r| SGD | epoch: 004 | loss: 0.68034 - acc: 0.5708 -- iter: 06272/20250\n"
     ]
    },
    {
     "name": "stdout",
     "output_type": "stream",
     "text": [
      "Training Step: 686  | total loss: \u001b[1m\u001b[32m0.68063\u001b[0m\u001b[0m\n\u001b[2K\r| SGD | epoch: 004 | loss: 0.68063 - acc: 0.5692 -- iter: 06400/20250\n"
     ]
    },
    {
     "name": "stdout",
     "output_type": "stream",
     "text": [
      "Training Step: 687  | total loss: \u001b[1m\u001b[32m0.68069\u001b[0m\u001b[0m\n\u001b[2K\r| SGD | epoch: 004 | loss: 0.68069 - acc: 0.5685 -- iter: 06528/20250\n"
     ]
    },
    {
     "name": "stdout",
     "output_type": "stream",
     "text": [
      "Training Step: 688  | total loss: \u001b[1m\u001b[32m0.67919\u001b[0m\u001b[0m\n\u001b[2K\r| SGD | epoch: 004 | loss: 0.67919 - acc: 0.5773 -- iter: 06656/20250\n"
     ]
    },
    {
     "name": "stdout",
     "output_type": "stream",
     "text": [
      "Training Step: 689  | total loss: \u001b[1m\u001b[32m0.67849\u001b[0m\u001b[0m\n\u001b[2K\r| SGD | epoch: 004 | loss: 0.67849 - acc: 0.5797 -- iter: 06784/20250\n"
     ]
    },
    {
     "name": "stdout",
     "output_type": "stream",
     "text": [
      "Training Step: 690  | total loss: \u001b[1m\u001b[32m0.67830\u001b[0m\u001b[0m\n\u001b[2K\r| SGD | epoch: 004 | loss: 0.67830 - acc: 0.5803 -- iter: 06912/20250\n"
     ]
    },
    {
     "name": "stdout",
     "output_type": "stream",
     "text": [
      "Training Step: 691  | total loss: \u001b[1m\u001b[32m0.68340\u001b[0m\u001b[0m\n\u001b[2K\r| SGD | epoch: 004 | loss: 0.68340 - acc: 0.5707 -- iter: 07040/20250\n"
     ]
    },
    {
     "name": "stdout",
     "output_type": "stream",
     "text": [
      "Training Step: 692  | total loss: \u001b[1m\u001b[32m0.68300\u001b[0m\u001b[0m\n\u001b[2K\r| SGD | epoch: 004 | loss: 0.68300 - acc: 0.5723 -- iter: 07168/20250\n"
     ]
    },
    {
     "name": "stdout",
     "output_type": "stream",
     "text": [
      "Training Step: 693  | total loss: \u001b[1m\u001b[32m0.68514\u001b[0m\u001b[0m\n\u001b[2K\r| SGD | epoch: 004 | loss: 0.68514 - acc: 0.5619 -- iter: 07296/20250\n"
     ]
    },
    {
     "name": "stdout",
     "output_type": "stream",
     "text": [
      "Training Step: 694  | total loss: \u001b[1m\u001b[32m0.68448\u001b[0m\u001b[0m\n\u001b[2K\r| SGD | epoch: 004 | loss: 0.68448 - acc: 0.5651 -- iter: 07424/20250\n"
     ]
    },
    {
     "name": "stdout",
     "output_type": "stream",
     "text": [
      "Training Step: 695  | total loss: \u001b[1m\u001b[32m0.68400\u001b[0m\u001b[0m\n\u001b[2K\r| SGD | epoch: 004 | loss: 0.68400 - acc: 0.5641 -- iter: 07552/20250\n"
     ]
    },
    {
     "name": "stdout",
     "output_type": "stream",
     "text": [
      "Training Step: 696  | total loss: \u001b[1m\u001b[32m0.68309\u001b[0m\u001b[0m\n\u001b[2K\r| SGD | epoch: 004 | loss: 0.68309 - acc: 0.5686 -- iter: 07680/20250\n"
     ]
    },
    {
     "name": "stdout",
     "output_type": "stream",
     "text": [
      "Training Step: 697  | total loss: \u001b[1m\u001b[32m0.68181\u001b[0m\u001b[0m\n\u001b[2K\r| SGD | epoch: 004 | loss: 0.68181 - acc: 0.5680 -- iter: 07808/20250\n"
     ]
    },
    {
     "name": "stdout",
     "output_type": "stream",
     "text": [
      "Training Step: 698  | total loss: \u001b[1m\u001b[32m0.68334\u001b[0m\u001b[0m\n\u001b[2K\r| SGD | epoch: 004 | loss: 0.68334 - acc: 0.5627 -- iter: 07936/20250\n"
     ]
    },
    {
     "name": "stdout",
     "output_type": "stream",
     "text": [
      "Training Step: 699  | total loss: \u001b[1m\u001b[32m0.68254\u001b[0m\u001b[0m\n\u001b[2K\r| SGD | epoch: 004 | loss: 0.68254 - acc: 0.5651 -- iter: 08064/20250\n"
     ]
    },
    {
     "name": "stdout",
     "output_type": "stream",
     "text": [
      "Training Step: 700  | total loss: \u001b[1m\u001b[32m0.67938\u001b[0m\u001b[0m\n\u001b[2K\r| SGD | epoch: 004 | loss: 0.67938 - acc: 0.5679 -- iter: 08192/20250\n"
     ]
    },
    {
     "name": "stdout",
     "output_type": "stream",
     "text": [
      "Training Step: 701  | total loss: \u001b[1m\u001b[32m0.67830\u001b[0m\u001b[0m\n\u001b[2K\r| SGD | epoch: 004 | loss: 0.67830 - acc: 0.5729 -- iter: 08320/20250\n"
     ]
    },
    {
     "name": "stdout",
     "output_type": "stream",
     "text": [
      "Training Step: 702  | total loss: \u001b[1m\u001b[32m0.67775\u001b[0m\u001b[0m\n\u001b[2K\r| SGD | epoch: 004 | loss: 0.67775 - acc: 0.5749 -- iter: 08448/20250\n"
     ]
    },
    {
     "name": "stdout",
     "output_type": "stream",
     "text": [
      "Training Step: 703  | total loss: \u001b[1m\u001b[32m0.67881\u001b[0m\u001b[0m\n\u001b[2K\r| SGD | epoch: 004 | loss: 0.67881 - acc: 0.5714 -- iter: 08576/20250\n"
     ]
    },
    {
     "name": "stdout",
     "output_type": "stream",
     "text": [
      "Training Step: 704  | total loss: \u001b[1m\u001b[32m0.67770\u001b[0m\u001b[0m\n\u001b[2K\r| SGD | epoch: 004 | loss: 0.67770 - acc: 0.5759 -- iter: 08704/20250\n"
     ]
    },
    {
     "name": "stdout",
     "output_type": "stream",
     "text": [
      "Training Step: 705  | total loss: \u001b[1m\u001b[32m0.67690\u001b[0m\u001b[0m\n\u001b[2K\r| SGD | epoch: 004 | loss: 0.67690 - acc: 0.5793 -- iter: 08832/20250\n"
     ]
    },
    {
     "name": "stdout",
     "output_type": "stream",
     "text": [
      "Training Step: 706  | total loss: \u001b[1m\u001b[32m0.67688\u001b[0m\u001b[0m\n\u001b[2K\r| SGD | epoch: 004 | loss: 0.67688 - acc: 0.5784 -- iter: 08960/20250\n"
     ]
    },
    {
     "name": "stdout",
     "output_type": "stream",
     "text": [
      "Training Step: 707  | total loss: \u001b[1m\u001b[32m0.67338\u001b[0m\u001b[0m\n\u001b[2K\r| SGD | epoch: 004 | loss: 0.67338 - acc: 0.5877 -- iter: 09088/20250\n"
     ]
    },
    {
     "name": "stdout",
     "output_type": "stream",
     "text": [
      "Training Step: 708  | total loss: \u001b[1m\u001b[32m0.68059\u001b[0m\u001b[0m\n\u001b[2K\r| SGD | epoch: 004 | loss: 0.68059 - acc: 0.5743 -- iter: 09216/20250\n"
     ]
    },
    {
     "name": "stdout",
     "output_type": "stream",
     "text": [
      "Training Step: 709  | total loss: \u001b[1m\u001b[32m0.68181\u001b[0m\u001b[0m\n\u001b[2K\r| SGD | epoch: 004 | loss: 0.68181 - acc: 0.5668 -- iter: 09344/20250\n"
     ]
    },
    {
     "name": "stdout",
     "output_type": "stream",
     "text": [
      "Training Step: 710  | total loss: \u001b[1m\u001b[32m0.68247\u001b[0m\u001b[0m\n\u001b[2K\r| SGD | epoch: 004 | loss: 0.68247 - acc: 0.5633 -- iter: 09472/20250\n"
     ]
    },
    {
     "name": "stdout",
     "output_type": "stream",
     "text": [
      "Training Step: 711  | total loss: \u001b[1m\u001b[32m0.68406\u001b[0m\u001b[0m\n\u001b[2K\r| SGD | epoch: 004 | loss: 0.68406 - acc: 0.5656 -- iter: 09600/20250\n"
     ]
    },
    {
     "name": "stdout",
     "output_type": "stream",
     "text": [
      "Training Step: 712  | total loss: \u001b[1m\u001b[32m0.68427\u001b[0m\u001b[0m\n\u001b[2K\r| SGD | epoch: 004 | loss: 0.68427 - acc: 0.5606 -- iter: 09728/20250\n"
     ]
    },
    {
     "name": "stdout",
     "output_type": "stream",
     "text": [
      "Training Step: 713  | total loss: \u001b[1m\u001b[32m0.68398\u001b[0m\u001b[0m\n\u001b[2K\r| SGD | epoch: 004 | loss: 0.68398 - acc: 0.5592 -- iter: 09856/20250\n"
     ]
    },
    {
     "name": "stdout",
     "output_type": "stream",
     "text": [
      "Training Step: 714  | total loss: \u001b[1m\u001b[32m0.68296\u001b[0m\u001b[0m\n\u001b[2K\r| SGD | epoch: 004 | loss: 0.68296 - acc: 0.5611 -- iter: 09984/20250\n"
     ]
    },
    {
     "name": "stdout",
     "output_type": "stream",
     "text": [
      "Training Step: 715  | total loss: \u001b[1m\u001b[32m0.68366\u001b[0m\u001b[0m\n\u001b[2K\r| SGD | epoch: 004 | loss: 0.68366 - acc: 0.5620 -- iter: 10112/20250\n"
     ]
    },
    {
     "name": "stdout",
     "output_type": "stream",
     "text": [
      "Training Step: 716  | total loss: \u001b[1m\u001b[32m0.68525\u001b[0m\u001b[0m\n\u001b[2K\r| SGD | epoch: 004 | loss: 0.68525 - acc: 0.5503 -- iter: 10240/20250\n"
     ]
    },
    {
     "name": "stdout",
     "output_type": "stream",
     "text": [
      "Training Step: 717  | total loss: \u001b[1m\u001b[32m0.68414\u001b[0m\u001b[0m\n\u001b[2K\r| SGD | epoch: 004 | loss: 0.68414 - acc: 0.5539 -- iter: 10368/20250\n"
     ]
    },
    {
     "name": "stdout",
     "output_type": "stream",
     "text": [
      "Training Step: 718  | total loss: \u001b[1m\u001b[32m0.68284\u001b[0m\u001b[0m\n\u001b[2K\r| SGD | epoch: 004 | loss: 0.68284 - acc: 0.5602 -- iter: 10496/20250\n"
     ]
    },
    {
     "name": "stdout",
     "output_type": "stream",
     "text": [
      "Training Step: 719  | total loss: \u001b[1m\u001b[32m0.68220\u001b[0m\u001b[0m\n\u001b[2K\r| SGD | epoch: 004 | loss: 0.68220 - acc: 0.5581 -- iter: 10624/20250\n"
     ]
    },
    {
     "name": "stdout",
     "output_type": "stream",
     "text": [
      "Training Step: 720  | total loss: \u001b[1m\u001b[32m0.68157\u001b[0m\u001b[0m\n\u001b[2K\r| SGD | epoch: 004 | loss: 0.68157 - acc: 0.5601 -- iter: 10752/20250\n"
     ]
    },
    {
     "name": "stdout",
     "output_type": "stream",
     "text": [
      "Training Step: 721  | total loss: \u001b[1m\u001b[32m0.67729\u001b[0m\u001b[0m\n\u001b[2K\r| SGD | epoch: 004 | loss: 0.67729 - acc: 0.5650 -- iter: 10880/20250\n"
     ]
    },
    {
     "name": "stdout",
     "output_type": "stream",
     "text": [
      "Training Step: 722  | total loss: \u001b[1m\u001b[32m0.67434\u001b[0m\u001b[0m\n\u001b[2K\r| SGD | epoch: 004 | loss: 0.67434 - acc: 0.5773 -- iter: 11008/20250\n"
     ]
    },
    {
     "name": "stdout",
     "output_type": "stream",
     "text": [
      "Training Step: 723  | total loss: \u001b[1m\u001b[32m0.67556\u001b[0m\u001b[0m\n\u001b[2K\r| SGD | epoch: 004 | loss: 0.67556 - acc: 0.5766 -- iter: 11136/20250\n"
     ]
    },
    {
     "name": "stdout",
     "output_type": "stream",
     "text": [
      "Training Step: 724  | total loss: \u001b[1m\u001b[32m0.67404\u001b[0m\u001b[0m\n\u001b[2K\r| SGD | epoch: 004 | loss: 0.67404 - acc: 0.5760 -- iter: 11264/20250\n"
     ]
    },
    {
     "name": "stdout",
     "output_type": "stream",
     "text": [
      "Training Step: 725  | total loss: \u001b[1m\u001b[32m0.67454\u001b[0m\u001b[0m\n\u001b[2K\r| SGD | epoch: 004 | loss: 0.67454 - acc: 0.5731 -- iter: 11392/20250\n"
     ]
    },
    {
     "name": "stdout",
     "output_type": "stream",
     "text": [
      "Training Step: 726  | total loss: \u001b[1m\u001b[32m0.67842\u001b[0m\u001b[0m\n\u001b[2K\r| SGD | epoch: 004 | loss: 0.67842 - acc: 0.5728 -- iter: 11520/20250\n"
     ]
    },
    {
     "name": "stdout",
     "output_type": "stream",
     "text": [
      "Training Step: 727  | total loss: \u001b[1m\u001b[32m0.68187\u001b[0m\u001b[0m\n\u001b[2K\r| SGD | epoch: 004 | loss: 0.68187 - acc: 0.5608 -- iter: 11648/20250\n"
     ]
    },
    {
     "name": "stdout",
     "output_type": "stream",
     "text": [
      "Training Step: 728  | total loss: \u001b[1m\u001b[32m0.68299\u001b[0m\u001b[0m\n\u001b[2K\r| SGD | epoch: 004 | loss: 0.68299 - acc: 0.5579 -- iter: 11776/20250\n"
     ]
    },
    {
     "name": "stdout",
     "output_type": "stream",
     "text": [
      "Training Step: 729  | total loss: \u001b[1m\u001b[32m0.68378\u001b[0m\u001b[0m\n\u001b[2K\r| SGD | epoch: 004 | loss: 0.68378 - acc: 0.5552 -- iter: 11904/20250\n"
     ]
    },
    {
     "name": "stdout",
     "output_type": "stream",
     "text": [
      "Training Step: 730  | total loss: \u001b[1m\u001b[32m0.68492\u001b[0m\u001b[0m\n\u001b[2K\r| SGD | epoch: 004 | loss: 0.68492 - acc: 0.5505 -- iter: 12032/20250\n"
     ]
    },
    {
     "name": "stdout",
     "output_type": "stream",
     "text": [
      "Training Step: 731  | total loss: \u001b[1m\u001b[32m0.68515\u001b[0m\u001b[0m\n\u001b[2K\r| SGD | epoch: 004 | loss: 0.68515 - acc: 0.5501 -- iter: 12160/20250\n"
     ]
    },
    {
     "name": "stdout",
     "output_type": "stream",
     "text": [
      "Training Step: 732  | total loss: \u001b[1m\u001b[32m0.68589\u001b[0m\u001b[0m\n\u001b[2K\r| SGD | epoch: 004 | loss: 0.68589 - acc: 0.5459 -- iter: 12288/20250\n"
     ]
    },
    {
     "name": "stdout",
     "output_type": "stream",
     "text": [
      "Training Step: 733  | total loss: \u001b[1m\u001b[32m0.68810\u001b[0m\u001b[0m\n\u001b[2K\r| SGD | epoch: 004 | loss: 0.68810 - acc: 0.5436 -- iter: 12416/20250\n"
     ]
    },
    {
     "name": "stdout",
     "output_type": "stream",
     "text": [
      "Training Step: 734  | total loss: \u001b[1m\u001b[32m0.68974\u001b[0m\u001b[0m\n\u001b[2K\r| SGD | epoch: 004 | loss: 0.68974 - acc: 0.5361 -- iter: 12544/20250\n"
     ]
    },
    {
     "name": "stdout",
     "output_type": "stream",
     "text": [
      "Training Step: 735  | total loss: \u001b[1m\u001b[32m0.69079\u001b[0m\u001b[0m\n\u001b[2K\r| SGD | epoch: 004 | loss: 0.69079 - acc: 0.5302 -- iter: 12672/20250\n"
     ]
    },
    {
     "name": "stdout",
     "output_type": "stream",
     "text": [
      "Training Step: 736  | total loss: \u001b[1m\u001b[32m0.69072\u001b[0m\u001b[0m\n\u001b[2K\r| SGD | epoch: 004 | loss: 0.69072 - acc: 0.5303 -- iter: 12800/20250\n"
     ]
    },
    {
     "name": "stdout",
     "output_type": "stream",
     "text": [
      "Training Step: 737  | total loss: \u001b[1m\u001b[32m0.69041\u001b[0m\u001b[0m\n\u001b[2K\r| SGD | epoch: 004 | loss: 0.69041 - acc: 0.5296 -- iter: 12928/20250\n"
     ]
    },
    {
     "name": "stdout",
     "output_type": "stream",
     "text": [
      "Training Step: 738  | total loss: \u001b[1m\u001b[32m0.68974\u001b[0m\u001b[0m\n\u001b[2K\r| SGD | epoch: 004 | loss: 0.68974 - acc: 0.5321 -- iter: 13056/20250\n"
     ]
    },
    {
     "name": "stdout",
     "output_type": "stream",
     "text": [
      "Training Step: 739  | total loss: \u001b[1m\u001b[32m0.69019\u001b[0m\u001b[0m\n\u001b[2K\r| SGD | epoch: 004 | loss: 0.69019 - acc: 0.5250 -- iter: 13184/20250\n"
     ]
    },
    {
     "name": "stdout",
     "output_type": "stream",
     "text": [
      "Training Step: 740  | total loss: \u001b[1m\u001b[32m0.68884\u001b[0m\u001b[0m\n\u001b[2K\r| SGD | epoch: 004 | loss: 0.68884 - acc: 0.5334 -- iter: 13312/20250\n"
     ]
    },
    {
     "name": "stdout",
     "output_type": "stream",
     "text": [
      "Training Step: 741  | total loss: \u001b[1m\u001b[32m0.69017\u001b[0m\u001b[0m\n\u001b[2K\r| SGD | epoch: 004 | loss: 0.69017 - acc: 0.5301 -- iter: 13440/20250\n"
     ]
    },
    {
     "name": "stdout",
     "output_type": "stream",
     "text": [
      "Training Step: 742  | total loss: \u001b[1m\u001b[32m0.69108\u001b[0m\u001b[0m\n\u001b[2K\r| SGD | epoch: 004 | loss: 0.69108 - acc: 0.5255 -- iter: 13568/20250\n"
     ]
    },
    {
     "name": "stdout",
     "output_type": "stream",
     "text": [
      "Training Step: 743  | total loss: \u001b[1m\u001b[32m0.69103\u001b[0m\u001b[0m\n\u001b[2K\r| SGD | epoch: 004 | loss: 0.69103 - acc: 0.5261 -- iter: 13696/20250\n"
     ]
    },
    {
     "name": "stdout",
     "output_type": "stream",
     "text": [
      "Training Step: 744  | total loss: \u001b[1m\u001b[32m0.69221\u001b[0m\u001b[0m\n\u001b[2K\r| SGD | epoch: 004 | loss: 0.69221 - acc: 0.5196 -- iter: 13824/20250\n"
     ]
    },
    {
     "name": "stdout",
     "output_type": "stream",
     "text": [
      "Training Step: 745  | total loss: \u001b[1m\u001b[32m0.69157\u001b[0m\u001b[0m\n\u001b[2K\r| SGD | epoch: 004 | loss: 0.69157 - acc: 0.5239 -- iter: 13952/20250\n"
     ]
    },
    {
     "name": "stdout",
     "output_type": "stream",
     "text": [
      "Training Step: 746  | total loss: \u001b[1m\u001b[32m0.69194\u001b[0m\u001b[0m\n\u001b[2K\r| SGD | epoch: 004 | loss: 0.69194 - acc: 0.5223 -- iter: 14080/20250\n"
     ]
    },
    {
     "name": "stdout",
     "output_type": "stream",
     "text": [
      "Training Step: 747  | total loss: \u001b[1m\u001b[32m0.69274\u001b[0m\u001b[0m\n\u001b[2K\r| SGD | epoch: 004 | loss: 0.69274 - acc: 0.5169 -- iter: 14208/20250\n"
     ]
    },
    {
     "name": "stdout",
     "output_type": "stream",
     "text": [
      "Training Step: 748  | total loss: \u001b[1m\u001b[32m0.69240\u001b[0m\u001b[0m\n\u001b[2K\r| SGD | epoch: 004 | loss: 0.69240 - acc: 0.5199 -- iter: 14336/20250\n"
     ]
    },
    {
     "name": "stdout",
     "output_type": "stream",
     "text": [
      "Training Step: 749  | total loss: \u001b[1m\u001b[32m0.69206\u001b[0m\u001b[0m\n\u001b[2K\r| SGD | epoch: 004 | loss: 0.69206 - acc: 0.5203 -- iter: 14464/20250\n"
     ]
    },
    {
     "name": "stdout",
     "output_type": "stream",
     "text": [
      "Training Step: 750  | total loss: \u001b[1m\u001b[32m0.69104\u001b[0m\u001b[0m\n\u001b[2K\r| SGD | epoch: 004 | loss: 0.69104 - acc: 0.5253 -- iter: 14592/20250\n"
     ]
    },
    {
     "name": "stdout",
     "output_type": "stream",
     "text": [
      "Training Step: 751  | total loss: \u001b[1m\u001b[32m0.69056\u001b[0m\u001b[0m\n\u001b[2K\r| SGD | epoch: 004 | loss: 0.69056 - acc: 0.5290 -- iter: 14720/20250\n"
     ]
    },
    {
     "name": "stdout",
     "output_type": "stream",
     "text": [
      "Training Step: 752  | total loss: \u001b[1m\u001b[32m0.69061\u001b[0m\u001b[0m\n\u001b[2K\r| SGD | epoch: 004 | loss: 0.69061 - acc: 0.5245 -- iter: 14848/20250\n"
     ]
    },
    {
     "name": "stdout",
     "output_type": "stream",
     "text": [
      "Training Step: 753  | total loss: \u001b[1m\u001b[32m0.69352\u001b[0m\u001b[0m\n\u001b[2K\r| SGD | epoch: 004 | loss: 0.69352 - acc: 0.5150 -- iter: 14976/20250\n"
     ]
    },
    {
     "name": "stdout",
     "output_type": "stream",
     "text": [
      "Training Step: 754  | total loss: \u001b[1m\u001b[32m0.69255\u001b[0m\u001b[0m\n\u001b[2K\r| SGD | epoch: 004 | loss: 0.69255 - acc: 0.5253 -- iter: 15104/20250\n"
     ]
    },
    {
     "name": "stdout",
     "output_type": "stream",
     "text": [
      "Training Step: 755  | total loss: \u001b[1m\u001b[32m0.69370\u001b[0m\u001b[0m\n\u001b[2K\r| SGD | epoch: 004 | loss: 0.69370 - acc: 0.5157 -- iter: 15232/20250\n"
     ]
    },
    {
     "name": "stdout",
     "output_type": "stream",
     "text": [
      "Training Step: 756  | total loss: \u001b[1m\u001b[32m0.69357\u001b[0m\u001b[0m\n\u001b[2K\r| SGD | epoch: 004 | loss: 0.69357 - acc: 0.5133 -- iter: 15360/20250\n"
     ]
    },
    {
     "name": "stdout",
     "output_type": "stream",
     "text": [
      "Training Step: 757  | total loss: \u001b[1m\u001b[32m0.69205\u001b[0m\u001b[0m\n\u001b[2K\r| SGD | epoch: 004 | loss: 0.69205 - acc: 0.5198 -- iter: 15488/20250\n"
     ]
    },
    {
     "name": "stdout",
     "output_type": "stream",
     "text": [
      "Training Step: 758  | total loss: \u001b[1m\u001b[32m0.69136\u001b[0m\u001b[0m\n\u001b[2K\r| SGD | epoch: 004 | loss: 0.69136 - acc: 0.5202 -- iter: 15616/20250\n"
     ]
    },
    {
     "name": "stdout",
     "output_type": "stream",
     "text": [
      "Training Step: 759  | total loss: \u001b[1m\u001b[32m0.69113\u001b[0m\u001b[0m\n\u001b[2K\r| SGD | epoch: 004 | loss: 0.69113 - acc: 0.5190 -- iter: 15744/20250\n"
     ]
    },
    {
     "name": "stdout",
     "output_type": "stream",
     "text": [
      "Training Step: 760  | total loss: \u001b[1m\u001b[32m0.69011\u001b[0m\u001b[0m\n\u001b[2K\r| SGD | epoch: 004 | loss: 0.69011 - acc: 0.5280 -- iter: 15872/20250\n"
     ]
    },
    {
     "name": "stdout",
     "output_type": "stream",
     "text": [
      "Training Step: 761  | total loss: \u001b[1m\u001b[32m0.68929\u001b[0m\u001b[0m\n\u001b[2K\r| SGD | epoch: 004 | loss: 0.68929 - acc: 0.5354 -- iter: 16000/20250\n"
     ]
    },
    {
     "name": "stdout",
     "output_type": "stream",
     "text": [
      "Training Step: 762  | total loss: \u001b[1m\u001b[32m0.68705\u001b[0m\u001b[0m\n\u001b[2K\r| SGD | epoch: 004 | loss: 0.68705 - acc: 0.5459 -- iter: 16128/20250\n"
     ]
    },
    {
     "name": "stdout",
     "output_type": "stream",
     "text": [
      "Training Step: 763  | total loss: \u001b[1m\u001b[32m0.68648\u001b[0m\u001b[0m\n\u001b[2K\r| SGD | epoch: 004 | loss: 0.68648 - acc: 0.5538 -- iter: 16256/20250\n"
     ]
    },
    {
     "name": "stdout",
     "output_type": "stream",
     "text": [
      "Training Step: 764  | total loss: \u001b[1m\u001b[32m0.68754\u001b[0m\u001b[0m\n\u001b[2K\r| SGD | epoch: 004 | loss: 0.68754 - acc: 0.5429 -- iter: 16384/20250\n"
     ]
    },
    {
     "name": "stdout",
     "output_type": "stream",
     "text": [
      "Training Step: 765  | total loss: \u001b[1m\u001b[32m0.68674\u001b[0m\u001b[0m\n\u001b[2K\r| SGD | epoch: 004 | loss: 0.68674 - acc: 0.5449 -- iter: 16512/20250\n"
     ]
    },
    {
     "name": "stdout",
     "output_type": "stream",
     "text": [
      "Training Step: 766  | total loss: \u001b[1m\u001b[32m0.68711\u001b[0m\u001b[0m\n\u001b[2K\r| SGD | epoch: 004 | loss: 0.68711 - acc: 0.5396 -- iter: 16640/20250\n"
     ]
    },
    {
     "name": "stdout",
     "output_type": "stream",
     "text": [
      "Training Step: 767  | total loss: \u001b[1m\u001b[32m0.68690\u001b[0m\u001b[0m\n\u001b[2K\r| SGD | epoch: 004 | loss: 0.68690 - acc: 0.5443 -- iter: 16768/20250\n"
     ]
    },
    {
     "name": "stdout",
     "output_type": "stream",
     "text": [
      "Training Step: 768  | total loss: \u001b[1m\u001b[32m0.68558\u001b[0m\u001b[0m\n\u001b[2K\r| SGD | epoch: 004 | loss: 0.68558 - acc: 0.5516 -- iter: 16896/20250\n"
     ]
    },
    {
     "name": "stdout",
     "output_type": "stream",
     "text": [
      "Training Step: 769  | total loss: \u001b[1m\u001b[32m0.68425\u001b[0m\u001b[0m\n\u001b[2K\r| SGD | epoch: 004 | loss: 0.68425 - acc: 0.5573 -- iter: 17024/20250\n"
     ]
    },
    {
     "name": "stdout",
     "output_type": "stream",
     "text": [
      "Training Step: 770  | total loss: \u001b[1m\u001b[32m0.68206\u001b[0m\u001b[0m\n\u001b[2K\r| SGD | epoch: 004 | loss: 0.68206 - acc: 0.5664 -- iter: 17152/20250\n"
     ]
    },
    {
     "name": "stdout",
     "output_type": "stream",
     "text": [
      "Training Step: 771  | total loss: \u001b[1m\u001b[32m0.68282\u001b[0m\u001b[0m\n\u001b[2K\r| SGD | epoch: 004 | loss: 0.68282 - acc: 0.5700 -- iter: 17280/20250\n"
     ]
    },
    {
     "name": "stdout",
     "output_type": "stream",
     "text": [
      "Training Step: 772  | total loss: \u001b[1m\u001b[32m0.68396\u001b[0m\u001b[0m\n\u001b[2K\r| SGD | epoch: 004 | loss: 0.68396 - acc: 0.5614 -- iter: 17408/20250\n"
     ]
    },
    {
     "name": "stdout",
     "output_type": "stream",
     "text": [
      "Training Step: 773  | total loss: \u001b[1m\u001b[32m0.68448\u001b[0m\u001b[0m\n\u001b[2K\r| SGD | epoch: 004 | loss: 0.68448 - acc: 0.5490 -- iter: 17536/20250\n"
     ]
    },
    {
     "name": "stdout",
     "output_type": "stream",
     "text": [
      "Training Step: 774  | total loss: \u001b[1m\u001b[32m0.68773\u001b[0m\u001b[0m\n\u001b[2K\r| SGD | epoch: 004 | loss: 0.68773 - acc: 0.5441 -- iter: 17664/20250\n"
     ]
    },
    {
     "name": "stdout",
     "output_type": "stream",
     "text": [
      "Training Step: 775  | total loss: \u001b[1m\u001b[32m0.68791\u001b[0m\u001b[0m\n\u001b[2K\r| SGD | epoch: 004 | loss: 0.68791 - acc: 0.5428 -- iter: 17792/20250\n"
     ]
    },
    {
     "name": "stdout",
     "output_type": "stream",
     "text": [
      "Training Step: 776  | total loss: \u001b[1m\u001b[32m0.68788\u001b[0m\u001b[0m\n\u001b[2K\r| SGD | epoch: 004 | loss: 0.68788 - acc: 0.5424 -- iter: 17920/20250\n"
     ]
    },
    {
     "name": "stdout",
     "output_type": "stream",
     "text": [
      "Training Step: 777  | total loss: \u001b[1m\u001b[32m0.68900\u001b[0m\u001b[0m\n\u001b[2K\r| SGD | epoch: 004 | loss: 0.68900 - acc: 0.5366 -- iter: 18048/20250\n"
     ]
    },
    {
     "name": "stdout",
     "output_type": "stream",
     "text": [
      "Training Step: 778  | total loss: \u001b[1m\u001b[32m0.68825\u001b[0m\u001b[0m\n\u001b[2K\r| SGD | epoch: 004 | loss: 0.68825 - acc: 0.5369 -- iter: 18176/20250\n"
     ]
    },
    {
     "name": "stdout",
     "output_type": "stream",
     "text": [
      "Training Step: 779  | total loss: \u001b[1m\u001b[32m0.68672\u001b[0m\u001b[0m\n\u001b[2K\r| SGD | epoch: 004 | loss: 0.68672 - acc: 0.5426 -- iter: 18304/20250\n"
     ]
    },
    {
     "name": "stdout",
     "output_type": "stream",
     "text": [
      "Training Step: 780  | total loss: \u001b[1m\u001b[32m0.68546\u001b[0m\u001b[0m\n\u001b[2K\r| SGD | epoch: 004 | loss: 0.68546 - acc: 0.5461 -- iter: 18432/20250\n"
     ]
    },
    {
     "name": "stdout",
     "output_type": "stream",
     "text": [
      "Training Step: 781  | total loss: \u001b[1m\u001b[32m0.68150\u001b[0m\u001b[0m\n\u001b[2K\r| SGD | epoch: 004 | loss: 0.68150 - acc: 0.5564 -- iter: 18560/20250\n"
     ]
    },
    {
     "name": "stdout",
     "output_type": "stream",
     "text": [
      "Training Step: 782  | total loss: \u001b[1m\u001b[32m0.68101\u001b[0m\u001b[0m\n\u001b[2K\r| SGD | epoch: 004 | loss: 0.68101 - acc: 0.5593 -- iter: 18688/20250\n"
     ]
    },
    {
     "name": "stdout",
     "output_type": "stream",
     "text": [
      "Training Step: 783  | total loss: \u001b[1m\u001b[32m0.68042\u001b[0m\u001b[0m\n\u001b[2K\r| SGD | epoch: 004 | loss: 0.68042 - acc: 0.5557 -- iter: 18816/20250\n"
     ]
    },
    {
     "name": "stdout",
     "output_type": "stream",
     "text": [
      "Training Step: 784  | total loss: \u001b[1m\u001b[32m0.67924\u001b[0m\u001b[0m\n\u001b[2K\r| SGD | epoch: 004 | loss: 0.67924 - acc: 0.5533 -- iter: 18944/20250\n"
     ]
    },
    {
     "name": "stdout",
     "output_type": "stream",
     "text": [
      "Training Step: 785  | total loss: \u001b[1m\u001b[32m0.67406\u001b[0m\u001b[0m\n\u001b[2K\r| SGD | epoch: 004 | loss: 0.67406 - acc: 0.5589 -- iter: 19072/20250\n"
     ]
    },
    {
     "name": "stdout",
     "output_type": "stream",
     "text": [
      "Training Step: 786  | total loss: \u001b[1m\u001b[32m0.67406\u001b[0m\u001b[0m\n\u001b[2K\r| SGD | epoch: 004 | loss: 0.67406 - acc: 0.5717 -- iter: 19200/20250\n"
     ]
    },
    {
     "name": "stdout",
     "output_type": "stream",
     "text": [
      "Training Step: 787  | total loss: \u001b[1m\u001b[32m0.67165\u001b[0m\u001b[0m\n\u001b[2K\r| SGD | epoch: 004 | loss: 0.67165 - acc: 0.5810 -- iter: 19328/20250\n"
     ]
    },
    {
     "name": "stdout",
     "output_type": "stream",
     "text": [
      "Training Step: 788  | total loss: \u001b[1m\u001b[32m0.67091\u001b[0m\u001b[0m\n\u001b[2K\r| SGD | epoch: 004 | loss: 0.67091 - acc: 0.5791 -- iter: 19456/20250\n"
     ]
    },
    {
     "name": "stdout",
     "output_type": "stream",
     "text": [
      "Training Step: 789  | total loss: \u001b[1m\u001b[32m0.67031\u001b[0m\u001b[0m\n\u001b[2K\r| SGD | epoch: 004 | loss: 0.67031 - acc: 0.5861 -- iter: 19584/20250\n"
     ]
    },
    {
     "name": "stdout",
     "output_type": "stream",
     "text": [
      "Training Step: 790  | total loss: \u001b[1m\u001b[32m0.66969\u001b[0m\u001b[0m\n\u001b[2K\r| SGD | epoch: 004 | loss: 0.66969 - acc: 0.5923 -- iter: 19712/20250\n"
     ]
    },
    {
     "name": "stdout",
     "output_type": "stream",
     "text": [
      "Training Step: 791  | total loss: \u001b[1m\u001b[32m0.66956\u001b[0m\u001b[0m\n\u001b[2K\r| SGD | epoch: 004 | loss: 0.66956 - acc: 0.5917 -- iter: 19840/20250\n"
     ]
    },
    {
     "name": "stdout",
     "output_type": "stream",
     "text": [
      "Training Step: 792  | total loss: \u001b[1m\u001b[32m0.66748\u001b[0m\u001b[0m\n\u001b[2K\r| SGD | epoch: 004 | loss: 0.66748 - acc: 0.6028 -- iter: 19968/20250\n"
     ]
    },
    {
     "name": "stdout",
     "output_type": "stream",
     "text": [
      "Training Step: 793  | total loss: \u001b[1m\u001b[32m0.68335\u001b[0m\u001b[0m\n\u001b[2K\r| SGD | epoch: 004 | loss: 0.68335 - acc: 0.5925 -- iter: 20096/20250\n"
     ]
    },
    {
     "name": "stdout",
     "output_type": "stream",
     "text": [
      "Training Step: 794  | total loss: \u001b[1m\u001b[32m0.68462\u001b[0m\u001b[0m\n\u001b[2K\r| SGD | epoch: 004 | loss: 0.68462 - acc: 0.5848 -- iter: 20224/20250\n"
     ]
    },
    {
     "name": "stdout",
     "output_type": "stream",
     "text": [
      "Training Step: 795  | total loss: \u001b[1m\u001b[32m0.68688\u001b[0m\u001b[0m\n\u001b[2K\r| SGD | epoch: 005 | loss: 0.68688 - acc: 0.5717 | val_loss: 0.68482 - val_acc: 0.5529 -- iter: 20250/20250\n"
     ]
    },
    {
     "name": "stdout",
     "output_type": "stream",
     "text": [
      "Training Step: 795  | total loss: \u001b[1m\u001b[32m0.68688\u001b[0m\u001b[0m\n\u001b[2K\r| SGD | epoch: 005 | loss: 0.68688 - acc: 0.5717 | val_loss: 0.68482 - val_acc: 0.5529 -- iter: 20250/20250\n--\n"
     ]
    },
    {
     "name": "stdout",
     "output_type": "stream",
     "text": [
      "Training Step: 796  | total loss: \u001b[1m\u001b[32m0.68640\u001b[0m\u001b[0m\n\u001b[2K\r| SGD | epoch: 005 | loss: 0.68640 - acc: 0.5715 -- iter: 00128/20250\n"
     ]
    },
    {
     "name": "stdout",
     "output_type": "stream",
     "text": [
      "Training Step: 797  | total loss: \u001b[1m\u001b[32m0.68538\u001b[0m\u001b[0m\n\u001b[2K\r| SGD | epoch: 005 | loss: 0.68538 - acc: 0.5761 -- iter: 00256/20250\n"
     ]
    },
    {
     "name": "stdout",
     "output_type": "stream",
     "text": [
      "Training Step: 798  | total loss: \u001b[1m\u001b[32m0.68512\u001b[0m\u001b[0m\n\u001b[2K\r| SGD | epoch: 005 | loss: 0.68512 - acc: 0.5740 -- iter: 00384/20250\n"
     ]
    },
    {
     "name": "stdout",
     "output_type": "stream",
     "text": [
      "Training Step: 799  | total loss: \u001b[1m\u001b[32m0.68684\u001b[0m\u001b[0m\n\u001b[2K\r| SGD | epoch: 005 | loss: 0.68684 - acc: 0.5627 -- iter: 00512/20250\n"
     ]
    },
    {
     "name": "stdout",
     "output_type": "stream",
     "text": [
      "Training Step: 800  | total loss: \u001b[1m\u001b[32m0.68718\u001b[0m\u001b[0m\n\u001b[2K\r| SGD | epoch: 005 | loss: 0.68718 - acc: 0.5718 -- iter: 00640/20250\n"
     ]
    },
    {
     "name": "stdout",
     "output_type": "stream",
     "text": [
      "Training Step: 801  | total loss: \u001b[1m\u001b[32m0.68402\u001b[0m\u001b[0m\n\u001b[2K\r| SGD | epoch: 005 | loss: 0.68402 - acc: 0.5838 -- iter: 00768/20250\n"
     ]
    },
    {
     "name": "stdout",
     "output_type": "stream",
     "text": [
      "Training Step: 802  | total loss: \u001b[1m\u001b[32m0.68585\u001b[0m\u001b[0m\n\u001b[2K\r| SGD | epoch: 005 | loss: 0.68585 - acc: 0.5739 -- iter: 00896/20250\n"
     ]
    },
    {
     "name": "stdout",
     "output_type": "stream",
     "text": [
      "Training Step: 803  | total loss: \u001b[1m\u001b[32m0.68774\u001b[0m\u001b[0m\n\u001b[2K\r| SGD | epoch: 005 | loss: 0.68774 - acc: 0.5634 -- iter: 01024/20250\n"
     ]
    },
    {
     "name": "stdout",
     "output_type": "stream",
     "text": [
      "Training Step: 804  | total loss: \u001b[1m\u001b[32m0.68875\u001b[0m\u001b[0m\n\u001b[2K\r| SGD | epoch: 005 | loss: 0.68875 - acc: 0.5570 -- iter: 01152/20250\n"
     ]
    },
    {
     "name": "stdout",
     "output_type": "stream",
     "text": [
      "Training Step: 805  | total loss: \u001b[1m\u001b[32m0.68869\u001b[0m\u001b[0m\n\u001b[2K\r| SGD | epoch: 005 | loss: 0.68869 - acc: 0.5552 -- iter: 01280/20250\n"
     ]
    },
    {
     "name": "stdout",
     "output_type": "stream",
     "text": [
      "Training Step: 806  | total loss: \u001b[1m\u001b[32m0.69006\u001b[0m\u001b[0m\n\u001b[2K\r| SGD | epoch: 005 | loss: 0.69006 - acc: 0.5474 -- iter: 01408/20250\n"
     ]
    },
    {
     "name": "stdout",
     "output_type": "stream",
     "text": [
      "Training Step: 807  | total loss: \u001b[1m\u001b[32m0.68963\u001b[0m\u001b[0m\n\u001b[2K\r| SGD | epoch: 005 | loss: 0.68963 - acc: 0.5473 -- iter: 01536/20250\n"
     ]
    },
    {
     "name": "stdout",
     "output_type": "stream",
     "text": [
      "Training Step: 808  | total loss: \u001b[1m\u001b[32m0.68841\u001b[0m\u001b[0m\n\u001b[2K\r| SGD | epoch: 005 | loss: 0.68841 - acc: 0.5527 -- iter: 01664/20250\n"
     ]
    },
    {
     "name": "stdout",
     "output_type": "stream",
     "text": [
      "Training Step: 809  | total loss: \u001b[1m\u001b[32m0.68827\u001b[0m\u001b[0m\n\u001b[2K\r| SGD | epoch: 005 | loss: 0.68827 - acc: 0.5514 -- iter: 01792/20250\n"
     ]
    },
    {
     "name": "stdout",
     "output_type": "stream",
     "text": [
      "Training Step: 810  | total loss: \u001b[1m\u001b[32m0.68726\u001b[0m\u001b[0m\n\u001b[2K\r| SGD | epoch: 005 | loss: 0.68726 - acc: 0.5556 -- iter: 01920/20250\n"
     ]
    },
    {
     "name": "stdout",
     "output_type": "stream",
     "text": [
      "Training Step: 811  | total loss: \u001b[1m\u001b[32m0.68864\u001b[0m\u001b[0m\n\u001b[2K\r| SGD | epoch: 005 | loss: 0.68864 - acc: 0.5477 -- iter: 02048/20250\n"
     ]
    },
    {
     "name": "stdout",
     "output_type": "stream",
     "text": [
      "Training Step: 812  | total loss: \u001b[1m\u001b[32m0.68760\u001b[0m\u001b[0m\n\u001b[2K\r| SGD | epoch: 005 | loss: 0.68760 - acc: 0.5476 -- iter: 02176/20250\n"
     ]
    },
    {
     "name": "stdout",
     "output_type": "stream",
     "text": [
      "Training Step: 813  | total loss: \u001b[1m\u001b[32m0.68595\u001b[0m\u001b[0m\n\u001b[2K\r| SGD | epoch: 005 | loss: 0.68595 - acc: 0.5538 -- iter: 02304/20250\n"
     ]
    },
    {
     "name": "stdout",
     "output_type": "stream",
     "text": [
      "Training Step: 814  | total loss: \u001b[1m\u001b[32m0.68650\u001b[0m\u001b[0m\n\u001b[2K\r| SGD | epoch: 005 | loss: 0.68650 - acc: 0.5515 -- iter: 02432/20250\n"
     ]
    },
    {
     "name": "stdout",
     "output_type": "stream",
     "text": [
      "Training Step: 815  | total loss: \u001b[1m\u001b[32m0.68736\u001b[0m\u001b[0m\n\u001b[2K\r| SGD | epoch: 005 | loss: 0.68736 - acc: 0.5487 -- iter: 02560/20250\n"
     ]
    },
    {
     "name": "stdout",
     "output_type": "stream",
     "text": [
      "Training Step: 816  | total loss: \u001b[1m\u001b[32m0.68863\u001b[0m\u001b[0m\n\u001b[2K\r| SGD | epoch: 005 | loss: 0.68863 - acc: 0.5431 -- iter: 02688/20250\n"
     ]
    },
    {
     "name": "stdout",
     "output_type": "stream",
     "text": [
      "Training Step: 817  | total loss: \u001b[1m\u001b[32m0.68931\u001b[0m\u001b[0m\n\u001b[2K\r| SGD | epoch: 005 | loss: 0.68931 - acc: 0.5396 -- iter: 02816/20250\n"
     ]
    },
    {
     "name": "stdout",
     "output_type": "stream",
     "text": [
      "Training Step: 818  | total loss: \u001b[1m\u001b[32m0.69024\u001b[0m\u001b[0m\n\u001b[2K\r| SGD | epoch: 005 | loss: 0.69024 - acc: 0.5340 -- iter: 02944/20250\n"
     ]
    },
    {
     "name": "stdout",
     "output_type": "stream",
     "text": [
      "Training Step: 819  | total loss: \u001b[1m\u001b[32m0.68979\u001b[0m\u001b[0m\n\u001b[2K\r| SGD | epoch: 005 | loss: 0.68979 - acc: 0.5353 -- iter: 03072/20250\n"
     ]
    },
    {
     "name": "stdout",
     "output_type": "stream",
     "text": [
      "Training Step: 820  | total loss: \u001b[1m\u001b[32m0.68953\u001b[0m\u001b[0m\n\u001b[2K\r| SGD | epoch: 005 | loss: 0.68953 - acc: 0.5365 -- iter: 03200/20250\n"
     ]
    },
    {
     "name": "stdout",
     "output_type": "stream",
     "text": [
      "Training Step: 821  | total loss: \u001b[1m\u001b[32m0.68977\u001b[0m\u001b[0m\n\u001b[2K\r| SGD | epoch: 005 | loss: 0.68977 - acc: 0.5344 -- iter: 03328/20250\n"
     ]
    },
    {
     "name": "stdout",
     "output_type": "stream",
     "text": [
      "Training Step: 822  | total loss: \u001b[1m\u001b[32m0.68958\u001b[0m\u001b[0m\n\u001b[2K\r| SGD | epoch: 005 | loss: 0.68958 - acc: 0.5364 -- iter: 03456/20250\n"
     ]
    },
    {
     "name": "stdout",
     "output_type": "stream",
     "text": [
      "Training Step: 823  | total loss: \u001b[1m\u001b[32m0.69105\u001b[0m\u001b[0m\n\u001b[2K\r| SGD | epoch: 005 | loss: 0.69105 - acc: 0.5265 -- iter: 03584/20250\n"
     ]
    },
    {
     "name": "stdout",
     "output_type": "stream",
     "text": [
      "Training Step: 824  | total loss: \u001b[1m\u001b[32m0.69096\u001b[0m\u001b[0m\n\u001b[2K\r| SGD | epoch: 005 | loss: 0.69096 - acc: 0.5254 -- iter: 03712/20250\n"
     ]
    },
    {
     "name": "stdout",
     "output_type": "stream",
     "text": [
      "Training Step: 825  | total loss: \u001b[1m\u001b[32m0.69097\u001b[0m\u001b[0m\n\u001b[2K\r| SGD | epoch: 005 | loss: 0.69097 - acc: 0.5213 -- iter: 03840/20250\n"
     ]
    },
    {
     "name": "stdout",
     "output_type": "stream",
     "text": [
      "Training Step: 826  | total loss: \u001b[1m\u001b[32m0.69133\u001b[0m\u001b[0m\n\u001b[2K\r| SGD | epoch: 005 | loss: 0.69133 - acc: 0.5176 -- iter: 03968/20250\n"
     ]
    },
    {
     "name": "stdout",
     "output_type": "stream",
     "text": [
      "Training Step: 827  | total loss: \u001b[1m\u001b[32m0.69110\u001b[0m\u001b[0m\n\u001b[2K\r| SGD | epoch: 005 | loss: 0.69110 - acc: 0.5206 -- iter: 04096/20250\n"
     ]
    },
    {
     "name": "stdout",
     "output_type": "stream",
     "text": [
      "Training Step: 828  | total loss: \u001b[1m\u001b[32m0.69099\u001b[0m\u001b[0m\n\u001b[2K\r| SGD | epoch: 005 | loss: 0.69099 - acc: 0.5177 -- iter: 04224/20250\n"
     ]
    },
    {
     "name": "stdout",
     "output_type": "stream",
     "text": [
      "Training Step: 829  | total loss: \u001b[1m\u001b[32m0.68947\u001b[0m\u001b[0m\n\u001b[2K\r| SGD | epoch: 005 | loss: 0.68947 - acc: 0.5152 -- iter: 04352/20250\n"
     ]
    },
    {
     "name": "stdout",
     "output_type": "stream",
     "text": [
      "Training Step: 830  | total loss: \u001b[1m\u001b[32m0.68948\u001b[0m\u001b[0m\n\u001b[2K\r| SGD | epoch: 005 | loss: 0.68948 - acc: 0.5262 -- iter: 04480/20250\n"
     ]
    },
    {
     "name": "stdout",
     "output_type": "stream",
     "text": [
      "Training Step: 831  | total loss: \u001b[1m\u001b[32m0.68821\u001b[0m\u001b[0m\n\u001b[2K\r| SGD | epoch: 005 | loss: 0.68821 - acc: 0.5321 -- iter: 04608/20250\n"
     ]
    },
    {
     "name": "stdout",
     "output_type": "stream",
     "text": [
      "Training Step: 832  | total loss: \u001b[1m\u001b[32m0.68777\u001b[0m\u001b[0m\n\u001b[2K\r| SGD | epoch: 005 | loss: 0.68777 - acc: 0.5352 -- iter: 04736/20250\n"
     ]
    },
    {
     "name": "stdout",
     "output_type": "stream",
     "text": [
      "Training Step: 833  | total loss: \u001b[1m\u001b[32m0.68518\u001b[0m\u001b[0m\n\u001b[2K\r| SGD | epoch: 005 | loss: 0.68518 - acc: 0.5481 -- iter: 04864/20250\n"
     ]
    },
    {
     "name": "stdout",
     "output_type": "stream",
     "text": [
      "Training Step: 834  | total loss: \u001b[1m\u001b[32m0.68240\u001b[0m\u001b[0m\n\u001b[2K\r| SGD | epoch: 005 | loss: 0.68240 - acc: 0.5573 -- iter: 04992/20250\n"
     ]
    },
    {
     "name": "stdout",
     "output_type": "stream",
     "text": [
      "Training Step: 835  | total loss: \u001b[1m\u001b[32m0.68039\u001b[0m\u001b[0m\n\u001b[2K\r| SGD | epoch: 005 | loss: 0.68039 - acc: 0.5656 -- iter: 05120/20250\n"
     ]
    },
    {
     "name": "stdout",
     "output_type": "stream",
     "text": [
      "Training Step: 836  | total loss: \u001b[1m\u001b[32m0.67855\u001b[0m\u001b[0m\n\u001b[2K\r| SGD | epoch: 005 | loss: 0.67855 - acc: 0.5661 -- iter: 05248/20250\n"
     ]
    },
    {
     "name": "stdout",
     "output_type": "stream",
     "text": [
      "Training Step: 837  | total loss: \u001b[1m\u001b[32m0.67948\u001b[0m\u001b[0m\n\u001b[2K\r| SGD | epoch: 005 | loss: 0.67948 - acc: 0.5611 -- iter: 05376/20250\n"
     ]
    },
    {
     "name": "stdout",
     "output_type": "stream",
     "text": [
      "Training Step: 838  | total loss: \u001b[1m\u001b[32m0.68069\u001b[0m\u001b[0m\n\u001b[2K\r| SGD | epoch: 005 | loss: 0.68069 - acc: 0.5573 -- iter: 05504/20250\n"
     ]
    },
    {
     "name": "stdout",
     "output_type": "stream",
     "text": [
      "Training Step: 839  | total loss: \u001b[1m\u001b[32m0.67996\u001b[0m\u001b[0m\n\u001b[2K\r| SGD | epoch: 005 | loss: 0.67996 - acc: 0.5649 -- iter: 05632/20250\n"
     ]
    },
    {
     "name": "stdout",
     "output_type": "stream",
     "text": [
      "Training Step: 840  | total loss: \u001b[1m\u001b[32m0.68105\u001b[0m\u001b[0m\n\u001b[2K\r| SGD | epoch: 005 | loss: 0.68105 - acc: 0.5607 -- iter: 05760/20250\n"
     ]
    },
    {
     "name": "stdout",
     "output_type": "stream",
     "text": [
      "Training Step: 841  | total loss: \u001b[1m\u001b[32m0.68085\u001b[0m\u001b[0m\n\u001b[2K\r| SGD | epoch: 005 | loss: 0.68085 - acc: 0.5562 -- iter: 05888/20250\n"
     ]
    },
    {
     "name": "stdout",
     "output_type": "stream",
     "text": [
      "Training Step: 842  | total loss: \u001b[1m\u001b[32m0.68046\u001b[0m\u001b[0m\n\u001b[2K\r| SGD | epoch: 005 | loss: 0.68046 - acc: 0.5592 -- iter: 06016/20250\n"
     ]
    },
    {
     "name": "stdout",
     "output_type": "stream",
     "text": [
      "Training Step: 843  | total loss: \u001b[1m\u001b[32m0.67905\u001b[0m\u001b[0m\n\u001b[2K\r| SGD | epoch: 005 | loss: 0.67905 - acc: 0.5642 -- iter: 06144/20250\n"
     ]
    },
    {
     "name": "stdout",
     "output_type": "stream",
     "text": [
      "Training Step: 844  | total loss: \u001b[1m\u001b[32m0.67771\u001b[0m\u001b[0m\n\u001b[2K\r| SGD | epoch: 005 | loss: 0.67771 - acc: 0.5664 -- iter: 06272/20250\n"
     ]
    },
    {
     "name": "stdout",
     "output_type": "stream",
     "text": [
      "Training Step: 845  | total loss: \u001b[1m\u001b[32m0.67749\u001b[0m\u001b[0m\n\u001b[2K\r| SGD | epoch: 005 | loss: 0.67749 - acc: 0.5675 -- iter: 06400/20250\n"
     ]
    },
    {
     "name": "stdout",
     "output_type": "stream",
     "text": [
      "Training Step: 846  | total loss: \u001b[1m\u001b[32m0.66973\u001b[0m\u001b[0m\n\u001b[2K\r| SGD | epoch: 005 | loss: 0.66973 - acc: 0.5780 -- iter: 06528/20250\n"
     ]
    },
    {
     "name": "stdout",
     "output_type": "stream",
     "text": [
      "Training Step: 847  | total loss: \u001b[1m\u001b[32m0.67974\u001b[0m\u001b[0m\n\u001b[2K\r| SGD | epoch: 005 | loss: 0.67974 - acc: 0.5780 -- iter: 06656/20250\n"
     ]
    },
    {
     "name": "stdout",
     "output_type": "stream",
     "text": [
      "Training Step: 848  | total loss: \u001b[1m\u001b[32m0.68214\u001b[0m\u001b[0m\n\u001b[2K\r| SGD | epoch: 005 | loss: 0.68214 - acc: 0.5655 -- iter: 06784/20250\n"
     ]
    },
    {
     "name": "stdout",
     "output_type": "stream",
     "text": [
      "Training Step: 849  | total loss: \u001b[1m\u001b[32m0.68337\u001b[0m\u001b[0m\n\u001b[2K\r| SGD | epoch: 005 | loss: 0.68337 - acc: 0.5590 -- iter: 06912/20250\n"
     ]
    },
    {
     "name": "stdout",
     "output_type": "stream",
     "text": [
      "Training Step: 850  | total loss: \u001b[1m\u001b[32m0.68457\u001b[0m\u001b[0m\n\u001b[2K\r| SGD | epoch: 005 | loss: 0.68457 - acc: 0.5515 -- iter: 07040/20250\n"
     ]
    },
    {
     "name": "stdout",
     "output_type": "stream",
     "text": [
      "Training Step: 851  | total loss: \u001b[1m\u001b[32m0.68516\u001b[0m\u001b[0m\n\u001b[2K\r| SGD | epoch: 005 | loss: 0.68516 - acc: 0.5503 -- iter: 07168/20250\n"
     ]
    },
    {
     "name": "stdout",
     "output_type": "stream",
     "text": [
      "Training Step: 852  | total loss: \u001b[1m\u001b[32m0.68459\u001b[0m\u001b[0m\n\u001b[2K\r| SGD | epoch: 005 | loss: 0.68459 - acc: 0.5515 -- iter: 07296/20250\n"
     ]
    },
    {
     "name": "stdout",
     "output_type": "stream",
     "text": [
      "Training Step: 853  | total loss: \u001b[1m\u001b[32m0.68431\u001b[0m\u001b[0m\n\u001b[2K\r| SGD | epoch: 005 | loss: 0.68431 - acc: 0.5463 -- iter: 07424/20250\n"
     ]
    },
    {
     "name": "stdout",
     "output_type": "stream",
     "text": [
      "Training Step: 854  | total loss: \u001b[1m\u001b[32m0.68512\u001b[0m\u001b[0m\n\u001b[2K\r| SGD | epoch: 005 | loss: 0.68512 - acc: 0.5409 -- iter: 07552/20250\n"
     ]
    },
    {
     "name": "stdout",
     "output_type": "stream",
     "text": [
      "Training Step: 855  | total loss: \u001b[1m\u001b[32m0.68534\u001b[0m\u001b[0m\n\u001b[2K\r| SGD | epoch: 005 | loss: 0.68534 - acc: 0.5392 -- iter: 07680/20250\n"
     ]
    },
    {
     "name": "stdout",
     "output_type": "stream",
     "text": [
      "Training Step: 856  | total loss: \u001b[1m\u001b[32m0.68486\u001b[0m\u001b[0m\n\u001b[2K\r| SGD | epoch: 005 | loss: 0.68486 - acc: 0.5454 -- iter: 07808/20250\n"
     ]
    },
    {
     "name": "stdout",
     "output_type": "stream",
     "text": [
      "Training Step: 857  | total loss: \u001b[1m\u001b[32m0.68475\u001b[0m\u001b[0m\n\u001b[2K\r| SGD | epoch: 005 | loss: 0.68475 - acc: 0.5463 -- iter: 07936/20250\n"
     ]
    },
    {
     "name": "stdout",
     "output_type": "stream",
     "text": [
      "Training Step: 858  | total loss: \u001b[1m\u001b[32m0.68324\u001b[0m\u001b[0m\n\u001b[2K\r| SGD | epoch: 005 | loss: 0.68324 - acc: 0.5503 -- iter: 08064/20250\n"
     ]
    },
    {
     "name": "stdout",
     "output_type": "stream",
     "text": [
      "Training Step: 859  | total loss: \u001b[1m\u001b[32m0.68560\u001b[0m\u001b[0m\n\u001b[2K\r| SGD | epoch: 005 | loss: 0.68560 - acc: 0.5500 -- iter: 08192/20250\n"
     ]
    },
    {
     "name": "stdout",
     "output_type": "stream",
     "text": [
      "Training Step: 860  | total loss: \u001b[1m\u001b[32m0.68459\u001b[0m\u001b[0m\n\u001b[2K\r| SGD | epoch: 005 | loss: 0.68459 - acc: 0.5543 -- iter: 08320/20250\n"
     ]
    },
    {
     "name": "stdout",
     "output_type": "stream",
     "text": [
      "Training Step: 861  | total loss: \u001b[1m\u001b[32m0.68472\u001b[0m\u001b[0m\n\u001b[2K\r| SGD | epoch: 005 | loss: 0.68472 - acc: 0.5559 -- iter: 08448/20250\n"
     ]
    },
    {
     "name": "stdout",
     "output_type": "stream",
     "text": [
      "Training Step: 862  | total loss: \u001b[1m\u001b[32m0.68213\u001b[0m\u001b[0m\n\u001b[2K\r| SGD | epoch: 005 | loss: 0.68213 - acc: 0.5652 -- iter: 08576/20250\n"
     ]
    },
    {
     "name": "stdout",
     "output_type": "stream",
     "text": [
      "Training Step: 863  | total loss: \u001b[1m\u001b[32m0.68535\u001b[0m\u001b[0m\n\u001b[2K\r| SGD | epoch: 005 | loss: 0.68535 - acc: 0.5634 -- iter: 08704/20250\n"
     ]
    },
    {
     "name": "stdout",
     "output_type": "stream",
     "text": [
      "Training Step: 864  | total loss: \u001b[1m\u001b[32m0.68508\u001b[0m\u001b[0m\n\u001b[2K\r| SGD | epoch: 005 | loss: 0.68508 - acc: 0.5648 -- iter: 08832/20250\n"
     ]
    },
    {
     "name": "stdout",
     "output_type": "stream",
     "text": [
      "Training Step: 865  | total loss: \u001b[1m\u001b[32m0.68740\u001b[0m\u001b[0m\n\u001b[2K\r| SGD | epoch: 005 | loss: 0.68740 - acc: 0.5529 -- iter: 08960/20250\n"
     ]
    },
    {
     "name": "stdout",
     "output_type": "stream",
     "text": [
      "Training Step: 866  | total loss: \u001b[1m\u001b[32m0.68738\u001b[0m\u001b[0m\n\u001b[2K\r| SGD | epoch: 005 | loss: 0.68738 - acc: 0.5531 -- iter: 09088/20250\n"
     ]
    },
    {
     "name": "stdout",
     "output_type": "stream",
     "text": [
      "Training Step: 867  | total loss: \u001b[1m\u001b[32m0.68797\u001b[0m\u001b[0m\n\u001b[2K\r| SGD | epoch: 005 | loss: 0.68797 - acc: 0.5478 -- iter: 09216/20250\n"
     ]
    },
    {
     "name": "stdout",
     "output_type": "stream",
     "text": [
      "Training Step: 868  | total loss: \u001b[1m\u001b[32m0.68793\u001b[0m\u001b[0m\n\u001b[2K\r| SGD | epoch: 005 | loss: 0.68793 - acc: 0.5461 -- iter: 09344/20250\n"
     ]
    },
    {
     "name": "stdout",
     "output_type": "stream",
     "text": [
      "Training Step: 869  | total loss: \u001b[1m\u001b[32m0.68811\u001b[0m\u001b[0m\n\u001b[2K\r| SGD | epoch: 005 | loss: 0.68811 - acc: 0.5423 -- iter: 09472/20250\n"
     ]
    },
    {
     "name": "stdout",
     "output_type": "stream",
     "text": [
      "Training Step: 870  | total loss: \u001b[1m\u001b[32m0.68770\u001b[0m\u001b[0m\n\u001b[2K\r| SGD | epoch: 005 | loss: 0.68770 - acc: 0.5451 -- iter: 09600/20250\n"
     ]
    },
    {
     "name": "stdout",
     "output_type": "stream",
     "text": [
      "Training Step: 871  | total loss: \u001b[1m\u001b[32m0.68810\u001b[0m\u001b[0m\n\u001b[2K\r| SGD | epoch: 005 | loss: 0.68810 - acc: 0.5406 -- iter: 09728/20250\n"
     ]
    },
    {
     "name": "stdout",
     "output_type": "stream",
     "text": [
      "Training Step: 872  | total loss: \u001b[1m\u001b[32m0.68814\u001b[0m\u001b[0m\n\u001b[2K\r| SGD | epoch: 005 | loss: 0.68814 - acc: 0.5396 -- iter: 09856/20250\n"
     ]
    },
    {
     "name": "stdout",
     "output_type": "stream",
     "text": [
      "Training Step: 873  | total loss: \u001b[1m\u001b[32m0.68710\u001b[0m\u001b[0m\n\u001b[2K\r| SGD | epoch: 005 | loss: 0.68710 - acc: 0.5458 -- iter: 09984/20250\n"
     ]
    },
    {
     "name": "stdout",
     "output_type": "stream",
     "text": [
      "Training Step: 874  | total loss: \u001b[1m\u001b[32m0.68895\u001b[0m\u001b[0m\n\u001b[2K\r| SGD | epoch: 005 | loss: 0.68895 - acc: 0.5475 -- iter: 10112/20250\n"
     ]
    },
    {
     "name": "stdout",
     "output_type": "stream",
     "text": [
      "Training Step: 875  | total loss: \u001b[1m\u001b[32m0.68824\u001b[0m\u001b[0m\n\u001b[2K\r| SGD | epoch: 005 | loss: 0.68824 - acc: 0.5521 -- iter: 10240/20250\n"
     ]
    },
    {
     "name": "stdout",
     "output_type": "stream",
     "text": [
      "Training Step: 876  | total loss: \u001b[1m\u001b[32m0.68591\u001b[0m\u001b[0m\n\u001b[2K\r| SGD | epoch: 005 | loss: 0.68591 - acc: 0.5555 -- iter: 10368/20250\n"
     ]
    },
    {
     "name": "stdout",
     "output_type": "stream",
     "text": [
      "Training Step: 877  | total loss: \u001b[1m\u001b[32m0.68722\u001b[0m\u001b[0m\n\u001b[2K\r| SGD | epoch: 005 | loss: 0.68722 - acc: 0.5507 -- iter: 10496/20250\n"
     ]
    },
    {
     "name": "stdout",
     "output_type": "stream",
     "text": [
      "Training Step: 878  | total loss: \u001b[1m\u001b[32m0.68716\u001b[0m\u001b[0m\n\u001b[2K\r| SGD | epoch: 005 | loss: 0.68716 - acc: 0.5496 -- iter: 10624/20250\n"
     ]
    },
    {
     "name": "stdout",
     "output_type": "stream",
     "text": [
      "Training Step: 879  | total loss: \u001b[1m\u001b[32m0.68843\u001b[0m\u001b[0m\n\u001b[2K\r| SGD | epoch: 005 | loss: 0.68843 - acc: 0.5415 -- iter: 10752/20250\n"
     ]
    },
    {
     "name": "stdout",
     "output_type": "stream",
     "text": [
      "Training Step: 880  | total loss: \u001b[1m\u001b[32m0.68901\u001b[0m\u001b[0m\n\u001b[2K\r| SGD | epoch: 005 | loss: 0.68901 - acc: 0.5451 -- iter: 10880/20250\n"
     ]
    },
    {
     "name": "stdout",
     "output_type": "stream",
     "text": [
      "Training Step: 881  | total loss: \u001b[1m\u001b[32m0.68754\u001b[0m\u001b[0m\n\u001b[2K\r| SGD | epoch: 005 | loss: 0.68754 - acc: 0.5508 -- iter: 11008/20250\n"
     ]
    },
    {
     "name": "stdout",
     "output_type": "stream",
     "text": [
      "Training Step: 882  | total loss: \u001b[1m\u001b[32m0.68419\u001b[0m\u001b[0m\n\u001b[2K\r| SGD | epoch: 005 | loss: 0.68419 - acc: 0.5551 -- iter: 11136/20250\n"
     ]
    },
    {
     "name": "stdout",
     "output_type": "stream",
     "text": [
      "Training Step: 883  | total loss: \u001b[1m\u001b[32m0.68382\u001b[0m\u001b[0m\n\u001b[2K\r| SGD | epoch: 005 | loss: 0.68382 - acc: 0.5519 -- iter: 11264/20250\n"
     ]
    },
    {
     "name": "stdout",
     "output_type": "stream",
     "text": [
      "Training Step: 884  | total loss: \u001b[1m\u001b[32m0.68653\u001b[0m\u001b[0m\n\u001b[2K\r| SGD | epoch: 005 | loss: 0.68653 - acc: 0.5389 -- iter: 11392/20250\n"
     ]
    },
    {
     "name": "stdout",
     "output_type": "stream",
     "text": [
      "Training Step: 885  | total loss: \u001b[1m\u001b[32m0.68703\u001b[0m\u001b[0m\n\u001b[2K\r| SGD | epoch: 005 | loss: 0.68703 - acc: 0.5358 -- iter: 11520/20250\n"
     ]
    },
    {
     "name": "stdout",
     "output_type": "stream",
     "text": [
      "Training Step: 886  | total loss: \u001b[1m\u001b[32m0.68497\u001b[0m\u001b[0m\n\u001b[2K\r| SGD | epoch: 005 | loss: 0.68497 - acc: 0.5424 -- iter: 11648/20250\n"
     ]
    },
    {
     "name": "stdout",
     "output_type": "stream",
     "text": [
      "Training Step: 887  | total loss: \u001b[1m\u001b[32m0.68468\u001b[0m\u001b[0m\n\u001b[2K\r| SGD | epoch: 005 | loss: 0.68468 - acc: 0.5397 -- iter: 11776/20250\n"
     ]
    },
    {
     "name": "stdout",
     "output_type": "stream",
     "text": [
      "Training Step: 888  | total loss: \u001b[1m\u001b[32m0.68417\u001b[0m\u001b[0m\n\u001b[2K\r| SGD | epoch: 005 | loss: 0.68417 - acc: 0.5420 -- iter: 11904/20250\n"
     ]
    },
    {
     "name": "stdout",
     "output_type": "stream",
     "text": [
      "Training Step: 889  | total loss: \u001b[1m\u001b[32m0.68184\u001b[0m\u001b[0m\n\u001b[2K\r| SGD | epoch: 005 | loss: 0.68184 - acc: 0.5487 -- iter: 12032/20250\n"
     ]
    },
    {
     "name": "stdout",
     "output_type": "stream",
     "text": [
      "Training Step: 890  | total loss: \u001b[1m\u001b[32m0.68126\u001b[0m\u001b[0m\n\u001b[2K\r| SGD | epoch: 005 | loss: 0.68126 - acc: 0.5532 -- iter: 12160/20250\n"
     ]
    },
    {
     "name": "stdout",
     "output_type": "stream",
     "text": [
      "Training Step: 891  | total loss: \u001b[1m\u001b[32m0.67986\u001b[0m\u001b[0m\n\u001b[2K\r| SGD | epoch: 005 | loss: 0.67986 - acc: 0.5573 -- iter: 12288/20250\n"
     ]
    },
    {
     "name": "stdout",
     "output_type": "stream",
     "text": [
      "Training Step: 892  | total loss: \u001b[1m\u001b[32m0.68032\u001b[0m\u001b[0m\n\u001b[2K\r| SGD | epoch: 005 | loss: 0.68032 - acc: 0.5648 -- iter: 12416/20250\n"
     ]
    },
    {
     "name": "stdout",
     "output_type": "stream",
     "text": [
      "Training Step: 893  | total loss: \u001b[1m\u001b[32m0.68057\u001b[0m\u001b[0m\n\u001b[2K\r| SGD | epoch: 005 | loss: 0.68057 - acc: 0.5630 -- iter: 12544/20250\n"
     ]
    },
    {
     "name": "stdout",
     "output_type": "stream",
     "text": [
      "Training Step: 894  | total loss: \u001b[1m\u001b[32m0.68241\u001b[0m\u001b[0m\n\u001b[2K\r| SGD | epoch: 005 | loss: 0.68241 - acc: 0.5560 -- iter: 12672/20250\n"
     ]
    },
    {
     "name": "stdout",
     "output_type": "stream",
     "text": [
      "Training Step: 895  | total loss: \u001b[1m\u001b[32m0.68240\u001b[0m\u001b[0m\n\u001b[2K\r| SGD | epoch: 005 | loss: 0.68240 - acc: 0.5582 -- iter: 12800/20250\n"
     ]
    },
    {
     "name": "stdout",
     "output_type": "stream",
     "text": [
      "Training Step: 896  | total loss: \u001b[1m\u001b[32m0.68167\u001b[0m\u001b[0m\n\u001b[2K\r| SGD | epoch: 005 | loss: 0.68167 - acc: 0.5609 -- iter: 12928/20250\n"
     ]
    },
    {
     "name": "stdout",
     "output_type": "stream",
     "text": [
      "Training Step: 897  | total loss: \u001b[1m\u001b[32m0.68173\u001b[0m\u001b[0m\n\u001b[2K\r| SGD | epoch: 005 | loss: 0.68173 - acc: 0.5634 -- iter: 13056/20250\n"
     ]
    },
    {
     "name": "stdout",
     "output_type": "stream",
     "text": [
      "Training Step: 898  | total loss: \u001b[1m\u001b[32m0.68202\u001b[0m\u001b[0m\n\u001b[2K\r| SGD | epoch: 005 | loss: 0.68202 - acc: 0.5618 -- iter: 13184/20250\n"
     ]
    },
    {
     "name": "stdout",
     "output_type": "stream",
     "text": [
      "Training Step: 899  | total loss: \u001b[1m\u001b[32m0.68154\u001b[0m\u001b[0m\n\u001b[2K\r| SGD | epoch: 005 | loss: 0.68154 - acc: 0.5619 -- iter: 13312/20250\n"
     ]
    },
    {
     "name": "stdout",
     "output_type": "stream",
     "text": [
      "Training Step: 900  | total loss: \u001b[1m\u001b[32m0.68111\u001b[0m\u001b[0m\n\u001b[2K\r| SGD | epoch: 005 | loss: 0.68111 - acc: 0.5690 -- iter: 13440/20250\n"
     ]
    },
    {
     "name": "stdout",
     "output_type": "stream",
     "text": [
      "Training Step: 901  | total loss: \u001b[1m\u001b[32m0.68011\u001b[0m\u001b[0m\n\u001b[2K\r| SGD | epoch: 005 | loss: 0.68011 - acc: 0.5675 -- iter: 13568/20250\n"
     ]
    },
    {
     "name": "stdout",
     "output_type": "stream",
     "text": [
      "Training Step: 902  | total loss: \u001b[1m\u001b[32m0.68111\u001b[0m\u001b[0m\n\u001b[2K\r| SGD | epoch: 005 | loss: 0.68111 - acc: 0.5584 -- iter: 13696/20250\n"
     ]
    },
    {
     "name": "stdout",
     "output_type": "stream",
     "text": [
      "Training Step: 903  | total loss: \u001b[1m\u001b[32m0.67875\u001b[0m\u001b[0m\n\u001b[2K\r| SGD | epoch: 005 | loss: 0.67875 - acc: 0.5596 -- iter: 13824/20250\n"
     ]
    },
    {
     "name": "stdout",
     "output_type": "stream",
     "text": [
      "Training Step: 904  | total loss: \u001b[1m\u001b[32m0.67655\u001b[0m\u001b[0m\n\u001b[2K\r| SGD | epoch: 005 | loss: 0.67655 - acc: 0.5630 -- iter: 13952/20250\n"
     ]
    },
    {
     "name": "stdout",
     "output_type": "stream",
     "text": [
      "Training Step: 905  | total loss: \u001b[1m\u001b[32m0.67651\u001b[0m\u001b[0m\n\u001b[2K\r| SGD | epoch: 005 | loss: 0.67651 - acc: 0.5661 -- iter: 14080/20250\n"
     ]
    },
    {
     "name": "stdout",
     "output_type": "stream",
     "text": [
      "Training Step: 906  | total loss: \u001b[1m\u001b[32m0.67511\u001b[0m\u001b[0m\n\u001b[2K\r| SGD | epoch: 005 | loss: 0.67511 - acc: 0.5806 -- iter: 14208/20250\n"
     ]
    },
    {
     "name": "stdout",
     "output_type": "stream",
     "text": [
      "Training Step: 907  | total loss: \u001b[1m\u001b[32m0.67477\u001b[0m\u001b[0m\n\u001b[2K\r| SGD | epoch: 005 | loss: 0.67477 - acc: 0.5858 -- iter: 14336/20250\n"
     ]
    },
    {
     "name": "stdout",
     "output_type": "stream",
     "text": [
      "Training Step: 908  | total loss: \u001b[1m\u001b[32m0.67484\u001b[0m\u001b[0m\n\u001b[2K\r| SGD | epoch: 005 | loss: 0.67484 - acc: 0.5882 -- iter: 14464/20250\n"
     ]
    },
    {
     "name": "stdout",
     "output_type": "stream",
     "text": [
      "Training Step: 909  | total loss: \u001b[1m\u001b[32m0.67357\u001b[0m\u001b[0m\n\u001b[2K\r| SGD | epoch: 005 | loss: 0.67357 - acc: 0.5926 -- iter: 14592/20250\n"
     ]
    },
    {
     "name": "stdout",
     "output_type": "stream",
     "text": [
      "Training Step: 910  | total loss: \u001b[1m\u001b[32m0.67415\u001b[0m\u001b[0m\n\u001b[2K\r| SGD | epoch: 005 | loss: 0.67415 - acc: 0.5920 -- iter: 14720/20250\n"
     ]
    },
    {
     "name": "stdout",
     "output_type": "stream",
     "text": [
      "Training Step: 911  | total loss: \u001b[1m\u001b[32m0.67428\u001b[0m\u001b[0m\n\u001b[2K\r| SGD | epoch: 005 | loss: 0.67428 - acc: 0.5921 -- iter: 14848/20250\n"
     ]
    },
    {
     "name": "stdout",
     "output_type": "stream",
     "text": [
      "Training Step: 912  | total loss: \u001b[1m\u001b[32m0.67248\u001b[0m\u001b[0m\n\u001b[2K\r| SGD | epoch: 005 | loss: 0.67248 - acc: 0.6025 -- iter: 14976/20250\n"
     ]
    },
    {
     "name": "stdout",
     "output_type": "stream",
     "text": [
      "Training Step: 913  | total loss: \u001b[1m\u001b[32m0.67486\u001b[0m\u001b[0m\n\u001b[2K\r| SGD | epoch: 005 | loss: 0.67486 - acc: 0.5992 -- iter: 15104/20250\n"
     ]
    },
    {
     "name": "stdout",
     "output_type": "stream",
     "text": [
      "Training Step: 914  | total loss: \u001b[1m\u001b[32m0.67580\u001b[0m\u001b[0m\n\u001b[2K\r| SGD | epoch: 005 | loss: 0.67580 - acc: 0.5979 -- iter: 15232/20250\n"
     ]
    },
    {
     "name": "stdout",
     "output_type": "stream",
     "text": [
      "Training Step: 915  | total loss: \u001b[1m\u001b[32m0.67393\u001b[0m\u001b[0m\n\u001b[2K\r| SGD | epoch: 005 | loss: 0.67393 - acc: 0.6030 -- iter: 15360/20250\n"
     ]
    },
    {
     "name": "stdout",
     "output_type": "stream",
     "text": [
      "Training Step: 916  | total loss: \u001b[1m\u001b[32m0.67396\u001b[0m\u001b[0m\n\u001b[2K\r| SGD | epoch: 005 | loss: 0.67396 - acc: 0.6013 -- iter: 15488/20250\n"
     ]
    },
    {
     "name": "stdout",
     "output_type": "stream",
     "text": [
      "Training Step: 917  | total loss: \u001b[1m\u001b[32m0.67510\u001b[0m\u001b[0m\n\u001b[2K\r| SGD | epoch: 005 | loss: 0.67510 - acc: 0.5958 -- iter: 15616/20250\n"
     ]
    },
    {
     "name": "stdout",
     "output_type": "stream",
     "text": [
      "Training Step: 918  | total loss: \u001b[1m\u001b[32m0.67482\u001b[0m\u001b[0m\n\u001b[2K\r| SGD | epoch: 005 | loss: 0.67482 - acc: 0.5964 -- iter: 15744/20250\n"
     ]
    },
    {
     "name": "stdout",
     "output_type": "stream",
     "text": [
      "Training Step: 919  | total loss: \u001b[1m\u001b[32m0.67347\u001b[0m\u001b[0m\n\u001b[2K\r| SGD | epoch: 005 | loss: 0.67347 - acc: 0.5977 -- iter: 15872/20250\n"
     ]
    },
    {
     "name": "stdout",
     "output_type": "stream",
     "text": [
      "Training Step: 920  | total loss: \u001b[1m\u001b[32m0.67410\u001b[0m\u001b[0m\n\u001b[2K\r| SGD | epoch: 005 | loss: 0.67410 - acc: 0.6020 -- iter: 16000/20250\n"
     ]
    },
    {
     "name": "stdout",
     "output_type": "stream",
     "text": [
      "Training Step: 921  | total loss: \u001b[1m\u001b[32m0.67931\u001b[0m\u001b[0m\n\u001b[2K\r| SGD | epoch: 005 | loss: 0.67931 - acc: 0.5879 -- iter: 16128/20250\n"
     ]
    },
    {
     "name": "stdout",
     "output_type": "stream",
     "text": [
      "Training Step: 922  | total loss: \u001b[1m\u001b[32m0.68079\u001b[0m\u001b[0m\n\u001b[2K\r| SGD | epoch: 005 | loss: 0.68079 - acc: 0.5877 -- iter: 16256/20250\n"
     ]
    },
    {
     "name": "stdout",
     "output_type": "stream",
     "text": [
      "Training Step: 923  | total loss: \u001b[1m\u001b[32m0.68201\u001b[0m\u001b[0m\n\u001b[2K\r| SGD | epoch: 005 | loss: 0.68201 - acc: 0.5789 -- iter: 16384/20250\n"
     ]
    },
    {
     "name": "stdout",
     "output_type": "stream",
     "text": [
      "Training Step: 924  | total loss: \u001b[1m\u001b[32m0.68181\u001b[0m\u001b[0m\n\u001b[2K\r| SGD | epoch: 005 | loss: 0.68181 - acc: 0.5765 -- iter: 16512/20250\n"
     ]
    },
    {
     "name": "stdout",
     "output_type": "stream",
     "text": [
      "Training Step: 925  | total loss: \u001b[1m\u001b[32m0.68419\u001b[0m\u001b[0m\n\u001b[2K\r| SGD | epoch: 005 | loss: 0.68419 - acc: 0.5728 -- iter: 16640/20250\n"
     ]
    },
    {
     "name": "stdout",
     "output_type": "stream",
     "text": [
      "Training Step: 926  | total loss: \u001b[1m\u001b[32m0.68456\u001b[0m\u001b[0m\n\u001b[2K\r| SGD | epoch: 005 | loss: 0.68456 - acc: 0.5694 -- iter: 16768/20250\n"
     ]
    },
    {
     "name": "stdout",
     "output_type": "stream",
     "text": [
      "Training Step: 927  | total loss: \u001b[1m\u001b[32m0.68377\u001b[0m\u001b[0m\n\u001b[2K\r| SGD | epoch: 005 | loss: 0.68377 - acc: 0.5687 -- iter: 16896/20250\n"
     ]
    },
    {
     "name": "stdout",
     "output_type": "stream",
     "text": [
      "Training Step: 928  | total loss: \u001b[1m\u001b[32m0.68161\u001b[0m\u001b[0m\n\u001b[2K\r| SGD | epoch: 005 | loss: 0.68161 - acc: 0.5806 -- iter: 17024/20250\n"
     ]
    },
    {
     "name": "stdout",
     "output_type": "stream",
     "text": [
      "Training Step: 929  | total loss: \u001b[1m\u001b[32m0.68144\u001b[0m\u001b[0m\n\u001b[2K\r| SGD | epoch: 005 | loss: 0.68144 - acc: 0.5819 -- iter: 17152/20250\n"
     ]
    },
    {
     "name": "stdout",
     "output_type": "stream",
     "text": [
      "Training Step: 930  | total loss: \u001b[1m\u001b[32m0.68086\u001b[0m\u001b[0m\n\u001b[2K\r| SGD | epoch: 005 | loss: 0.68086 - acc: 0.5768 -- iter: 17280/20250\n"
     ]
    },
    {
     "name": "stdout",
     "output_type": "stream",
     "text": [
      "Training Step: 931  | total loss: \u001b[1m\u001b[32m0.68035\u001b[0m\u001b[0m\n\u001b[2K\r| SGD | epoch: 005 | loss: 0.68035 - acc: 0.5770 -- iter: 17408/20250\n"
     ]
    },
    {
     "name": "stdout",
     "output_type": "stream",
     "text": [
      "Training Step: 932  | total loss: \u001b[1m\u001b[32m0.68204\u001b[0m\u001b[0m\n\u001b[2K\r| SGD | epoch: 005 | loss: 0.68204 - acc: 0.5661 -- iter: 17536/20250\n"
     ]
    },
    {
     "name": "stdout",
     "output_type": "stream",
     "text": [
      "Training Step: 933  | total loss: \u001b[1m\u001b[32m0.68009\u001b[0m\u001b[0m\n\u001b[2K\r| SGD | epoch: 005 | loss: 0.68009 - acc: 0.5744 -- iter: 17664/20250\n"
     ]
    },
    {
     "name": "stdout",
     "output_type": "stream",
     "text": [
      "Training Step: 934  | total loss: \u001b[1m\u001b[32m0.67937\u001b[0m\u001b[0m\n\u001b[2K\r| SGD | epoch: 005 | loss: 0.67937 - acc: 0.5779 -- iter: 17792/20250\n"
     ]
    },
    {
     "name": "stdout",
     "output_type": "stream",
     "text": [
      "Training Step: 935  | total loss: \u001b[1m\u001b[32m0.67942\u001b[0m\u001b[0m\n\u001b[2K\r| SGD | epoch: 005 | loss: 0.67942 - acc: 0.5740 -- iter: 17920/20250\n"
     ]
    },
    {
     "name": "stdout",
     "output_type": "stream",
     "text": [
      "Training Step: 936  | total loss: \u001b[1m\u001b[32m0.68069\u001b[0m\u001b[0m\n\u001b[2K\r| SGD | epoch: 005 | loss: 0.68069 - acc: 0.5682 -- iter: 18048/20250\n"
     ]
    },
    {
     "name": "stdout",
     "output_type": "stream",
     "text": [
      "Training Step: 937  | total loss: \u001b[1m\u001b[32m0.68100\u001b[0m\u001b[0m\n\u001b[2K\r| SGD | epoch: 005 | loss: 0.68100 - acc: 0.5707 -- iter: 18176/20250\n"
     ]
    },
    {
     "name": "stdout",
     "output_type": "stream",
     "text": [
      "Training Step: 938  | total loss: \u001b[1m\u001b[32m0.67958\u001b[0m\u001b[0m\n\u001b[2K\r| SGD | epoch: 005 | loss: 0.67958 - acc: 0.5738 -- iter: 18304/20250\n"
     ]
    },
    {
     "name": "stdout",
     "output_type": "stream",
     "text": [
      "Training Step: 939  | total loss: \u001b[1m\u001b[32m0.67885\u001b[0m\u001b[0m\n\u001b[2K\r| SGD | epoch: 005 | loss: 0.67885 - acc: 0.5781 -- iter: 18432/20250\n"
     ]
    },
    {
     "name": "stdout",
     "output_type": "stream",
     "text": [
      "Training Step: 940  | total loss: \u001b[1m\u001b[32m0.67836\u001b[0m\u001b[0m\n\u001b[2K\r| SGD | epoch: 005 | loss: 0.67836 - acc: 0.5797 -- iter: 18560/20250\n"
     ]
    },
    {
     "name": "stdout",
     "output_type": "stream",
     "text": [
      "Training Step: 941  | total loss: \u001b[1m\u001b[32m0.67854\u001b[0m\u001b[0m\n\u001b[2K\r| SGD | epoch: 005 | loss: 0.67854 - acc: 0.5811 -- iter: 18688/20250\n"
     ]
    },
    {
     "name": "stdout",
     "output_type": "stream",
     "text": [
      "Training Step: 942  | total loss: \u001b[1m\u001b[32m0.67744\u001b[0m\u001b[0m\n\u001b[2K\r| SGD | epoch: 005 | loss: 0.67744 - acc: 0.5839 -- iter: 18816/20250\n"
     ]
    },
    {
     "name": "stdout",
     "output_type": "stream",
     "text": [
      "Training Step: 943  | total loss: \u001b[1m\u001b[32m0.69908\u001b[0m\u001b[0m\n\u001b[2K\r| SGD | epoch: 005 | loss: 0.69908 - acc: 0.5685 -- iter: 18944/20250\n"
     ]
    },
    {
     "name": "stdout",
     "output_type": "stream",
     "text": [
      "Training Step: 944  | total loss: \u001b[1m\u001b[32m0.69982\u001b[0m\u001b[0m\n\u001b[2K\r| SGD | epoch: 005 | loss: 0.69982 - acc: 0.5624 -- iter: 19072/20250\n"
     ]
    },
    {
     "name": "stdout",
     "output_type": "stream",
     "text": [
      "Training Step: 945  | total loss: \u001b[1m\u001b[32m0.69786\u001b[0m\u001b[0m\n\u001b[2K\r| SGD | epoch: 005 | loss: 0.69786 - acc: 0.5609 -- iter: 19200/20250\n"
     ]
    },
    {
     "name": "stdout",
     "output_type": "stream",
     "text": [
      "Training Step: 946  | total loss: \u001b[1m\u001b[32m0.69786\u001b[0m\u001b[0m\n\u001b[2K\r| SGD | epoch: 005 | loss: 0.69786 - acc: 0.5556 -- iter: 19328/20250\n"
     ]
    },
    {
     "name": "stdout",
     "output_type": "stream",
     "text": [
      "Training Step: 947  | total loss: \u001b[1m\u001b[32m0.69695\u001b[0m\u001b[0m\n\u001b[2K\r| SGD | epoch: 005 | loss: 0.69695 - acc: 0.5563 -- iter: 19456/20250\n"
     ]
    },
    {
     "name": "stdout",
     "output_type": "stream",
     "text": [
      "Training Step: 948  | total loss: \u001b[1m\u001b[32m0.69578\u001b[0m\u001b[0m\n\u001b[2K\r| SGD | epoch: 005 | loss: 0.69578 - acc: 0.5545 -- iter: 19584/20250\n"
     ]
    },
    {
     "name": "stdout",
     "output_type": "stream",
     "text": [
      "Training Step: 949  | total loss: \u001b[1m\u001b[32m0.69399\u001b[0m\u001b[0m\n\u001b[2K\r| SGD | epoch: 005 | loss: 0.69399 - acc: 0.5538 -- iter: 19712/20250\n"
     ]
    },
    {
     "name": "stdout",
     "output_type": "stream",
     "text": [
      "Training Step: 950  | total loss: \u001b[1m\u001b[32m0.69131\u001b[0m\u001b[0m\n\u001b[2K\r| SGD | epoch: 005 | loss: 0.69131 - acc: 0.5632 -- iter: 19840/20250\n"
     ]
    },
    {
     "name": "stdout",
     "output_type": "stream",
     "text": [
      "Training Step: 951  | total loss: \u001b[1m\u001b[32m0.68795\u001b[0m\u001b[0m\n\u001b[2K\r| SGD | epoch: 005 | loss: 0.68795 - acc: 0.5679 -- iter: 19968/20250\n"
     ]
    },
    {
     "name": "stdout",
     "output_type": "stream",
     "text": [
      "Training Step: 952  | total loss: \u001b[1m\u001b[32m0.68499\u001b[0m\u001b[0m\n\u001b[2K\r| SGD | epoch: 005 | loss: 0.68499 - acc: 0.5728 -- iter: 20096/20250\n"
     ]
    },
    {
     "name": "stdout",
     "output_type": "stream",
     "text": [
      "Training Step: 953  | total loss: \u001b[1m\u001b[32m0.68273\u001b[0m\u001b[0m\n\u001b[2K\r| SGD | epoch: 005 | loss: 0.68273 - acc: 0.5788 -- iter: 20224/20250\n"
     ]
    },
    {
     "name": "stdout",
     "output_type": "stream",
     "text": [
      "Training Step: 954  | total loss: \u001b[1m\u001b[32m0.67990\u001b[0m\u001b[0m\n\u001b[2K\r| SGD | epoch: 006 | loss: 0.67990 - acc: 0.5858 | val_loss: 0.66292 - val_acc: 0.6222 -- iter: 20250/20250\n"
     ]
    },
    {
     "name": "stdout",
     "output_type": "stream",
     "text": [
      "Training Step: 954  | total loss: \u001b[1m\u001b[32m0.67990\u001b[0m\u001b[0m\n\u001b[2K\r| SGD | epoch: 006 | loss: 0.67990 - acc: 0.5858 | val_loss: 0.66292 - val_acc: 0.6222 -- iter: 20250/20250\n--\n"
     ]
    },
    {
     "name": "stdout",
     "output_type": "stream",
     "text": [
      "Training Step: 955  | total loss: \u001b[1m\u001b[32m0.67751\u001b[0m\u001b[0m\n\u001b[2K\r| SGD | epoch: 006 | loss: 0.67751 - acc: 0.5889 -- iter: 00128/20250\n"
     ]
    },
    {
     "name": "stdout",
     "output_type": "stream",
     "text": [
      "Training Step: 956  | total loss: \u001b[1m\u001b[32m0.67982\u001b[0m\u001b[0m\n\u001b[2K\r| SGD | epoch: 006 | loss: 0.67982 - acc: 0.5933 -- iter: 00256/20250\n"
     ]
    },
    {
     "name": "stdout",
     "output_type": "stream",
     "text": [
      "Training Step: 957  | total loss: \u001b[1m\u001b[32m0.68028\u001b[0m\u001b[0m\n\u001b[2K\r| SGD | epoch: 006 | loss: 0.68028 - acc: 0.5879 -- iter: 00384/20250\n"
     ]
    },
    {
     "name": "stdout",
     "output_type": "stream",
     "text": [
      "Training Step: 958  | total loss: \u001b[1m\u001b[32m0.68063\u001b[0m\u001b[0m\n\u001b[2K\r| SGD | epoch: 006 | loss: 0.68063 - acc: 0.5830 -- iter: 00512/20250\n"
     ]
    },
    {
     "name": "stdout",
     "output_type": "stream",
     "text": [
      "Training Step: 959  | total loss: \u001b[1m\u001b[32m0.68128\u001b[0m\u001b[0m\n\u001b[2K\r| SGD | epoch: 006 | loss: 0.68128 - acc: 0.5794 -- iter: 00640/20250\n"
     ]
    },
    {
     "name": "stdout",
     "output_type": "stream",
     "text": [
      "Training Step: 960  | total loss: \u001b[1m\u001b[32m0.67631\u001b[0m\u001b[0m\n\u001b[2K\r| SGD | epoch: 006 | loss: 0.67631 - acc: 0.5830 -- iter: 00768/20250\n"
     ]
    },
    {
     "name": "stdout",
     "output_type": "stream",
     "text": [
      "Training Step: 961  | total loss: \u001b[1m\u001b[32m0.66966\u001b[0m\u001b[0m\n\u001b[2K\r| SGD | epoch: 006 | loss: 0.66966 - acc: 0.5939 -- iter: 00896/20250\n"
     ]
    },
    {
     "name": "stdout",
     "output_type": "stream",
     "text": [
      "Training Step: 962  | total loss: \u001b[1m\u001b[32m0.67553\u001b[0m\u001b[0m\n\u001b[2K\r| SGD | epoch: 006 | loss: 0.67553 - acc: 0.5861 -- iter: 01024/20250\n"
     ]
    },
    {
     "name": "stdout",
     "output_type": "stream",
     "text": [
      "Training Step: 963  | total loss: \u001b[1m\u001b[32m0.68917\u001b[0m\u001b[0m\n\u001b[2K\r| SGD | epoch: 006 | loss: 0.68917 - acc: 0.5743 -- iter: 01152/20250\n"
     ]
    },
    {
     "name": "stdout",
     "output_type": "stream",
     "text": [
      "Training Step: 964  | total loss: \u001b[1m\u001b[32m0.68777\u001b[0m\u001b[0m\n\u001b[2K\r| SGD | epoch: 006 | loss: 0.68777 - acc: 0.5825 -- iter: 01280/20250\n"
     ]
    },
    {
     "name": "stdout",
     "output_type": "stream",
     "text": [
      "Training Step: 965  | total loss: \u001b[1m\u001b[32m0.68754\u001b[0m\u001b[0m\n\u001b[2K\r| SGD | epoch: 006 | loss: 0.68754 - acc: 0.5813 -- iter: 01408/20250\n"
     ]
    },
    {
     "name": "stdout",
     "output_type": "stream",
     "text": [
      "Training Step: 966  | total loss: \u001b[1m\u001b[32m0.68386\u001b[0m\u001b[0m\n\u001b[2K\r| SGD | epoch: 006 | loss: 0.68386 - acc: 0.5888 -- iter: 01536/20250\n"
     ]
    },
    {
     "name": "stdout",
     "output_type": "stream",
     "text": [
      "Training Step: 967  | total loss: \u001b[1m\u001b[32m0.68328\u001b[0m\u001b[0m\n\u001b[2K\r| SGD | epoch: 006 | loss: 0.68328 - acc: 0.5838 -- iter: 01664/20250\n"
     ]
    },
    {
     "name": "stdout",
     "output_type": "stream",
     "text": [
      "Training Step: 968  | total loss: \u001b[1m\u001b[32m0.68257\u001b[0m\u001b[0m\n\u001b[2K\r| SGD | epoch: 006 | loss: 0.68257 - acc: 0.5840 -- iter: 01792/20250\n"
     ]
    },
    {
     "name": "stdout",
     "output_type": "stream",
     "text": [
      "Training Step: 969  | total loss: \u001b[1m\u001b[32m0.68035\u001b[0m\u001b[0m\n\u001b[2K\r| SGD | epoch: 006 | loss: 0.68035 - acc: 0.5905 -- iter: 01920/20250\n"
     ]
    },
    {
     "name": "stdout",
     "output_type": "stream",
     "text": [
      "Training Step: 970  | total loss: \u001b[1m\u001b[32m0.67808\u001b[0m\u001b[0m\n\u001b[2K\r| SGD | epoch: 006 | loss: 0.67808 - acc: 0.5924 -- iter: 02048/20250\n"
     ]
    },
    {
     "name": "stdout",
     "output_type": "stream",
     "text": [
      "Training Step: 971  | total loss: \u001b[1m\u001b[32m0.67605\u001b[0m\u001b[0m\n\u001b[2K\r| SGD | epoch: 006 | loss: 0.67605 - acc: 0.6066 -- iter: 02176/20250\n"
     ]
    },
    {
     "name": "stdout",
     "output_type": "stream",
     "text": [
      "Training Step: 972  | total loss: \u001b[1m\u001b[32m0.67416\u001b[0m\u001b[0m\n\u001b[2K\r| SGD | epoch: 006 | loss: 0.67416 - acc: 0.6108 -- iter: 02304/20250\n"
     ]
    },
    {
     "name": "stdout",
     "output_type": "stream",
     "text": [
      "Training Step: 973  | total loss: \u001b[1m\u001b[32m0.67008\u001b[0m\u001b[0m\n\u001b[2K\r| SGD | epoch: 006 | loss: 0.67008 - acc: 0.6192 -- iter: 02432/20250\n"
     ]
    },
    {
     "name": "stdout",
     "output_type": "stream",
     "text": [
      "Training Step: 974  | total loss: \u001b[1m\u001b[32m0.66916\u001b[0m\u001b[0m\n\u001b[2K\r| SGD | epoch: 006 | loss: 0.66916 - acc: 0.6206 -- iter: 02560/20250\n"
     ]
    },
    {
     "name": "stdout",
     "output_type": "stream",
     "text": [
      "Training Step: 975  | total loss: \u001b[1m\u001b[32m0.66674\u001b[0m\u001b[0m\n\u001b[2K\r| SGD | epoch: 006 | loss: 0.66674 - acc: 0.6226 -- iter: 02688/20250\n"
     ]
    },
    {
     "name": "stdout",
     "output_type": "stream",
     "text": [
      "Training Step: 976  | total loss: \u001b[1m\u001b[32m0.65919\u001b[0m\u001b[0m\n\u001b[2K\r| SGD | epoch: 006 | loss: 0.65919 - acc: 0.6322 -- iter: 02816/20250\n"
     ]
    },
    {
     "name": "stdout",
     "output_type": "stream",
     "text": [
      "Training Step: 977  | total loss: \u001b[1m\u001b[32m0.66220\u001b[0m\u001b[0m\n\u001b[2K\r| SGD | epoch: 006 | loss: 0.66220 - acc: 0.6307 -- iter: 02944/20250\n"
     ]
    },
    {
     "name": "stdout",
     "output_type": "stream",
     "text": [
      "Training Step: 978  | total loss: \u001b[1m\u001b[32m0.65968\u001b[0m\u001b[0m\n\u001b[2K\r| SGD | epoch: 006 | loss: 0.65968 - acc: 0.6364 -- iter: 03072/20250\n"
     ]
    },
    {
     "name": "stdout",
     "output_type": "stream",
     "text": [
      "Training Step: 979  | total loss: \u001b[1m\u001b[32m0.65919\u001b[0m\u001b[0m\n\u001b[2K\r| SGD | epoch: 006 | loss: 0.65919 - acc: 0.6352 -- iter: 03200/20250\n"
     ]
    },
    {
     "name": "stdout",
     "output_type": "stream",
     "text": [
      "Training Step: 980  | total loss: \u001b[1m\u001b[32m0.66345\u001b[0m\u001b[0m\n\u001b[2K\r| SGD | epoch: 006 | loss: 0.66345 - acc: 0.6303 -- iter: 03328/20250\n"
     ]
    },
    {
     "name": "stdout",
     "output_type": "stream",
     "text": [
      "Training Step: 981  | total loss: \u001b[1m\u001b[32m0.66583\u001b[0m\u001b[0m\n\u001b[2K\r| SGD | epoch: 006 | loss: 0.66583 - acc: 0.6220 -- iter: 03456/20250\n"
     ]
    },
    {
     "name": "stdout",
     "output_type": "stream",
     "text": [
      "Training Step: 982  | total loss: \u001b[1m\u001b[32m0.66603\u001b[0m\u001b[0m\n\u001b[2K\r| SGD | epoch: 006 | loss: 0.66603 - acc: 0.6215 -- iter: 03584/20250\n"
     ]
    },
    {
     "name": "stdout",
     "output_type": "stream",
     "text": [
      "Training Step: 983  | total loss: \u001b[1m\u001b[32m0.66389\u001b[0m\u001b[0m\n\u001b[2K\r| SGD | epoch: 006 | loss: 0.66389 - acc: 0.6218 -- iter: 03712/20250\n"
     ]
    },
    {
     "name": "stdout",
     "output_type": "stream",
     "text": [
      "Training Step: 984  | total loss: \u001b[1m\u001b[32m0.66160\u001b[0m\u001b[0m\n\u001b[2K\r| SGD | epoch: 006 | loss: 0.66160 - acc: 0.6206 -- iter: 03840/20250\n"
     ]
    },
    {
     "name": "stdout",
     "output_type": "stream",
     "text": [
      "Training Step: 985  | total loss: \u001b[1m\u001b[32m0.66147\u001b[0m\u001b[0m\n\u001b[2K\r| SGD | epoch: 006 | loss: 0.66147 - acc: 0.6156 -- iter: 03968/20250\n"
     ]
    },
    {
     "name": "stdout",
     "output_type": "stream",
     "text": [
      "Training Step: 986  | total loss: \u001b[1m\u001b[32m0.67102\u001b[0m\u001b[0m\n\u001b[2K\r| SGD | epoch: 006 | loss: 0.67102 - acc: 0.5970 -- iter: 04096/20250\n"
     ]
    },
    {
     "name": "stdout",
     "output_type": "stream",
     "text": [
      "Training Step: 987  | total loss: \u001b[1m\u001b[32m0.67034\u001b[0m\u001b[0m\n\u001b[2K\r| SGD | epoch: 006 | loss: 0.67034 - acc: 0.5998 -- iter: 04224/20250\n"
     ]
    },
    {
     "name": "stdout",
     "output_type": "stream",
     "text": [
      "Training Step: 988  | total loss: \u001b[1m\u001b[32m0.66975\u001b[0m\u001b[0m\n\u001b[2K\r| SGD | epoch: 006 | loss: 0.66975 - acc: 0.6023 -- iter: 04352/20250\n"
     ]
    },
    {
     "name": "stdout",
     "output_type": "stream",
     "text": [
      "Training Step: 989  | total loss: \u001b[1m\u001b[32m0.67072\u001b[0m\u001b[0m\n\u001b[2K\r| SGD | epoch: 006 | loss: 0.67072 - acc: 0.5968 -- iter: 04480/20250\n"
     ]
    },
    {
     "name": "stdout",
     "output_type": "stream",
     "text": [
      "Training Step: 990  | total loss: \u001b[1m\u001b[32m0.66751\u001b[0m\u001b[0m\n\u001b[2K\r| SGD | epoch: 006 | loss: 0.66751 - acc: 0.6051 -- iter: 04608/20250\n"
     ]
    },
    {
     "name": "stdout",
     "output_type": "stream",
     "text": [
      "Training Step: 991  | total loss: \u001b[1m\u001b[32m0.67453\u001b[0m\u001b[0m\n\u001b[2K\r| SGD | epoch: 006 | loss: 0.67453 - acc: 0.6016 -- iter: 04736/20250\n"
     ]
    },
    {
     "name": "stdout",
     "output_type": "stream",
     "text": [
      "Training Step: 992  | total loss: \u001b[1m\u001b[32m0.67427\u001b[0m\u001b[0m\n\u001b[2K\r| SGD | epoch: 006 | loss: 0.67427 - acc: 0.6008 -- iter: 04864/20250\n"
     ]
    },
    {
     "name": "stdout",
     "output_type": "stream",
     "text": [
      "Training Step: 993  | total loss: \u001b[1m\u001b[32m0.67040\u001b[0m\u001b[0m\n\u001b[2K\r| SGD | epoch: 006 | loss: 0.67040 - acc: 0.6032 -- iter: 04992/20250\n"
     ]
    },
    {
     "name": "stdout",
     "output_type": "stream",
     "text": [
      "Training Step: 994  | total loss: \u001b[1m\u001b[32m0.67313\u001b[0m\u001b[0m\n\u001b[2K\r| SGD | epoch: 006 | loss: 0.67313 - acc: 0.5937 -- iter: 05120/20250\n"
     ]
    },
    {
     "name": "stdout",
     "output_type": "stream",
     "text": [
      "Training Step: 995  | total loss: \u001b[1m\u001b[32m0.67364\u001b[0m\u001b[0m\n\u001b[2K\r| SGD | epoch: 006 | loss: 0.67364 - acc: 0.5937 -- iter: 05248/20250\n"
     ]
    },
    {
     "name": "stdout",
     "output_type": "stream",
     "text": [
      "Training Step: 996  | total loss: \u001b[1m\u001b[32m0.67598\u001b[0m\u001b[0m\n\u001b[2K\r| SGD | epoch: 006 | loss: 0.67598 - acc: 0.5828 -- iter: 05376/20250\n"
     ]
    },
    {
     "name": "stdout",
     "output_type": "stream",
     "text": [
      "Training Step: 997  | total loss: \u001b[1m\u001b[32m0.67733\u001b[0m\u001b[0m\n\u001b[2K\r| SGD | epoch: 006 | loss: 0.67733 - acc: 0.5776 -- iter: 05504/20250\n"
     ]
    },
    {
     "name": "stdout",
     "output_type": "stream",
     "text": [
      "Training Step: 998  | total loss: \u001b[1m\u001b[32m0.67961\u001b[0m\u001b[0m\n\u001b[2K\r| SGD | epoch: 006 | loss: 0.67961 - acc: 0.5683 -- iter: 05632/20250\n"
     ]
    },
    {
     "name": "stdout",
     "output_type": "stream",
     "text": [
      "Training Step: 999  | total loss: \u001b[1m\u001b[32m0.67968\u001b[0m\u001b[0m\n\u001b[2K\r| SGD | epoch: 006 | loss: 0.67968 - acc: 0.5685 -- iter: 05760/20250\n"
     ]
    },
    {
     "name": "stdout",
     "output_type": "stream",
     "text": [
      "Training Step: 1000  | total loss: \u001b[1m\u001b[32m0.68053\u001b[0m\u001b[0m\n\u001b[2K\r| SGD | epoch: 006 | loss: 0.68053 - acc: 0.5632 -- iter: 05888/20250\n"
     ]
    },
    {
     "name": "stdout",
     "output_type": "stream",
     "text": [
      "Training Step: 1001  | total loss: \u001b[1m\u001b[32m0.68060\u001b[0m\u001b[0m\n\u001b[2K\r| SGD | epoch: 006 | loss: 0.68060 - acc: 0.5608 -- iter: 06016/20250\n"
     ]
    },
    {
     "name": "stdout",
     "output_type": "stream",
     "text": [
      "Training Step: 1002  | total loss: \u001b[1m\u001b[32m0.67990\u001b[0m\u001b[0m\n\u001b[2K\r| SGD | epoch: 006 | loss: 0.67990 - acc: 0.5578 -- iter: 06144/20250\n"
     ]
    },
    {
     "name": "stdout",
     "output_type": "stream",
     "text": [
      "Training Step: 1003  | total loss: \u001b[1m\u001b[32m0.67685\u001b[0m\u001b[0m\n\u001b[2K\r| SGD | epoch: 006 | loss: 0.67685 - acc: 0.5622 -- iter: 06272/20250\n"
     ]
    },
    {
     "name": "stdout",
     "output_type": "stream",
     "text": [
      "Training Step: 1004  | total loss: \u001b[1m\u001b[32m0.67617\u001b[0m\u001b[0m\n\u001b[2K\r| SGD | epoch: 006 | loss: 0.67617 - acc: 0.5622 -- iter: 06400/20250\n"
     ]
    },
    {
     "name": "stdout",
     "output_type": "stream",
     "text": [
      "Training Step: 1005  | total loss: \u001b[1m\u001b[32m0.67494\u001b[0m\u001b[0m\n\u001b[2K\r| SGD | epoch: 006 | loss: 0.67494 - acc: 0.5662 -- iter: 06528/20250\n"
     ]
    },
    {
     "name": "stdout",
     "output_type": "stream",
     "text": [
      "Training Step: 1006  | total loss: \u001b[1m\u001b[32m0.67506\u001b[0m\u001b[0m\n\u001b[2K\r| SGD | epoch: 006 | loss: 0.67506 - acc: 0.5635 -- iter: 06656/20250\n"
     ]
    },
    {
     "name": "stdout",
     "output_type": "stream",
     "text": [
      "Training Step: 1007  | total loss: \u001b[1m\u001b[32m0.67231\u001b[0m\u001b[0m\n\u001b[2K\r| SGD | epoch: 006 | loss: 0.67231 - acc: 0.5704 -- iter: 06784/20250\n"
     ]
    },
    {
     "name": "stdout",
     "output_type": "stream",
     "text": [
      "Training Step: 1008  | total loss: \u001b[1m\u001b[32m0.66763\u001b[0m\u001b[0m\n\u001b[2K\r| SGD | epoch: 006 | loss: 0.66763 - acc: 0.5805 -- iter: 06912/20250\n"
     ]
    },
    {
     "name": "stdout",
     "output_type": "stream",
     "text": [
      "Training Step: 1009  | total loss: \u001b[1m\u001b[32m0.66235\u001b[0m\u001b[0m\n\u001b[2K\r| SGD | epoch: 006 | loss: 0.66235 - acc: 0.5951 -- iter: 07040/20250\n"
     ]
    },
    {
     "name": "stdout",
     "output_type": "stream",
     "text": [
      "Training Step: 1010  | total loss: \u001b[1m\u001b[32m0.66387\u001b[0m\u001b[0m\n\u001b[2K\r| SGD | epoch: 006 | loss: 0.66387 - acc: 0.5973 -- iter: 07168/20250\n"
     ]
    },
    {
     "name": "stdout",
     "output_type": "stream",
     "text": [
      "Training Step: 1011  | total loss: \u001b[1m\u001b[32m0.79247\u001b[0m\u001b[0m\n\u001b[2K\r| SGD | epoch: 006 | loss: 0.79247 - acc: 0.5868 -- iter: 07296/20250\n"
     ]
    },
    {
     "name": "stdout",
     "output_type": "stream",
     "text": [
      "Training Step: 1012  | total loss: \u001b[1m\u001b[32m0.78440\u001b[0m\u001b[0m\n\u001b[2K\r| SGD | epoch: 006 | loss: 0.78440 - acc: 0.5696 -- iter: 07424/20250\n"
     ]
    },
    {
     "name": "stdout",
     "output_type": "stream",
     "text": [
      "Training Step: 1013  | total loss: \u001b[1m\u001b[32m0.77326\u001b[0m\u001b[0m\n\u001b[2K\r| SGD | epoch: 006 | loss: 0.77326 - acc: 0.5704 -- iter: 07552/20250\n"
     ]
    },
    {
     "name": "stdout",
     "output_type": "stream",
     "text": [
      "Training Step: 1014  | total loss: \u001b[1m\u001b[32m0.76140\u001b[0m\u001b[0m\n\u001b[2K\r| SGD | epoch: 006 | loss: 0.76140 - acc: 0.5743 -- iter: 07680/20250\n"
     ]
    },
    {
     "name": "stdout",
     "output_type": "stream",
     "text": [
      "Training Step: 1015  | total loss: \u001b[1m\u001b[32m0.75150\u001b[0m\u001b[0m\n\u001b[2K\r| SGD | epoch: 006 | loss: 0.75150 - acc: 0.5817 -- iter: 07808/20250\n"
     ]
    },
    {
     "name": "stdout",
     "output_type": "stream",
     "text": [
      "Training Step: 1016  | total loss: \u001b[1m\u001b[32m0.75185\u001b[0m\u001b[0m\n\u001b[2K\r| SGD | epoch: 006 | loss: 0.75185 - acc: 0.5712 -- iter: 07936/20250\n"
     ]
    },
    {
     "name": "stdout",
     "output_type": "stream",
     "text": [
      "Training Step: 1017  | total loss: \u001b[1m\u001b[32m0.74120\u001b[0m\u001b[0m\n\u001b[2K\r| SGD | epoch: 006 | loss: 0.74120 - acc: 0.5813 -- iter: 08064/20250\n"
     ]
    },
    {
     "name": "stdout",
     "output_type": "stream",
     "text": [
      "Training Step: 1018  | total loss: \u001b[1m\u001b[32m0.73470\u001b[0m\u001b[0m\n\u001b[2K\r| SGD | epoch: 006 | loss: 0.73470 - acc: 0.5825 -- iter: 08192/20250\n"
     ]
    },
    {
     "name": "stdout",
     "output_type": "stream",
     "text": [
      "Training Step: 1019  | total loss: \u001b[1m\u001b[32m0.72972\u001b[0m\u001b[0m\n\u001b[2K\r| SGD | epoch: 006 | loss: 0.72972 - acc: 0.5790 -- iter: 08320/20250\n"
     ]
    },
    {
     "name": "stdout",
     "output_type": "stream",
     "text": [
      "Training Step: 1020  | total loss: \u001b[1m\u001b[32m0.72332\u001b[0m\u001b[0m\n\u001b[2K\r| SGD | epoch: 006 | loss: 0.72332 - acc: 0.5875 -- iter: 08448/20250\n"
     ]
    },
    {
     "name": "stdout",
     "output_type": "stream",
     "text": [
      "Training Step: 1021  | total loss: \u001b[1m\u001b[32m0.72055\u001b[0m\u001b[0m\n\u001b[2K\r| SGD | epoch: 006 | loss: 0.72055 - acc: 0.5834 -- iter: 08576/20250\n"
     ]
    },
    {
     "name": "stdout",
     "output_type": "stream",
     "text": [
      "Training Step: 1022  | total loss: \u001b[1m\u001b[32m0.71729\u001b[0m\u001b[0m\n\u001b[2K\r| SGD | epoch: 006 | loss: 0.71729 - acc: 0.5805 -- iter: 08704/20250\n"
     ]
    },
    {
     "name": "stdout",
     "output_type": "stream",
     "text": [
      "Training Step: 1023  | total loss: \u001b[1m\u001b[32m0.71422\u001b[0m\u001b[0m\n\u001b[2K\r| SGD | epoch: 006 | loss: 0.71422 - acc: 0.5733 -- iter: 08832/20250\n"
     ]
    },
    {
     "name": "stdout",
     "output_type": "stream",
     "text": [
      "Training Step: 1024  | total loss: \u001b[1m\u001b[32m0.71317\u001b[0m\u001b[0m\n\u001b[2K\r| SGD | epoch: 006 | loss: 0.71317 - acc: 0.5612 -- iter: 08960/20250\n"
     ]
    },
    {
     "name": "stdout",
     "output_type": "stream",
     "text": [
      "Training Step: 1025  | total loss: \u001b[1m\u001b[32m0.71127\u001b[0m\u001b[0m\n\u001b[2K\r| SGD | epoch: 006 | loss: 0.71127 - acc: 0.5559 -- iter: 09088/20250\n"
     ]
    },
    {
     "name": "stdout",
     "output_type": "stream",
     "text": [
      "Training Step: 1026  | total loss: \u001b[1m\u001b[32m0.70936\u001b[0m\u001b[0m\n\u001b[2K\r| SGD | epoch: 006 | loss: 0.70936 - acc: 0.5503 -- iter: 09216/20250\n"
     ]
    },
    {
     "name": "stdout",
     "output_type": "stream",
     "text": [
      "Training Step: 1027  | total loss: \u001b[1m\u001b[32m0.70739\u001b[0m\u001b[0m\n\u001b[2K\r| SGD | epoch: 006 | loss: 0.70739 - acc: 0.5468 -- iter: 09344/20250\n"
     ]
    },
    {
     "name": "stdout",
     "output_type": "stream",
     "text": [
      "Training Step: 1028  | total loss: \u001b[1m\u001b[32m0.70331\u001b[0m\u001b[0m\n\u001b[2K\r| SGD | epoch: 006 | loss: 0.70331 - acc: 0.5570 -- iter: 09472/20250\n"
     ]
    },
    {
     "name": "stdout",
     "output_type": "stream",
     "text": [
      "Training Step: 1029  | total loss: \u001b[1m\u001b[32m0.70145\u001b[0m\u001b[0m\n\u001b[2K\r| SGD | epoch: 006 | loss: 0.70145 - acc: 0.5583 -- iter: 09600/20250\n"
     ]
    },
    {
     "name": "stdout",
     "output_type": "stream",
     "text": [
      "Training Step: 1030  | total loss: \u001b[1m\u001b[32m0.70019\u001b[0m\u001b[0m\n\u001b[2K\r| SGD | epoch: 006 | loss: 0.70019 - acc: 0.5572 -- iter: 09728/20250\n"
     ]
    },
    {
     "name": "stdout",
     "output_type": "stream",
     "text": [
      "Training Step: 1031  | total loss: \u001b[1m\u001b[32m0.69859\u001b[0m\u001b[0m\n\u001b[2K\r| SGD | epoch: 006 | loss: 0.69859 - acc: 0.5546 -- iter: 09856/20250\n"
     ]
    },
    {
     "name": "stdout",
     "output_type": "stream",
     "text": [
      "Training Step: 1032  | total loss: \u001b[1m\u001b[32m0.69796\u001b[0m\u001b[0m\n\u001b[2K\r| SGD | epoch: 006 | loss: 0.69796 - acc: 0.5484 -- iter: 09984/20250\n"
     ]
    },
    {
     "name": "stdout",
     "output_type": "stream",
     "text": [
      "Training Step: 1033  | total loss: \u001b[1m\u001b[32m0.69707\u001b[0m\u001b[0m\n\u001b[2K\r| SGD | epoch: 006 | loss: 0.69707 - acc: 0.5466 -- iter: 10112/20250\n"
     ]
    },
    {
     "name": "stdout",
     "output_type": "stream",
     "text": [
      "Training Step: 1034  | total loss: \u001b[1m\u001b[32m0.69616\u001b[0m\u001b[0m\n\u001b[2K\r| SGD | epoch: 006 | loss: 0.69616 - acc: 0.5514 -- iter: 10240/20250\n"
     ]
    },
    {
     "name": "stdout",
     "output_type": "stream",
     "text": [
      "Training Step: 1035  | total loss: \u001b[1m\u001b[32m0.69652\u001b[0m\u001b[0m\n\u001b[2K\r| SGD | epoch: 006 | loss: 0.69652 - acc: 0.5540 -- iter: 10368/20250\n"
     ]
    },
    {
     "name": "stdout",
     "output_type": "stream",
     "text": [
      "Training Step: 1036  | total loss: \u001b[1m\u001b[32m0.69444\u001b[0m\u001b[0m\n\u001b[2K\r| SGD | epoch: 006 | loss: 0.69444 - acc: 0.5603 -- iter: 10496/20250\n"
     ]
    },
    {
     "name": "stdout",
     "output_type": "stream",
     "text": [
      "Training Step: 1037  | total loss: \u001b[1m\u001b[32m0.69172\u001b[0m\u001b[0m\n\u001b[2K\r| SGD | epoch: 006 | loss: 0.69172 - acc: 0.5637 -- iter: 10624/20250\n"
     ]
    },
    {
     "name": "stdout",
     "output_type": "stream",
     "text": [
      "Training Step: 1038  | total loss: \u001b[1m\u001b[32m0.68641\u001b[0m\u001b[0m\n\u001b[2K\r| SGD | epoch: 006 | loss: 0.68641 - acc: 0.5761 -- iter: 10752/20250\n"
     ]
    },
    {
     "name": "stdout",
     "output_type": "stream",
     "text": [
      "Training Step: 1039  | total loss: \u001b[1m\u001b[32m0.68666\u001b[0m\u001b[0m\n\u001b[2K\r| SGD | epoch: 006 | loss: 0.68666 - acc: 0.5747 -- iter: 10880/20250\n"
     ]
    },
    {
     "name": "stdout",
     "output_type": "stream",
     "text": [
      "Training Step: 1040  | total loss: \u001b[1m\u001b[32m0.68750\u001b[0m\u001b[0m\n\u001b[2K\r| SGD | epoch: 006 | loss: 0.68750 - acc: 0.5672 -- iter: 11008/20250\n"
     ]
    },
    {
     "name": "stdout",
     "output_type": "stream",
     "text": [
      "Training Step: 1041  | total loss: \u001b[1m\u001b[32m0.68737\u001b[0m\u001b[0m\n\u001b[2K\r| SGD | epoch: 006 | loss: 0.68737 - acc: 0.5629 -- iter: 11136/20250\n"
     ]
    },
    {
     "name": "stdout",
     "output_type": "stream",
     "text": [
      "Training Step: 1042  | total loss: \u001b[1m\u001b[32m0.68738\u001b[0m\u001b[0m\n\u001b[2K\r| SGD | epoch: 006 | loss: 0.68738 - acc: 0.5581 -- iter: 11264/20250\n"
     ]
    },
    {
     "name": "stdout",
     "output_type": "stream",
     "text": [
      "Training Step: 1043  | total loss: \u001b[1m\u001b[32m0.68727\u001b[0m\u001b[0m\n\u001b[2K\r| SGD | epoch: 006 | loss: 0.68727 - acc: 0.5562 -- iter: 11392/20250\n"
     ]
    },
    {
     "name": "stdout",
     "output_type": "stream",
     "text": [
      "Training Step: 1044  | total loss: \u001b[1m\u001b[32m0.68666\u001b[0m\u001b[0m\n\u001b[2K\r| SGD | epoch: 006 | loss: 0.68666 - acc: 0.5600 -- iter: 11520/20250\n"
     ]
    },
    {
     "name": "stdout",
     "output_type": "stream",
     "text": [
      "Training Step: 1045  | total loss: \u001b[1m\u001b[32m0.68607\u001b[0m\u001b[0m\n\u001b[2K\r| SGD | epoch: 006 | loss: 0.68607 - acc: 0.5649 -- iter: 11648/20250\n"
     ]
    },
    {
     "name": "stdout",
     "output_type": "stream",
     "text": [
      "Training Step: 1046  | total loss: \u001b[1m\u001b[32m0.68452\u001b[0m\u001b[0m\n\u001b[2K\r| SGD | epoch: 006 | loss: 0.68452 - acc: 0.5748 -- iter: 11776/20250\n"
     ]
    },
    {
     "name": "stdout",
     "output_type": "stream",
     "text": [
      "Training Step: 1047  | total loss: \u001b[1m\u001b[32m0.68314\u001b[0m\u001b[0m\n\u001b[2K\r| SGD | epoch: 006 | loss: 0.68314 - acc: 0.5744 -- iter: 11904/20250\n"
     ]
    },
    {
     "name": "stdout",
     "output_type": "stream",
     "text": [
      "Training Step: 1048  | total loss: \u001b[1m\u001b[32m0.68209\u001b[0m\u001b[0m\n\u001b[2K\r| SGD | epoch: 006 | loss: 0.68209 - acc: 0.5818 -- iter: 12032/20250\n"
     ]
    },
    {
     "name": "stdout",
     "output_type": "stream",
     "text": [
      "Training Step: 1049  | total loss: \u001b[1m\u001b[32m0.67561\u001b[0m\u001b[0m\n\u001b[2K\r| SGD | epoch: 006 | loss: 0.67561 - acc: 0.5947 -- iter: 12160/20250\n"
     ]
    },
    {
     "name": "stdout",
     "output_type": "stream",
     "text": [
      "Training Step: 1050  | total loss: \u001b[1m\u001b[32m0.67886\u001b[0m\u001b[0m\n\u001b[2K\r| SGD | epoch: 006 | loss: 0.67886 - acc: 0.5923 -- iter: 12288/20250\n"
     ]
    },
    {
     "name": "stdout",
     "output_type": "stream",
     "text": [
      "Training Step: 1051  | total loss: \u001b[1m\u001b[32m0.68055\u001b[0m\u001b[0m\n\u001b[2K\r| SGD | epoch: 006 | loss: 0.68055 - acc: 0.5823 -- iter: 12416/20250\n"
     ]
    },
    {
     "name": "stdout",
     "output_type": "stream",
     "text": [
      "Training Step: 1052  | total loss: \u001b[1m\u001b[32m0.68246\u001b[0m\u001b[0m\n\u001b[2K\r| SGD | epoch: 006 | loss: 0.68246 - acc: 0.5717 -- iter: 12544/20250\n"
     ]
    },
    {
     "name": "stdout",
     "output_type": "stream",
     "text": [
      "Training Step: 1053  | total loss: \u001b[1m\u001b[32m0.68353\u001b[0m\u001b[0m\n\u001b[2K\r| SGD | epoch: 006 | loss: 0.68353 - acc: 0.5645 -- iter: 12672/20250\n"
     ]
    },
    {
     "name": "stdout",
     "output_type": "stream",
     "text": [
      "Training Step: 1054  | total loss: \u001b[1m\u001b[32m0.68389\u001b[0m\u001b[0m\n\u001b[2K\r| SGD | epoch: 006 | loss: 0.68389 - acc: 0.5635 -- iter: 12800/20250\n"
     ]
    },
    {
     "name": "stdout",
     "output_type": "stream",
     "text": [
      "Training Step: 1055  | total loss: \u001b[1m\u001b[32m0.68447\u001b[0m\u001b[0m\n\u001b[2K\r| SGD | epoch: 006 | loss: 0.68447 - acc: 0.5595 -- iter: 12928/20250\n"
     ]
    },
    {
     "name": "stdout",
     "output_type": "stream",
     "text": [
      "Training Step: 1056  | total loss: \u001b[1m\u001b[32m0.68459\u001b[0m\u001b[0m\n\u001b[2K\r| SGD | epoch: 006 | loss: 0.68459 - acc: 0.5544 -- iter: 13056/20250\n"
     ]
    },
    {
     "name": "stdout",
     "output_type": "stream",
     "text": [
      "Training Step: 1057  | total loss: \u001b[1m\u001b[32m0.68487\u001b[0m\u001b[0m\n\u001b[2K\r| SGD | epoch: 006 | loss: 0.68487 - acc: 0.5513 -- iter: 13184/20250\n"
     ]
    },
    {
     "name": "stdout",
     "output_type": "stream",
     "text": [
      "Training Step: 1058  | total loss: \u001b[1m\u001b[32m0.68488\u001b[0m\u001b[0m\n\u001b[2K\r| SGD | epoch: 006 | loss: 0.68488 - acc: 0.5539 -- iter: 13312/20250\n"
     ]
    },
    {
     "name": "stdout",
     "output_type": "stream",
     "text": [
      "Training Step: 1059  | total loss: \u001b[1m\u001b[32m0.68497\u001b[0m\u001b[0m\n\u001b[2K\r| SGD | epoch: 006 | loss: 0.68497 - acc: 0.5587 -- iter: 13440/20250\n"
     ]
    },
    {
     "name": "stdout",
     "output_type": "stream",
     "text": [
      "Training Step: 1060  | total loss: \u001b[1m\u001b[32m0.68463\u001b[0m\u001b[0m\n\u001b[2K\r| SGD | epoch: 006 | loss: 0.68463 - acc: 0.5638 -- iter: 13568/20250\n"
     ]
    },
    {
     "name": "stdout",
     "output_type": "stream",
     "text": [
      "Training Step: 1061  | total loss: \u001b[1m\u001b[32m0.68539\u001b[0m\u001b[0m\n\u001b[2K\r| SGD | epoch: 006 | loss: 0.68539 - acc: 0.5597 -- iter: 13696/20250\n"
     ]
    },
    {
     "name": "stdout",
     "output_type": "stream",
     "text": [
      "Training Step: 1062  | total loss: \u001b[1m\u001b[32m0.68622\u001b[0m\u001b[0m\n\u001b[2K\r| SGD | epoch: 006 | loss: 0.68622 - acc: 0.5608 -- iter: 13824/20250\n"
     ]
    },
    {
     "name": "stdout",
     "output_type": "stream",
     "text": [
      "Training Step: 1063  | total loss: \u001b[1m\u001b[32m0.68578\u001b[0m\u001b[0m\n\u001b[2K\r| SGD | epoch: 006 | loss: 0.68578 - acc: 0.5625 -- iter: 13952/20250\n"
     ]
    },
    {
     "name": "stdout",
     "output_type": "stream",
     "text": [
      "Training Step: 1064  | total loss: \u001b[1m\u001b[32m0.68568\u001b[0m\u001b[0m\n\u001b[2K\r| SGD | epoch: 006 | loss: 0.68568 - acc: 0.5602 -- iter: 14080/20250\n"
     ]
    },
    {
     "name": "stdout",
     "output_type": "stream",
     "text": [
      "Training Step: 1065  | total loss: \u001b[1m\u001b[32m0.68643\u001b[0m\u001b[0m\n\u001b[2K\r| SGD | epoch: 006 | loss: 0.68643 - acc: 0.5589 -- iter: 14208/20250\n"
     ]
    },
    {
     "name": "stdout",
     "output_type": "stream",
     "text": [
      "Training Step: 1066  | total loss: \u001b[1m\u001b[32m0.68607\u001b[0m\u001b[0m\n\u001b[2K\r| SGD | epoch: 006 | loss: 0.68607 - acc: 0.5592 -- iter: 14336/20250\n"
     ]
    },
    {
     "name": "stdout",
     "output_type": "stream",
     "text": [
      "Training Step: 1067  | total loss: \u001b[1m\u001b[32m0.68439\u001b[0m\u001b[0m\n\u001b[2K\r| SGD | epoch: 006 | loss: 0.68439 - acc: 0.5603 -- iter: 14464/20250\n"
     ]
    },
    {
     "name": "stdout",
     "output_type": "stream",
     "text": [
      "Training Step: 1068  | total loss: \u001b[1m\u001b[32m0.68119\u001b[0m\u001b[0m\n\u001b[2K\r| SGD | epoch: 006 | loss: 0.68119 - acc: 0.5629 -- iter: 14592/20250\n"
     ]
    },
    {
     "name": "stdout",
     "output_type": "stream",
     "text": [
      "Training Step: 1069  | total loss: \u001b[1m\u001b[32m0.68023\u001b[0m\u001b[0m\n\u001b[2K\r| SGD | epoch: 006 | loss: 0.68023 - acc: 0.5652 -- iter: 14720/20250\n"
     ]
    },
    {
     "name": "stdout",
     "output_type": "stream",
     "text": [
      "Training Step: 1070  | total loss: \u001b[1m\u001b[32m0.67809\u001b[0m\u001b[0m\n\u001b[2K\r| SGD | epoch: 006 | loss: 0.67809 - acc: 0.5720 -- iter: 14848/20250\n"
     ]
    },
    {
     "name": "stdout",
     "output_type": "stream",
     "text": [
      "Training Step: 1071  | total loss: \u001b[1m\u001b[32m0.67613\u001b[0m\u001b[0m\n\u001b[2K\r| SGD | epoch: 006 | loss: 0.67613 - acc: 0.5773 -- iter: 14976/20250\n"
     ]
    },
    {
     "name": "stdout",
     "output_type": "stream",
     "text": [
      "Training Step: 1072  | total loss: \u001b[1m\u001b[32m0.67428\u001b[0m\u001b[0m\n\u001b[2K\r| SGD | epoch: 006 | loss: 0.67428 - acc: 0.5773 -- iter: 15104/20250\n"
     ]
    },
    {
     "name": "stdout",
     "output_type": "stream",
     "text": [
      "Training Step: 1073  | total loss: \u001b[1m\u001b[32m0.67434\u001b[0m\u001b[0m\n\u001b[2K\r| SGD | epoch: 006 | loss: 0.67434 - acc: 0.5790 -- iter: 15232/20250\n"
     ]
    },
    {
     "name": "stdout",
     "output_type": "stream",
     "text": [
      "Training Step: 1074  | total loss: \u001b[1m\u001b[32m0.67480\u001b[0m\u001b[0m\n\u001b[2K\r| SGD | epoch: 006 | loss: 0.67480 - acc: 0.5773 -- iter: 15360/20250\n"
     ]
    },
    {
     "name": "stdout",
     "output_type": "stream",
     "text": [
      "Training Step: 1075  | total loss: \u001b[1m\u001b[32m0.67470\u001b[0m\u001b[0m\n\u001b[2K\r| SGD | epoch: 006 | loss: 0.67470 - acc: 0.5798 -- iter: 15488/20250\n"
     ]
    },
    {
     "name": "stdout",
     "output_type": "stream",
     "text": [
      "Training Step: 1076  | total loss: \u001b[1m\u001b[32m0.67531\u001b[0m\u001b[0m\n\u001b[2K\r| SGD | epoch: 006 | loss: 0.67531 - acc: 0.5796 -- iter: 15616/20250\n"
     ]
    },
    {
     "name": "stdout",
     "output_type": "stream",
     "text": [
      "Training Step: 1077  | total loss: \u001b[1m\u001b[32m0.67552\u001b[0m\u001b[0m\n\u001b[2K\r| SGD | epoch: 006 | loss: 0.67552 - acc: 0.5763 -- iter: 15744/20250\n"
     ]
    },
    {
     "name": "stdout",
     "output_type": "stream",
     "text": [
      "Training Step: 1078  | total loss: \u001b[1m\u001b[32m0.67459\u001b[0m\u001b[0m\n\u001b[2K\r| SGD | epoch: 006 | loss: 0.67459 - acc: 0.5749 -- iter: 15872/20250\n"
     ]
    },
    {
     "name": "stdout",
     "output_type": "stream",
     "text": [
      "Training Step: 1079  | total loss: \u001b[1m\u001b[32m0.67763\u001b[0m\u001b[0m\n\u001b[2K\r| SGD | epoch: 006 | loss: 0.67763 - acc: 0.5674 -- iter: 16000/20250\n"
     ]
    },
    {
     "name": "stdout",
     "output_type": "stream",
     "text": [
      "Training Step: 1080  | total loss: \u001b[1m\u001b[32m0.67804\u001b[0m\u001b[0m\n\u001b[2K\r| SGD | epoch: 006 | loss: 0.67804 - acc: 0.5724 -- iter: 16128/20250\n"
     ]
    },
    {
     "name": "stdout",
     "output_type": "stream",
     "text": [
      "Training Step: 1081  | total loss: \u001b[1m\u001b[32m0.67842\u001b[0m\u001b[0m\n\u001b[2K\r| SGD | epoch: 006 | loss: 0.67842 - acc: 0.5769 -- iter: 16256/20250\n"
     ]
    },
    {
     "name": "stdout",
     "output_type": "stream",
     "text": [
      "Training Step: 1082  | total loss: \u001b[1m\u001b[32m0.67533\u001b[0m\u001b[0m\n\u001b[2K\r| SGD | epoch: 006 | loss: 0.67533 - acc: 0.5848 -- iter: 16384/20250\n"
     ]
    },
    {
     "name": "stdout",
     "output_type": "stream",
     "text": [
      "Training Step: 1083  | total loss: \u001b[1m\u001b[32m0.67674\u001b[0m\u001b[0m\n\u001b[2K\r| SGD | epoch: 006 | loss: 0.67674 - acc: 0.5810 -- iter: 16512/20250\n"
     ]
    },
    {
     "name": "stdout",
     "output_type": "stream",
     "text": [
      "Training Step: 1084  | total loss: \u001b[1m\u001b[32m0.67675\u001b[0m\u001b[0m\n\u001b[2K\r| SGD | epoch: 006 | loss: 0.67675 - acc: 0.5823 -- iter: 16640/20250\n"
     ]
    },
    {
     "name": "stdout",
     "output_type": "stream",
     "text": [
      "Training Step: 1085  | total loss: \u001b[1m\u001b[32m0.67730\u001b[0m\u001b[0m\n\u001b[2K\r| SGD | epoch: 006 | loss: 0.67730 - acc: 0.5764 -- iter: 16768/20250\n"
     ]
    },
    {
     "name": "stdout",
     "output_type": "stream",
     "text": [
      "Training Step: 1086  | total loss: \u001b[1m\u001b[32m0.67707\u001b[0m\u001b[0m\n\u001b[2K\r| SGD | epoch: 006 | loss: 0.67707 - acc: 0.5797 -- iter: 16896/20250\n"
     ]
    },
    {
     "name": "stdout",
     "output_type": "stream",
     "text": [
      "Training Step: 1087  | total loss: \u001b[1m\u001b[32m0.67668\u001b[0m\u001b[0m\n\u001b[2K\r| SGD | epoch: 006 | loss: 0.67668 - acc: 0.5827 -- iter: 17024/20250\n"
     ]
    },
    {
     "name": "stdout",
     "output_type": "stream",
     "text": [
      "Training Step: 1088  | total loss: \u001b[1m\u001b[32m0.67457\u001b[0m\u001b[0m\n\u001b[2K\r| SGD | epoch: 006 | loss: 0.67457 - acc: 0.5908 -- iter: 17152/20250\n"
     ]
    },
    {
     "name": "stdout",
     "output_type": "stream",
     "text": [
      "Training Step: 1089  | total loss: \u001b[1m\u001b[32m0.67347\u001b[0m\u001b[0m\n\u001b[2K\r| SGD | epoch: 006 | loss: 0.67347 - acc: 0.5896 -- iter: 17280/20250\n"
     ]
    },
    {
     "name": "stdout",
     "output_type": "stream",
     "text": [
      "Training Step: 1090  | total loss: \u001b[1m\u001b[32m0.67422\u001b[0m\u001b[0m\n\u001b[2K\r| SGD | epoch: 006 | loss: 0.67422 - acc: 0.5868 -- iter: 17408/20250\n"
     ]
    },
    {
     "name": "stdout",
     "output_type": "stream",
     "text": [
      "Training Step: 1091  | total loss: \u001b[1m\u001b[32m0.67553\u001b[0m\u001b[0m\n\u001b[2K\r| SGD | epoch: 006 | loss: 0.67553 - acc: 0.5813 -- iter: 17536/20250\n"
     ]
    },
    {
     "name": "stdout",
     "output_type": "stream",
     "text": [
      "Training Step: 1092  | total loss: \u001b[1m\u001b[32m0.67749\u001b[0m\u001b[0m\n\u001b[2K\r| SGD | epoch: 006 | loss: 0.67749 - acc: 0.5724 -- iter: 17664/20250\n"
     ]
    },
    {
     "name": "stdout",
     "output_type": "stream",
     "text": [
      "Training Step: 1093  | total loss: \u001b[1m\u001b[32m0.67790\u001b[0m\u001b[0m\n\u001b[2K\r| SGD | epoch: 006 | loss: 0.67790 - acc: 0.5659 -- iter: 17792/20250\n"
     ]
    },
    {
     "name": "stdout",
     "output_type": "stream",
     "text": [
      "Training Step: 1094  | total loss: \u001b[1m\u001b[32m0.67552\u001b[0m\u001b[0m\n\u001b[2K\r| SGD | epoch: 006 | loss: 0.67552 - acc: 0.5742 -- iter: 17920/20250\n"
     ]
    },
    {
     "name": "stdout",
     "output_type": "stream",
     "text": [
      "Training Step: 1095  | total loss: \u001b[1m\u001b[32m0.67869\u001b[0m\u001b[0m\n\u001b[2K\r| SGD | epoch: 006 | loss: 0.67869 - acc: 0.5699 -- iter: 18048/20250\n"
     ]
    },
    {
     "name": "stdout",
     "output_type": "stream",
     "text": [
      "Training Step: 1096  | total loss: \u001b[1m\u001b[32m0.67710\u001b[0m\u001b[0m\n\u001b[2K\r| SGD | epoch: 006 | loss: 0.67710 - acc: 0.5691 -- iter: 18176/20250\n"
     ]
    },
    {
     "name": "stdout",
     "output_type": "stream",
     "text": [
      "Training Step: 1097  | total loss: \u001b[1m\u001b[32m0.67272\u001b[0m\u001b[0m\n\u001b[2K\r| SGD | epoch: 006 | loss: 0.67272 - acc: 0.5763 -- iter: 18304/20250\n"
     ]
    },
    {
     "name": "stdout",
     "output_type": "stream",
     "text": [
      "Training Step: 1098  | total loss: \u001b[1m\u001b[32m0.67149\u001b[0m\u001b[0m\n\u001b[2K\r| SGD | epoch: 006 | loss: 0.67149 - acc: 0.5804 -- iter: 18432/20250\n"
     ]
    },
    {
     "name": "stdout",
     "output_type": "stream",
     "text": [
      "Training Step: 1099  | total loss: \u001b[1m\u001b[32m0.68987\u001b[0m\u001b[0m\n\u001b[2K\r| SGD | epoch: 006 | loss: 0.68987 - acc: 0.5762 -- iter: 18560/20250\n"
     ]
    },
    {
     "name": "stdout",
     "output_type": "stream",
     "text": [
      "Training Step: 1100  | total loss: \u001b[1m\u001b[32m0.69317\u001b[0m\u001b[0m\n\u001b[2K\r| SGD | epoch: 006 | loss: 0.69317 - acc: 0.5678 -- iter: 18688/20250\n"
     ]
    },
    {
     "name": "stdout",
     "output_type": "stream",
     "text": [
      "Training Step: 1101  | total loss: \u001b[1m\u001b[32m0.69316\u001b[0m\u001b[0m\n\u001b[2K\r| SGD | epoch: 006 | loss: 0.69316 - acc: 0.5618 -- iter: 18816/20250\n"
     ]
    },
    {
     "name": "stdout",
     "output_type": "stream",
     "text": [
      "Training Step: 1102  | total loss: \u001b[1m\u001b[32m0.69320\u001b[0m\u001b[0m\n\u001b[2K\r| SGD | epoch: 006 | loss: 0.69320 - acc: 0.5525 -- iter: 18944/20250\n"
     ]
    },
    {
     "name": "stdout",
     "output_type": "stream",
     "text": [
      "Training Step: 1103  | total loss: \u001b[1m\u001b[32m0.69128\u001b[0m\u001b[0m\n\u001b[2K\r| SGD | epoch: 006 | loss: 0.69128 - acc: 0.5574 -- iter: 19072/20250\n"
     ]
    },
    {
     "name": "stdout",
     "output_type": "stream",
     "text": [
      "Training Step: 1104  | total loss: \u001b[1m\u001b[32m0.68806\u001b[0m\u001b[0m\n\u001b[2K\r| SGD | epoch: 006 | loss: 0.68806 - acc: 0.5618 -- iter: 19200/20250\n"
     ]
    },
    {
     "name": "stdout",
     "output_type": "stream",
     "text": [
      "Training Step: 1105  | total loss: \u001b[1m\u001b[32m0.68641\u001b[0m\u001b[0m\n\u001b[2K\r| SGD | epoch: 006 | loss: 0.68641 - acc: 0.5658 -- iter: 19328/20250\n"
     ]
    },
    {
     "name": "stdout",
     "output_type": "stream",
     "text": [
      "Training Step: 1106  | total loss: \u001b[1m\u001b[32m0.68438\u001b[0m\u001b[0m\n\u001b[2K\r| SGD | epoch: 006 | loss: 0.68438 - acc: 0.5749 -- iter: 19456/20250\n"
     ]
    },
    {
     "name": "stdout",
     "output_type": "stream",
     "text": [
      "Training Step: 1107  | total loss: \u001b[1m\u001b[32m0.68220\u001b[0m\u001b[0m\n\u001b[2K\r| SGD | epoch: 006 | loss: 0.68220 - acc: 0.5822 -- iter: 19584/20250\n"
     ]
    },
    {
     "name": "stdout",
     "output_type": "stream",
     "text": [
      "Training Step: 1108  | total loss: \u001b[1m\u001b[32m0.68054\u001b[0m\u001b[0m\n\u001b[2K\r| SGD | epoch: 006 | loss: 0.68054 - acc: 0.5873 -- iter: 19712/20250\n"
     ]
    },
    {
     "name": "stdout",
     "output_type": "stream",
     "text": [
      "Training Step: 1109  | total loss: \u001b[1m\u001b[32m0.67721\u001b[0m\u001b[0m\n\u001b[2K\r| SGD | epoch: 006 | loss: 0.67721 - acc: 0.5871 -- iter: 19840/20250\n"
     ]
    },
    {
     "name": "stdout",
     "output_type": "stream",
     "text": [
      "Training Step: 1110  | total loss: \u001b[1m\u001b[32m0.67090\u001b[0m\u001b[0m\n\u001b[2K\r| SGD | epoch: 006 | loss: 0.67090 - acc: 0.5995 -- iter: 19968/20250\n"
     ]
    },
    {
     "name": "stdout",
     "output_type": "stream",
     "text": [
      "Training Step: 1111  | total loss: \u001b[1m\u001b[32m0.67051\u001b[0m\u001b[0m\n\u001b[2K\r| SGD | epoch: 006 | loss: 0.67051 - acc: 0.5997 -- iter: 20096/20250\n"
     ]
    },
    {
     "name": "stdout",
     "output_type": "stream",
     "text": [
      "Training Step: 1112  | total loss: \u001b[1m\u001b[32m0.67331\u001b[0m\u001b[0m\n\u001b[2K\r| SGD | epoch: 006 | loss: 0.67331 - acc: 0.5905 -- iter: 20224/20250\n"
     ]
    },
    {
     "name": "stdout",
     "output_type": "stream",
     "text": [
      "Training Step: 1113  | total loss: \u001b[1m\u001b[32m0.67526\u001b[0m\u001b[0m\n\u001b[2K\r| SGD | epoch: 007 | loss: 0.67526 - acc: 0.5830 | val_loss: 0.68427 - val_acc: 0.5436 -- iter: 20250/20250\n"
     ]
    },
    {
     "name": "stdout",
     "output_type": "stream",
     "text": [
      "Training Step: 1113  | total loss: \u001b[1m\u001b[32m0.67526\u001b[0m\u001b[0m\n\u001b[2K\r| SGD | epoch: 007 | loss: 0.67526 - acc: 0.5830 | val_loss: 0.68427 - val_acc: 0.5436 -- iter: 20250/20250\n--\n"
     ]
    },
    {
     "name": "stdout",
     "output_type": "stream",
     "text": [
      "Training Step: 1114  | total loss: \u001b[1m\u001b[32m0.67761\u001b[0m\u001b[0m\n\u001b[2K\r| SGD | epoch: 007 | loss: 0.67761 - acc: 0.5740 -- iter: 00128/20250\n"
     ]
    },
    {
     "name": "stdout",
     "output_type": "stream",
     "text": [
      "Training Step: 1115  | total loss: \u001b[1m\u001b[32m0.67755\u001b[0m\u001b[0m\n\u001b[2K\r| SGD | epoch: 007 | loss: 0.67755 - acc: 0.5720 -- iter: 00256/20250\n"
     ]
    },
    {
     "name": "stdout",
     "output_type": "stream",
     "text": [
      "Training Step: 1116  | total loss: \u001b[1m\u001b[32m0.67772\u001b[0m\u001b[0m\n\u001b[2K\r| SGD | epoch: 007 | loss: 0.67772 - acc: 0.5734 -- iter: 00384/20250\n"
     ]
    },
    {
     "name": "stdout",
     "output_type": "stream",
     "text": [
      "Training Step: 1117  | total loss: \u001b[1m\u001b[32m0.67825\u001b[0m\u001b[0m\n\u001b[2K\r| SGD | epoch: 007 | loss: 0.67825 - acc: 0.5684 -- iter: 00512/20250\n"
     ]
    },
    {
     "name": "stdout",
     "output_type": "stream",
     "text": [
      "Training Step: 1118  | total loss: \u001b[1m\u001b[32m0.67841\u001b[0m\u001b[0m\n\u001b[2K\r| SGD | epoch: 007 | loss: 0.67841 - acc: 0.5671 -- iter: 00640/20250\n"
     ]
    },
    {
     "name": "stdout",
     "output_type": "stream",
     "text": [
      "Training Step: 1119  | total loss: \u001b[1m\u001b[32m0.67641\u001b[0m\u001b[0m\n\u001b[2K\r| SGD | epoch: 007 | loss: 0.67641 - acc: 0.5697 -- iter: 00768/20250\n"
     ]
    },
    {
     "name": "stdout",
     "output_type": "stream",
     "text": [
      "Training Step: 1120  | total loss: \u001b[1m\u001b[32m0.67378\u001b[0m\u001b[0m\n\u001b[2K\r| SGD | epoch: 007 | loss: 0.67378 - acc: 0.5781 -- iter: 00896/20250\n"
     ]
    },
    {
     "name": "stdout",
     "output_type": "stream",
     "text": [
      "Training Step: 1121  | total loss: \u001b[1m\u001b[32m0.67209\u001b[0m\u001b[0m\n\u001b[2K\r| SGD | epoch: 007 | loss: 0.67209 - acc: 0.5819 -- iter: 01024/20250\n"
     ]
    },
    {
     "name": "stdout",
     "output_type": "stream",
     "text": [
      "Training Step: 1122  | total loss: \u001b[1m\u001b[32m0.75387\u001b[0m\u001b[0m\n\u001b[2K\r| SGD | epoch: 007 | loss: 0.75387 - acc: 0.5713 -- iter: 01152/20250\n"
     ]
    },
    {
     "name": "stdout",
     "output_type": "stream",
     "text": [
      "Training Step: 1123  | total loss: \u001b[1m\u001b[32m0.74874\u001b[0m\u001b[0m\n\u001b[2K\r| SGD | epoch: 007 | loss: 0.74874 - acc: 0.5619 -- iter: 01280/20250\n"
     ]
    },
    {
     "name": "stdout",
     "output_type": "stream",
     "text": [
      "Training Step: 1124  | total loss: \u001b[1m\u001b[32m0.74282\u001b[0m\u001b[0m\n\u001b[2K\r| SGD | epoch: 007 | loss: 0.74282 - acc: 0.5564 -- iter: 01408/20250\n"
     ]
    },
    {
     "name": "stdout",
     "output_type": "stream",
     "text": [
      "Training Step: 1125  | total loss: \u001b[1m\u001b[32m0.73697\u001b[0m\u001b[0m\n\u001b[2K\r| SGD | epoch: 007 | loss: 0.73697 - acc: 0.5508 -- iter: 01536/20250\n"
     ]
    },
    {
     "name": "stdout",
     "output_type": "stream",
     "text": [
      "Training Step: 1126  | total loss: \u001b[1m\u001b[32m0.73277\u001b[0m\u001b[0m\n\u001b[2K\r| SGD | epoch: 007 | loss: 0.73277 - acc: 0.5395 -- iter: 01664/20250\n"
     ]
    },
    {
     "name": "stdout",
     "output_type": "stream",
     "text": [
      "Training Step: 1127  | total loss: \u001b[1m\u001b[32m0.72504\u001b[0m\u001b[0m\n\u001b[2K\r| SGD | epoch: 007 | loss: 0.72504 - acc: 0.5535 -- iter: 01792/20250\n"
     ]
    },
    {
     "name": "stdout",
     "output_type": "stream",
     "text": [
      "Training Step: 1128  | total loss: \u001b[1m\u001b[32m0.71945\u001b[0m\u001b[0m\n\u001b[2K\r| SGD | epoch: 007 | loss: 0.71945 - acc: 0.5583 -- iter: 01920/20250\n"
     ]
    },
    {
     "name": "stdout",
     "output_type": "stream",
     "text": [
      "Training Step: 1129  | total loss: \u001b[1m\u001b[32m0.71939\u001b[0m\u001b[0m\n\u001b[2K\r| SGD | epoch: 007 | loss: 0.71939 - acc: 0.5572 -- iter: 02048/20250\n"
     ]
    },
    {
     "name": "stdout",
     "output_type": "stream",
     "text": [
      "Training Step: 1130  | total loss: \u001b[1m\u001b[32m0.71617\u001b[0m\u001b[0m\n\u001b[2K\r| SGD | epoch: 007 | loss: 0.71617 - acc: 0.5600 -- iter: 02176/20250\n"
     ]
    },
    {
     "name": "stdout",
     "output_type": "stream",
     "text": [
      "Training Step: 1131  | total loss: \u001b[1m\u001b[32m0.71212\u001b[0m\u001b[0m\n\u001b[2K\r| SGD | epoch: 007 | loss: 0.71212 - acc: 0.5642 -- iter: 02304/20250\n"
     ]
    },
    {
     "name": "stdout",
     "output_type": "stream",
     "text": [
      "Training Step: 1132  | total loss: \u001b[1m\u001b[32m0.70910\u001b[0m\u001b[0m\n\u001b[2K\r| SGD | epoch: 007 | loss: 0.70910 - acc: 0.5703 -- iter: 02432/20250\n"
     ]
    },
    {
     "name": "stdout",
     "output_type": "stream",
     "text": [
      "Training Step: 1133  | total loss: \u001b[1m\u001b[32m0.70654\u001b[0m\u001b[0m\n\u001b[2K\r| SGD | epoch: 007 | loss: 0.70654 - acc: 0.5679 -- iter: 02560/20250\n"
     ]
    },
    {
     "name": "stdout",
     "output_type": "stream",
     "text": [
      "Training Step: 1134  | total loss: \u001b[1m\u001b[32m0.70404\u001b[0m\u001b[0m\n\u001b[2K\r| SGD | epoch: 007 | loss: 0.70404 - acc: 0.5713 -- iter: 02688/20250\n"
     ]
    },
    {
     "name": "stdout",
     "output_type": "stream",
     "text": [
      "Training Step: 1135  | total loss: \u001b[1m\u001b[32m0.70606\u001b[0m\u001b[0m\n\u001b[2K\r| SGD | epoch: 007 | loss: 0.70606 - acc: 0.5642 -- iter: 02816/20250\n"
     ]
    },
    {
     "name": "stdout",
     "output_type": "stream",
     "text": [
      "Training Step: 1136  | total loss: \u001b[1m\u001b[32m0.70433\u001b[0m\u001b[0m\n\u001b[2K\r| SGD | epoch: 007 | loss: 0.70433 - acc: 0.5640 -- iter: 02944/20250\n"
     ]
    },
    {
     "name": "stdout",
     "output_type": "stream",
     "text": [
      "Training Step: 1137  | total loss: \u001b[1m\u001b[32m0.70224\u001b[0m\u001b[0m\n\u001b[2K\r| SGD | epoch: 007 | loss: 0.70224 - acc: 0.5670 -- iter: 03072/20250\n"
     ]
    },
    {
     "name": "stdout",
     "output_type": "stream",
     "text": [
      "Training Step: 1138  | total loss: \u001b[1m\u001b[32m0.70196\u001b[0m\u001b[0m\n\u001b[2K\r| SGD | epoch: 007 | loss: 0.70196 - acc: 0.5532 -- iter: 03200/20250\n"
     ]
    },
    {
     "name": "stdout",
     "output_type": "stream",
     "text": [
      "Training Step: 1139  | total loss: \u001b[1m\u001b[32m0.70146\u001b[0m\u001b[0m\n\u001b[2K\r| SGD | epoch: 007 | loss: 0.70146 - acc: 0.5409 -- iter: 03328/20250\n"
     ]
    },
    {
     "name": "stdout",
     "output_type": "stream",
     "text": [
      "Training Step: 1140  | total loss: \u001b[1m\u001b[32m0.70077\u001b[0m\u001b[0m\n\u001b[2K\r| SGD | epoch: 007 | loss: 0.70077 - acc: 0.5337 -- iter: 03456/20250\n"
     ]
    },
    {
     "name": "stdout",
     "output_type": "stream",
     "text": [
      "Training Step: 1141  | total loss: \u001b[1m\u001b[32m0.69955\u001b[0m\u001b[0m\n\u001b[2K\r| SGD | epoch: 007 | loss: 0.69955 - acc: 0.5397 -- iter: 03584/20250\n"
     ]
    },
    {
     "name": "stdout",
     "output_type": "stream",
     "text": [
      "Training Step: 1142  | total loss: \u001b[1m\u001b[32m0.69804\u001b[0m\u001b[0m\n\u001b[2K\r| SGD | epoch: 007 | loss: 0.69804 - acc: 0.5443 -- iter: 03712/20250\n"
     ]
    },
    {
     "name": "stdout",
     "output_type": "stream",
     "text": [
      "Training Step: 1143  | total loss: \u001b[1m\u001b[32m0.69695\u001b[0m\u001b[0m\n\u001b[2K\r| SGD | epoch: 007 | loss: 0.69695 - acc: 0.5493 -- iter: 03840/20250\n"
     ]
    },
    {
     "name": "stdout",
     "output_type": "stream",
     "text": [
      "Training Step: 1144  | total loss: \u001b[1m\u001b[32m0.69533\u001b[0m\u001b[0m\n\u001b[2K\r| SGD | epoch: 007 | loss: 0.69533 - acc: 0.5537 -- iter: 03968/20250\n"
     ]
    },
    {
     "name": "stdout",
     "output_type": "stream",
     "text": [
      "Training Step: 1145  | total loss: \u001b[1m\u001b[32m0.69396\u001b[0m\u001b[0m\n\u001b[2K\r| SGD | epoch: 007 | loss: 0.69396 - acc: 0.5561 -- iter: 04096/20250\n"
     ]
    },
    {
     "name": "stdout",
     "output_type": "stream",
     "text": [
      "Training Step: 1146  | total loss: \u001b[1m\u001b[32m0.69201\u001b[0m\u001b[0m\n\u001b[2K\r| SGD | epoch: 007 | loss: 0.69201 - acc: 0.5638 -- iter: 04224/20250\n"
     ]
    },
    {
     "name": "stdout",
     "output_type": "stream",
     "text": [
      "Training Step: 1147  | total loss: \u001b[1m\u001b[32m0.68985\u001b[0m\u001b[0m\n\u001b[2K\r| SGD | epoch: 007 | loss: 0.68985 - acc: 0.5676 -- iter: 04352/20250\n"
     ]
    },
    {
     "name": "stdout",
     "output_type": "stream",
     "text": [
      "Training Step: 1148  | total loss: \u001b[1m\u001b[32m0.68877\u001b[0m\u001b[0m\n\u001b[2K\r| SGD | epoch: 007 | loss: 0.68877 - acc: 0.5647 -- iter: 04480/20250\n"
     ]
    },
    {
     "name": "stdout",
     "output_type": "stream",
     "text": [
      "Training Step: 1149  | total loss: \u001b[1m\u001b[32m0.69079\u001b[0m\u001b[0m\n\u001b[2K\r| SGD | epoch: 007 | loss: 0.69079 - acc: 0.5653 -- iter: 04608/20250\n"
     ]
    },
    {
     "name": "stdout",
     "output_type": "stream",
     "text": [
      "Training Step: 1150  | total loss: \u001b[1m\u001b[32m0.69041\u001b[0m\u001b[0m\n\u001b[2K\r| SGD | epoch: 007 | loss: 0.69041 - acc: 0.5635 -- iter: 04736/20250\n"
     ]
    },
    {
     "name": "stdout",
     "output_type": "stream",
     "text": [
      "Training Step: 1151  | total loss: \u001b[1m\u001b[32m0.69001\u001b[0m\u001b[0m\n\u001b[2K\r| SGD | epoch: 007 | loss: 0.69001 - acc: 0.5626 -- iter: 04864/20250\n"
     ]
    },
    {
     "name": "stdout",
     "output_type": "stream",
     "text": [
      "Training Step: 1152  | total loss: \u001b[1m\u001b[32m0.68969\u001b[0m\u001b[0m\n\u001b[2K\r| SGD | epoch: 007 | loss: 0.68969 - acc: 0.5587 -- iter: 04992/20250\n"
     ]
    },
    {
     "name": "stdout",
     "output_type": "stream",
     "text": [
      "Training Step: 1153  | total loss: \u001b[1m\u001b[32m0.68998\u001b[0m\u001b[0m\n\u001b[2K\r| SGD | epoch: 007 | loss: 0.68998 - acc: 0.5590 -- iter: 05120/20250\n"
     ]
    },
    {
     "name": "stdout",
     "output_type": "stream",
     "text": [
      "Training Step: 1154  | total loss: \u001b[1m\u001b[32m0.69020\u001b[0m\u001b[0m\n\u001b[2K\r| SGD | epoch: 007 | loss: 0.69020 - acc: 0.5500 -- iter: 05248/20250\n"
     ]
    },
    {
     "name": "stdout",
     "output_type": "stream",
     "text": [
      "Training Step: 1155  | total loss: \u001b[1m\u001b[32m0.68934\u001b[0m\u001b[0m\n\u001b[2K\r| SGD | epoch: 007 | loss: 0.68934 - acc: 0.5497 -- iter: 05376/20250\n"
     ]
    },
    {
     "name": "stdout",
     "output_type": "stream",
     "text": [
      "Training Step: 1156  | total loss: \u001b[1m\u001b[32m0.68912\u001b[0m\u001b[0m\n\u001b[2K\r| SGD | epoch: 007 | loss: 0.68912 - acc: 0.5447 -- iter: 05504/20250\n"
     ]
    },
    {
     "name": "stdout",
     "output_type": "stream",
     "text": [
      "Training Step: 1157  | total loss: \u001b[1m\u001b[32m0.68785\u001b[0m\u001b[0m\n\u001b[2K\r| SGD | epoch: 007 | loss: 0.68785 - acc: 0.5520 -- iter: 05632/20250\n"
     ]
    },
    {
     "name": "stdout",
     "output_type": "stream",
     "text": [
      "Training Step: 1158  | total loss: \u001b[1m\u001b[32m0.68570\u001b[0m\u001b[0m\n\u001b[2K\r| SGD | epoch: 007 | loss: 0.68570 - acc: 0.5562 -- iter: 05760/20250\n"
     ]
    },
    {
     "name": "stdout",
     "output_type": "stream",
     "text": [
      "Training Step: 1159  | total loss: \u001b[1m\u001b[32m0.68552\u001b[0m\u001b[0m\n\u001b[2K\r| SGD | epoch: 007 | loss: 0.68552 - acc: 0.5537 -- iter: 05888/20250\n"
     ]
    },
    {
     "name": "stdout",
     "output_type": "stream",
     "text": [
      "Training Step: 1160  | total loss: \u001b[1m\u001b[32m0.71840\u001b[0m\u001b[0m\n\u001b[2K\r| SGD | epoch: 007 | loss: 0.71840 - acc: 0.5389 -- iter: 06016/20250\n"
     ]
    },
    {
     "name": "stdout",
     "output_type": "stream",
     "text": [
      "Training Step: 1161  | total loss: \u001b[1m\u001b[32m0.71444\u001b[0m\u001b[0m\n\u001b[2K\r| SGD | epoch: 007 | loss: 0.71444 - acc: 0.5460 -- iter: 06144/20250\n"
     ]
    },
    {
     "name": "stdout",
     "output_type": "stream",
     "text": [
      "Training Step: 1162  | total loss: \u001b[1m\u001b[32m0.71220\u001b[0m\u001b[0m\n\u001b[2K\r| SGD | epoch: 007 | loss: 0.71220 - acc: 0.5437 -- iter: 06272/20250\n"
     ]
    },
    {
     "name": "stdout",
     "output_type": "stream",
     "text": [
      "Training Step: 1163  | total loss: \u001b[1m\u001b[32m0.70970\u001b[0m\u001b[0m\n\u001b[2K\r| SGD | epoch: 007 | loss: 0.70970 - acc: 0.5409 -- iter: 06400/20250\n"
     ]
    },
    {
     "name": "stdout",
     "output_type": "stream",
     "text": [
      "Training Step: 1164  | total loss: \u001b[1m\u001b[32m0.70802\u001b[0m\u001b[0m\n\u001b[2K\r| SGD | epoch: 007 | loss: 0.70802 - acc: 0.5360 -- iter: 06528/20250\n"
     ]
    },
    {
     "name": "stdout",
     "output_type": "stream",
     "text": [
      "Training Step: 1165  | total loss: \u001b[1m\u001b[32m0.70409\u001b[0m\u001b[0m\n\u001b[2K\r| SGD | epoch: 007 | loss: 0.70409 - acc: 0.5363 -- iter: 06656/20250\n"
     ]
    },
    {
     "name": "stdout",
     "output_type": "stream",
     "text": [
      "Training Step: 1166  | total loss: \u001b[1m\u001b[32m0.70089\u001b[0m\u001b[0m\n\u001b[2K\r| SGD | epoch: 007 | loss: 0.70089 - acc: 0.5390 -- iter: 06784/20250\n"
     ]
    },
    {
     "name": "stdout",
     "output_type": "stream",
     "text": [
      "Training Step: 1167  | total loss: \u001b[1m\u001b[32m0.69804\u001b[0m\u001b[0m\n\u001b[2K\r| SGD | epoch: 007 | loss: 0.69804 - acc: 0.5405 -- iter: 06912/20250\n"
     ]
    },
    {
     "name": "stdout",
     "output_type": "stream",
     "text": [
      "Training Step: 1168  | total loss: \u001b[1m\u001b[32m0.69410\u001b[0m\u001b[0m\n\u001b[2K\r| SGD | epoch: 007 | loss: 0.69410 - acc: 0.5435 -- iter: 07040/20250\n"
     ]
    },
    {
     "name": "stdout",
     "output_type": "stream",
     "text": [
      "Training Step: 1169  | total loss: \u001b[1m\u001b[32m0.69037\u001b[0m\u001b[0m\n\u001b[2K\r| SGD | epoch: 007 | loss: 0.69037 - acc: 0.5501 -- iter: 07168/20250\n"
     ]
    },
    {
     "name": "stdout",
     "output_type": "stream",
     "text": [
      "Training Step: 1170  | total loss: \u001b[1m\u001b[32m0.69688\u001b[0m\u001b[0m\n\u001b[2K\r| SGD | epoch: 007 | loss: 0.69688 - acc: 0.5474 -- iter: 07296/20250\n"
     ]
    },
    {
     "name": "stdout",
     "output_type": "stream",
     "text": [
      "Training Step: 1171  | total loss: \u001b[1m\u001b[32m0.74365\u001b[0m\u001b[0m\n\u001b[2K\r| SGD | epoch: 007 | loss: 0.74365 - acc: 0.5396 -- iter: 07424/20250\n"
     ]
    },
    {
     "name": "stdout",
     "output_type": "stream",
     "text": [
      "Training Step: 1172  | total loss: \u001b[1m\u001b[32m0.73846\u001b[0m\u001b[0m\n\u001b[2K\r| SGD | epoch: 007 | loss: 0.73846 - acc: 0.5387 -- iter: 07552/20250\n"
     ]
    },
    {
     "name": "stdout",
     "output_type": "stream",
     "text": [
      "Training Step: 1173  | total loss: \u001b[1m\u001b[32m0.73312\u001b[0m\u001b[0m\n\u001b[2K\r| SGD | epoch: 007 | loss: 0.73312 - acc: 0.5442 -- iter: 07680/20250\n"
     ]
    },
    {
     "name": "stdout",
     "output_type": "stream",
     "text": [
      "Training Step: 1174  | total loss: \u001b[1m\u001b[32m0.72872\u001b[0m\u001b[0m\n\u001b[2K\r| SGD | epoch: 007 | loss: 0.72872 - acc: 0.5437 -- iter: 07808/20250\n"
     ]
    },
    {
     "name": "stdout",
     "output_type": "stream",
     "text": [
      "Training Step: 1175  | total loss: \u001b[1m\u001b[32m0.72435\u001b[0m\u001b[0m\n\u001b[2K\r| SGD | epoch: 007 | loss: 0.72435 - acc: 0.5432 -- iter: 07936/20250\n"
     ]
    },
    {
     "name": "stdout",
     "output_type": "stream",
     "text": [
      "Training Step: 1176  | total loss: \u001b[1m\u001b[32m0.71989\u001b[0m\u001b[0m\n\u001b[2K\r| SGD | epoch: 007 | loss: 0.71989 - acc: 0.5499 -- iter: 08064/20250\n"
     ]
    },
    {
     "name": "stdout",
     "output_type": "stream",
     "text": [
      "Training Step: 1177  | total loss: \u001b[1m\u001b[32m0.71767\u001b[0m\u001b[0m\n\u001b[2K\r| SGD | epoch: 007 | loss: 0.71767 - acc: 0.5488 -- iter: 08192/20250\n"
     ]
    },
    {
     "name": "stdout",
     "output_type": "stream",
     "text": [
      "Training Step: 1178  | total loss: \u001b[1m\u001b[32m0.71402\u001b[0m\u001b[0m\n\u001b[2K\r| SGD | epoch: 007 | loss: 0.71402 - acc: 0.5541 -- iter: 08320/20250\n"
     ]
    },
    {
     "name": "stdout",
     "output_type": "stream",
     "text": [
      "Training Step: 1179  | total loss: \u001b[1m\u001b[32m0.71161\u001b[0m\u001b[0m\n\u001b[2K\r| SGD | epoch: 007 | loss: 0.71161 - acc: 0.5533 -- iter: 08448/20250\n"
     ]
    },
    {
     "name": "stdout",
     "output_type": "stream",
     "text": [
      "Training Step: 1180  | total loss: \u001b[1m\u001b[32m0.70757\u001b[0m\u001b[0m\n\u001b[2K\r| SGD | epoch: 007 | loss: 0.70757 - acc: 0.5605 -- iter: 08576/20250\n"
     ]
    },
    {
     "name": "stdout",
     "output_type": "stream",
     "text": [
      "Training Step: 1181  | total loss: \u001b[1m\u001b[32m0.70418\u001b[0m\u001b[0m\n\u001b[2K\r| SGD | epoch: 007 | loss: 0.70418 - acc: 0.5685 -- iter: 08704/20250\n"
     ]
    },
    {
     "name": "stdout",
     "output_type": "stream",
     "text": [
      "Training Step: 1182  | total loss: \u001b[1m\u001b[32m0.70209\u001b[0m\u001b[0m\n\u001b[2K\r| SGD | epoch: 007 | loss: 0.70209 - acc: 0.5679 -- iter: 08832/20250\n"
     ]
    },
    {
     "name": "stdout",
     "output_type": "stream",
     "text": [
      "Training Step: 1183  | total loss: \u001b[1m\u001b[32m0.69979\u001b[0m\u001b[0m\n\u001b[2K\r| SGD | epoch: 007 | loss: 0.69979 - acc: 0.5682 -- iter: 08960/20250\n"
     ]
    },
    {
     "name": "stdout",
     "output_type": "stream",
     "text": [
      "Training Step: 1184  | total loss: \u001b[1m\u001b[32m0.69781\u001b[0m\u001b[0m\n\u001b[2K\r| SGD | epoch: 007 | loss: 0.69781 - acc: 0.5723 -- iter: 09088/20250\n"
     ]
    },
    {
     "name": "stdout",
     "output_type": "stream",
     "text": [
      "Training Step: 1185  | total loss: \u001b[1m\u001b[32m0.69578\u001b[0m\u001b[0m\n\u001b[2K\r| SGD | epoch: 007 | loss: 0.69578 - acc: 0.5697 -- iter: 09216/20250\n"
     ]
    },
    {
     "name": "stdout",
     "output_type": "stream",
     "text": [
      "Training Step: 1186  | total loss: \u001b[1m\u001b[32m0.69647\u001b[0m\u001b[0m\n\u001b[2K\r| SGD | epoch: 007 | loss: 0.69647 - acc: 0.5682 -- iter: 09344/20250\n"
     ]
    },
    {
     "name": "stdout",
     "output_type": "stream",
     "text": [
      "Training Step: 1187  | total loss: \u001b[1m\u001b[32m0.69489\u001b[0m\u001b[0m\n\u001b[2K\r| SGD | epoch: 007 | loss: 0.69489 - acc: 0.5708 -- iter: 09472/20250\n"
     ]
    },
    {
     "name": "stdout",
     "output_type": "stream",
     "text": [
      "Training Step: 1188  | total loss: \u001b[1m\u001b[32m0.69208\u001b[0m\u001b[0m\n\u001b[2K\r| SGD | epoch: 007 | loss: 0.69208 - acc: 0.5739 -- iter: 09600/20250\n"
     ]
    },
    {
     "name": "stdout",
     "output_type": "stream",
     "text": [
      "Training Step: 1189  | total loss: \u001b[1m\u001b[32m0.69098\u001b[0m\u001b[0m\n\u001b[2K\r| SGD | epoch: 007 | loss: 0.69098 - acc: 0.5688 -- iter: 09728/20250\n"
     ]
    },
    {
     "name": "stdout",
     "output_type": "stream",
     "text": [
      "Training Step: 1190  | total loss: \u001b[1m\u001b[32m0.68974\u001b[0m\u001b[0m\n\u001b[2K\r| SGD | epoch: 007 | loss: 0.68974 - acc: 0.5721 -- iter: 09856/20250\n"
     ]
    },
    {
     "name": "stdout",
     "output_type": "stream",
     "text": [
      "Training Step: 1191  | total loss: \u001b[1m\u001b[32m0.68408\u001b[0m\u001b[0m\n\u001b[2K\r| SGD | epoch: 007 | loss: 0.68408 - acc: 0.5844 -- iter: 09984/20250\n"
     ]
    },
    {
     "name": "stdout",
     "output_type": "stream",
     "text": [
      "Training Step: 1192  | total loss: \u001b[1m\u001b[32m0.68948\u001b[0m\u001b[0m\n\u001b[2K\r| SGD | epoch: 007 | loss: 0.68948 - acc: 0.5830 -- iter: 10112/20250\n"
     ]
    },
    {
     "name": "stdout",
     "output_type": "stream",
     "text": [
      "Training Step: 1193  | total loss: \u001b[1m\u001b[32m0.69748\u001b[0m\u001b[0m\n\u001b[2K\r| SGD | epoch: 007 | loss: 0.69748 - acc: 0.5716 -- iter: 10240/20250\n"
     ]
    },
    {
     "name": "stdout",
     "output_type": "stream",
     "text": [
      "Training Step: 1194  | total loss: \u001b[1m\u001b[32m0.69657\u001b[0m\u001b[0m\n\u001b[2K\r| SGD | epoch: 007 | loss: 0.69657 - acc: 0.5715 -- iter: 10368/20250\n"
     ]
    },
    {
     "name": "stdout",
     "output_type": "stream",
     "text": [
      "Training Step: 1195  | total loss: \u001b[1m\u001b[32m0.69534\u001b[0m\u001b[0m\n\u001b[2K\r| SGD | epoch: 007 | loss: 0.69534 - acc: 0.5706 -- iter: 10496/20250\n"
     ]
    },
    {
     "name": "stdout",
     "output_type": "stream",
     "text": [
      "Training Step: 1196  | total loss: \u001b[1m\u001b[32m0.69315\u001b[0m\u001b[0m\n\u001b[2K\r| SGD | epoch: 007 | loss: 0.69315 - acc: 0.5752 -- iter: 10624/20250\n"
     ]
    },
    {
     "name": "stdout",
     "output_type": "stream",
     "text": [
      "Training Step: 1197  | total loss: \u001b[1m\u001b[32m0.69210\u001b[0m\u001b[0m\n\u001b[2K\r| SGD | epoch: 007 | loss: 0.69210 - acc: 0.5739 -- iter: 10752/20250\n"
     ]
    },
    {
     "name": "stdout",
     "output_type": "stream",
     "text": [
      "Training Step: 1198  | total loss: \u001b[1m\u001b[32m0.68970\u001b[0m\u001b[0m\n\u001b[2K\r| SGD | epoch: 007 | loss: 0.68970 - acc: 0.5783 -- iter: 10880/20250\n"
     ]
    },
    {
     "name": "stdout",
     "output_type": "stream",
     "text": [
      "Training Step: 1199  | total loss: \u001b[1m\u001b[32m0.69056\u001b[0m\u001b[0m\n\u001b[2K\r| SGD | epoch: 007 | loss: 0.69056 - acc: 0.5712 -- iter: 11008/20250\n"
     ]
    },
    {
     "name": "stdout",
     "output_type": "stream",
     "text": [
      "Training Step: 1200  | total loss: \u001b[1m\u001b[32m0.68923\u001b[0m\u001b[0m\n\u001b[2K\r| SGD | epoch: 007 | loss: 0.68923 - acc: 0.5750 -- iter: 11136/20250\n"
     ]
    },
    {
     "name": "stdout",
     "output_type": "stream",
     "text": [
      "Training Step: 1201  | total loss: \u001b[1m\u001b[32m0.68798\u001b[0m\u001b[0m\n\u001b[2K\r| SGD | epoch: 007 | loss: 0.68798 - acc: 0.5769 -- iter: 11264/20250\n"
     ]
    },
    {
     "name": "stdout",
     "output_type": "stream",
     "text": [
      "Training Step: 1202  | total loss: \u001b[1m\u001b[32m0.68723\u001b[0m\u001b[0m\n\u001b[2K\r| SGD | epoch: 007 | loss: 0.68723 - acc: 0.5763 -- iter: 11392/20250\n"
     ]
    },
    {
     "name": "stdout",
     "output_type": "stream",
     "text": [
      "Training Step: 1203  | total loss: \u001b[1m\u001b[32m0.68587\u001b[0m\u001b[0m\n\u001b[2K\r| SGD | epoch: 007 | loss: 0.68587 - acc: 0.5796 -- iter: 11520/20250\n"
     ]
    },
    {
     "name": "stdout",
     "output_type": "stream",
     "text": [
      "Training Step: 1204  | total loss: \u001b[1m\u001b[32m0.68602\u001b[0m\u001b[0m\n\u001b[2K\r| SGD | epoch: 007 | loss: 0.68602 - acc: 0.5786 -- iter: 11648/20250\n"
     ]
    },
    {
     "name": "stdout",
     "output_type": "stream",
     "text": [
      "Training Step: 1205  | total loss: \u001b[1m\u001b[32m0.68542\u001b[0m\u001b[0m\n\u001b[2K\r| SGD | epoch: 007 | loss: 0.68542 - acc: 0.5716 -- iter: 11776/20250\n"
     ]
    },
    {
     "name": "stdout",
     "output_type": "stream",
     "text": [
      "Training Step: 1206  | total loss: \u001b[1m\u001b[32m0.68389\u001b[0m\u001b[0m\n\u001b[2K\r| SGD | epoch: 007 | loss: 0.68389 - acc: 0.5738 -- iter: 11904/20250\n"
     ]
    },
    {
     "name": "stdout",
     "output_type": "stream",
     "text": [
      "Training Step: 1207  | total loss: \u001b[1m\u001b[32m0.68124\u001b[0m\u001b[0m\n\u001b[2K\r| SGD | epoch: 007 | loss: 0.68124 - acc: 0.5828 -- iter: 12032/20250\n"
     ]
    },
    {
     "name": "stdout",
     "output_type": "stream",
     "text": [
      "Training Step: 1208  | total loss: \u001b[1m\u001b[32m0.67701\u001b[0m\u001b[0m\n\u001b[2K\r| SGD | epoch: 007 | loss: 0.67701 - acc: 0.5917 -- iter: 12160/20250\n"
     ]
    },
    {
     "name": "stdout",
     "output_type": "stream",
     "text": [
      "Training Step: 1209  | total loss: \u001b[1m\u001b[32m0.68199\u001b[0m\u001b[0m\n\u001b[2K\r| SGD | epoch: 007 | loss: 0.68199 - acc: 0.5849 -- iter: 12288/20250\n"
     ]
    },
    {
     "name": "stdout",
     "output_type": "stream",
     "text": [
      "Training Step: 1210  | total loss: \u001b[1m\u001b[32m0.68327\u001b[0m\u001b[0m\n\u001b[2K\r| SGD | epoch: 007 | loss: 0.68327 - acc: 0.5780 -- iter: 12416/20250\n"
     ]
    },
    {
     "name": "stdout",
     "output_type": "stream",
     "text": [
      "Training Step: 1211  | total loss: \u001b[1m\u001b[32m0.68347\u001b[0m\u001b[0m\n\u001b[2K\r| SGD | epoch: 007 | loss: 0.68347 - acc: 0.5764 -- iter: 12544/20250\n"
     ]
    },
    {
     "name": "stdout",
     "output_type": "stream",
     "text": [
      "Training Step: 1212  | total loss: \u001b[1m\u001b[32m0.68449\u001b[0m\u001b[0m\n\u001b[2K\r| SGD | epoch: 007 | loss: 0.68449 - acc: 0.5711 -- iter: 12672/20250\n"
     ]
    },
    {
     "name": "stdout",
     "output_type": "stream",
     "text": [
      "Training Step: 1213  | total loss: \u001b[1m\u001b[32m0.68600\u001b[0m\u001b[0m\n\u001b[2K\r| SGD | epoch: 007 | loss: 0.68600 - acc: 0.5601 -- iter: 12800/20250\n"
     ]
    },
    {
     "name": "stdout",
     "output_type": "stream",
     "text": [
      "Training Step: 1214  | total loss: \u001b[1m\u001b[32m0.68730\u001b[0m\u001b[0m\n\u001b[2K\r| SGD | epoch: 007 | loss: 0.68730 - acc: 0.5619 -- iter: 12928/20250\n"
     ]
    },
    {
     "name": "stdout",
     "output_type": "stream",
     "text": [
      "Training Step: 1215  | total loss: \u001b[1m\u001b[32m0.68863\u001b[0m\u001b[0m\n\u001b[2K\r| SGD | epoch: 007 | loss: 0.68863 - acc: 0.5526 -- iter: 13056/20250\n"
     ]
    },
    {
     "name": "stdout",
     "output_type": "stream",
     "text": [
      "Training Step: 1216  | total loss: \u001b[1m\u001b[32m0.68928\u001b[0m\u001b[0m\n\u001b[2K\r| SGD | epoch: 007 | loss: 0.68928 - acc: 0.5465 -- iter: 13184/20250\n"
     ]
    },
    {
     "name": "stdout",
     "output_type": "stream",
     "text": [
      "Training Step: 1217  | total loss: \u001b[1m\u001b[32m0.68967\u001b[0m\u001b[0m\n\u001b[2K\r| SGD | epoch: 007 | loss: 0.68967 - acc: 0.5403 -- iter: 13312/20250\n"
     ]
    },
    {
     "name": "stdout",
     "output_type": "stream",
     "text": [
      "Training Step: 1218  | total loss: \u001b[1m\u001b[32m0.68975\u001b[0m\u001b[0m\n\u001b[2K\r| SGD | epoch: 007 | loss: 0.68975 - acc: 0.5425 -- iter: 13440/20250\n"
     ]
    },
    {
     "name": "stdout",
     "output_type": "stream",
     "text": [
      "Training Step: 1219  | total loss: \u001b[1m\u001b[32m0.68891\u001b[0m\u001b[0m\n\u001b[2K\r| SGD | epoch: 007 | loss: 0.68891 - acc: 0.5516 -- iter: 13568/20250\n"
     ]
    },
    {
     "name": "stdout",
     "output_type": "stream",
     "text": [
      "Training Step: 1220  | total loss: \u001b[1m\u001b[32m0.68916\u001b[0m\u001b[0m\n\u001b[2K\r| SGD | epoch: 007 | loss: 0.68916 - acc: 0.5503 -- iter: 13696/20250\n"
     ]
    },
    {
     "name": "stdout",
     "output_type": "stream",
     "text": [
      "Training Step: 1221  | total loss: \u001b[1m\u001b[32m0.68873\u001b[0m\u001b[0m\n\u001b[2K\r| SGD | epoch: 007 | loss: 0.68873 - acc: 0.5508 -- iter: 13824/20250\n"
     ]
    },
    {
     "name": "stdout",
     "output_type": "stream",
     "text": [
      "Training Step: 1222  | total loss: \u001b[1m\u001b[32m0.68838\u001b[0m\u001b[0m\n\u001b[2K\r| SGD | epoch: 007 | loss: 0.68838 - acc: 0.5527 -- iter: 13952/20250\n"
     ]
    },
    {
     "name": "stdout",
     "output_type": "stream",
     "text": [
      "Training Step: 1223  | total loss: \u001b[1m\u001b[32m0.68664\u001b[0m\u001b[0m\n\u001b[2K\r| SGD | epoch: 007 | loss: 0.68664 - acc: 0.5599 -- iter: 14080/20250\n"
     ]
    },
    {
     "name": "stdout",
     "output_type": "stream",
     "text": [
      "Training Step: 1224  | total loss: \u001b[1m\u001b[32m0.68769\u001b[0m\u001b[0m\n\u001b[2K\r| SGD | epoch: 007 | loss: 0.68769 - acc: 0.5571 -- iter: 14208/20250\n"
     ]
    },
    {
     "name": "stdout",
     "output_type": "stream",
     "text": [
      "Training Step: 1225  | total loss: \u001b[1m\u001b[32m0.68713\u001b[0m\u001b[0m\n\u001b[2K\r| SGD | epoch: 007 | loss: 0.68713 - acc: 0.5584 -- iter: 14336/20250\n"
     ]
    },
    {
     "name": "stdout",
     "output_type": "stream",
     "text": [
      "Training Step: 1226  | total loss: \u001b[1m\u001b[32m0.68773\u001b[0m\u001b[0m\n\u001b[2K\r| SGD | epoch: 007 | loss: 0.68773 - acc: 0.5502 -- iter: 14464/20250\n"
     ]
    },
    {
     "name": "stdout",
     "output_type": "stream",
     "text": [
      "Training Step: 1227  | total loss: \u001b[1m\u001b[32m0.68779\u001b[0m\u001b[0m\n\u001b[2K\r| SGD | epoch: 007 | loss: 0.68779 - acc: 0.5491 -- iter: 14592/20250\n"
     ]
    },
    {
     "name": "stdout",
     "output_type": "stream",
     "text": [
      "Training Step: 1228  | total loss: \u001b[1m\u001b[32m0.68618\u001b[0m\u001b[0m\n\u001b[2K\r| SGD | epoch: 007 | loss: 0.68618 - acc: 0.5559 -- iter: 14720/20250\n"
     ]
    },
    {
     "name": "stdout",
     "output_type": "stream",
     "text": [
      "Training Step: 1229  | total loss: \u001b[1m\u001b[32m0.68699\u001b[0m\u001b[0m\n\u001b[2K\r| SGD | epoch: 007 | loss: 0.68699 - acc: 0.5597 -- iter: 14848/20250\n"
     ]
    },
    {
     "name": "stdout",
     "output_type": "stream",
     "text": [
      "Training Step: 1230  | total loss: \u001b[1m\u001b[32m0.68763\u001b[0m\u001b[0m\n\u001b[2K\r| SGD | epoch: 007 | loss: 0.68763 - acc: 0.5561 -- iter: 14976/20250\n"
     ]
    },
    {
     "name": "stdout",
     "output_type": "stream",
     "text": [
      "Training Step: 1231  | total loss: \u001b[1m\u001b[32m0.68629\u001b[0m\u001b[0m\n\u001b[2K\r| SGD | epoch: 007 | loss: 0.68629 - acc: 0.5653 -- iter: 15104/20250\n"
     ]
    },
    {
     "name": "stdout",
     "output_type": "stream",
     "text": [
      "Training Step: 1232  | total loss: \u001b[1m\u001b[32m0.68631\u001b[0m\u001b[0m\n\u001b[2K\r| SGD | epoch: 007 | loss: 0.68631 - acc: 0.5705 -- iter: 15232/20250\n"
     ]
    },
    {
     "name": "stdout",
     "output_type": "stream",
     "text": [
      "Training Step: 1233  | total loss: \u001b[1m\u001b[32m0.68641\u001b[0m\u001b[0m\n\u001b[2K\r| SGD | epoch: 007 | loss: 0.68641 - acc: 0.5681 -- iter: 15360/20250\n"
     ]
    },
    {
     "name": "stdout",
     "output_type": "stream",
     "text": [
      "Training Step: 1234  | total loss: \u001b[1m\u001b[32m0.68596\u001b[0m\u001b[0m\n\u001b[2K\r| SGD | epoch: 007 | loss: 0.68596 - acc: 0.5683 -- iter: 15488/20250\n"
     ]
    },
    {
     "name": "stdout",
     "output_type": "stream",
     "text": [
      "Training Step: 1235  | total loss: \u001b[1m\u001b[32m0.68684\u001b[0m\u001b[0m\n\u001b[2K\r| SGD | epoch: 007 | loss: 0.68684 - acc: 0.5670 -- iter: 15616/20250\n"
     ]
    },
    {
     "name": "stdout",
     "output_type": "stream",
     "text": [
      "Training Step: 1236  | total loss: \u001b[1m\u001b[32m0.68865\u001b[0m\u001b[0m\n\u001b[2K\r| SGD | epoch: 007 | loss: 0.68865 - acc: 0.5525 -- iter: 15744/20250\n"
     ]
    },
    {
     "name": "stdout",
     "output_type": "stream",
     "text": [
      "Training Step: 1237  | total loss: \u001b[1m\u001b[32m0.68820\u001b[0m\u001b[0m\n\u001b[2K\r| SGD | epoch: 007 | loss: 0.68820 - acc: 0.5550 -- iter: 15872/20250\n"
     ]
    },
    {
     "name": "stdout",
     "output_type": "stream",
     "text": [
      "Training Step: 1238  | total loss: \u001b[1m\u001b[32m0.68765\u001b[0m\u001b[0m\n\u001b[2K\r| SGD | epoch: 007 | loss: 0.68765 - acc: 0.5527 -- iter: 16000/20250\n"
     ]
    },
    {
     "name": "stdout",
     "output_type": "stream",
     "text": [
      "Training Step: 1239  | total loss: \u001b[1m\u001b[32m0.68926\u001b[0m\u001b[0m\n\u001b[2K\r| SGD | epoch: 007 | loss: 0.68926 - acc: 0.5474 -- iter: 16128/20250\n"
     ]
    },
    {
     "name": "stdout",
     "output_type": "stream",
     "text": [
      "Training Step: 1240  | total loss: \u001b[1m\u001b[32m0.69006\u001b[0m\u001b[0m\n\u001b[2K\r| SGD | epoch: 007 | loss: 0.69006 - acc: 0.5395 -- iter: 16256/20250\n"
     ]
    },
    {
     "name": "stdout",
     "output_type": "stream",
     "text": [
      "Training Step: 1241  | total loss: \u001b[1m\u001b[32m0.68973\u001b[0m\u001b[0m\n\u001b[2K\r| SGD | epoch: 007 | loss: 0.68973 - acc: 0.5418 -- iter: 16384/20250\n"
     ]
    },
    {
     "name": "stdout",
     "output_type": "stream",
     "text": [
      "Training Step: 1242  | total loss: \u001b[1m\u001b[32m0.68926\u001b[0m\u001b[0m\n\u001b[2K\r| SGD | epoch: 007 | loss: 0.68926 - acc: 0.5423 -- iter: 16512/20250\n"
     ]
    },
    {
     "name": "stdout",
     "output_type": "stream",
     "text": [
      "Training Step: 1243  | total loss: \u001b[1m\u001b[32m0.68712\u001b[0m\u001b[0m\n\u001b[2K\r| SGD | epoch: 007 | loss: 0.68712 - acc: 0.5522 -- iter: 16640/20250\n"
     ]
    },
    {
     "name": "stdout",
     "output_type": "stream",
     "text": [
      "Training Step: 1244  | total loss: \u001b[1m\u001b[32m0.68810\u001b[0m\u001b[0m\n\u001b[2K\r| SGD | epoch: 007 | loss: 0.68810 - acc: 0.5516 -- iter: 16768/20250\n"
     ]
    },
    {
     "name": "stdout",
     "output_type": "stream",
     "text": [
      "Training Step: 1245  | total loss: \u001b[1m\u001b[32m0.68707\u001b[0m\u001b[0m\n\u001b[2K\r| SGD | epoch: 007 | loss: 0.68707 - acc: 0.5535 -- iter: 16896/20250\n"
     ]
    },
    {
     "name": "stdout",
     "output_type": "stream",
     "text": [
      "Training Step: 1246  | total loss: \u001b[1m\u001b[32m0.68617\u001b[0m\u001b[0m\n\u001b[2K\r| SGD | epoch: 007 | loss: 0.68617 - acc: 0.5599 -- iter: 17024/20250\n"
     ]
    },
    {
     "name": "stdout",
     "output_type": "stream",
     "text": [
      "Training Step: 1247  | total loss: \u001b[1m\u001b[32m0.68597\u001b[0m\u001b[0m\n\u001b[2K\r| SGD | epoch: 007 | loss: 0.68597 - acc: 0.5578 -- iter: 17152/20250\n"
     ]
    },
    {
     "name": "stdout",
     "output_type": "stream",
     "text": [
      "Training Step: 1248  | total loss: \u001b[1m\u001b[32m0.68690\u001b[0m\u001b[0m\n\u001b[2K\r| SGD | epoch: 007 | loss: 0.68690 - acc: 0.5504 -- iter: 17280/20250\n"
     ]
    },
    {
     "name": "stdout",
     "output_type": "stream",
     "text": [
      "Training Step: 1249  | total loss: \u001b[1m\u001b[32m0.68606\u001b[0m\u001b[0m\n\u001b[2K\r| SGD | epoch: 007 | loss: 0.68606 - acc: 0.5540 -- iter: 17408/20250\n"
     ]
    },
    {
     "name": "stdout",
     "output_type": "stream",
     "text": [
      "Training Step: 1250  | total loss: \u001b[1m\u001b[32m0.68593\u001b[0m\u001b[0m\n\u001b[2K\r| SGD | epoch: 007 | loss: 0.68593 - acc: 0.5525 -- iter: 17536/20250\n"
     ]
    },
    {
     "name": "stdout",
     "output_type": "stream",
     "text": [
      "Training Step: 1251  | total loss: \u001b[1m\u001b[32m0.68616\u001b[0m\u001b[0m\n\u001b[2K\r| SGD | epoch: 007 | loss: 0.68616 - acc: 0.5527 -- iter: 17664/20250\n"
     ]
    },
    {
     "name": "stdout",
     "output_type": "stream",
     "text": [
      "Training Step: 1252  | total loss: \u001b[1m\u001b[32m0.68482\u001b[0m\u001b[0m\n\u001b[2K\r| SGD | epoch: 007 | loss: 0.68482 - acc: 0.5623 -- iter: 17792/20250\n"
     ]
    },
    {
     "name": "stdout",
     "output_type": "stream",
     "text": [
      "Training Step: 1253  | total loss: \u001b[1m\u001b[32m0.68562\u001b[0m\u001b[0m\n\u001b[2K\r| SGD | epoch: 007 | loss: 0.68562 - acc: 0.5584 -- iter: 17920/20250\n"
     ]
    },
    {
     "name": "stdout",
     "output_type": "stream",
     "text": [
      "Training Step: 1254  | total loss: \u001b[1m\u001b[32m0.68394\u001b[0m\u001b[0m\n\u001b[2K\r| SGD | epoch: 007 | loss: 0.68394 - acc: 0.5658 -- iter: 18048/20250\n"
     ]
    },
    {
     "name": "stdout",
     "output_type": "stream",
     "text": [
      "Training Step: 1255  | total loss: \u001b[1m\u001b[32m0.68465\u001b[0m\u001b[0m\n\u001b[2K\r| SGD | epoch: 007 | loss: 0.68465 - acc: 0.5561 -- iter: 18176/20250\n"
     ]
    },
    {
     "name": "stdout",
     "output_type": "stream",
     "text": [
      "Training Step: 1256  | total loss: \u001b[1m\u001b[32m0.68405\u001b[0m\u001b[0m\n\u001b[2K\r| SGD | epoch: 007 | loss: 0.68405 - acc: 0.5521 -- iter: 18304/20250\n"
     ]
    },
    {
     "name": "stdout",
     "output_type": "stream",
     "text": [
      "Training Step: 1257  | total loss: \u001b[1m\u001b[32m0.68325\u001b[0m\u001b[0m\n\u001b[2K\r| SGD | epoch: 007 | loss: 0.68325 - acc: 0.5570 -- iter: 18432/20250\n"
     ]
    },
    {
     "name": "stdout",
     "output_type": "stream",
     "text": [
      "Training Step: 1258  | total loss: \u001b[1m\u001b[32m0.68218\u001b[0m\u001b[0m\n\u001b[2K\r| SGD | epoch: 007 | loss: 0.68218 - acc: 0.5662 -- iter: 18560/20250\n"
     ]
    },
    {
     "name": "stdout",
     "output_type": "stream",
     "text": [
      "Training Step: 1259  | total loss: \u001b[1m\u001b[32m0.67927\u001b[0m\u001b[0m\n\u001b[2K\r| SGD | epoch: 007 | loss: 0.67927 - acc: 0.5689 -- iter: 18688/20250\n"
     ]
    },
    {
     "name": "stdout",
     "output_type": "stream",
     "text": [
      "Training Step: 1260  | total loss: \u001b[1m\u001b[32m0.67906\u001b[0m\u001b[0m\n\u001b[2K\r| SGD | epoch: 007 | loss: 0.67906 - acc: 0.5691 -- iter: 18816/20250\n"
     ]
    },
    {
     "name": "stdout",
     "output_type": "stream",
     "text": [
      "Training Step: 1261  | total loss: \u001b[1m\u001b[32m0.67975\u001b[0m\u001b[0m\n\u001b[2K\r| SGD | epoch: 007 | loss: 0.67975 - acc: 0.5669 -- iter: 18944/20250\n"
     ]
    },
    {
     "name": "stdout",
     "output_type": "stream",
     "text": [
      "Training Step: 1262  | total loss: \u001b[1m\u001b[32m0.67833\u001b[0m\u001b[0m\n\u001b[2K\r| SGD | epoch: 007 | loss: 0.67833 - acc: 0.5719 -- iter: 19072/20250\n"
     ]
    },
    {
     "name": "stdout",
     "output_type": "stream",
     "text": [
      "Training Step: 1263  | total loss: \u001b[1m\u001b[32m0.68415\u001b[0m\u001b[0m\n\u001b[2K\r| SGD | epoch: 007 | loss: 0.68415 - acc: 0.5670 -- iter: 19200/20250\n"
     ]
    },
    {
     "name": "stdout",
     "output_type": "stream",
     "text": [
      "Training Step: 1264  | total loss: \u001b[1m\u001b[32m0.68422\u001b[0m\u001b[0m\n\u001b[2K\r| SGD | epoch: 007 | loss: 0.68422 - acc: 0.5650 -- iter: 19328/20250\n"
     ]
    },
    {
     "name": "stdout",
     "output_type": "stream",
     "text": [
      "Training Step: 1265  | total loss: \u001b[1m\u001b[32m0.68525\u001b[0m\u001b[0m\n\u001b[2K\r| SGD | epoch: 007 | loss: 0.68525 - acc: 0.5593 -- iter: 19456/20250\n"
     ]
    },
    {
     "name": "stdout",
     "output_type": "stream",
     "text": [
      "Training Step: 1266  | total loss: \u001b[1m\u001b[32m0.68498\u001b[0m\u001b[0m\n\u001b[2K\r| SGD | epoch: 007 | loss: 0.68498 - acc: 0.5573 -- iter: 19584/20250\n"
     ]
    },
    {
     "name": "stdout",
     "output_type": "stream",
     "text": [
      "Training Step: 1267  | total loss: \u001b[1m\u001b[32m0.68426\u001b[0m\u001b[0m\n\u001b[2K\r| SGD | epoch: 007 | loss: 0.68426 - acc: 0.5641 -- iter: 19712/20250\n"
     ]
    },
    {
     "name": "stdout",
     "output_type": "stream",
     "text": [
      "Training Step: 1268  | total loss: \u001b[1m\u001b[32m0.68352\u001b[0m\u001b[0m\n\u001b[2K\r| SGD | epoch: 007 | loss: 0.68352 - acc: 0.5678 -- iter: 19840/20250\n"
     ]
    },
    {
     "name": "stdout",
     "output_type": "stream",
     "text": [
      "Training Step: 1269  | total loss: \u001b[1m\u001b[32m0.68421\u001b[0m\u001b[0m\n\u001b[2K\r| SGD | epoch: 007 | loss: 0.68421 - acc: 0.5704 -- iter: 19968/20250\n"
     ]
    },
    {
     "name": "stdout",
     "output_type": "stream",
     "text": [
      "Training Step: 1270  | total loss: \u001b[1m\u001b[32m0.68448\u001b[0m\u001b[0m\n\u001b[2K\r| SGD | epoch: 007 | loss: 0.68448 - acc: 0.5680 -- iter: 20096/20250\n"
     ]
    },
    {
     "name": "stdout",
     "output_type": "stream",
     "text": [
      "Training Step: 1271  | total loss: \u001b[1m\u001b[32m0.68431\u001b[0m\u001b[0m\n\u001b[2K\r| SGD | epoch: 007 | loss: 0.68431 - acc: 0.5706 -- iter: 20224/20250\n"
     ]
    },
    {
     "name": "stdout",
     "output_type": "stream",
     "text": [
      "Training Step: 1272  | total loss: \u001b[1m\u001b[32m0.68542\u001b[0m\u001b[0m\n\u001b[2K\r| SGD | epoch: 008 | loss: 0.68542 - acc: 0.5643 | val_loss: 0.66819 - val_acc: 0.6231 -- iter: 20250/20250\n"
     ]
    },
    {
     "name": "stdout",
     "output_type": "stream",
     "text": [
      "Training Step: 1272  | total loss: \u001b[1m\u001b[32m0.68542\u001b[0m\u001b[0m\n\u001b[2K\r| SGD | epoch: 008 | loss: 0.68542 - acc: 0.5643 | val_loss: 0.66819 - val_acc: 0.6231 -- iter: 20250/20250\n--\n"
     ]
    },
    {
     "name": "stdout",
     "output_type": "stream",
     "text": [
      "Training Step: 1273  | total loss: \u001b[1m\u001b[32m0.68432\u001b[0m\u001b[0m\n\u001b[2K\r| SGD | epoch: 008 | loss: 0.68432 - acc: 0.5720 -- iter: 00128/20250\n"
     ]
    },
    {
     "name": "stdout",
     "output_type": "stream",
     "text": [
      "Training Step: 1274  | total loss: \u001b[1m\u001b[32m0.68288\u001b[0m\u001b[0m\n\u001b[2K\r| SGD | epoch: 008 | loss: 0.68288 - acc: 0.5765 -- iter: 00256/20250\n"
     ]
    },
    {
     "name": "stdout",
     "output_type": "stream",
     "text": [
      "Training Step: 1275  | total loss: \u001b[1m\u001b[32m0.68152\u001b[0m\u001b[0m\n\u001b[2K\r| SGD | epoch: 008 | loss: 0.68152 - acc: 0.5806 -- iter: 00384/20250\n"
     ]
    },
    {
     "name": "stdout",
     "output_type": "stream",
     "text": [
      "Training Step: 1276  | total loss: \u001b[1m\u001b[32m0.67873\u001b[0m\u001b[0m\n\u001b[2K\r| SGD | epoch: 008 | loss: 0.67873 - acc: 0.5842 -- iter: 00512/20250\n"
     ]
    },
    {
     "name": "stdout",
     "output_type": "stream",
     "text": [
      "Training Step: 1277  | total loss: \u001b[1m\u001b[32m0.67704\u001b[0m\u001b[0m\n\u001b[2K\r| SGD | epoch: 008 | loss: 0.67704 - acc: 0.5844 -- iter: 00640/20250\n"
     ]
    },
    {
     "name": "stdout",
     "output_type": "stream",
     "text": [
      "Training Step: 1278  | total loss: \u001b[1m\u001b[32m0.67624\u001b[0m\u001b[0m\n\u001b[2K\r| SGD | epoch: 008 | loss: 0.67624 - acc: 0.5822 -- iter: 00768/20250\n"
     ]
    },
    {
     "name": "stdout",
     "output_type": "stream",
     "text": [
      "Training Step: 1279  | total loss: \u001b[1m\u001b[32m0.68158\u001b[0m\u001b[0m\n\u001b[2K\r| SGD | epoch: 008 | loss: 0.68158 - acc: 0.5771 -- iter: 00896/20250\n"
     ]
    },
    {
     "name": "stdout",
     "output_type": "stream",
     "text": [
      "Training Step: 1280  | total loss: \u001b[1m\u001b[32m0.68467\u001b[0m\u001b[0m\n\u001b[2K\r| SGD | epoch: 008 | loss: 0.68467 - acc: 0.5617 -- iter: 01024/20250\n"
     ]
    },
    {
     "name": "stdout",
     "output_type": "stream",
     "text": [
      "Training Step: 1281  | total loss: \u001b[1m\u001b[32m0.68650\u001b[0m\u001b[0m\n\u001b[2K\r| SGD | epoch: 008 | loss: 0.68650 - acc: 0.5478 -- iter: 01152/20250\n"
     ]
    },
    {
     "name": "stdout",
     "output_type": "stream",
     "text": [
      "Training Step: 1282  | total loss: \u001b[1m\u001b[32m0.68828\u001b[0m\u001b[0m\n\u001b[2K\r| SGD | epoch: 008 | loss: 0.68828 - acc: 0.5462 -- iter: 01280/20250\n"
     ]
    },
    {
     "name": "stdout",
     "output_type": "stream",
     "text": [
      "Training Step: 1283  | total loss: \u001b[1m\u001b[32m0.68776\u001b[0m\u001b[0m\n\u001b[2K\r| SGD | epoch: 008 | loss: 0.68776 - acc: 0.5470 -- iter: 01408/20250\n"
     ]
    },
    {
     "name": "stdout",
     "output_type": "stream",
     "text": [
      "Training Step: 1284  | total loss: \u001b[1m\u001b[32m0.68820\u001b[0m\u001b[0m\n\u001b[2K\r| SGD | epoch: 008 | loss: 0.68820 - acc: 0.5423 -- iter: 01536/20250\n"
     ]
    },
    {
     "name": "stdout",
     "output_type": "stream",
     "text": [
      "Training Step: 1285  | total loss: \u001b[1m\u001b[32m0.68808\u001b[0m\u001b[0m\n\u001b[2K\r| SGD | epoch: 008 | loss: 0.68808 - acc: 0.5443 -- iter: 01664/20250\n"
     ]
    },
    {
     "name": "stdout",
     "output_type": "stream",
     "text": [
      "Training Step: 1286  | total loss: \u001b[1m\u001b[32m0.68762\u001b[0m\u001b[0m\n\u001b[2K\r| SGD | epoch: 008 | loss: 0.68762 - acc: 0.5462 -- iter: 01792/20250\n"
     ]
    },
    {
     "name": "stdout",
     "output_type": "stream",
     "text": [
      "Training Step: 1287  | total loss: \u001b[1m\u001b[32m0.68752\u001b[0m\u001b[0m\n\u001b[2K\r| SGD | epoch: 008 | loss: 0.68752 - acc: 0.5447 -- iter: 01920/20250\n"
     ]
    },
    {
     "name": "stdout",
     "output_type": "stream",
     "text": [
      "Training Step: 1288  | total loss: \u001b[1m\u001b[32m0.68589\u001b[0m\u001b[0m\n\u001b[2K\r| SGD | epoch: 008 | loss: 0.68589 - acc: 0.5527 -- iter: 02048/20250\n"
     ]
    },
    {
     "name": "stdout",
     "output_type": "stream",
     "text": [
      "Training Step: 1289  | total loss: \u001b[1m\u001b[32m0.68376\u001b[0m\u001b[0m\n\u001b[2K\r| SGD | epoch: 008 | loss: 0.68376 - acc: 0.5662 -- iter: 02176/20250\n"
     ]
    },
    {
     "name": "stdout",
     "output_type": "stream",
     "text": [
      "Training Step: 1290  | total loss: \u001b[1m\u001b[32m0.68067\u001b[0m\u001b[0m\n\u001b[2K\r| SGD | epoch: 008 | loss: 0.68067 - acc: 0.5752 -- iter: 02304/20250\n"
     ]
    },
    {
     "name": "stdout",
     "output_type": "stream",
     "text": [
      "Training Step: 1291  | total loss: \u001b[1m\u001b[32m0.67877\u001b[0m\u001b[0m\n\u001b[2K\r| SGD | epoch: 008 | loss: 0.67877 - acc: 0.5763 -- iter: 02432/20250\n"
     ]
    },
    {
     "name": "stdout",
     "output_type": "stream",
     "text": [
      "Training Step: 1292  | total loss: \u001b[1m\u001b[32m0.67613\u001b[0m\u001b[0m\n\u001b[2K\r| SGD | epoch: 008 | loss: 0.67613 - acc: 0.5835 -- iter: 02560/20250\n"
     ]
    },
    {
     "name": "stdout",
     "output_type": "stream",
     "text": [
      "Training Step: 1293  | total loss: \u001b[1m\u001b[32m0.67524\u001b[0m\u001b[0m\n\u001b[2K\r| SGD | epoch: 008 | loss: 0.67524 - acc: 0.5853 -- iter: 02688/20250\n"
     ]
    },
    {
     "name": "stdout",
     "output_type": "stream",
     "text": [
      "Training Step: 1294  | total loss: \u001b[1m\u001b[32m0.67539\u001b[0m\u001b[0m\n\u001b[2K\r| SGD | epoch: 008 | loss: 0.67539 - acc: 0.5822 -- iter: 02816/20250\n"
     ]
    },
    {
     "name": "stdout",
     "output_type": "stream",
     "text": [
      "Training Step: 1295  | total loss: \u001b[1m\u001b[32m0.67453\u001b[0m\u001b[0m\n\u001b[2K\r| SGD | epoch: 008 | loss: 0.67453 - acc: 0.5834 -- iter: 02944/20250\n"
     ]
    },
    {
     "name": "stdout",
     "output_type": "stream",
     "text": [
      "Training Step: 1296  | total loss: \u001b[1m\u001b[32m0.66869\u001b[0m\u001b[0m\n\u001b[2K\r| SGD | epoch: 008 | loss: 0.66869 - acc: 0.5914 -- iter: 03072/20250\n"
     ]
    },
    {
     "name": "stdout",
     "output_type": "stream",
     "text": [
      "Training Step: 1297  | total loss: \u001b[1m\u001b[32m0.67875\u001b[0m\u001b[0m\n\u001b[2K\r| SGD | epoch: 008 | loss: 0.67875 - acc: 0.5846 -- iter: 03200/20250\n"
     ]
    },
    {
     "name": "stdout",
     "output_type": "stream",
     "text": [
      "Training Step: 1298  | total loss: \u001b[1m\u001b[32m0.67959\u001b[0m\u001b[0m\n\u001b[2K\r| SGD | epoch: 008 | loss: 0.67959 - acc: 0.5785 -- iter: 03328/20250\n"
     ]
    },
    {
     "name": "stdout",
     "output_type": "stream",
     "text": [
      "Training Step: 1299  | total loss: \u001b[1m\u001b[32m0.67918\u001b[0m\u001b[0m\n\u001b[2K\r| SGD | epoch: 008 | loss: 0.67918 - acc: 0.5816 -- iter: 03456/20250\n"
     ]
    },
    {
     "name": "stdout",
     "output_type": "stream",
     "text": [
      "Training Step: 1300  | total loss: \u001b[1m\u001b[32m0.67901\u001b[0m\u001b[0m\n\u001b[2K\r| SGD | epoch: 008 | loss: 0.67901 - acc: 0.5820 -- iter: 03584/20250\n"
     ]
    },
    {
     "name": "stdout",
     "output_type": "stream",
     "text": [
      "Training Step: 1301  | total loss: \u001b[1m\u001b[32m0.67703\u001b[0m\u001b[0m\n\u001b[2K\r| SGD | epoch: 008 | loss: 0.67703 - acc: 0.5887 -- iter: 03712/20250\n"
     ]
    },
    {
     "name": "stdout",
     "output_type": "stream",
     "text": [
      "Training Step: 1302  | total loss: \u001b[1m\u001b[32m0.67443\u001b[0m\u001b[0m\n\u001b[2K\r| SGD | epoch: 008 | loss: 0.67443 - acc: 0.5993 -- iter: 03840/20250\n"
     ]
    },
    {
     "name": "stdout",
     "output_type": "stream",
     "text": [
      "Training Step: 1303  | total loss: \u001b[1m\u001b[32m0.67563\u001b[0m\u001b[0m\n\u001b[2K\r| SGD | epoch: 008 | loss: 0.67563 - acc: 0.5941 -- iter: 03968/20250\n"
     ]
    },
    {
     "name": "stdout",
     "output_type": "stream",
     "text": [
      "Training Step: 1304  | total loss: \u001b[1m\u001b[32m0.67568\u001b[0m\u001b[0m\n\u001b[2K\r| SGD | epoch: 008 | loss: 0.67568 - acc: 0.5964 -- iter: 04096/20250\n"
     ]
    },
    {
     "name": "stdout",
     "output_type": "stream",
     "text": [
      "Training Step: 1305  | total loss: \u001b[1m\u001b[32m0.67668\u001b[0m\u001b[0m\n\u001b[2K\r| SGD | epoch: 008 | loss: 0.67668 - acc: 0.5922 -- iter: 04224/20250\n"
     ]
    },
    {
     "name": "stdout",
     "output_type": "stream",
     "text": [
      "Training Step: 1306  | total loss: \u001b[1m\u001b[32m0.67468\u001b[0m\u001b[0m\n\u001b[2K\r| SGD | epoch: 008 | loss: 0.67468 - acc: 0.5963 -- iter: 04352/20250\n"
     ]
    },
    {
     "name": "stdout",
     "output_type": "stream",
     "text": [
      "Training Step: 1307  | total loss: \u001b[1m\u001b[32m0.67484\u001b[0m\u001b[0m\n\u001b[2K\r| SGD | epoch: 008 | loss: 0.67484 - acc: 0.5929 -- iter: 04480/20250\n"
     ]
    },
    {
     "name": "stdout",
     "output_type": "stream",
     "text": [
      "Training Step: 1308  | total loss: \u001b[1m\u001b[32m0.70832\u001b[0m\u001b[0m\n\u001b[2K\r| SGD | epoch: 008 | loss: 0.70832 - acc: 0.5789 -- iter: 04608/20250\n"
     ]
    },
    {
     "name": "stdout",
     "output_type": "stream",
     "text": [
      "Training Step: 1309  | total loss: \u001b[1m\u001b[32m0.70465\u001b[0m\u001b[0m\n\u001b[2K\r| SGD | epoch: 008 | loss: 0.70465 - acc: 0.5796 -- iter: 04736/20250\n"
     ]
    },
    {
     "name": "stdout",
     "output_type": "stream",
     "text": [
      "Training Step: 1310  | total loss: \u001b[1m\u001b[32m0.70399\u001b[0m\u001b[0m\n\u001b[2K\r| SGD | epoch: 008 | loss: 0.70399 - acc: 0.5685 -- iter: 04864/20250\n"
     ]
    },
    {
     "name": "stdout",
     "output_type": "stream",
     "text": [
      "Training Step: 1311  | total loss: \u001b[1m\u001b[32m0.70329\u001b[0m\u001b[0m\n\u001b[2K\r| SGD | epoch: 008 | loss: 0.70329 - acc: 0.5593 -- iter: 04992/20250\n"
     ]
    },
    {
     "name": "stdout",
     "output_type": "stream",
     "text": [
      "Training Step: 1312  | total loss: \u001b[1m\u001b[32m0.70047\u001b[0m\u001b[0m\n\u001b[2K\r| SGD | epoch: 008 | loss: 0.70047 - acc: 0.5612 -- iter: 05120/20250\n"
     ]
    },
    {
     "name": "stdout",
     "output_type": "stream",
     "text": [
      "Training Step: 1313  | total loss: \u001b[1m\u001b[32m0.69802\u001b[0m\u001b[0m\n\u001b[2K\r| SGD | epoch: 008 | loss: 0.69802 - acc: 0.5621 -- iter: 05248/20250\n"
     ]
    },
    {
     "name": "stdout",
     "output_type": "stream",
     "text": [
      "Training Step: 1314  | total loss: \u001b[1m\u001b[32m0.69601\u001b[0m\u001b[0m\n\u001b[2K\r| SGD | epoch: 008 | loss: 0.69601 - acc: 0.5567 -- iter: 05376/20250\n"
     ]
    },
    {
     "name": "stdout",
     "output_type": "stream",
     "text": [
      "Training Step: 1315  | total loss: \u001b[1m\u001b[32m0.69264\u001b[0m\u001b[0m\n\u001b[2K\r| SGD | epoch: 008 | loss: 0.69264 - acc: 0.5604 -- iter: 05504/20250\n"
     ]
    },
    {
     "name": "stdout",
     "output_type": "stream",
     "text": [
      "Training Step: 1316  | total loss: \u001b[1m\u001b[32m0.68800\u001b[0m\u001b[0m\n\u001b[2K\r| SGD | epoch: 008 | loss: 0.68800 - acc: 0.5692 -- iter: 05632/20250\n"
     ]
    },
    {
     "name": "stdout",
     "output_type": "stream",
     "text": [
      "Training Step: 1317  | total loss: \u001b[1m\u001b[32m0.69140\u001b[0m\u001b[0m\n\u001b[2K\r| SGD | epoch: 008 | loss: 0.69140 - acc: 0.5592 -- iter: 05760/20250\n"
     ]
    },
    {
     "name": "stdout",
     "output_type": "stream",
     "text": [
      "Training Step: 1318  | total loss: \u001b[1m\u001b[32m0.69568\u001b[0m\u001b[0m\n\u001b[2K\r| SGD | epoch: 008 | loss: 0.69568 - acc: 0.5579 -- iter: 05888/20250\n"
     ]
    },
    {
     "name": "stdout",
     "output_type": "stream",
     "text": [
      "Training Step: 1319  | total loss: \u001b[1m\u001b[32m0.69265\u001b[0m\u001b[0m\n\u001b[2K\r| SGD | epoch: 008 | loss: 0.69265 - acc: 0.5670 -- iter: 06016/20250\n"
     ]
    },
    {
     "name": "stdout",
     "output_type": "stream",
     "text": [
      "Training Step: 1320  | total loss: \u001b[1m\u001b[32m0.68788\u001b[0m\u001b[0m\n\u001b[2K\r| SGD | epoch: 008 | loss: 0.68788 - acc: 0.5728 -- iter: 06144/20250\n"
     ]
    },
    {
     "name": "stdout",
     "output_type": "stream",
     "text": [
      "Training Step: 1321  | total loss: \u001b[1m\u001b[32m0.68556\u001b[0m\u001b[0m\n\u001b[2K\r| SGD | epoch: 008 | loss: 0.68556 - acc: 0.5772 -- iter: 06272/20250\n"
     ]
    },
    {
     "name": "stdout",
     "output_type": "stream",
     "text": [
      "Training Step: 1322  | total loss: \u001b[1m\u001b[32m0.68054\u001b[0m\u001b[0m\n\u001b[2K\r| SGD | epoch: 008 | loss: 0.68054 - acc: 0.5836 -- iter: 06400/20250\n"
     ]
    },
    {
     "name": "stdout",
     "output_type": "stream",
     "text": [
      "Training Step: 1323  | total loss: \u001b[1m\u001b[32m0.67344\u001b[0m\u001b[0m\n\u001b[2K\r| SGD | epoch: 008 | loss: 0.67344 - acc: 0.5940 -- iter: 06528/20250\n"
     ]
    },
    {
     "name": "stdout",
     "output_type": "stream",
     "text": [
      "Training Step: 1324  | total loss: \u001b[1m\u001b[32m0.69696\u001b[0m\u001b[0m\n\u001b[2K\r| SGD | epoch: 008 | loss: 0.69696 - acc: 0.5916 -- iter: 06656/20250\n"
     ]
    },
    {
     "name": "stdout",
     "output_type": "stream",
     "text": [
      "Training Step: 1325  | total loss: \u001b[1m\u001b[32m0.70436\u001b[0m\u001b[0m\n\u001b[2K\r| SGD | epoch: 008 | loss: 0.70436 - acc: 0.5824 -- iter: 06784/20250\n"
     ]
    },
    {
     "name": "stdout",
     "output_type": "stream",
     "text": [
      "Training Step: 1326  | total loss: \u001b[1m\u001b[32m0.70195\u001b[0m\u001b[0m\n\u001b[2K\r| SGD | epoch: 008 | loss: 0.70195 - acc: 0.5828 -- iter: 06912/20250\n"
     ]
    },
    {
     "name": "stdout",
     "output_type": "stream",
     "text": [
      "Training Step: 1327  | total loss: \u001b[1m\u001b[32m0.69921\u001b[0m\u001b[0m\n\u001b[2K\r| SGD | epoch: 008 | loss: 0.69921 - acc: 0.5839 -- iter: 07040/20250\n"
     ]
    },
    {
     "name": "stdout",
     "output_type": "stream",
     "text": [
      "Training Step: 1328  | total loss: \u001b[1m\u001b[32m0.69758\u001b[0m\u001b[0m\n\u001b[2K\r| SGD | epoch: 008 | loss: 0.69758 - acc: 0.5794 -- iter: 07168/20250\n"
     ]
    },
    {
     "name": "stdout",
     "output_type": "stream",
     "text": [
      "Training Step: 1329  | total loss: \u001b[1m\u001b[32m0.69706\u001b[0m\u001b[0m\n\u001b[2K\r| SGD | epoch: 008 | loss: 0.69706 - acc: 0.5816 -- iter: 07296/20250\n"
     ]
    },
    {
     "name": "stdout",
     "output_type": "stream",
     "text": [
      "Training Step: 1330  | total loss: \u001b[1m\u001b[32m0.69862\u001b[0m\u001b[0m\n\u001b[2K\r| SGD | epoch: 008 | loss: 0.69862 - acc: 0.5750 -- iter: 07424/20250\n"
     ]
    },
    {
     "name": "stdout",
     "output_type": "stream",
     "text": [
      "Training Step: 1331  | total loss: \u001b[1m\u001b[32m0.69799\u001b[0m\u001b[0m\n\u001b[2K\r| SGD | epoch: 008 | loss: 0.69799 - acc: 0.5683 -- iter: 07552/20250\n"
     ]
    },
    {
     "name": "stdout",
     "output_type": "stream",
     "text": [
      "Training Step: 1332  | total loss: \u001b[1m\u001b[32m0.69762\u001b[0m\u001b[0m\n\u001b[2K\r| SGD | epoch: 008 | loss: 0.69762 - acc: 0.5607 -- iter: 07680/20250\n"
     ]
    },
    {
     "name": "stdout",
     "output_type": "stream",
     "text": [
      "Training Step: 1333  | total loss: \u001b[1m\u001b[32m0.69682\u001b[0m\u001b[0m\n\u001b[2K\r| SGD | epoch: 008 | loss: 0.69682 - acc: 0.5585 -- iter: 07808/20250\n"
     ]
    },
    {
     "name": "stdout",
     "output_type": "stream",
     "text": [
      "Training Step: 1334  | total loss: \u001b[1m\u001b[32m0.69634\u001b[0m\u001b[0m\n\u001b[2K\r| SGD | epoch: 008 | loss: 0.69634 - acc: 0.5542 -- iter: 07936/20250\n"
     ]
    },
    {
     "name": "stdout",
     "output_type": "stream",
     "text": [
      "Training Step: 1335  | total loss: \u001b[1m\u001b[32m0.69571\u001b[0m\u001b[0m\n\u001b[2K\r| SGD | epoch: 008 | loss: 0.69571 - acc: 0.5512 -- iter: 08064/20250\n"
     ]
    },
    {
     "name": "stdout",
     "output_type": "stream",
     "text": [
      "Training Step: 1336  | total loss: \u001b[1m\u001b[32m0.69561\u001b[0m\u001b[0m\n\u001b[2K\r| SGD | epoch: 008 | loss: 0.69561 - acc: 0.5437 -- iter: 08192/20250\n"
     ]
    },
    {
     "name": "stdout",
     "output_type": "stream",
     "text": [
      "Training Step: 1337  | total loss: \u001b[1m\u001b[32m0.69508\u001b[0m\u001b[0m\n\u001b[2K\r| SGD | epoch: 008 | loss: 0.69508 - acc: 0.5479 -- iter: 08320/20250\n"
     ]
    },
    {
     "name": "stdout",
     "output_type": "stream",
     "text": [
      "Training Step: 1338  | total loss: \u001b[1m\u001b[32m0.69335\u001b[0m\u001b[0m\n\u001b[2K\r| SGD | epoch: 008 | loss: 0.69335 - acc: 0.5564 -- iter: 08448/20250\n"
     ]
    },
    {
     "name": "stdout",
     "output_type": "stream",
     "text": [
      "Training Step: 1339  | total loss: \u001b[1m\u001b[32m0.69133\u001b[0m\u001b[0m\n\u001b[2K\r| SGD | epoch: 008 | loss: 0.69133 - acc: 0.5578 -- iter: 08576/20250\n"
     ]
    },
    {
     "name": "stdout",
     "output_type": "stream",
     "text": [
      "Training Step: 1340  | total loss: \u001b[1m\u001b[32m0.69011\u001b[0m\u001b[0m\n\u001b[2K\r| SGD | epoch: 008 | loss: 0.69011 - acc: 0.5598 -- iter: 08704/20250\n"
     ]
    },
    {
     "name": "stdout",
     "output_type": "stream",
     "text": [
      "Training Step: 1341  | total loss: \u001b[1m\u001b[32m0.68815\u001b[0m\u001b[0m\n\u001b[2K\r| SGD | epoch: 008 | loss: 0.68815 - acc: 0.5632 -- iter: 08832/20250\n"
     ]
    },
    {
     "name": "stdout",
     "output_type": "stream",
     "text": [
      "Training Step: 1342  | total loss: \u001b[1m\u001b[32m0.68774\u001b[0m\u001b[0m\n\u001b[2K\r| SGD | epoch: 008 | loss: 0.68774 - acc: 0.5616 -- iter: 08960/20250\n"
     ]
    },
    {
     "name": "stdout",
     "output_type": "stream",
     "text": [
      "Training Step: 1343  | total loss: \u001b[1m\u001b[32m0.68687\u001b[0m\u001b[0m\n\u001b[2K\r| SGD | epoch: 008 | loss: 0.68687 - acc: 0.5593 -- iter: 09088/20250\n"
     ]
    },
    {
     "name": "stdout",
     "output_type": "stream",
     "text": [
      "Training Step: 1344  | total loss: \u001b[1m\u001b[32m0.68703\u001b[0m\u001b[0m\n\u001b[2K\r| SGD | epoch: 008 | loss: 0.68703 - acc: 0.5573 -- iter: 09216/20250\n"
     ]
    },
    {
     "name": "stdout",
     "output_type": "stream",
     "text": [
      "Training Step: 1345  | total loss: \u001b[1m\u001b[32m0.68440\u001b[0m\u001b[0m\n\u001b[2K\r| SGD | epoch: 008 | loss: 0.68440 - acc: 0.5680 -- iter: 09344/20250\n"
     ]
    },
    {
     "name": "stdout",
     "output_type": "stream",
     "text": [
      "Training Step: 1346  | total loss: \u001b[1m\u001b[32m0.68258\u001b[0m\u001b[0m\n\u001b[2K\r| SGD | epoch: 008 | loss: 0.68258 - acc: 0.5698 -- iter: 09472/20250\n"
     ]
    },
    {
     "name": "stdout",
     "output_type": "stream",
     "text": [
      "Training Step: 1347  | total loss: \u001b[1m\u001b[32m0.68456\u001b[0m\u001b[0m\n\u001b[2K\r| SGD | epoch: 008 | loss: 0.68456 - acc: 0.5636 -- iter: 09600/20250\n"
     ]
    },
    {
     "name": "stdout",
     "output_type": "stream",
     "text": [
      "Training Step: 1348  | total loss: \u001b[1m\u001b[32m0.68349\u001b[0m\u001b[0m\n\u001b[2K\r| SGD | epoch: 008 | loss: 0.68349 - acc: 0.5643 -- iter: 09728/20250\n"
     ]
    },
    {
     "name": "stdout",
     "output_type": "stream",
     "text": [
      "Training Step: 1349  | total loss: \u001b[1m\u001b[32m0.68241\u001b[0m\u001b[0m\n\u001b[2K\r| SGD | epoch: 008 | loss: 0.68241 - acc: 0.5680 -- iter: 09856/20250\n"
     ]
    },
    {
     "name": "stdout",
     "output_type": "stream",
     "text": [
      "Training Step: 1350  | total loss: \u001b[1m\u001b[32m0.67966\u001b[0m\u001b[0m\n\u001b[2K\r| SGD | epoch: 008 | loss: 0.67966 - acc: 0.5745 -- iter: 09984/20250\n"
     ]
    },
    {
     "name": "stdout",
     "output_type": "stream",
     "text": [
      "Training Step: 1351  | total loss: \u001b[1m\u001b[32m0.68118\u001b[0m\u001b[0m\n\u001b[2K\r| SGD | epoch: 008 | loss: 0.68118 - acc: 0.5717 -- iter: 10112/20250\n"
     ]
    },
    {
     "name": "stdout",
     "output_type": "stream",
     "text": [
      "Training Step: 1352  | total loss: \u001b[1m\u001b[32m0.68175\u001b[0m\u001b[0m\n\u001b[2K\r| SGD | epoch: 008 | loss: 0.68175 - acc: 0.5684 -- iter: 10240/20250\n"
     ]
    },
    {
     "name": "stdout",
     "output_type": "stream",
     "text": [
      "Training Step: 1353  | total loss: \u001b[1m\u001b[32m0.68273\u001b[0m\u001b[0m\n\u001b[2K\r| SGD | epoch: 008 | loss: 0.68273 - acc: 0.5632 -- iter: 10368/20250\n"
     ]
    },
    {
     "name": "stdout",
     "output_type": "stream",
     "text": [
      "Training Step: 1354  | total loss: \u001b[1m\u001b[32m0.68363\u001b[0m\u001b[0m\n\u001b[2K\r| SGD | epoch: 008 | loss: 0.68363 - acc: 0.5615 -- iter: 10496/20250\n"
     ]
    },
    {
     "name": "stdout",
     "output_type": "stream",
     "text": [
      "Training Step: 1355  | total loss: \u001b[1m\u001b[32m0.68506\u001b[0m\u001b[0m\n\u001b[2K\r| SGD | epoch: 008 | loss: 0.68506 - acc: 0.5515 -- iter: 10624/20250\n"
     ]
    },
    {
     "name": "stdout",
     "output_type": "stream",
     "text": [
      "Training Step: 1356  | total loss: \u001b[1m\u001b[32m0.68454\u001b[0m\u001b[0m\n\u001b[2K\r| SGD | epoch: 008 | loss: 0.68454 - acc: 0.5534 -- iter: 10752/20250\n"
     ]
    },
    {
     "ename": "KeyboardInterrupt",
     "evalue": "",
     "traceback": [
      "\u001b[0;31m---------------------------------------------------------------------------\u001b[0m",
      "\u001b[0;31mKeyboardInterrupt\u001b[0m                         Traceback (most recent call last)",
      "\u001b[0;32m<ipython-input-54-4382a14377b3>\u001b[0m in \u001b[0;36m<module>\u001b[0;34m()\u001b[0m\n\u001b[1;32m      1\u001b[0m \u001b[0;31m# Training\u001b[0m\u001b[0;34m\u001b[0m\u001b[0;34m\u001b[0m\u001b[0m\n\u001b[0;32m----> 2\u001b[0;31m \u001b[0mmodel\u001b[0m\u001b[0;34m.\u001b[0m\u001b[0mfit\u001b[0m\u001b[0;34m(\u001b[0m\u001b[0mtrainX\u001b[0m\u001b[0;34m,\u001b[0m \u001b[0mtrainY\u001b[0m\u001b[0;34m,\u001b[0m \u001b[0mvalidation_set\u001b[0m\u001b[0;34m=\u001b[0m\u001b[0;36m0.1\u001b[0m\u001b[0;34m,\u001b[0m \u001b[0mshow_metric\u001b[0m\u001b[0;34m=\u001b[0m\u001b[0;32mTrue\u001b[0m\u001b[0;34m,\u001b[0m \u001b[0mbatch_size\u001b[0m\u001b[0;34m=\u001b[0m\u001b[0;36m128\u001b[0m\u001b[0;34m,\u001b[0m \u001b[0mn_epoch\u001b[0m\u001b[0;34m=\u001b[0m\u001b[0;36m10\u001b[0m\u001b[0;34m)\u001b[0m\u001b[0;34m\u001b[0m\u001b[0m\n\u001b[0m",
      "\u001b[0;32m/Users/moming2k/miniconda3/envs/tflearn/lib/python3.5/site-packages/tflearn/models/dnn.py\u001b[0m in \u001b[0;36mfit\u001b[0;34m(self, X_inputs, Y_targets, n_epoch, validation_set, show_metric, batch_size, shuffle, snapshot_epoch, snapshot_step, excl_trainops, run_id)\u001b[0m\n\u001b[1;32m    186\u001b[0m                          \u001b[0mdaug_dict\u001b[0m\u001b[0;34m=\u001b[0m\u001b[0mdaug_dict\u001b[0m\u001b[0;34m,\u001b[0m\u001b[0;34m\u001b[0m\u001b[0m\n\u001b[1;32m    187\u001b[0m                          \u001b[0mexcl_trainops\u001b[0m\u001b[0;34m=\u001b[0m\u001b[0mexcl_trainops\u001b[0m\u001b[0;34m,\u001b[0m\u001b[0;34m\u001b[0m\u001b[0m\n\u001b[0;32m--> 188\u001b[0;31m                          run_id=run_id)\n\u001b[0m\u001b[1;32m    189\u001b[0m \u001b[0;34m\u001b[0m\u001b[0m\n\u001b[1;32m    190\u001b[0m     \u001b[0;32mdef\u001b[0m \u001b[0mpredict\u001b[0m\u001b[0;34m(\u001b[0m\u001b[0mself\u001b[0m\u001b[0;34m,\u001b[0m \u001b[0mX\u001b[0m\u001b[0;34m)\u001b[0m\u001b[0;34m:\u001b[0m\u001b[0;34m\u001b[0m\u001b[0m\n",
      "\u001b[0;32m/Users/moming2k/miniconda3/envs/tflearn/lib/python3.5/site-packages/tflearn/helpers/trainer.py\u001b[0m in \u001b[0;36mfit\u001b[0;34m(self, feed_dicts, n_epoch, val_feed_dicts, show_metric, snapshot_step, snapshot_epoch, shuffle_all, dprep_dict, daug_dict, excl_trainops, run_id)\u001b[0m\n\u001b[1;32m    275\u001b[0m                                                        \u001b[0msnapshot_epoch\u001b[0m\u001b[0;34m,\u001b[0m\u001b[0;34m\u001b[0m\u001b[0m\n\u001b[1;32m    276\u001b[0m                                                        \u001b[0msnapshot_step\u001b[0m\u001b[0;34m,\u001b[0m\u001b[0;34m\u001b[0m\u001b[0m\n\u001b[0;32m--> 277\u001b[0;31m                                                        show_metric)\n\u001b[0m\u001b[1;32m    278\u001b[0m                             \u001b[0mglobal_loss\u001b[0m \u001b[0;34m+=\u001b[0m \u001b[0mtrain_op\u001b[0m\u001b[0;34m.\u001b[0m\u001b[0mloss_value\u001b[0m\u001b[0;34m\u001b[0m\u001b[0m\n\u001b[1;32m    279\u001b[0m                             \u001b[0;32mif\u001b[0m \u001b[0mtrain_op\u001b[0m\u001b[0;34m.\u001b[0m\u001b[0macc_value\u001b[0m \u001b[0;32mand\u001b[0m \u001b[0mglobal_acc\u001b[0m\u001b[0;34m:\u001b[0m\u001b[0;34m\u001b[0m\u001b[0m\n",
      "\u001b[0;32m/Users/moming2k/miniconda3/envs/tflearn/lib/python3.5/site-packages/tflearn/helpers/trainer.py\u001b[0m in \u001b[0;36m_train\u001b[0;34m(self, training_step, snapshot_epoch, snapshot_step, show_metric)\u001b[0m\n\u001b[1;32m    682\u001b[0m         \u001b[0mtflearn\u001b[0m\u001b[0;34m.\u001b[0m\u001b[0mis_training\u001b[0m\u001b[0;34m(\u001b[0m\u001b[0;32mTrue\u001b[0m\u001b[0;34m,\u001b[0m \u001b[0msession\u001b[0m\u001b[0;34m=\u001b[0m\u001b[0mself\u001b[0m\u001b[0;34m.\u001b[0m\u001b[0msession\u001b[0m\u001b[0;34m)\u001b[0m\u001b[0;34m\u001b[0m\u001b[0m\n\u001b[1;32m    683\u001b[0m         _, train_summ_str = self.session.run([self.train, self.summ_op],\n\u001b[0;32m--> 684\u001b[0;31m                                              feed_batch)\n\u001b[0m\u001b[1;32m    685\u001b[0m \u001b[0;34m\u001b[0m\u001b[0m\n\u001b[1;32m    686\u001b[0m         \u001b[0;31m# Retrieve loss value from summary string\u001b[0m\u001b[0;34m\u001b[0m\u001b[0;34m\u001b[0m\u001b[0m\n",
      "\u001b[0;32m/Users/moming2k/miniconda3/envs/tflearn/lib/python3.5/site-packages/tensorflow/python/client/session.py\u001b[0m in \u001b[0;36mrun\u001b[0;34m(self, fetches, feed_dict, options, run_metadata)\u001b[0m\n\u001b[1;32m    764\u001b[0m     \u001b[0;32mtry\u001b[0m\u001b[0;34m:\u001b[0m\u001b[0;34m\u001b[0m\u001b[0m\n\u001b[1;32m    765\u001b[0m       result = self._run(None, fetches, feed_dict, options_ptr,\n\u001b[0;32m--> 766\u001b[0;31m                          run_metadata_ptr)\n\u001b[0m\u001b[1;32m    767\u001b[0m       \u001b[0;32mif\u001b[0m \u001b[0mrun_metadata\u001b[0m\u001b[0;34m:\u001b[0m\u001b[0;34m\u001b[0m\u001b[0m\n\u001b[1;32m    768\u001b[0m         \u001b[0mproto_data\u001b[0m \u001b[0;34m=\u001b[0m \u001b[0mtf_session\u001b[0m\u001b[0;34m.\u001b[0m\u001b[0mTF_GetBuffer\u001b[0m\u001b[0;34m(\u001b[0m\u001b[0mrun_metadata_ptr\u001b[0m\u001b[0;34m)\u001b[0m\u001b[0;34m\u001b[0m\u001b[0m\n",
      "\u001b[0;32m/Users/moming2k/miniconda3/envs/tflearn/lib/python3.5/site-packages/tensorflow/python/client/session.py\u001b[0m in \u001b[0;36m_run\u001b[0;34m(self, handle, fetches, feed_dict, options, run_metadata)\u001b[0m\n\u001b[1;32m    962\u001b[0m     \u001b[0;32mif\u001b[0m \u001b[0mfinal_fetches\u001b[0m \u001b[0;32mor\u001b[0m \u001b[0mfinal_targets\u001b[0m\u001b[0;34m:\u001b[0m\u001b[0;34m\u001b[0m\u001b[0m\n\u001b[1;32m    963\u001b[0m       results = self._do_run(handle, final_targets, final_fetches,\n\u001b[0;32m--> 964\u001b[0;31m                              feed_dict_string, options, run_metadata)\n\u001b[0m\u001b[1;32m    965\u001b[0m     \u001b[0;32melse\u001b[0m\u001b[0;34m:\u001b[0m\u001b[0;34m\u001b[0m\u001b[0m\n\u001b[1;32m    966\u001b[0m       \u001b[0mresults\u001b[0m \u001b[0;34m=\u001b[0m \u001b[0;34m[\u001b[0m\u001b[0;34m]\u001b[0m\u001b[0;34m\u001b[0m\u001b[0m\n",
      "\u001b[0;32m/Users/moming2k/miniconda3/envs/tflearn/lib/python3.5/site-packages/tensorflow/python/client/session.py\u001b[0m in \u001b[0;36m_do_run\u001b[0;34m(self, handle, target_list, fetch_list, feed_dict, options, run_metadata)\u001b[0m\n\u001b[1;32m   1012\u001b[0m     \u001b[0;32mif\u001b[0m \u001b[0mhandle\u001b[0m \u001b[0;32mis\u001b[0m \u001b[0;32mNone\u001b[0m\u001b[0;34m:\u001b[0m\u001b[0;34m\u001b[0m\u001b[0m\n\u001b[1;32m   1013\u001b[0m       return self._do_call(_run_fn, self._session, feed_dict, fetch_list,\n\u001b[0;32m-> 1014\u001b[0;31m                            target_list, options, run_metadata)\n\u001b[0m\u001b[1;32m   1015\u001b[0m     \u001b[0;32melse\u001b[0m\u001b[0;34m:\u001b[0m\u001b[0;34m\u001b[0m\u001b[0m\n\u001b[1;32m   1016\u001b[0m       return self._do_call(_prun_fn, self._session, handle, feed_dict,\n",
      "\u001b[0;32m/Users/moming2k/miniconda3/envs/tflearn/lib/python3.5/site-packages/tensorflow/python/client/session.py\u001b[0m in \u001b[0;36m_do_call\u001b[0;34m(self, fn, *args)\u001b[0m\n\u001b[1;32m   1019\u001b[0m   \u001b[0;32mdef\u001b[0m \u001b[0m_do_call\u001b[0m\u001b[0;34m(\u001b[0m\u001b[0mself\u001b[0m\u001b[0;34m,\u001b[0m \u001b[0mfn\u001b[0m\u001b[0;34m,\u001b[0m \u001b[0;34m*\u001b[0m\u001b[0margs\u001b[0m\u001b[0;34m)\u001b[0m\u001b[0;34m:\u001b[0m\u001b[0;34m\u001b[0m\u001b[0m\n\u001b[1;32m   1020\u001b[0m     \u001b[0;32mtry\u001b[0m\u001b[0;34m:\u001b[0m\u001b[0;34m\u001b[0m\u001b[0m\n\u001b[0;32m-> 1021\u001b[0;31m       \u001b[0;32mreturn\u001b[0m \u001b[0mfn\u001b[0m\u001b[0;34m(\u001b[0m\u001b[0;34m*\u001b[0m\u001b[0margs\u001b[0m\u001b[0;34m)\u001b[0m\u001b[0;34m\u001b[0m\u001b[0m\n\u001b[0m\u001b[1;32m   1022\u001b[0m     \u001b[0;32mexcept\u001b[0m \u001b[0merrors\u001b[0m\u001b[0;34m.\u001b[0m\u001b[0mOpError\u001b[0m \u001b[0;32mas\u001b[0m \u001b[0me\u001b[0m\u001b[0;34m:\u001b[0m\u001b[0;34m\u001b[0m\u001b[0m\n\u001b[1;32m   1023\u001b[0m       \u001b[0mmessage\u001b[0m \u001b[0;34m=\u001b[0m \u001b[0mcompat\u001b[0m\u001b[0;34m.\u001b[0m\u001b[0mas_text\u001b[0m\u001b[0;34m(\u001b[0m\u001b[0me\u001b[0m\u001b[0;34m.\u001b[0m\u001b[0mmessage\u001b[0m\u001b[0;34m)\u001b[0m\u001b[0;34m\u001b[0m\u001b[0m\n",
      "\u001b[0;32m/Users/moming2k/miniconda3/envs/tflearn/lib/python3.5/site-packages/tensorflow/python/client/session.py\u001b[0m in \u001b[0;36m_run_fn\u001b[0;34m(session, feed_dict, fetch_list, target_list, options, run_metadata)\u001b[0m\n\u001b[1;32m   1001\u001b[0m         return tf_session.TF_Run(session, options,\n\u001b[1;32m   1002\u001b[0m                                  \u001b[0mfeed_dict\u001b[0m\u001b[0;34m,\u001b[0m \u001b[0mfetch_list\u001b[0m\u001b[0;34m,\u001b[0m \u001b[0mtarget_list\u001b[0m\u001b[0;34m,\u001b[0m\u001b[0;34m\u001b[0m\u001b[0m\n\u001b[0;32m-> 1003\u001b[0;31m                                  status, run_metadata)\n\u001b[0m\u001b[1;32m   1004\u001b[0m \u001b[0;34m\u001b[0m\u001b[0m\n\u001b[1;32m   1005\u001b[0m     \u001b[0;32mdef\u001b[0m \u001b[0m_prun_fn\u001b[0m\u001b[0;34m(\u001b[0m\u001b[0msession\u001b[0m\u001b[0;34m,\u001b[0m \u001b[0mhandle\u001b[0m\u001b[0;34m,\u001b[0m \u001b[0mfeed_dict\u001b[0m\u001b[0;34m,\u001b[0m \u001b[0mfetch_list\u001b[0m\u001b[0;34m)\u001b[0m\u001b[0;34m:\u001b[0m\u001b[0;34m\u001b[0m\u001b[0m\n",
      "\u001b[0;31mKeyboardInterrupt\u001b[0m: "
     ],
     "output_type": "error"
    }
   ],
   "source": [
    "# Training\n",
    "model.fit(trainX, trainY, validation_set=0.1, show_metric=True, batch_size=128, n_epoch=10)"
   ]
  },
  {
   "cell_type": "markdown",
   "metadata": {},
   "source": [
    "## Testing\n",
    "\n",
    "After you're satisified with your hyperparameters, you can run the network on the test set to measure it's performance. Remember, *only do this after finalizing the hyperparameters*."
   ]
  },
  {
   "cell_type": "code",
   "execution_count": null,
   "metadata": {
    "collapsed": false
   },
   "outputs": [],
   "source": [
    "predictions = (np.array(model.predict(testX))[:,0] >= 0.5).astype(np.int_)\n",
    "test_accuracy = np.mean(predictions == testY[:,0], axis=0)\n",
    "print(\"Test accuracy: \", test_accuracy)"
   ]
  },
  {
   "cell_type": "markdown",
   "metadata": {},
   "source": [
    "## Try out your own text!"
   ]
  },
  {
   "cell_type": "code",
   "execution_count": null,
   "metadata": {
    "collapsed": false
   },
   "outputs": [],
   "source": [
    "text = \"This movie is so bad. It was awful and the worst\"\n",
    "positive_prob = model.predict([text_to_vector(text.lower())])[0][1]\n",
    "print('P(positive) = {:.3f} :'.format(positive_prob), \n",
    "      'Positive' if positive_prob > 0.5 else 'Negative')"
   ]
  }
 ],
 "metadata": {
  "kernelspec": {
   "display_name": "Python 3",
   "language": "python",
   "name": "python3"
  },
  "language_info": {
   "codemirror_mode": {
    "name": "ipython",
    "version": 3.0
   },
   "file_extension": ".py",
   "mimetype": "text/x-python",
   "name": "python",
   "nbconvert_exporter": "python",
   "pygments_lexer": "ipython3",
   "version": "3.5.2"
  }
 },
 "nbformat": 4,
 "nbformat_minor": 0
}