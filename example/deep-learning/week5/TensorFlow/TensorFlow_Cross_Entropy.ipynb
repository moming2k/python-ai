{
 "cells": [
  {
   "cell_type": "code",
   "execution_count": 11,
   "metadata": {
    "collapsed": false
   },
   "outputs": [
    {
     "name": "stdout",
     "output_type": "stream",
     "text": [
      "Loss: 0.3566749691963196\n"
     ]
    }
   ],
   "source": [
    "# Solution is available in the other \"solution.py\" tab\n",
    "import tensorflow as tf\n",
    "\n",
    "def run():\n",
    "    output = None\n",
    "    softmax_data = [0.7, 0.2, 0.1]\n",
    "    one_hot_data = [1.0, 0.0, 0.0]\n",
    "\n",
    "    softmax = tf.placeholder(tf.float32)\n",
    "    one_hot = tf.placeholder(tf.float32)\n",
    "    \n",
    "    with tf.Session() as sess:\n",
    "        \n",
    "#         cross_entropy = -tf.reduce_sum(one_hot * tf.log(softmax))\n",
    "        cross_entropy = -tf.reduce_sum(tf.mul(one_hot, tf.log(softmax)))\n",
    "#         l = sess.run([cross_entropy],feed_dict={softmax: softmax_data, one_hot: one_hot_data})\n",
    "        l = sess.run(cross_entropy, feed_dict={softmax: softmax_data, one_hot: one_hot_data})\n",
    "        print('Loss: {}'.format(l))\n",
    "        \n",
    "run()\n"
   ]
  },
  {
   "cell_type": "code",
   "execution_count": null,
   "metadata": {
    "collapsed": true
   },
   "outputs": [],
   "source": []
  }
 ],
 "metadata": {
  "kernelspec": {
   "display_name": "Python 3",
   "language": "python",
   "name": "python3"
  },
  "language_info": {
   "codemirror_mode": {
    "name": "ipython",
    "version": 3
   },
   "file_extension": ".py",
   "mimetype": "text/x-python",
   "name": "python",
   "nbconvert_exporter": "python",
   "pygments_lexer": "ipython3",
   "version": "3.5.2"
  }
 },
 "nbformat": 4,
 "nbformat_minor": 2
}
